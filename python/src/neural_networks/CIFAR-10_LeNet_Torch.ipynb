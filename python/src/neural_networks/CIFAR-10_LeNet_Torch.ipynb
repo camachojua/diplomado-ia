{
 "cells": [
  {
   "cell_type": "markdown",
   "metadata": {},
   "source": [
    "### LeNet in Pytorch\n",
    "\n",
    "+ This notebook shows how to use PyTorch (and TorchVision) for Image Classification.  \n",
    "\n",
    "+ The dataset used is CIFAR-10. \n",
    "\n",
    "+ CIFAR-10 defines 10 classes and contains 6K images per class, for a total of 60K images. \n",
    "\n",
    "+ 50K Images are used for training and 10K for testing.\n",
    "\n",
    "+ The images are (32,32) RGBs\n",
    "\n",
    "        + https://www.cs.toronto.edu/~kriz/cifar.html\n",
    "\n",
    "+ Images are obtained directly from torchvision.datasets.CIFAR10(args) \n",
    "\n",
    "+ The notebook shows how to implement in Pytorch LeNet from scratch.\n",
    "\n",
    "+ The last cells show how to evaluate the model in general and also there is a cell where the model performance is valuated in terms of each of the 10 classes.\n",
    "\n",
    "+ The code shows how to connect the model to the GPU, and how to ensire that the data is also loaded into the GPU\n",
    "\n",
    "\n"
   ]
  },
  {
   "cell_type": "code",
   "execution_count": null,
   "metadata": {},
   "outputs": [],
   "source": [
    "# Get general purpose APIs first\n",
    "import numpy as np\n",
    "import matplotlib.pyplot as plt\n",
    "\n",
    "# load the Pytorch APIs\n",
    "import torch\n",
    "import torch.nn as nn\n",
    "import torch.nn.functional as F\n",
    "import torch.optim as optim\n",
    "import torchvision\n",
    "import torchvision.transforms as transforms\n",
    "from torch.utils.data import DataLoader\n",
    "\n",
    "# Device setup\n",
    "device = torch.device(\"cuda\" if torch.cuda.is_available() else \"cpu\")"
   ]
  },
  {
   "cell_type": "code",
   "execution_count": 2,
   "metadata": {},
   "outputs": [],
   "source": [
    "class LeNet(nn.Module):\n",
    "    def __init__(self):\n",
    "        super(LeNet, self).__init__()\n",
    "        self.cn1 = nn.Conv2d(3, 6, 5)\n",
    "        self.cn2 = nn.Conv2d(6, 16, 5)\n",
    "        self.fc1 = nn.Linear(16 * 5 * 5, 120)\n",
    "        self.fc2 = nn.Linear(120, 84)\n",
    "        self.fc3 = nn.Linear(84, 10)\n",
    "\n",
    "    def forward(self, x):\n",
    "        x = F.relu(self.cn1(x))\n",
    "        x = F.max_pool2d(x, (2, 2))\n",
    "        x = F.relu(self.cn2(x))\n",
    "        x = F.max_pool2d(x, (2, 2))\n",
    "        x = x.view(-1, 16 * 5 * 5)\n",
    "        x = F.relu(self.fc1(x))\n",
    "        x = F.relu(self.fc2(x))\n",
    "        x = self.fc3(x)\n",
    "        return x"
   ]
  },
  {
   "cell_type": "code",
   "execution_count": null,
   "metadata": {},
   "outputs": [],
   "source": [
    "# load the model into the GPU is availabble \n",
    "model = LeNet().to(device)\n",
    "\n",
    "criterion = nn.CrossEntropyLoss()\n",
    "optimizer = optim.Adam(model.parameters(), lr=0.001)"
   ]
  },
  {
   "cell_type": "code",
   "execution_count": 19,
   "metadata": {},
   "outputs": [],
   "source": [
    "def count_params(model):\n",
    "    return sum(p.numel() for p in model.parameters() if p.requires_grad)"
   ]
  },
  {
   "cell_type": "code",
   "execution_count": 21,
   "metadata": {},
   "outputs": [
    {
     "name": "stdout",
     "output_type": "stream",
     "text": [
      "LeNet Model params =  62006\n"
     ]
    }
   ],
   "source": [
    "print(\"LeNet Model params = \", count_params( model))"
   ]
  },
  {
   "cell_type": "code",
   "execution_count": null,
   "metadata": {},
   "outputs": [
    {
     "name": "stdout",
     "output_type": "stream",
     "text": [
      "Files already downloaded and verified\n",
      "Files already downloaded and verified\n"
     ]
    }
   ],
   "source": [
    "\n",
    "locBatchSize = 64\n",
    "# locBatchSize = 4096\n",
    "\n",
    "transform = transforms.Compose(\n",
    "    [transforms.ToTensor(),\n",
    "     transforms.Normalize((0.5, 0.5, 0.5), (0.5, 0.5, 0.5))]) #normalize the data.\n",
    "\n",
    "trainset = torchvision.datasets.CIFAR10(root='./data', train=True,\n",
    "                                        download=True, transform=transform)\n",
    "trainloader = DataLoader(trainset, batch_size=locBatchSize,\n",
    "                                          shuffle=True, num_workers=2)\n",
    "\n",
    "testset = torchvision.datasets.CIFAR10(root='./data', train=False,\n",
    "                                       download=True, transform=transform)\n",
    "testloader = DataLoader(testset, batch_size=locBatchSize,\n",
    "                                         shuffle=False, num_workers=2)\n",
    "\n",
    "# order is important ! \n",
    "classes = ('plane', 'car', 'bird', 'cat',\n",
    "           'deer', 'dog', 'frog', 'horse', 'ship', 'truck')"
   ]
  },
  {
   "cell_type": "code",
   "execution_count": 7,
   "metadata": {},
   "outputs": [
    {
     "data": {
      "image/png": "[encoded data removed]",
      "text/plain": [
       "<Figure size 640x480 with 1 Axes>"
      ]
     },
     "metadata": {},
     "output_type": "display_data"
    },
    {
     "name": "stdout",
     "output_type": "stream",
     "text": [
      " truck || deer || cat || deer\n"
     ]
    }
   ],
   "source": [
    "def imageshow(image):\n",
    "   # un-normalize the image\n",
    "   image = image/2 + 0.5\n",
    "   npimage = image.numpy()\n",
    "   plt.imshow(np.transpose(npimage, (1, 2, 0)))\n",
    "   plt.show()\n",
    "\n",
    "# sample images from training set\n",
    "dataiter = iter(trainloader)\n",
    "images, labels = next(dataiter)\n",
    "# display images in a grid\n",
    "num_images = 4\n",
    "imageshow(torchvision.utils.make_grid(images[:num_images]))\n",
    "# print labels\n",
    "print(' ' + ' || '.join(classes[labels[j]]\n",
    "        for j in range(num_images)))\n",
    "\n"
   ]
  },
  {
   "cell_type": "code",
   "execution_count": null,
   "metadata": {},
   "outputs": [
    {
     "name": "stdout",
     "output_type": "stream",
     "text": [
      "[1,   200] loss: 1.929\n",
      "[1,   400] loss: 1.646\n",
      "[1,   600] loss: 1.549\n",
      "[2,   200] loss: 1.391\n",
      "[2,   400] loss: 1.355\n",
      "[2,   600] loss: 1.333\n",
      "[3,   200] loss: 1.257\n",
      "[3,   400] loss: 1.234\n",
      "[3,   600] loss: 1.219\n",
      "[4,   200] loss: 1.168\n",
      "[4,   400] loss: 1.146\n",
      "[4,   600] loss: 1.146\n",
      "[5,   200] loss: 1.076\n",
      "[5,   400] loss: 1.100\n",
      "[5,   600] loss: 1.087\n",
      "[6,   200] loss: 1.027\n",
      "[6,   400] loss: 1.034\n",
      "[6,   600] loss: 1.049\n",
      "[7,   200] loss: 0.984\n",
      "[7,   400] loss: 0.990\n",
      "[7,   600] loss: 0.993\n",
      "[8,   200] loss: 0.939\n",
      "[8,   400] loss: 0.934\n",
      "[8,   600] loss: 0.969\n",
      "[9,   200] loss: 0.898\n",
      "[9,   400] loss: 0.927\n",
      "[9,   600] loss: 0.911\n",
      "[10,   200] loss: 0.860\n",
      "[10,   400] loss: 0.883\n",
      "[10,   600] loss: 0.895\n",
      "[11,   200] loss: 0.828\n",
      "[11,   400] loss: 0.844\n",
      "[11,   600] loss: 0.881\n",
      "[12,   200] loss: 0.799\n",
      "[12,   400] loss: 0.819\n",
      "[12,   600] loss: 0.830\n",
      "[13,   200] loss: 0.790\n",
      "[13,   400] loss: 0.799\n",
      "[13,   600] loss: 0.817\n",
      "[14,   200] loss: 0.752\n",
      "[14,   400] loss: 0.767\n",
      "[14,   600] loss: 0.783\n",
      "[15,   200] loss: 0.716\n",
      "[15,   400] loss: 0.747\n",
      "[15,   600] loss: 0.778\n",
      "[16,   200] loss: 0.722\n",
      "[16,   400] loss: 0.732\n",
      "[16,   600] loss: 0.747\n",
      "[17,   200] loss: 0.696\n",
      "[17,   400] loss: 0.720\n",
      "[17,   600] loss: 0.726\n",
      "[18,   200] loss: 0.675\n",
      "[18,   400] loss: 0.676\n",
      "[18,   600] loss: 0.695\n",
      "[19,   200] loss: 0.645\n",
      "[19,   400] loss: 0.673\n",
      "[19,   600] loss: 0.685\n",
      "[20,   200] loss: 0.630\n",
      "[20,   400] loss: 0.643\n",
      "[20,   600] loss: 0.675\n",
      "Finished Training\n"
     ]
    }
   ],
   "source": [
    "epochs = 20  # Adjust as needed\n",
    "\n",
    "# data is loaded into GPU via data[i].to(device)\n",
    "for epoch in range(epochs):\n",
    "    running_loss = 0.0\n",
    "    for i, data in enumerate(trainloader, 0):\n",
    "        inputs, labels = data[0].to(device), data[1].to(device)\n",
    "\n",
    "        optimizer.zero_grad()\n",
    "\n",
    "        outputs = model(inputs)\n",
    "        loss = criterion(outputs, labels)\n",
    "        loss.backward()\n",
    "        optimizer.step()\n",
    "\n",
    "        running_loss += loss.item()\n",
    "        if i % 200 == 199:  # Print every 200 mini-batches\n",
    "            print(f'[{epoch + 1}, {i + 1:5d}] loss: {running_loss / 200:.3f}')\n",
    "            running_loss = 0.0\n",
    "\n",
    "print('Finished Training')"
   ]
  },
  {
   "cell_type": "markdown",
   "metadata": {},
   "source": [
    "### Effect of Batch Size\n",
    "\n",
    "+ batch_size = 64   => accuracy around 65%\n",
    "+ batch_size = 4096 => accuracy around 50%\n"
   ]
  },
  {
   "cell_type": "code",
   "execution_count": 11,
   "metadata": {},
   "outputs": [],
   "source": [
    "## Save the model to disk \n",
    "\n",
    "modelPath = '/drv3/hm3/code/python/torch/'\n",
    "modelName = modelPath + \"LeNet_Cifar10.pth\"\n",
    "torch.save(model.state_dict(), modelName)"
   ]
  },
  {
   "cell_type": "code",
   "execution_count": 12,
   "metadata": {},
   "outputs": [
    {
     "name": "stdout",
     "output_type": "stream",
     "text": [
      "Accuracy of the network on the 10000 test images: 63.75 %\n"
     ]
    }
   ],
   "source": [
    "correct = 0\n",
    "total = 0\n",
    "with torch.no_grad():\n",
    "    for data in testloader:\n",
    "        images, labels = data[0].to(device), data[1].to(device)\n",
    "        outputs = model(images)\n",
    "        _, predicted = torch.max(outputs.data, 1)\n",
    "        total += labels.size(0)\n",
    "        correct += (predicted == labels).sum().item()\n",
    "\n",
    "print(f'Accuracy of the network on the 10000 test images: {100 * correct / total:.2f} %')"
   ]
  },
  {
   "cell_type": "code",
   "execution_count": 23,
   "metadata": {},
   "outputs": [
    {
     "data": {
      "image/png": "[encoded data removed]",
      "text/plain": [
       "<Figure size 640x480 with 1 Axes>"
      ]
     },
     "metadata": {},
     "output_type": "display_data"
    },
    {
     "name": "stdout",
     "output_type": "stream",
     "text": [
      "Label:     cat  ship  ship plane\n",
      "Prediction:    cat  ship  ship plane\n"
     ]
    },
    {
     "name": "stderr",
     "output_type": "stream",
     "text": [
      "/tmp/ipykernel_25965/2218482327.py:12: FutureWarning: You are using `torch.load` with `weights_only=False` (the current default value), which uses the default pickle module implicitly. It is possible to construct malicious pickle data which will execute arbitrary code during unpickling (See https://github.com/pytorch/pytorch/blob/main/SECURITY.md#untrusted-models for more details). In a future release, the default value for `weights_only` will be flipped to `True`. This limits the functions that could be executed during unpickling. Arbitrary objects will no longer be allowed to be loaded via this mode unless they are explicitly allowlisted by the user via `torch.serialization.add_safe_globals`. We recommend you start setting `weights_only=True` for any use case where you don't have full control of the loaded file. Please open an issue on GitHub for any issues related to this experimental feature.\n",
      "  lenet_cached.load_state_dict(torch.load(modelName))\n"
     ]
    }
   ],
   "source": [
    "# load test dataset images\n",
    "d_iter = iter(testloader)\n",
    "im, ground_truth = next(d_iter)\n",
    "# print images and ground truth\n",
    "imageshow(torchvision.utils.make_grid(im[:4]))\n",
    "print('Label:  ', ' '.join('%5s' %\n",
    "            classes[ground_truth[j]]\n",
    "            for j in range(4)))\n",
    "\n",
    "# load model from disk \n",
    "lenet_cached = LeNet()\n",
    "lenet_cached.load_state_dict(torch.load(modelName))\n",
    "# model inference\n",
    "op = lenet_cached(im)\n",
    "# print predictions\n",
    "_, pred = torch.max(op, 1)\n",
    "print('Prediction: ', ' '.join('%5s' % classes[pred[j]]\n",
    "                        for j in range(4)))"
   ]
  },
  {
   "cell_type": "code",
   "execution_count": 15,
   "metadata": {},
   "outputs": [
    {
     "name": "stdout",
     "output_type": "stream",
     "text": [
      "Model accuracy on 10000 images from test dataset: 63 %\n"
     ]
    }
   ],
   "source": [
    "success = 0\n",
    "counter = 0\n",
    "with torch.no_grad():\n",
    "    for data in testloader:\n",
    "        im, ground_truth = data\n",
    "        op = lenet_cached(im)\n",
    "        _, pred = torch.max(op.data, 1)\n",
    "        counter += ground_truth.size(0)\n",
    "        success += (pred == ground_truth).sum().item()\n",
    "print('Model accuracy on 10000 images from test dataset: %d %%'\\\n",
    "            % (100 * success / counter))"
   ]
  },
  {
   "cell_type": "code",
   "execution_count": null,
   "metadata": {},
   "outputs": [
    {
     "name": "stdout",
     "output_type": "stream",
     "text": [
      "Accuracy for class plane : 68 %\n",
      "Accuracy for class   car : 71 %\n",
      "Accuracy for class  bird : 54 %\n",
      "Accuracy for class   cat : 46 %\n",
      "Accuracy for class  deer : 61 %\n",
      "Accuracy for class   dog : 52 %\n",
      "Accuracy for class  frog : 72 %\n",
      "Accuracy for class horse : 66 %\n",
      "Accuracy for class  ship : 71 %\n",
      "Accuracy for class truck : 71 %\n"
     ]
    }
   ],
   "source": [
    "## Eval per-class accuracy \n",
    "\n",
    "class_sucess = list(0. for i in range(10))\n",
    "class_counter = list(0. for i in range(10))\n",
    "with torch.no_grad():\n",
    "    for data in testloader:\n",
    "        im, ground_truth = data\n",
    "        op = lenet_cached(im)\n",
    "        _, pred = torch.max(op, 1)\n",
    "        c = (pred == ground_truth).squeeze()\n",
    "        for i in range( len(ground_truth)) :\n",
    "            ground_truth_curr = ground_truth[i]\n",
    "            class_sucess[ground_truth_curr] += c[i].item()\n",
    "            class_counter[ground_truth_curr] += 1\n",
    "for i in range(10):\n",
    "    print('Accuracy for class %5s : %2d %%' % (\n",
    "            classes[i], 100 * class_sucess[i] / class_counter[i]))"
   ]
  }
 ],
 "metadata": {
  "kernelspec": {
   "display_name": "torch",
   "language": "python",
   "name": "python3"
  },
  "language_info": {
   "codemirror_mode": {
    "name": "ipython",
    "version": 3
   },
   "file_extension": ".py",
   "mimetype": "text/x-python",
   "name": "python",
   "nbconvert_exporter": "python",
   "pygments_lexer": "ipython3",
   "version": "3.12.3"
  }
 },
 "nbformat": 4,
 "nbformat_minor": 2
}
