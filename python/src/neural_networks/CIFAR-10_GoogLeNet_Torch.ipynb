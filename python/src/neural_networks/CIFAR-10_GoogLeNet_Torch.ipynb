{
 "cells": [
  {
   "cell_type": "markdown",
   "metadata": {},
   "source": [
    "### CIFAR-10 Image Classification using the Pretrained GoogLeNet in Pytorch"
   ]
  },
  {
   "cell_type": "code",
   "execution_count": null,
   "metadata": {},
   "outputs": [],
   "source": [
    "import torch\n",
    "import torchvision\n",
    "import torchvision.transforms as transforms\n",
    "import torchvision.models as models\n",
    "import torch.nn as nn\n",
    "import torch.optim as optim"
   ]
  },
  {
   "cell_type": "code",
   "execution_count": 2,
   "metadata": {},
   "outputs": [
    {
     "name": "stdout",
     "output_type": "stream",
     "text": [
      "There are 1 GPU(s) available.\n",
      "GPU device name: NVIDIA GeForce RTX 3060\n"
     ]
    }
   ],
   "source": [
    "if torch.cuda.is_available():\n",
    "    device = torch.device(\"cuda\")  # Use the GPU\n",
    "    print(f\"There are {torch.cuda.device_count()} GPU(s) available.\")\n",
    "    print(f\"GPU device name: {torch.cuda.get_device_name(0)}\") #prints the name of the zero index gpu.\n",
    "else:\n",
    "    device = torch.device(\"cpu\")  # Use the CPU\n",
    "    print(\"No GPU available, using CPU instead.\")"
   ]
  },
  {
   "cell_type": "code",
   "execution_count": 3,
   "metadata": {},
   "outputs": [
    {
     "name": "stdout",
     "output_type": "stream",
     "text": [
      "Files already downloaded and verified\n",
      "Files already downloaded and verified\n"
     ]
    }
   ],
   "source": [
    "# 1. Load CIFAR-10 and Define Transforms\n",
    "transform = transforms.Compose([\n",
    "    transforms.Resize((224, 224)),  # Resize to match GoogleNet input\n",
    "    transforms.ToTensor(),\n",
    "    transforms.Normalize((0.485, 0.456, 0.406), (0.229, 0.224, 0.225)) # ImageNet normalization\n",
    "])\n",
    "\n",
    "trainset = torchvision.datasets.CIFAR10(root='./data', train=True,\n",
    "                                        download=True, transform=transform)\n",
    "trainloader = torch.utils.data.DataLoader(trainset, batch_size=4,\n",
    "                                          shuffle=True, num_workers=2)\n",
    "\n",
    "testset = torchvision.datasets.CIFAR10(root='./data', train=False,\n",
    "                                       download=True, transform=transform)\n",
    "testloader = torch.utils.data.DataLoader(testset, batch_size=4,\n",
    "                                         shuffle=False, num_workers=2)\n",
    "\n",
    "classes = ('plane', 'car', 'bird', 'cat',\n",
    "           'deer', 'dog', 'frog', 'horse', 'ship', 'truck')"
   ]
  },
  {
   "cell_type": "code",
   "execution_count": 7,
   "metadata": {},
   "outputs": [],
   "source": [
    "# 2. Load Pretrained GoogleNet\n",
    "googlenet = models.googlenet(pretrained=True)\n",
    "\n",
    "googlenet.to(device) # Moves the model to the gpu.\n",
    "\n",
    "# 3. Modify the Fully Connected Layer for CIFAR-10\n",
    "num_ftrs = googlenet.fc.in_features\n",
    "#googlenet.fc = nn.Linear(num_ftrs, 10)  # 10 output classes for CIFAR-10\n",
    "googlenet.fc = nn.Linear(num_ftrs, 10).to(device) #move the new layer to the device as well.\n",
    "\n",
    "\n",
    "# 4. Define Loss Function and Optimizer\n",
    "criterion = nn.CrossEntropyLoss()\n",
    "optimizer = optim.SGD(googlenet.parameters(), lr=0.001, momentum=0.9)"
   ]
  },
  {
   "cell_type": "code",
   "execution_count": 8,
   "metadata": {},
   "outputs": [
    {
     "data": {
      "text/plain": [
       "5610154"
      ]
     },
     "execution_count": 8,
     "metadata": {},
     "output_type": "execute_result"
    }
   ],
   "source": [
    "def count_params(model):\n",
    "    return sum(p.numel() for p in model.parameters() if p.requires_grad)\n",
    "\n",
    "count_params(googlenet)"
   ]
  },
  {
   "cell_type": "code",
   "execution_count": 9,
   "metadata": {},
   "outputs": [
    {
     "name": "stdout",
     "output_type": "stream",
     "text": [
      "[1,  2000] loss: 1.096\n",
      "[1,  4000] loss: 0.734\n",
      "[1,  6000] loss: 0.633\n",
      "[1,  8000] loss: 0.545\n",
      "[1, 10000] loss: 0.505\n",
      "[1, 12000] loss: 0.490\n",
      "[2,  2000] loss: 0.385\n",
      "[2,  4000] loss: 0.377\n",
      "[2,  6000] loss: 0.372\n",
      "[2,  8000] loss: 0.358\n",
      "[2, 10000] loss: 0.339\n",
      "[2, 12000] loss: 0.346\n",
      "[3,  2000] loss: 0.265\n",
      "[3,  4000] loss: 0.263\n",
      "[3,  6000] loss: 0.256\n",
      "[3,  8000] loss: 0.259\n",
      "[3, 10000] loss: 0.261\n",
      "[3, 12000] loss: 0.271\n",
      "[4,  2000] loss: 0.198\n",
      "[4,  4000] loss: 0.199\n",
      "[4,  6000] loss: 0.192\n",
      "[4,  8000] loss: 0.208\n",
      "[4, 10000] loss: 0.195\n",
      "[4, 12000] loss: 0.210\n",
      "[5,  2000] loss: 0.145\n",
      "[5,  4000] loss: 0.171\n",
      "[5,  6000] loss: 0.156\n",
      "[5,  8000] loss: 0.161\n",
      "[5, 10000] loss: 0.163\n",
      "[5, 12000] loss: 0.167\n",
      "Finished Training\n"
     ]
    }
   ],
   "source": [
    "# 5. Training Loop\n",
    "for epoch in range(5):  # loop over the dataset multiple times\n",
    "    running_loss = 0.0\n",
    "    for i, data in enumerate(trainloader, 0):\n",
    "        inputs, labels = data\n",
    "        inputs, labels = inputs.to(device), labels.to(device) # Move data to GPU\n",
    "        optimizer.zero_grad()\n",
    "        outputs = googlenet(inputs)\n",
    "        loss = criterion(outputs, labels)\n",
    "        loss.backward()\n",
    "        optimizer.step()\n",
    "        running_loss += loss.item()\n",
    "        if i % 2000 == 1999:    # print every 2000 mini-batches\n",
    "            print('[%d, %5d] loss: %.3f' %\n",
    "                  (epoch + 1, i + 1, running_loss / 2000))\n",
    "            running_loss = 0.0\n",
    "\n",
    "print('Finished Training')"
   ]
  },
  {
   "cell_type": "code",
   "execution_count": 10,
   "metadata": {},
   "outputs": [
    {
     "name": "stdout",
     "output_type": "stream",
     "text": [
      "Accuracy of the network on the 10000 test images: 91 %\n"
     ]
    }
   ],
   "source": [
    "# 6. Evaluation\n",
    "correct = 0\n",
    "total = 0\n",
    "with torch.no_grad():\n",
    "    for data in testloader:\n",
    "        images, labels = data\n",
    "        images, labels = images.to(device), labels.to(device) # Move data to GPU\n",
    "        outputs = googlenet(images)\n",
    "        _, predicted = torch.max(outputs.data, 1)\n",
    "        total += labels.size(0)\n",
    "        correct += (predicted == labels).sum().item()\n",
    "\n",
    "print('Accuracy of the network on the 10000 test images: %d %%' % (\n",
    "    100 * correct / total))"
   ]
  },
  {
   "cell_type": "code",
   "execution_count": 11,
   "metadata": {},
   "outputs": [
    {
     "name": "stdout",
     "output_type": "stream",
     "text": [
      "Accuracy for class: plane is 91.6 %\n",
      "Accuracy for class: car   is 97.7 %\n",
      "Accuracy for class: bird  is 88.4 %\n",
      "Accuracy for class: cat   is 85.5 %\n",
      "Accuracy for class: deer  is 95.7 %\n",
      "Accuracy for class: dog   is 87.8 %\n",
      "Accuracy for class: frog  is 90.8 %\n",
      "Accuracy for class: horse is 91.8 %\n",
      "Accuracy for class: ship  is 91.6 %\n",
      "Accuracy for class: truck is 92.5 %\n",
      "Overall Accuracy of the network on the 10000 test images: 91.39 %\n"
     ]
    }
   ],
   "source": [
    "# 6. Evaluation\n",
    "correct = 0\n",
    "total = 0\n",
    "correct_pred = {classname: 0 for classname in classes}\n",
    "total_pred = {classname: 0 for classname in classes}\n",
    "\n",
    "with torch.no_grad():\n",
    "    for data in testloader:\n",
    "        images, labels = data\n",
    "        images, labels = images.to(device), labels.to(device) # Move data to GPU\n",
    "        outputs = googlenet(images)\n",
    "        _, predictions = torch.max(outputs, 1)\n",
    "        c = (predictions == labels).squeeze()\n",
    "        for i in range(4):\n",
    "            label = labels[i]\n",
    "            class_name = classes[label]\n",
    "            total_pred[class_name] += 1\n",
    "            correct_pred[class_name] += c[i].item()\n",
    "\n",
    "for classname, correct_count in correct_pred.items():\n",
    "    accuracy = 100 * float(correct_count) / total_pred[classname]\n",
    "    print(f'Accuracy for class: {classname:5s} is {accuracy:.1f} %')\n",
    "\n",
    "with torch.no_grad():\n",
    "    for data in testloader:\n",
    "        images, labels = data\n",
    "        images, labels = images.to(device), labels.to(device) # Move data to GPU\n",
    "        outputs = googlenet(images)\n",
    "        _, predicted = torch.max(outputs.data, 1)\n",
    "        total += labels.size(0)\n",
    "        correct += (predicted == labels).sum().item()\n",
    "\n",
    "print(f'Overall Accuracy of the network on the 10000 test images: {100 * correct / total:.2f} %')"
   ]
  }
 ],
 "metadata": {
  "kernelspec": {
   "display_name": "torch",
   "language": "python",
   "name": "python3"
  },
  "language_info": {
   "codemirror_mode": {
    "name": "ipython",
    "version": 3
   },
   "file_extension": ".py",
   "mimetype": "text/x-python",
   "name": "python",
   "nbconvert_exporter": "python",
   "pygments_lexer": "ipython3",
   "version": "3.12.3"
  }
 },
 "nbformat": 4,
 "nbformat_minor": 2
}
