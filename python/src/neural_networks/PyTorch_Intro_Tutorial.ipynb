{
 "cells": [
  {
   "cell_type": "markdown",
   "metadata": {},
   "source": [
    "### PyTorch Tutorial 1\n",
    "\n",
    "The content in this notebook was adapted from the content available at the intro tutorial from the the \"official\" PyTorch Tutorials Site, located at:\n",
    "\n",
    "https://pytorch.org/tutorials/index.html\n",
    "\n",
    "There is a video session at YouTube for those who would like to watch it.\n",
    "\n",
    "The URL is\n",
    "\n",
    "https://www.youtube.com/watch?v=IC0_FRiX-sw\n",
    "\n",
    "At the end, we will expand the content by defining a NeuralNet Model for processing the MINST Digits data using Dense and ConvNet layers.\n"
   ]
  },
  {
   "cell_type": "markdown",
   "metadata": {},
   "source": [
    "## Basic Torch\n",
    "\n",
    "Step one is to import Torch and do basic tensor operations"
   ]
  },
  {
   "cell_type": "code",
   "execution_count": 1,
   "metadata": {},
   "outputs": [
    {
     "name": "stdout",
     "output_type": "stream",
     "text": [
      "tensor([[0., 0., 0.],\n",
      "        [0., 0., 0.],\n",
      "        [0., 0., 0.],\n",
      "        [0., 0., 0.],\n",
      "        [0., 0., 0.]])\n",
      "torch.float32\n"
     ]
    }
   ],
   "source": [
    "import torch\n",
    "\n",
    "# z is a (5,3) tensor of Torch's default type (torch.float32)\n",
    "z = torch.zeros(5, 3)\n",
    "print(z)\n",
    "print(z.dtype)"
   ]
  },
  {
   "cell_type": "code",
   "execution_count": 2,
   "metadata": {},
   "outputs": [
    {
     "name": "stdout",
     "output_type": "stream",
     "text": [
      "tensor([[1, 1, 1],\n",
      "        [1, 1, 1],\n",
      "        [1, 1, 1],\n",
      "        [1, 1, 1],\n",
      "        [1, 1, 1]], dtype=torch.int16)\n"
     ]
    }
   ],
   "source": [
    "# i is a (5,3) tensor of shape (5,3) of type torch.int16, filled with ones\n",
    "i = torch.ones((5, 3), dtype=torch.int16)\n",
    "print(i)\n"
   ]
  },
  {
   "cell_type": "markdown",
   "metadata": {},
   "source": [
    "## Init learning weights with random values\n",
    "\n",
    "It is a common practice to initialize the learning weights with random values.\n",
    "This is often done by using a specific seed for the PRNG (pseudo random number generator)\n",
    "for reproducibility of results:\n",
    " \n"
   ]
  },
  {
   "cell_type": "code",
   "execution_count": 3,
   "metadata": {},
   "outputs": [
    {
     "name": "stdout",
     "output_type": "stream",
     "text": [
      "R1 is a random tensor:\n",
      "tensor([[0.3126, 0.3791],\n",
      "        [0.3087, 0.0736]])\n",
      "\n",
      "R2 is a different random tensor:\n",
      "tensor([[0.4216, 0.0691],\n",
      "        [0.2332, 0.4047]])\n",
      "\n",
      "R3 should match R1:\n",
      "tensor([[0.3126, 0.3791],\n",
      "        [0.3087, 0.0736]])\n",
      "\n",
      "Illustrating the fact that the random generator is not so random after all\n"
     ]
    }
   ],
   "source": [
    "torch.manual_seed(1729)\n",
    "r1 = torch.rand(2, 2)\n",
    "print('R1 is a random tensor:')\n",
    "print(r1)\n",
    "\n",
    "r2 = torch.rand(2, 2)\n",
    "print('\\nR2 is a different random tensor:')\n",
    "print(r2) # new values\n",
    "\n",
    "torch.manual_seed(1729)\n",
    "r3 = torch.rand(2, 2)\n",
    "print('\\nR3 should match R1:')\n",
    "print(r3) # repeats values of r1 because of re-seed\n",
    "\n",
    "print('\\nIllustrating the fact that the random generator is not so random after all')\n",
    "\n"
   ]
  },
  {
   "cell_type": "markdown",
   "metadata": {},
   "source": [
    "## Tensor Operations\n",
    "\n",
    "An overview of tensor operations can be found at\n",
    "\n",
    "https://docs.google.com/presentation/d/1SjYGyzzUU47m0E70LqW8wVYhfBBrLZW4xfTcV1-UKSw/edit#slide=id.g3268a1ce068_0_0\n",
    "\n",
    "We saw how tensors can be added, multiplied etc.\n",
    "\n",
    "PyTorch (and TF) support tensor to tensor operations and tensor to/from scalars\n"
   ]
  },
  {
   "cell_type": "code",
   "execution_count": 4,
   "metadata": {},
   "outputs": [
    {
     "name": "stdout",
     "output_type": "stream",
     "text": [
      "tensor([[1., 1., 1.],\n",
      "        [1., 1., 1.]])\n",
      "tensor([[2., 2., 2.],\n",
      "        [2., 2., 2.]])\n",
      "tensor([[3., 3., 3.],\n",
      "        [3., 3., 3.]])\n",
      "torch.Size([2, 3])\n"
     ]
    }
   ],
   "source": [
    "ones = torch.ones(2, 3)\n",
    "print(ones)\n",
    "\n",
    "twos = torch.ones(2, 3) * 2 # every element is multiplied by 2\n",
    "print(twos)\n",
    "\n",
    "threes = ones + twos       # addition allowed because shapes are similar\n",
    "print(threes)              # tensors are added element-wise\n",
    "print(threes.shape)        # this has the same dimensions as input tensors\n",
    "\n",
    "r1 = torch.rand(2, 3)\n",
    "r2 = torch.rand(3, 2)\n",
    "# uncomment this line to get a runtime error\n",
    "# r3 = r1 + r2"
   ]
  },
  {
   "cell_type": "code",
   "execution_count": 5,
   "metadata": {},
   "outputs": [
    {
     "name": "stdout",
     "output_type": "stream",
     "text": [
      "A random matrix, r:\n",
      "tensor([[ 0.9956, -0.2232],\n",
      "        [ 0.3858, -0.6593]])\n",
      "\n",
      "Absolute value of r:\n",
      "tensor([[0.9956, 0.2232],\n",
      "        [0.3858, 0.6593]])\n",
      "\n",
      "Inverse sine of r:\n",
      "tensor([[ 1.4775, -0.2251],\n",
      "        [ 0.3961, -0.7199]])\n",
      "\n",
      "Determinant of r:\n",
      "tensor(-0.5703)\n",
      "\n",
      "Singular value decomposition of r:\n",
      "torch.return_types.svd(\n",
      "U=tensor([[-0.8353, -0.5497],\n",
      "        [-0.5497,  0.8353]]),\n",
      "S=tensor([1.1793, 0.4836]),\n",
      "V=tensor([[-0.8851, -0.4654],\n",
      "        [ 0.4654, -0.8851]]))\n",
      "\n",
      "Average and standard deviation of r:\n",
      "(tensor(0.7217), tensor(0.1247))\n",
      "\n",
      "Maximum value of r:\n",
      "tensor(0.9956)\n"
     ]
    }
   ],
   "source": [
    "\n",
    "# Small sample of common mathematical operations available in Torch\n",
    "\n",
    "r = (torch.rand(2, 2) - 0.5) * 2 # values between -1 and 1\n",
    "print('A random matrix, r:')\n",
    "print(r)\n",
    "\n",
    "# Common mathematical operations\n",
    "print('\\nAbsolute value of r:')\n",
    "print(torch.abs(r))\n",
    "\n",
    "# trigonometric functions:\n",
    "print('\\nInverse sine of r:')\n",
    "print(torch.asin(r))\n",
    "\n",
    "# linear algebra ops\n",
    "print('\\nDeterminant of r:')\n",
    "print(torch.det(r))\n",
    "\n",
    "print('\\nSingular value decomposition of r:')\n",
    "print(torch.svd(r))\n",
    "\n",
    "# statistical and aggregate ops\n",
    "print('\\nAverage and standard deviation of r:')\n",
    "print(torch.std_mean(r))\n",
    "\n",
    "print('\\nMaximum value of r:')\n",
    "print(torch.max(r))\n",
    "\n",
    "# There are several, more advaced tensor ops, including how to set them up for parallel computations on GPU\n"
   ]
  },
  {
   "cell_type": "markdown",
   "metadata": {},
   "source": [
    "# PyTorch Models\n",
    "\n",
    "The video at the link below shows how to create a model with PyTorch.\n",
    "\n",
    "The specific model creation starts at minute 10:00 (600s) of the video\n",
    "\n",
    "https://www.youtube.com/watch?v=IC0_FRiX-sw&t=600s\n",
    "\n",
    "The code in the slides that follow shows how to create the \"LeNet\" model, which was used by Yann Lecun et al\n",
    "to process the MNIST digits data set\n",
    "\n",
    "Since that model is complex, we start with a simpler mode, based on Dense layers.\n"
   ]
  },
  {
   "cell_type": "code",
   "execution_count": 8,
   "metadata": {},
   "outputs": [],
   "source": [
    "import torch                     # for all things PyTorch\n",
    "import torch.nn as nn            # for torch.nn.Module, the parent object for PyTorch models\n",
    "import torch.nn.functional as F  # for the activation function"
   ]
  },
  {
   "cell_type": "code",
   "execution_count": 9,
   "metadata": {},
   "outputs": [
    {
     "name": "stdout",
     "output_type": "stream",
     "text": [
      "Using cuda device\n",
      "DenseNet(\n",
      "  (flatten): Flatten(start_dim=1, end_dim=-1)\n",
      "  (linear_relu_stack): Sequential(\n",
      "    (0): Linear(in_features=784, out_features=512, bias=True)\n",
      "    (1): ReLU()\n",
      "    (2): Linear(in_features=512, out_features=512, bias=True)\n",
      "    (3): ReLU()\n",
      "    (4): Linear(in_features=512, out_features=10, bias=True)\n",
      "  )\n",
      ")\n"
     ]
    }
   ],
   "source": [
    "# Define a NN model with dense layers (which Pytorch calls \"Linear\").\n",
    "# The model can be used to process the MNIST-digits data \n",
    "\n",
    "# Determine what device (GPU, CPU, MPS) is available for training\n",
    "\n",
    "device = (\n",
    "    \"cuda\"\n",
    "    if torch.cuda.is_available()\n",
    "    else \"mps\"\n",
    "    if torch.backends.mps.is_available()\n",
    "    else \"cpu\"\n",
    ")\n",
    "print(f\"Using {device} device\")\n",
    "\n",
    "# Define Dense Model\n",
    "class DenseNet(nn.Module):\n",
    "    def __init__(self):\n",
    "        super().__init__()\n",
    "        self.flatten = nn.Flatten()\n",
    "        self.linear_relu_stack = nn.Sequential(\n",
    "            nn.Linear(28*28, 512),\n",
    "            nn.ReLU(),\n",
    "            nn.Linear(512, 512),\n",
    "            nn.ReLU(),\n",
    "            nn.Linear(512, 10)\n",
    "        )\n",
    "\n",
    "    def forward(self, x):\n",
    "        x = self.flatten(x)\n",
    "        logits = self.linear_relu_stack(x)\n",
    "        return logits\n",
    "\n",
    "dense_model = DenseNet().to(device)\n",
    "print(dense_model)"
   ]
  },
  {
   "cell_type": "markdown",
   "metadata": {},
   "source": [
    "![alt text](PytorchDense.drawio.svg)"
   ]
  },
  {
   "cell_type": "code",
   "execution_count": 14,
   "metadata": {},
   "outputs": [],
   "source": [
    "# Get APIs for optimizer, scheduler and datasets\n",
    "import torch.nn.functional as F\n",
    "import torch.optim as optim\n",
    "from torchvision import datasets, transforms\n",
    "from torch.optim.lr_scheduler import StepLR"
   ]
  },
  {
   "cell_type": "code",
   "execution_count": 15,
   "metadata": {},
   "outputs": [],
   "source": [
    "# Another way to define the NN. \n",
    "# self.fc1 stands for \"fully connected\" layer\n",
    "class DenseNet2(nn.Module):\n",
    "    def __init__(self):\n",
    "        super(DenseNet2, self).__init__()\n",
    "        self.fc1 = nn.Linear(28*28, 512)  # Input layer (784 features)\n",
    "        self.fc2 = nn.Linear(512, 512)   # Hidden layer\n",
    "        self.fc3 = nn.Linear(512, 10)    # Output layer (10 classes)\n",
    "        self.relu = nn.ReLU()\n",
    "\n",
    "    def forward(self, x):\n",
    "        x = torch.flatten(x, 1)  # Flatten the image\n",
    "        x = self.relu(self.fc1(x))\n",
    "        x = self.relu(self.fc2(x))\n",
    "        x = self.fc3(x)\n",
    "        return x\n",
    "\n"
   ]
  },
  {
   "cell_type": "code",
   "execution_count": 17,
   "metadata": {},
   "outputs": [
    {
     "name": "stdout",
     "output_type": "stream",
     "text": [
      "Downloading http://yann.lecun.com/exdb/mnist/train-images-idx3-ubyte.gz\n",
      "Failed to download (trying next):\n",
      "<urlopen error [Errno 111] Connection refused>\n",
      "\n",
      "Downloading https://ossci-datasets.s3.amazonaws.com/mnist/train-images-idx3-ubyte.gz\n",
      "Downloading https://ossci-datasets.s3.amazonaws.com/mnist/train-images-idx3-ubyte.gz to /drv3/hm3/code/python/torch/code/data/MNIST/MNIST/raw/train-images-idx3-ubyte.gz\n"
     ]
    },
    {
     "name": "stderr",
     "output_type": "stream",
     "text": [
      "100.0%\n"
     ]
    },
    {
     "name": "stdout",
     "output_type": "stream",
     "text": [
      "Extracting /drv3/hm3/code/python/torch/code/data/MNIST/MNIST/raw/train-images-idx3-ubyte.gz to /drv3/hm3/code/python/torch/code/data/MNIST/MNIST/raw\n",
      "\n",
      "Downloading http://yann.lecun.com/exdb/mnist/train-labels-idx1-ubyte.gz\n",
      "Failed to download (trying next):\n",
      "<urlopen error [Errno 111] Connection refused>\n",
      "\n",
      "Downloading https://ossci-datasets.s3.amazonaws.com/mnist/train-labels-idx1-ubyte.gz\n",
      "Downloading https://ossci-datasets.s3.amazonaws.com/mnist/train-labels-idx1-ubyte.gz to /drv3/hm3/code/python/torch/code/data/MNIST/MNIST/raw/train-labels-idx1-ubyte.gz\n"
     ]
    },
    {
     "name": "stderr",
     "output_type": "stream",
     "text": [
      "100.0%\n"
     ]
    },
    {
     "name": "stdout",
     "output_type": "stream",
     "text": [
      "Extracting /drv3/hm3/code/python/torch/code/data/MNIST/MNIST/raw/train-labels-idx1-ubyte.gz to /drv3/hm3/code/python/torch/code/data/MNIST/MNIST/raw\n",
      "\n",
      "Downloading http://yann.lecun.com/exdb/mnist/t10k-images-idx3-ubyte.gz\n",
      "Failed to download (trying next):\n",
      "<urlopen error [Errno 111] Connection refused>\n",
      "\n",
      "Downloading https://ossci-datasets.s3.amazonaws.com/mnist/t10k-images-idx3-ubyte.gz\n",
      "Downloading https://ossci-datasets.s3.amazonaws.com/mnist/t10k-images-idx3-ubyte.gz to /drv3/hm3/code/python/torch/code/data/MNIST/MNIST/raw/t10k-images-idx3-ubyte.gz\n"
     ]
    },
    {
     "name": "stderr",
     "output_type": "stream",
     "text": [
      "100.0%\n"
     ]
    },
    {
     "name": "stdout",
     "output_type": "stream",
     "text": [
      "Extracting /drv3/hm3/code/python/torch/code/data/MNIST/MNIST/raw/t10k-images-idx3-ubyte.gz to /drv3/hm3/code/python/torch/code/data/MNIST/MNIST/raw\n",
      "\n",
      "Downloading http://yann.lecun.com/exdb/mnist/t10k-labels-idx1-ubyte.gz\n",
      "Failed to download (trying next):\n",
      "<urlopen error [Errno 111] Connection refused>\n",
      "\n",
      "Downloading https://ossci-datasets.s3.amazonaws.com/mnist/t10k-labels-idx1-ubyte.gz\n",
      "Downloading https://ossci-datasets.s3.amazonaws.com/mnist/t10k-labels-idx1-ubyte.gz to /drv3/hm3/code/python/torch/code/data/MNIST/MNIST/raw/t10k-labels-idx1-ubyte.gz\n"
     ]
    },
    {
     "name": "stderr",
     "output_type": "stream",
     "text": [
      "100.0%"
     ]
    },
    {
     "name": "stdout",
     "output_type": "stream",
     "text": [
      "Extracting /drv3/hm3/code/python/torch/code/data/MNIST/MNIST/raw/t10k-labels-idx1-ubyte.gz to /drv3/hm3/code/python/torch/code/data/MNIST/MNIST/raw\n",
      "\n"
     ]
    },
    {
     "name": "stderr",
     "output_type": "stream",
     "text": [
      "\n"
     ]
    }
   ],
   "source": [
    "\n",
    "# Get the data\n",
    "datDir = \"/drv3/hm3/code/python/torch/code/data/MNIST\"\n",
    "# Download and transform the MNIST dataset\n",
    "train_dataset = datasets.MNIST(\n",
    "    root= datDir, train=True, download=True,\n",
    "    transform=transforms.Compose([\n",
    "        transforms.ToTensor(),\n",
    "        transforms.Normalize((0.1307,), (0.3081,))\n",
    "    ])\n",
    ")\n",
    "\n",
    "test_dataset = datasets.MNIST(\n",
    "    root=datDir, train=False, download=True,\n",
    "    transform=transforms.Compose([\n",
    "        transforms.ToTensor(),\n",
    "        transforms.Normalize((0.1307,), (0.3081,))\n",
    "    ])\n",
    ")\n",
    "\n",
    "# Create data loaders\n",
    "train_loader = torch.utils.data.DataLoader(train_dataset, batch_size=64, shuffle=True)\n",
    "test_loader = torch.utils.data.DataLoader(test_dataset, batch_size=1000, shuffle=False)\n",
    "\n",
    "# Instantiate the model, optimizer, and loss function\n",
    "model = DenseNet2()\n",
    "optimizer = optim.Adam(model.parameters())\n",
    "criterion = nn.CrossEntropyLoss()"
   ]
  },
  {
   "cell_type": "code",
   "execution_count": 18,
   "metadata": {},
   "outputs": [
    {
     "name": "stdout",
     "output_type": "stream",
     "text": [
      "Train Epoch: 1 [0/60000 (0%)]\tLoss: 2.318707\n",
      "Train Epoch: 1 [6400/60000 (11%)]\tLoss: 0.333676\n",
      "Train Epoch: 1 [12800/60000 (21%)]\tLoss: 0.298095\n",
      "Train Epoch: 1 [19200/60000 (32%)]\tLoss: 0.272843\n",
      "Train Epoch: 1 [25600/60000 (43%)]\tLoss: 0.074279\n",
      "Train Epoch: 1 [32000/60000 (53%)]\tLoss: 0.189639\n",
      "Train Epoch: 1 [38400/60000 (64%)]\tLoss: 0.139207\n",
      "Train Epoch: 1 [44800/60000 (75%)]\tLoss: 0.140568\n",
      "Train Epoch: 1 [51200/60000 (85%)]\tLoss: 0.024073\n",
      "Train Epoch: 1 [57600/60000 (96%)]\tLoss: 0.090207\n",
      "\n",
      "Test set: Average loss: 0.0001, Accuracy: 9669/10000 (97%)\n",
      "\n",
      "Train Epoch: 2 [0/60000 (0%)]\tLoss: 0.282269\n",
      "Train Epoch: 2 [6400/60000 (11%)]\tLoss: 0.030261\n",
      "Train Epoch: 2 [12800/60000 (21%)]\tLoss: 0.016592\n",
      "Train Epoch: 2 [19200/60000 (32%)]\tLoss: 0.050781\n",
      "Train Epoch: 2 [25600/60000 (43%)]\tLoss: 0.074543\n",
      "Train Epoch: 2 [32000/60000 (53%)]\tLoss: 0.084592\n",
      "Train Epoch: 2 [38400/60000 (64%)]\tLoss: 0.063761\n",
      "Train Epoch: 2 [44800/60000 (75%)]\tLoss: 0.050633\n",
      "Train Epoch: 2 [51200/60000 (85%)]\tLoss: 0.106878\n",
      "Train Epoch: 2 [57600/60000 (96%)]\tLoss: 0.334639\n",
      "\n",
      "Test set: Average loss: 0.0001, Accuracy: 9736/10000 (97%)\n",
      "\n",
      "Train Epoch: 3 [0/60000 (0%)]\tLoss: 0.036110\n",
      "Train Epoch: 3 [6400/60000 (11%)]\tLoss: 0.035790\n",
      "Train Epoch: 3 [12800/60000 (21%)]\tLoss: 0.052946\n",
      "Train Epoch: 3 [19200/60000 (32%)]\tLoss: 0.045458\n",
      "Train Epoch: 3 [25600/60000 (43%)]\tLoss: 0.063364\n",
      "Train Epoch: 3 [32000/60000 (53%)]\tLoss: 0.067274\n",
      "Train Epoch: 3 [38400/60000 (64%)]\tLoss: 0.044624\n",
      "Train Epoch: 3 [44800/60000 (75%)]\tLoss: 0.004864\n",
      "Train Epoch: 3 [51200/60000 (85%)]\tLoss: 0.126632\n",
      "Train Epoch: 3 [57600/60000 (96%)]\tLoss: 0.010109\n",
      "\n",
      "Test set: Average loss: 0.0001, Accuracy: 9744/10000 (97%)\n",
      "\n",
      "Train Epoch: 4 [0/60000 (0%)]\tLoss: 0.032479\n",
      "Train Epoch: 4 [6400/60000 (11%)]\tLoss: 0.011316\n",
      "Train Epoch: 4 [12800/60000 (21%)]\tLoss: 0.042017\n",
      "Train Epoch: 4 [19200/60000 (32%)]\tLoss: 0.097134\n",
      "Train Epoch: 4 [25600/60000 (43%)]\tLoss: 0.008732\n",
      "Train Epoch: 4 [32000/60000 (53%)]\tLoss: 0.139500\n",
      "Train Epoch: 4 [38400/60000 (64%)]\tLoss: 0.043548\n",
      "Train Epoch: 4 [44800/60000 (75%)]\tLoss: 0.042014\n",
      "Train Epoch: 4 [51200/60000 (85%)]\tLoss: 0.001185\n",
      "Train Epoch: 4 [57600/60000 (96%)]\tLoss: 0.014104\n",
      "\n",
      "Test set: Average loss: 0.0001, Accuracy: 9768/10000 (98%)\n",
      "\n",
      "Train Epoch: 5 [0/60000 (0%)]\tLoss: 0.023802\n",
      "Train Epoch: 5 [6400/60000 (11%)]\tLoss: 0.063589\n",
      "Train Epoch: 5 [12800/60000 (21%)]\tLoss: 0.014536\n",
      "Train Epoch: 5 [19200/60000 (32%)]\tLoss: 0.137474\n",
      "Train Epoch: 5 [25600/60000 (43%)]\tLoss: 0.014686\n",
      "Train Epoch: 5 [32000/60000 (53%)]\tLoss: 0.030621\n",
      "Train Epoch: 5 [38400/60000 (64%)]\tLoss: 0.059097\n",
      "Train Epoch: 5 [44800/60000 (75%)]\tLoss: 0.040604\n",
      "Train Epoch: 5 [51200/60000 (85%)]\tLoss: 0.016515\n",
      "Train Epoch: 5 [57600/60000 (96%)]\tLoss: 0.035599\n",
      "\n",
      "Test set: Average loss: 0.0001, Accuracy: 9738/10000 (97%)\n",
      "\n",
      "Train Epoch: 6 [0/60000 (0%)]\tLoss: 0.001389\n",
      "Train Epoch: 6 [6400/60000 (11%)]\tLoss: 0.005667\n",
      "Train Epoch: 6 [12800/60000 (21%)]\tLoss: 0.060470\n",
      "Train Epoch: 6 [19200/60000 (32%)]\tLoss: 0.012664\n",
      "Train Epoch: 6 [25600/60000 (43%)]\tLoss: 0.109723\n",
      "Train Epoch: 6 [32000/60000 (53%)]\tLoss: 0.014762\n",
      "Train Epoch: 6 [38400/60000 (64%)]\tLoss: 0.074178\n",
      "Train Epoch: 6 [44800/60000 (75%)]\tLoss: 0.073528\n",
      "Train Epoch: 6 [51200/60000 (85%)]\tLoss: 0.006884\n",
      "Train Epoch: 6 [57600/60000 (96%)]\tLoss: 0.017566\n",
      "\n",
      "Test set: Average loss: 0.0001, Accuracy: 9721/10000 (97%)\n",
      "\n",
      "Train Epoch: 7 [0/60000 (0%)]\tLoss: 0.028766\n",
      "Train Epoch: 7 [6400/60000 (11%)]\tLoss: 0.007674\n",
      "Train Epoch: 7 [12800/60000 (21%)]\tLoss: 0.011145\n",
      "Train Epoch: 7 [19200/60000 (32%)]\tLoss: 0.162719\n",
      "Train Epoch: 7 [25600/60000 (43%)]\tLoss: 0.001900\n",
      "Train Epoch: 7 [32000/60000 (53%)]\tLoss: 0.004346\n",
      "Train Epoch: 7 [38400/60000 (64%)]\tLoss: 0.113345\n",
      "Train Epoch: 7 [44800/60000 (75%)]\tLoss: 0.003875\n",
      "Train Epoch: 7 [51200/60000 (85%)]\tLoss: 0.000945\n",
      "Train Epoch: 7 [57600/60000 (96%)]\tLoss: 0.087269\n",
      "\n",
      "Test set: Average loss: 0.0001, Accuracy: 9783/10000 (98%)\n",
      "\n",
      "Train Epoch: 8 [0/60000 (0%)]\tLoss: 0.021069\n",
      "Train Epoch: 8 [6400/60000 (11%)]\tLoss: 0.003352\n",
      "Train Epoch: 8 [12800/60000 (21%)]\tLoss: 0.052732\n",
      "Train Epoch: 8 [19200/60000 (32%)]\tLoss: 0.001932\n",
      "Train Epoch: 8 [25600/60000 (43%)]\tLoss: 0.089019\n",
      "Train Epoch: 8 [32000/60000 (53%)]\tLoss: 0.001919\n",
      "Train Epoch: 8 [38400/60000 (64%)]\tLoss: 0.003726\n",
      "Train Epoch: 8 [44800/60000 (75%)]\tLoss: 0.049920\n",
      "Train Epoch: 8 [51200/60000 (85%)]\tLoss: 0.006648\n",
      "Train Epoch: 8 [57600/60000 (96%)]\tLoss: 0.021590\n",
      "\n",
      "Test set: Average loss: 0.0001, Accuracy: 9798/10000 (98%)\n",
      "\n",
      "Train Epoch: 9 [0/60000 (0%)]\tLoss: 0.039098\n",
      "Train Epoch: 9 [6400/60000 (11%)]\tLoss: 0.002009\n",
      "Train Epoch: 9 [12800/60000 (21%)]\tLoss: 0.008762\n",
      "Train Epoch: 9 [19200/60000 (32%)]\tLoss: 0.104798\n",
      "Train Epoch: 9 [25600/60000 (43%)]\tLoss: 0.001588\n",
      "Train Epoch: 9 [32000/60000 (53%)]\tLoss: 0.000416\n",
      "Train Epoch: 9 [38400/60000 (64%)]\tLoss: 0.000743\n",
      "Train Epoch: 9 [44800/60000 (75%)]\tLoss: 0.042872\n",
      "Train Epoch: 9 [51200/60000 (85%)]\tLoss: 0.005182\n",
      "Train Epoch: 9 [57600/60000 (96%)]\tLoss: 0.014354\n",
      "\n",
      "Test set: Average loss: 0.0001, Accuracy: 9789/10000 (98%)\n",
      "\n",
      "Train Epoch: 10 [0/60000 (0%)]\tLoss: 0.143749\n",
      "Train Epoch: 10 [6400/60000 (11%)]\tLoss: 0.035494\n",
      "Train Epoch: 10 [12800/60000 (21%)]\tLoss: 0.128831\n",
      "Train Epoch: 10 [19200/60000 (32%)]\tLoss: 0.005930\n",
      "Train Epoch: 10 [25600/60000 (43%)]\tLoss: 0.003822\n",
      "Train Epoch: 10 [32000/60000 (53%)]\tLoss: 0.000203\n",
      "Train Epoch: 10 [38400/60000 (64%)]\tLoss: 0.007974\n",
      "Train Epoch: 10 [44800/60000 (75%)]\tLoss: 0.000167\n",
      "Train Epoch: 10 [51200/60000 (85%)]\tLoss: 0.123094\n",
      "Train Epoch: 10 [57600/60000 (96%)]\tLoss: 0.003008\n",
      "\n",
      "Test set: Average loss: 0.0001, Accuracy: 9798/10000 (98%)\n",
      "\n"
     ]
    }
   ],
   "source": [
    "\n",
    "# Create data loaders\n",
    "train_loader = torch.utils.data.DataLoader(train_dataset, batch_size=64, shuffle=True)\n",
    "test_loader = torch.utils.data.DataLoader(test_dataset, batch_size=1000, shuffle=False)\n",
    "\n",
    "# Instantiate the model, optimizer, and loss function\n",
    "model = DenseNet2()\n",
    "optimizer = optim.Adam(model.parameters())\n",
    "criterion = nn.CrossEntropyLoss()\n",
    "\n",
    "# Define the training loop\n",
    "def train(epoch):\n",
    "    model.train()\n",
    "    for batch_idx, (data, target) in enumerate(train_loader):\n",
    "        optimizer.zero_grad()\n",
    "        output = model(data)\n",
    "        loss = criterion(output, target)\n",
    "        loss.backward()\n",
    "        optimizer.step()\n",
    "        if batch_idx % 100 == 0:\n",
    "            print('Train Epoch: {} [{}/{} ({:.0f}%)]\\tLoss: {:.6f}'.format(\n",
    "                epoch, batch_idx * len(data), len(train_loader.dataset),\n",
    "                100. * batch_idx / len(train_loader), loss.item()))\n",
    "\n",
    "# Define the testing loop\n",
    "def test():\n",
    "    model.eval()\n",
    "    test_loss = 0\n",
    "    correct = 0\n",
    "    with torch.no_grad():\n",
    "        for data, target in test_loader:\n",
    "            output = model(data)\n",
    "            test_loss += criterion(output, target).item()  # Sum up batch loss\n",
    "            pred = output.argmax(dim=1, keepdim=True)  # Get the index of the max log-probability\n",
    "            correct += pred.eq(target.view_as(pred)).sum().item()\n",
    "\n",
    "    test_loss /= len(test_loader.dataset)\n",
    "\n",
    "    print('\\nTest set: Average loss: {:.4f}, Accuracy: {}/{} ({:.0f}%)\\n'.format(\n",
    "        test_loss, correct, len(test_loader.dataset),\n",
    "        100. * correct / len(test_loader.dataset)))\n",
    "\n",
    "# Train the model\n",
    "for epoch in range(1, 10 + 1):  # Train for 10 epochs\n",
    "    train(epoch)\n",
    "    test()\n"
   ]
  },
  {
   "cell_type": "markdown",
   "metadata": {},
   "source": [
    "## Evaluating Performance\n",
    "\n",
    "The model accuracy is really good. "
   ]
  },
  {
   "attachments": {
    "image.png": {
     "image/png": "[encoded data removed]"
    }
   },
   "cell_type": "markdown",
   "metadata": {},
   "source": [
    "![image.png](attachment:image.png)"
   ]
  }
 ],
 "metadata": {
  "kernelspec": {
   "display_name": "torch",
   "language": "python",
   "name": "python3"
  },
  "language_info": {
   "codemirror_mode": {
    "name": "ipython",
    "version": 3
   },
   "file_extension": ".py",
   "mimetype": "text/x-python",
   "name": "python",
   "nbconvert_exporter": "python",
   "pygments_lexer": "ipython3",
   "version": "3.12.3"
  }
 },
 "nbformat": 4,
 "nbformat_minor": 2
}
