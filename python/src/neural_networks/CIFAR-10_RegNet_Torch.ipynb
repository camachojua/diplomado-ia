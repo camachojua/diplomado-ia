{
 "cells": [
  {
   "cell_type": "markdown",
   "metadata": {},
   "source": [
    "### CIFAR-10 Classification with Pytorch Pretrained RegNet\n",
    "\n",
    "+ RegNet (Regularized Network) is a family of network architectures designed through a network design space paradigm. \n",
    "\n",
    "+ Instead of manually designing individual architectures, RegNet defines a set of design parameters and uses a simple, regularized model to sample efficient networks from this space.\n",
    "\n",
    "+ In general terms the design focuses on finding simple design rules that would lead to model with good performance.\n",
    "\n",
    "+ To do so \n",
    "  \n",
    "    + it scales network width and depth in a systematic way, and\n",
    "  \n",
    "    + it uses a block-based structure with efficient bottleneck blocks.\n",
    "\n",
    "+ The code in this notebook uses RegNet to do image classification of the CIFAR-10 Data.\n",
    "\n",
    "+ RegNet was desined to target ImageNet images, which are typically 224x224 pixels.\n",
    "\n",
    "+ CIFAR-10 images are 32x32 pixels. This means there is a significant difference in image size.\n",
    "\n",
    "+ Directly feeding 32x32 images into RegNet will result in a mismatch in the spatial dimensions of the feature maps.\n",
    "\n",
    "+ For CIFAR-10, the first conv layer of RegNet needs to be adepted for 32x32 images.\n",
    "\n",
    "+ The last dense layer (classification head) of RegNet is designed for ImageNet's 1000 classes.\n",
    "\n",
    "+ That layer must be replaced with a new dense layer to classify the 10 classes in CIFAR-10.\n",
    " \n",
    "\n"
   ]
  },
  {
   "cell_type": "code",
   "execution_count": 1,
   "metadata": {},
   "outputs": [],
   "source": [
    "import torch\n",
    "import torchvision\n",
    "import torchvision.transforms as transforms\n",
    "import torch.nn as nn\n",
    "import torch.optim as optim\n",
    "from torchvision.models import regnet_y_400mf, RegNet_Y_400MF_Weights"
   ]
  },
  {
   "cell_type": "code",
   "execution_count": 2,
   "metadata": {},
   "outputs": [
    {
     "name": "stdout",
     "output_type": "stream",
     "text": [
      "Files already downloaded and verified\n",
      "Files already downloaded and verified\n"
     ]
    }
   ],
   "source": [
    "# Load CIFAR-10 dataset\n",
    "transform_train = transforms.Compose([\n",
    "    transforms.RandomCrop(32, padding=4),\n",
    "    transforms.RandomHorizontalFlip(),\n",
    "    transforms.ToTensor(),\n",
    "    transforms.Normalize(mean=[0.485, 0.456, 0.406], std=[0.229, 0.224, 0.225]), # ImageNet normalization\n",
    "    transforms.Resize(224) # RegNet pretrained models expect 224x224 images\n",
    "])\n",
    "\n",
    "transform_test = transforms.Compose([\n",
    "    transforms.ToTensor(),\n",
    "    transforms.Normalize(mean=[0.485, 0.456, 0.406], std=[0.229, 0.224, 0.225]), # ImageNet normalization\n",
    "    transforms.Resize(224)\n",
    "])\n",
    "\n",
    "trainset = torchvision.datasets.CIFAR10(root='./data', train=True, download=True, transform=transform_train)\n",
    "trainloader = torch.utils.data.DataLoader(trainset, batch_size=128, shuffle=True, num_workers=2)\n",
    "\n",
    "testset = torchvision.datasets.CIFAR10(root='./data', train=False, download=True, transform=transform_test)\n",
    "testloader = torch.utils.data.DataLoader(testset, batch_size=100, shuffle=False, num_workers=2)"
   ]
  },
  {
   "cell_type": "code",
   "execution_count": 3,
   "metadata": {},
   "outputs": [],
   "source": [
    "classes = ('plane', 'car', 'bird', 'cat', 'deer', 'dog', 'frog', 'horse', 'ship', 'truck')"
   ]
  },
  {
   "cell_type": "code",
   "execution_count": 6,
   "metadata": {},
   "outputs": [],
   "source": [
    "# Load pretrained RegNet model\n",
    "weights = RegNet_Y_400MF_Weights.DEFAULT\n",
    "net = regnet_y_400mf(weights=weights)\n",
    "\n",
    "# Freeze all layers except the final fully connected layer\n",
    "for param in net.parameters():\n",
    "    param.requires_grad = False\n",
    "\n",
    "# Replace the final fully connected layer for CIFAR-10 (10 classes)\n",
    "num_ftrs = net.fc.in_features\n",
    "net.fc = nn.Linear(num_ftrs, 10)\n",
    "\n",
    "# Define loss function and optimizer\n",
    "criterion = nn.CrossEntropyLoss()\n",
    "optimizer = optim.Adam(net.fc.parameters(), lr=0.001) # Optimize only the new FC layer"
   ]
  },
  {
   "cell_type": "code",
   "execution_count": null,
   "metadata": {},
   "outputs": [
    {
     "data": {
      "text/plain": [
       "4410"
      ]
     },
     "execution_count": 8,
     "metadata": {},
     "output_type": "execute_result"
    }
   ],
   "source": [
    "def count_params(model):\n",
    "    return sum(p.numel() for p in model.parameters() if p.requires_grad)\n",
    "\n",
    "count_params(net)\n",
    "\n",
    "print( net ) "
   ]
  },
  {
   "cell_type": "code",
   "execution_count": null,
   "metadata": {},
   "outputs": [
    {
     "name": "stdout",
     "output_type": "stream",
     "text": [
      "[1,   200] loss: 1.330\n",
      "[2,   200] loss: 0.858\n",
      "[3,   200] loss: 0.798\n",
      "[4,   200] loss: 0.771\n",
      "[5,   200] loss: 0.745\n",
      "[6,   200] loss: 0.739\n",
      "[7,   200] loss: 0.741\n",
      "[8,   200] loss: 0.737\n",
      "[9,   200] loss: 0.730\n",
      "[10,   200] loss: 0.728\n",
      "Finished Training\n"
     ]
    }
   ],
   "source": [
    "# Ensure that training loop is using the GPUs in the system\n",
    "device = torch.device(\"cuda:0\" if torch.cuda.is_available() else \"cpu\")\n",
    "net.to(device)\n",
    "\n",
    "for epoch in range(10):  # loop over the dataset multiple times\n",
    "    running_loss = 0.0\n",
    "    for i, data in enumerate(trainloader, 0):\n",
    "        inputs, labels = data[0].to(device), data[1].to(device)\n",
    "\n",
    "        optimizer.zero_grad()\n",
    "\n",
    "        outputs = net(inputs)\n",
    "        loss = criterion(outputs, labels)\n",
    "        loss.backward()\n",
    "        optimizer.step()\n",
    "\n",
    "        running_loss += loss.item()\n",
    "        if i % 200 == 199:    # print every 200 mini-batches\n",
    "            print('[%d, %5d] loss: %.3f' % (epoch + 1, i + 1, running_loss / 200))\n",
    "            running_loss = 0.0\n",
    "\n",
    "print('Finished Training')"
   ]
  },
  {
   "cell_type": "code",
   "execution_count": 11,
   "metadata": {},
   "outputs": [
    {
     "name": "stdout",
     "output_type": "stream",
     "text": [
      "Accuracy of the network on the 10000 test images: 77 %\n"
     ]
    }
   ],
   "source": [
    "# Test the network on the test data\n",
    "correct = 0\n",
    "total = 0\n",
    "with torch.no_grad():\n",
    "    net.eval() #set to evaluation mode\n",
    "    for data in testloader:\n",
    "        images, labels = data[0].to(device), data[1].to(device)\n",
    "        outputs = net(images)\n",
    "        _, predicted = torch.max(outputs.data, 1)\n",
    "        total += labels.size(0)\n",
    "        correct += (predicted == labels).sum().item()\n",
    "\n",
    "print('Accuracy of the network on the 10000 test images: %d %%' % (100 * correct / total))"
   ]
  },
  {
   "cell_type": "code",
   "execution_count": 10,
   "metadata": {},
   "outputs": [
    {
     "name": "stdout",
     "output_type": "stream",
     "text": [
      "Accuracy of plane : 77 %\n",
      "Accuracy of   car : 85 %\n",
      "Accuracy of  bird : 73 %\n",
      "Accuracy of   cat : 58 %\n",
      "Accuracy of  deer : 73 %\n",
      "Accuracy of   dog : 76 %\n",
      "Accuracy of  frog : 85 %\n",
      "Accuracy of horse : 72 %\n",
      "Accuracy of  ship : 83 %\n",
      "Accuracy of truck : 88 %\n"
     ]
    }
   ],
   "source": [
    "# Test the network and get per-class accuracy\n",
    "device = torch.device(\"cuda:0\" if torch.cuda.is_available() else \"cpu\")\n",
    "net.to(device)\n",
    "\n",
    "class_correct = list(0. for i in range(10))\n",
    "class_total = list(0. for i in range(10))\n",
    "with torch.no_grad():\n",
    "    net.eval()\n",
    "    for data in testloader:\n",
    "        images, labels = data[0].to(device), data[1].to(device)\n",
    "        outputs = net(images)\n",
    "        _, predicted = torch.max(outputs, 1)\n",
    "        c = (predicted == labels).squeeze()\n",
    "        for i in range(labels.size(0)): # Iterate through samples in the batch.\n",
    "            label = labels[i].item()\n",
    "            class_correct[label] += c[i].item()\n",
    "            class_total[label] += 1\n",
    "\n",
    "for i in range(10):\n",
    "    print('Accuracy of %5s : %2d %%' % (\n",
    "        classes[i], 100 * class_correct[i] / class_total[i]))"
   ]
  }
 ],
 "metadata": {
  "kernelspec": {
   "display_name": "torch",
   "language": "python",
   "name": "python3"
  },
  "language_info": {
   "codemirror_mode": {
    "name": "ipython",
    "version": 3
   },
   "file_extension": ".py",
   "mimetype": "text/x-python",
   "name": "python",
   "nbconvert_exporter": "python",
   "pygments_lexer": "ipython3",
   "version": "3.12.3"
  }
 },
 "nbformat": 4,
 "nbformat_minor": 2
}
