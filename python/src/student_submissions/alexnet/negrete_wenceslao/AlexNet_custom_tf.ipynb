{
  "cells": [
    {
      "cell_type": "code",
      "execution_count": null,
      "metadata": {},
      "source": [
        "%pip install tensorflow matplotlib numpy"
      ]
    },
    {
      "cell_type": "code",
      "execution_count": null,
      "metadata": {},
      "source": [
        "import tensorflow as tf\n",
        "from tensorflow.keras import layers, models, optimizers\n",
        "from tensorflow.keras.datasets import cifar10\n",
        "import matplotlib.pyplot as plt\n",
        "import numpy as np\n",
        "import time"
      ]
    },
    {
      "cell_type": "code",
      "execution_count": null,
      "metadata": {},
      "source": [
        "# Define the AlexNet architecture using Keras\n",
        "def create_alexnet(num_classes=10):\n",
        "    model = models.Sequential([\n",
        "        # Conv1\n",
        "        layers.Conv2D(64, kernel_size=3, strides=1, padding='same', activation='relu', input_shape=(224, 224, 3)),\n",
        "        layers.MaxPooling2D(pool_size=2, strides=2),\n",
        "        \n",
        "        # Conv2\n",
        "        layers.Conv2D(192, kernel_size=3, strides=1, padding='same', activation='relu'),\n",
        "        layers.MaxPooling2D(pool_size=2, strides=2),\n",
        "        \n",
        "        # Conv3\n",
        "        layers.Conv2D(384, kernel_size=3, padding='same', activation='relu'),\n",
        "        \n",
        "        # Conv4\n",
        "        layers.Conv2D(256, kernel_size=3, padding='same', activation='relu'),\n",
        "        \n",
        "        # Conv5\n",
        "        layers.Conv2D(256, kernel_size=3, padding='same', activation='relu'),\n",
        "        layers.MaxPooling2D(pool_size=2, strides=2),\n",
        "        \n",
        "        # Flatten layer\n",
        "        layers.Flatten(),\n",
        "        \n",
        "        # Fully connected layers\n",
        "        layers.Dropout(0.5),\n",
        "        layers.Dense(4096, activation='relu'),\n",
        "        layers.Dropout(0.5),\n",
        "        layers.Dense(4096, activation='relu'),\n",
        "        layers.Dense(num_classes, activation='softmax')\n",
        "    ])\n",
        "    \n",
        "    return model"
      ]
    },
    {
      "cell_type": "code",
      "execution_count": null,
      "metadata": {},
      "source": [
        "# Data loading and preprocessing\n",
        "def load_cifar10():\n",
        "    (x_train, y_train), (x_test, y_test) = cifar10.load_data()\n",
        "    \n",
        "    # Resize images to 224x224\n",
        "    x_train_resized = tf.image.resize(x_train, [224, 224])\n",
        "    x_test_resized = tf.image.resize(x_test, [224, 224])\n",
        "    \n",
        "    # Normalize pixel values\n",
        "    x_train_normalized = (x_train_resized / 127.5) - 1\n",
        "    x_test_normalized = (x_test_resized / 127.5) - 1\n",
        "    \n",
        "    # Convert labels to one-hot encoding\n",
        "    y_train = tf.keras.utils.to_categorical(y_train, 10)\n",
        "    y_test = tf.keras.utils.to_categorical(y_test, 10)\n",
        "    \n",
        "    return (x_train_normalized, y_train), (x_test_normalized, y_test)"
      ]
    },
    {
      "cell_type": "code",
      "execution_count": null,
      "metadata": {},
      "source": [
        "# Training function\n",
        "def train_model(model, train_data, epochs=10, batch_size=32):\n",
        "    (x_train, y_train) = train_data\n",
        "    \n",
        "    # Compile the model\n",
        "    model.compile(\n",
        "        optimizer=optimizers.SGD(learning_rate=0.01, momentum=0.9),\n",
        "        loss='categorical_crossentropy',\n",
        "        metrics=['accuracy']\n",
        "    )\n",
        "    \n",
        "    # Learning rate scheduler\n",
        "    lr_scheduler = tf.keras.callbacks.CosineDecay(\n",
        "        initial_learning_rate=0.01,\n",
        "        decay_steps=epochs\n",
        "    )\n",
        "    \n",
        "    # Train the model\n",
        "    history = model.fit(\n",
        "        x_train, y_train,\n",
        "        batch_size=batch_size,\n",
        "        epochs=epochs,\n",
        "        validation_split=0.1,\n",
        "        callbacks=[\n",
        "            tf.keras.callbacks.LearningRateScheduler(lr_scheduler)\n",
        "        ]\n",
        "    )\n",
        "    \n",
        "    return history"
      ]
    },
    {
      "cell_type": "code",
      "execution_count": null,
      "metadata": {},
      "source": [
        "# Evaluation function\n",
        "def evaluate_model(model, test_data):\n",
        "    (x_test, y_test) = test_data\n",
        "    test_loss, test_accuracy = model.evaluate(x_test, y_test)\n",
        "    return test_accuracy * 100  # Convert to percentage"
      ]
    },
    {
      "cell_type": "code",
      "execution_count": null,
      "metadata": {},
      "source": [
        "# Set parameters\n",
        "epochs = 5\n",
        "batch_size = 32\n",
        "\n",
        "print(\"Loading CIFAR-10 dataset...\")\n",
        "train_data, test_data = load_cifar10()\n",
        "\n",
        "print(\"\\nCreating AlexNet model...\")\n",
        "model = create_alexnet(num_classes=10)\n",
        "model.summary()\n",
        "\n",
        "print(\"\\nTraining custom AlexNet...\")\n",
        "history = train_model(model, train_data, epochs=epochs, batch_size=batch_size)\n",
        "\n",
        "print(\"\\nEvaluating model...\")\n",
        "test_accuracy = evaluate_model(model, test_data)\n",
        "print(f\"Test Accuracy: {test_accuracy:.2f}%\")"
      ]
    },
    {
      "cell_type": "code",
      "execution_count": null,
      "metadata": {},
      "source": [
        "# Plot training curves\n",
        "plt.figure(figsize=(12, 5))\n",
        "\n",
        "plt.subplot(1, 2, 1)\n",
        "plt.plot(history.history['loss'], 'r-', label='Training Loss')\n",
        "plt.plot(history.history['val_loss'], 'b-', label='Validation Loss')\n",
        "plt.title('Training and Validation Loss')\n",
        "plt.xlabel('Epochs')\n",
        "plt.ylabel('Loss')\n",
        "plt.legend()\n",
        "\n",
        "plt.subplot(1, 2, 2)\n",
        "plt.plot(history.history['accuracy'], 'r-', label='Training Accuracy')\n",
        "plt.plot(history.history['val_accuracy'], 'b-', label='Validation Accuracy')\n",
        "plt.title('Training and Validation Accuracy')\n",
        "plt.xlabel('Epochs')\n",
        "plt.ylabel('Accuracy (%)')\n",
        "plt.legend()\n",
        "\n",
        "plt.tight_layout()\n",
        "plt.show()"
      ]
    }
  ],
  "metadata": {
    "kernelspec": {
      "display_name": "Python 3",
      "language": "python",
      "name": "python3"
    },
    "language_info": {
      "codemirror_mode": {
        "name": "ipython",
        "version": 3
      },
      "file_extension": ".py",
      "mimetype": "text/x-python",
      "name": "python",
      "nbconvert_exporter": "python",
      "pygments_lexer": "ipython3",
      "version": "3.8.0"
    }
  },
  "nbformat": 4,
  "nbformat_minor": 4
}
