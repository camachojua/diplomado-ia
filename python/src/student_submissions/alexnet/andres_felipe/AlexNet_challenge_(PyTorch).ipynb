{
  "nbformat": 4,
  "nbformat_minor": 0,
  "metadata": {
    "colab": {
      "provenance": []
    },
    "kernelspec": {
      "name": "python3",
      "display_name": "Python 3"
    },
    "language_info": {
      "name": "python"
    }
  },
  "cells": [
    {
      "cell_type": "markdown",
      "source": [
        "# **AlexNet challenge (PyTorch)**\n",
        "_Felipe Andres Castillo_\n",
        "\n",
        "\n"
      ],
      "metadata": {
        "id": "lYcYetqRHmcE"
      }
    },
    {
      "cell_type": "code",
      "source": [
        "import timeit\n",
        "import numpy as np\n",
        "import matplotlib.pyplot as plt\n",
        "\n",
        "import torch\n",
        "import torch.nn as nn\n",
        "import torch.nn.functional as F\n",
        "from torch.utils.data import DataLoader\n",
        "from torchvision import datasets, transforms, models\n",
        "\n",
        "if torch.cuda.is_available():\n",
        "    device = torch.device(\"cuda\")\n",
        "    print(\"GPU disponible:\", torch.cuda.get_device_name(0))\n",
        "    torch.cuda.synchronize() # Sincronización para medir tiempo de ejecución en GPU\n",
        "else:\n",
        "    device = torch.device(\"cpu\")\n",
        "    print(\"GPU no disponible, usando CPU\")"
      ],
      "metadata": {
        "id": "jJO5jN55HmKA",
        "colab": {
          "base_uri": "https://localhost:8080/"
        },
        "outputId": "c6a77537-9cee-4ef0-abbc-7e48fa0e6119"
      },
      "execution_count": null,
      "outputs": [
        {
          "output_type": "stream",
          "name": "stdout",
          "text": [
            "GPU disponible: Tesla T4\n"
          ]
        }
      ]
    },
    {
      "cell_type": "markdown",
      "source": [
        "# Modelo 1: AlexNet modificado\n",
        "Se utilizan las imágenes con su tamaño original (32x32); esto implica modificar los inputs y outputs de algunas capas del modelo original."
      ],
      "metadata": {
        "id": "pYBXBDOx8nw1"
      }
    },
    {
      "cell_type": "markdown",
      "source": [
        "## 1. Los datos"
      ],
      "metadata": {
        "id": "dNjf4G-QRpb6"
      }
    },
    {
      "cell_type": "markdown",
      "source": [
        "El conjunto de datos CIFAR-10 consta de 60 000 imágenes en color de 32 x 32 en 10 clases, con 6000 imágenes por clase. Hay 50 000 imágenes de entrenamiento y 10 000 imágenes de prueba.\n",
        "\n",
        "El conjunto de datos se divide en cinco lotes de entrenamiento y un lote de prueba, cada uno con 10 000 imágenes. El lote de prueba contiene exactamente 1000 imágenes seleccionadas aleatoriamente de cada clase. Los lotes de entrenamiento contienen las imágenes restantes en orden aleatorio, pero algunos lotes de entrenamiento pueden contener más imágenes de una clase que de otra. Entre ellos, los lotes de entrenamiento contienen exactamente 5000 imágenes de cada clase."
      ],
      "metadata": {
        "id": "9bxJJlYzFv9S"
      }
    },
    {
      "cell_type": "code",
      "execution_count": null,
      "metadata": {
        "colab": {
          "base_uri": "https://localhost:8080/"
        },
        "id": "QrMkqdM3HhV9",
        "outputId": "3ed07e13-54fa-41b1-8590-17e59bac3e41"
      },
      "outputs": [
        {
          "output_type": "stream",
          "name": "stdout",
          "text": [
            "Downloading https://www.cs.toronto.edu/~kriz/cifar-10-python.tar.gz to ./data/CIFAR/cifar-10-python.tar.gz\n"
          ]
        },
        {
          "output_type": "stream",
          "name": "stderr",
          "text": [
            "100%|██████████| 170M/170M [00:03<00:00, 44.0MB/s]\n"
          ]
        },
        {
          "output_type": "stream",
          "name": "stdout",
          "text": [
            "Extracting ./data/CIFAR/cifar-10-python.tar.gz to ./data/CIFAR\n",
            "Files already downloaded and verified\n"
          ]
        }
      ],
      "source": [
        "# Obtención de los conjuntos de datos\n",
        "transform = transforms.Compose([\n",
        "    transforms.ToTensor(),\n",
        "    transforms.Normalize((0.5, 0.5, 0.5), (0.5, 0.5, 0.5))\n",
        "])\n",
        "\n",
        "train_dataset = datasets.CIFAR10(\n",
        "    root = \"./data/CIFAR\",\n",
        "    train = True,\n",
        "    download = True,\n",
        "    transform = transform\n",
        ")\n",
        "\n",
        "test_dataset = datasets.CIFAR10(\n",
        "    root = \"./data/CIFAR\",\n",
        "    train = False,\n",
        "    download = True,\n",
        "    transform = transform\n",
        ")"
      ]
    },
    {
      "cell_type": "code",
      "source": [
        "# Las diez diferentes clases del dataset\n",
        "classes = ('plane', 'car', 'bird', 'cat', 'deer', 'dog', 'frog', 'horse', 'ship', 'truck')\n",
        "\n",
        "# Data Loaders\n",
        "batchSize = 64\n",
        "train_loader = DataLoader(train_dataset, batch_size = batchSize, shuffle = True, num_workers = 2)\n",
        "test_loader = DataLoader(test_dataset, batch_size = batchSize, shuffle = False, num_workers = 2)"
      ],
      "metadata": {
        "id": "hsktBvbXZyUp"
      },
      "execution_count": null,
      "outputs": []
    },
    {
      "cell_type": "code",
      "source": [
        "# Ejemplo de las imagenes del dataset\n",
        "plt.figure(figsize=(10,5))\n",
        "plt.title(\"Ejemplo de imágenes del dataset CIFAR-10\")\n",
        "plt.axis('off')\n",
        "for i in range(10):\n",
        "    plt.subplot(2,5,i+1)\n",
        "    plt.xticks([])\n",
        "    plt.yticks([])\n",
        "    plt.grid(False)\n",
        "    image, label = train_dataset[i]\n",
        "    # Se convierte el tensor a numpy y se reordenan las dimensiones de (C, H, W) -> (H, W, C)\n",
        "    image = image.numpy().transpose(1, 2, 0)\n",
        "    # Se reescala si la imagen tiene valores fuera del rango [0,1]\n",
        "    image = (image - image.min()) / (image.max() - image.min())\n",
        "    plt.imshow(image)\n",
        "    plt.xlabel(classes[label])\n",
        "plt.show()"
      ],
      "metadata": {
        "colab": {
          "base_uri": "https://localhost:8080/",
          "height": 444
        },
        "id": "j2vRS1MyrE-F",
        "outputId": "1d37e556-6dc7-4649-e106-ff59add66e50"
      },
      "execution_count": null,
      "outputs": [
        {
          "output_type": "display_data",
          "data": {
            "text/plain": [
              "<Figure size 1000x500 with 11 Axes>"
            ],
            "image/png": "[encoded data removed]"
          },
          "metadata": {}
        }
      ]
    },
    {
      "cell_type": "markdown",
      "source": [
        "## 2. El modelo"
      ],
      "metadata": {
        "id": "6WVBvKjxedF9"
      }
    },
    {
      "cell_type": "markdown",
      "source": [
        "El modelo original de AlexNet contempla que las imágenes utilizadas tienen dimensiones de 224x224. En este caso al ser imágenes mucho más pequeñas, y por consiguiente, para evitar errores en el procesamiento en cada capa, se elimina el stride = 4 en la primera capa convolucional. También se modifican los inputs y outputs de las capas densas para que coincidan con la salida de la ultima capa convolucional y su posterior _aplanamiento_."
      ],
      "metadata": {
        "id": "Pj0LF3M39zA6"
      }
    },
    {
      "cell_type": "code",
      "source": [
        "# Creación del modelo AlexNet para imagenes de 32x32\n",
        "class AlexNet_v1(nn.Module):\n",
        "  def __init__(self):\n",
        "    super(AlexNet_v1, self).__init__()\n",
        "    self.cn1 = nn.Conv2d(in_channels=3, out_channels=96, kernel_size=11, padding=2)\n",
        "    self.cn2 = nn.Conv2d(in_channels=96, out_channels=256, kernel_size=5, padding=2)\n",
        "    self.cn3 = nn.Conv2d(in_channels=256, out_channels=384, kernel_size=3, padding=1)\n",
        "    self.cn4 = nn.Conv2d(in_channels=384, out_channels=384, kernel_size=3,padding=1)\n",
        "    self.cn5 = nn.Conv2d(in_channels=384, out_channels=256, kernel_size=3, padding=1)\n",
        "    self.fc1 = nn.Linear(in_features=1024, out_features=512)\n",
        "    self.fc2 = nn.Linear(in_features=512, out_features=512)\n",
        "    self.fc3 = nn.Linear(in_features=512, out_features=10)\n",
        "    self.dp = nn.Dropout(p=0.5)\n",
        "  def forward(self, x):\n",
        "    x = F.relu(self.cn1(x))\n",
        "    x = F.max_pool2d(x, kernel_size=3, stride=2)\n",
        "    x = F.relu(self.cn2(x))\n",
        "    x = F.max_pool2d(x, kernel_size=3, stride=2)\n",
        "    x = F.relu(self.cn3(x))\n",
        "    x = F.relu(self.cn4(x))\n",
        "    x = F.relu(self.cn5(x))\n",
        "    x = F.max_pool2d(x, kernel_size=3, stride=2)\n",
        "    x = torch.flatten(x, start_dim=1)\n",
        "    x = F.relu(self.fc1(x))\n",
        "    x = self.dp(x)\n",
        "    x = F.relu(self.fc2(x))\n",
        "    x = self.dp(x)\n",
        "    x = self.fc3(x)\n",
        "    return x"
      ],
      "metadata": {
        "id": "DVeYxe0nebNh"
      },
      "execution_count": null,
      "outputs": []
    },
    {
      "cell_type": "code",
      "source": [
        "# Se carga el modelo en la GPU (si es el caso)\n",
        "model_1 = AlexNet_v1().to(device)\n",
        "# Función de perdida\n",
        "criterion = nn.CrossEntropyLoss()\n",
        "# Optimizador\n",
        "optimizer = torch.optim.Adam(model_1.parameters(), lr=0.001)"
      ],
      "metadata": {
        "id": "OH6AhNUR1SlE"
      },
      "execution_count": null,
      "outputs": []
    },
    {
      "cell_type": "code",
      "source": [
        "# Número totoal de parámetros entrenables del modelo\n",
        "def count_params(model):\n",
        "  return sum(p.numel() for p in model.parameters() if p.requires_grad)\n",
        "\n",
        "print(\"AlexNet model params = \", count_params(model_1))"
      ],
      "metadata": {
        "id": "iGpkeTkOyX6M",
        "colab": {
          "base_uri": "https://localhost:8080/"
        },
        "outputId": "19e1c5eb-b325-4f97-df3f-839e0c68b38e"
      },
      "execution_count": null,
      "outputs": [
        {
          "output_type": "stream",
          "name": "stdout",
          "text": [
            "AlexNet model params =  4539786\n"
          ]
        }
      ]
    },
    {
      "cell_type": "markdown",
      "source": [
        "## 3. Entrenamiento"
      ],
      "metadata": {
        "id": "x8kZ63mP_ajC"
      }
    },
    {
      "cell_type": "code",
      "source": [
        "# Función de entrenamiento\n",
        "def train(model, train_loader, optimizer, criterion, epoch, device):\n",
        "  model.train()\n",
        "  for batch_idx, (data, target) in enumerate(train_loader):\n",
        "    data, target = data.to(device), target.to(device) # Envía los datos a la GPU (si es el caso)\n",
        "    optimizer.zero_grad()\n",
        "    output = model(data)\n",
        "    loss = criterion(output, target)\n",
        "    loss.backward()\n",
        "    optimizer.step()\n",
        "    if batch_idx % 100 == 0:\n",
        "      print('Train Epoch {}: [{}/{} ({:.0f}%)]\\tLoss: {:.6f}'.format(epoch,\n",
        "                                                                     batch_idx * len(data),\n",
        "                                                                     len(train_loader.dataset),\n",
        "                                                                     100. * batch_idx / len(train_loader),\n",
        "                                                                     loss.item()))"
      ],
      "metadata": {
        "id": "8PcRNUvM_dpf"
      },
      "execution_count": null,
      "outputs": []
    },
    {
      "cell_type": "code",
      "source": [
        "# Función de evaluación, devuelve perdida promedio y precisión\n",
        "def test(model, test_loader, class_acc):\n",
        "  model.eval()\n",
        "  test_loss = 0 # Inicializa la pérdida total\n",
        "  correct = 0  # Inicializa el contador de aciertos\n",
        "\n",
        "  class_correct = list(0. for i in range(10))\n",
        "  class_total = list(0. for i in range(10))\n",
        "\n",
        "  with torch.no_grad(): # Desactiva el cálculo de gradientes\n",
        "    for data, target in test_loader:\n",
        "      data, target = data.to(device), target.to(device)\n",
        "      output = model(data)\n",
        "      test_loss += criterion(output, target).item() # Calcula pérdida y la acumula\n",
        "      pred = output.argmax(dim=1, keepdim=True) # Se obtiene la clase con mayor probabilidad\n",
        "      correct += pred.eq(target.view_as(pred)).sum().item() # Cuenta y suma los aciertos\n",
        "\n",
        "      # (Si es el caso) se calcula el accuracy por clase\n",
        "      if class_acc:\n",
        "        c = pred.eq(target.view_as(pred)).squeeze()\n",
        "        for i in range(len(target)):\n",
        "          label = target[i]\n",
        "          class_correct[label] += c[i].item()\n",
        "          class_total[label] += 1\n",
        "\n",
        "  test_loss /= len(test_loader) # Se calcula la pérdida promedio [len(test_loader) es el número de batches; no es el número de elementos por batch]\n",
        "  accuracy = correct / len(test_loader.dataset) # Se calcula la precisión [len(test_loader.dataset) es el número total de elementos]\n",
        "  print(\"\\n Average loss: {:.4f}, Accuracy: {}/{} ({:.0f}%)\\n\".format(test_loss,\n",
        "                                                                               correct,\n",
        "                                                                               len(test_loader.dataset),\n",
        "                                                                               100. * accuracy))\n",
        "  if class_acc:\n",
        "    for i in range(10):\n",
        "      print(f\"Accuracy of {classes[i]:5s} : {100 * class_correct[i] / class_total[i]:.2f} %\")\n",
        "\n",
        "  return test_loss, accuracy"
      ],
      "metadata": {
        "id": "7UQqU1AueGEZ"
      },
      "execution_count": null,
      "outputs": []
    },
    {
      "cell_type": "code",
      "source": [
        "# Ciclo de entrenamiento AlexNet_v1\n",
        "num_epochs = 15\n",
        "acc_history = []\n",
        "loss_history = []\n",
        "\n",
        "start_time = timeit.default_timer()\n",
        "for epoch in range(1,num_epochs+1):\n",
        "  train(model_1, train_loader, optimizer, criterion, epoch, device)\n",
        "  loss, acc = test(model_1, train_loader, False)\n",
        "  acc_history.append(acc)\n",
        "  loss_history.append(loss)\n",
        "end_time = timeit.default_timer()\n",
        "print(\"Fin del entrenamiento\")\n",
        "traintime_v1 = end_time - start_time\n",
        "print(f\"Tiempo total de entrenamiento: {traintime_v1:.2f} segundos\")"
      ],
      "metadata": {
        "id": "HGXQLBqE_m3J",
        "colab": {
          "base_uri": "https://localhost:8080/"
        },
        "outputId": "153a1068-fcc3-4632-8e7c-32362a3f5d70"
      },
      "execution_count": null,
      "outputs": [
        {
          "output_type": "stream",
          "name": "stdout",
          "text": [
            "Train Epoch 1: [0/50000 (0%)]\tLoss: 2.301775\n",
            "Train Epoch 1: [6400/50000 (13%)]\tLoss: 2.039191\n",
            "Train Epoch 1: [12800/50000 (26%)]\tLoss: 2.079159\n",
            "Train Epoch 1: [19200/50000 (38%)]\tLoss: 2.034410\n",
            "Train Epoch 1: [25600/50000 (51%)]\tLoss: 1.962159\n",
            "Train Epoch 1: [32000/50000 (64%)]\tLoss: 1.851792\n",
            "Train Epoch 1: [38400/50000 (77%)]\tLoss: 1.636919\n",
            "Train Epoch 1: [44800/50000 (90%)]\tLoss: 1.560817\n",
            "\n",
            " Average loss: 1.6571, Accuracy: 17848/50000 (36%)\n",
            "\n",
            "Train Epoch 2: [0/50000 (0%)]\tLoss: 1.706095\n",
            "Train Epoch 2: [6400/50000 (13%)]\tLoss: 2.019486\n",
            "Train Epoch 2: [12800/50000 (26%)]\tLoss: 1.659666\n",
            "Train Epoch 2: [19200/50000 (38%)]\tLoss: 1.693980\n",
            "Train Epoch 2: [25600/50000 (51%)]\tLoss: 1.486063\n",
            "Train Epoch 2: [32000/50000 (64%)]\tLoss: 1.599810\n",
            "Train Epoch 2: [38400/50000 (77%)]\tLoss: 1.566181\n",
            "Train Epoch 2: [44800/50000 (90%)]\tLoss: 1.471064\n",
            "\n",
            " Average loss: 1.4439, Accuracy: 23078/50000 (46%)\n",
            "\n",
            "Train Epoch 3: [0/50000 (0%)]\tLoss: 1.442458\n",
            "Train Epoch 3: [6400/50000 (13%)]\tLoss: 1.502554\n",
            "Train Epoch 3: [12800/50000 (26%)]\tLoss: 1.325025\n",
            "Train Epoch 3: [19200/50000 (38%)]\tLoss: 1.427861\n",
            "Train Epoch 3: [25600/50000 (51%)]\tLoss: 1.540010\n",
            "Train Epoch 3: [32000/50000 (64%)]\tLoss: 1.242810\n",
            "Train Epoch 3: [38400/50000 (77%)]\tLoss: 1.454414\n",
            "Train Epoch 3: [44800/50000 (90%)]\tLoss: 1.237291\n",
            "\n",
            " Average loss: 1.2618, Accuracy: 27428/50000 (55%)\n",
            "\n",
            "Train Epoch 4: [0/50000 (0%)]\tLoss: 1.326866\n",
            "Train Epoch 4: [6400/50000 (13%)]\tLoss: 1.201729\n",
            "Train Epoch 4: [12800/50000 (26%)]\tLoss: 1.160475\n",
            "Train Epoch 4: [19200/50000 (38%)]\tLoss: 1.522215\n",
            "Train Epoch 4: [25600/50000 (51%)]\tLoss: 1.303661\n",
            "Train Epoch 4: [32000/50000 (64%)]\tLoss: 1.284720\n",
            "Train Epoch 4: [38400/50000 (77%)]\tLoss: 1.211484\n",
            "Train Epoch 4: [44800/50000 (90%)]\tLoss: 1.170725\n",
            "\n",
            " Average loss: 1.1349, Accuracy: 29686/50000 (59%)\n",
            "\n",
            "Train Epoch 5: [0/50000 (0%)]\tLoss: 1.110851\n",
            "Train Epoch 5: [6400/50000 (13%)]\tLoss: 1.091190\n",
            "Train Epoch 5: [12800/50000 (26%)]\tLoss: 1.103770\n",
            "Train Epoch 5: [19200/50000 (38%)]\tLoss: 1.504391\n",
            "Train Epoch 5: [25600/50000 (51%)]\tLoss: 1.199297\n",
            "Train Epoch 5: [32000/50000 (64%)]\tLoss: 1.513977\n",
            "Train Epoch 5: [38400/50000 (77%)]\tLoss: 1.242788\n",
            "Train Epoch 5: [44800/50000 (90%)]\tLoss: 1.278919\n",
            "\n",
            " Average loss: 1.1383, Accuracy: 29946/50000 (60%)\n",
            "\n",
            "Train Epoch 6: [0/50000 (0%)]\tLoss: 1.285046\n",
            "Train Epoch 6: [6400/50000 (13%)]\tLoss: 1.097057\n",
            "Train Epoch 6: [12800/50000 (26%)]\tLoss: 1.112027\n",
            "Train Epoch 6: [19200/50000 (38%)]\tLoss: 1.171586\n",
            "Train Epoch 6: [25600/50000 (51%)]\tLoss: 0.977710\n",
            "Train Epoch 6: [32000/50000 (64%)]\tLoss: 1.118007\n",
            "Train Epoch 6: [38400/50000 (77%)]\tLoss: 0.966256\n",
            "Train Epoch 6: [44800/50000 (90%)]\tLoss: 1.241262\n",
            "\n",
            " Average loss: 1.0588, Accuracy: 31234/50000 (62%)\n",
            "\n",
            "Train Epoch 7: [0/50000 (0%)]\tLoss: 1.014178\n",
            "Train Epoch 7: [6400/50000 (13%)]\tLoss: 0.905022\n",
            "Train Epoch 7: [12800/50000 (26%)]\tLoss: 1.221145\n",
            "Train Epoch 7: [19200/50000 (38%)]\tLoss: 1.272580\n",
            "Train Epoch 7: [25600/50000 (51%)]\tLoss: 1.195046\n",
            "Train Epoch 7: [32000/50000 (64%)]\tLoss: 0.968732\n",
            "Train Epoch 7: [38400/50000 (77%)]\tLoss: 0.963350\n",
            "Train Epoch 7: [44800/50000 (90%)]\tLoss: 1.118404\n",
            "\n",
            " Average loss: 1.0048, Accuracy: 32195/50000 (64%)\n",
            "\n",
            "Train Epoch 8: [0/50000 (0%)]\tLoss: 0.898101\n",
            "Train Epoch 8: [6400/50000 (13%)]\tLoss: 1.115084\n",
            "Train Epoch 8: [12800/50000 (26%)]\tLoss: 0.914294\n",
            "Train Epoch 8: [19200/50000 (38%)]\tLoss: 0.925728\n",
            "Train Epoch 8: [25600/50000 (51%)]\tLoss: 1.138318\n",
            "Train Epoch 8: [32000/50000 (64%)]\tLoss: 1.226399\n",
            "Train Epoch 8: [38400/50000 (77%)]\tLoss: 1.054800\n",
            "Train Epoch 8: [44800/50000 (90%)]\tLoss: 1.135248\n",
            "\n",
            " Average loss: 0.9815, Accuracy: 32719/50000 (65%)\n",
            "\n",
            "Train Epoch 9: [0/50000 (0%)]\tLoss: 1.094034\n",
            "Train Epoch 9: [6400/50000 (13%)]\tLoss: 1.064504\n",
            "Train Epoch 9: [12800/50000 (26%)]\tLoss: 1.062306\n",
            "Train Epoch 9: [19200/50000 (38%)]\tLoss: 0.968566\n",
            "Train Epoch 9: [25600/50000 (51%)]\tLoss: 1.044532\n",
            "Train Epoch 9: [32000/50000 (64%)]\tLoss: 1.020206\n",
            "Train Epoch 9: [38400/50000 (77%)]\tLoss: 0.806273\n",
            "Train Epoch 9: [44800/50000 (90%)]\tLoss: 1.143285\n",
            "\n",
            " Average loss: 0.9682, Accuracy: 32978/50000 (66%)\n",
            "\n",
            "Train Epoch 10: [0/50000 (0%)]\tLoss: 0.905667\n",
            "Train Epoch 10: [6400/50000 (13%)]\tLoss: 1.014810\n",
            "Train Epoch 10: [12800/50000 (26%)]\tLoss: 1.470442\n",
            "Train Epoch 10: [19200/50000 (38%)]\tLoss: 0.921145\n",
            "Train Epoch 10: [25600/50000 (51%)]\tLoss: 1.047563\n",
            "Train Epoch 10: [32000/50000 (64%)]\tLoss: 0.897768\n",
            "Train Epoch 10: [38400/50000 (77%)]\tLoss: 1.291869\n",
            "Train Epoch 10: [44800/50000 (90%)]\tLoss: 1.060883\n",
            "\n",
            " Average loss: 0.9436, Accuracy: 33516/50000 (67%)\n",
            "\n",
            "Train Epoch 11: [0/50000 (0%)]\tLoss: 0.938223\n",
            "Train Epoch 11: [6400/50000 (13%)]\tLoss: 0.850558\n",
            "Train Epoch 11: [12800/50000 (26%)]\tLoss: 0.783820\n",
            "Train Epoch 11: [19200/50000 (38%)]\tLoss: 0.872295\n",
            "Train Epoch 11: [25600/50000 (51%)]\tLoss: 0.943186\n",
            "Train Epoch 11: [32000/50000 (64%)]\tLoss: 1.143666\n",
            "Train Epoch 11: [38400/50000 (77%)]\tLoss: 0.994357\n",
            "Train Epoch 11: [44800/50000 (90%)]\tLoss: 0.940993\n",
            "\n",
            " Average loss: 0.8705, Accuracy: 34894/50000 (70%)\n",
            "\n",
            "Train Epoch 12: [0/50000 (0%)]\tLoss: 0.895656\n",
            "Train Epoch 12: [6400/50000 (13%)]\tLoss: 1.025584\n",
            "Train Epoch 12: [12800/50000 (26%)]\tLoss: 0.976701\n",
            "Train Epoch 12: [19200/50000 (38%)]\tLoss: 1.017869\n",
            "Train Epoch 12: [25600/50000 (51%)]\tLoss: 0.861609\n",
            "Train Epoch 12: [32000/50000 (64%)]\tLoss: 0.994897\n",
            "Train Epoch 12: [38400/50000 (77%)]\tLoss: 1.049713\n",
            "Train Epoch 12: [44800/50000 (90%)]\tLoss: 1.115171\n",
            "\n",
            " Average loss: 0.8723, Accuracy: 35318/50000 (71%)\n",
            "\n",
            "Train Epoch 13: [0/50000 (0%)]\tLoss: 0.641093\n",
            "Train Epoch 13: [6400/50000 (13%)]\tLoss: 1.121282\n",
            "Train Epoch 13: [12800/50000 (26%)]\tLoss: 1.024730\n",
            "Train Epoch 13: [19200/50000 (38%)]\tLoss: 0.863436\n",
            "Train Epoch 13: [25600/50000 (51%)]\tLoss: 0.836065\n",
            "Train Epoch 13: [32000/50000 (64%)]\tLoss: 1.086726\n",
            "Train Epoch 13: [38400/50000 (77%)]\tLoss: 1.015424\n",
            "Train Epoch 13: [44800/50000 (90%)]\tLoss: 0.910075\n",
            "\n",
            " Average loss: 0.8381, Accuracy: 35635/50000 (71%)\n",
            "\n",
            "Train Epoch 14: [0/50000 (0%)]\tLoss: 0.878151\n",
            "Train Epoch 14: [6400/50000 (13%)]\tLoss: 0.670051\n",
            "Train Epoch 14: [12800/50000 (26%)]\tLoss: 1.031207\n",
            "Train Epoch 14: [19200/50000 (38%)]\tLoss: 0.826741\n",
            "Train Epoch 14: [25600/50000 (51%)]\tLoss: 0.769679\n",
            "Train Epoch 14: [32000/50000 (64%)]\tLoss: 0.963259\n",
            "Train Epoch 14: [38400/50000 (77%)]\tLoss: 1.050468\n",
            "Train Epoch 14: [44800/50000 (90%)]\tLoss: 1.019668\n",
            "\n",
            " Average loss: 0.8108, Accuracy: 36456/50000 (73%)\n",
            "\n",
            "Train Epoch 15: [0/50000 (0%)]\tLoss: 0.934669\n",
            "Train Epoch 15: [6400/50000 (13%)]\tLoss: 0.818977\n",
            "Train Epoch 15: [12800/50000 (26%)]\tLoss: 0.670302\n",
            "Train Epoch 15: [19200/50000 (38%)]\tLoss: 0.913222\n",
            "Train Epoch 15: [25600/50000 (51%)]\tLoss: 0.889585\n",
            "Train Epoch 15: [32000/50000 (64%)]\tLoss: 0.953779\n",
            "Train Epoch 15: [38400/50000 (77%)]\tLoss: 0.623356\n",
            "Train Epoch 15: [44800/50000 (90%)]\tLoss: 0.918213\n",
            "\n",
            " Average loss: 0.7811, Accuracy: 36842/50000 (74%)\n",
            "\n",
            "Fin del entrenamiento\n",
            "Tiempo total de entrenamiento: 471.11 segundos\n"
          ]
        }
      ]
    },
    {
      "cell_type": "code",
      "source": [
        "plt.figure(figsize=(10, 5))\n",
        "plt.title(\"Entrenamiento modelo 1: AlexNet modificado\")\n",
        "plt.axis('off')\n",
        "plt.subplot(1, 2, 1)\n",
        "plt.plot(range(1,num_epochs+1), acc_history, label=\"Accuracy\")\n",
        "plt.xlabel(\"Épocas\")\n",
        "plt.legend()\n",
        "plt.subplot(1, 2, 2)\n",
        "plt.plot(range(1,num_epochs+1), loss_history, label=\"Loss\")\n",
        "plt.xlabel(\"Épocas\")\n",
        "plt.legend()\n",
        "plt.show()"
      ],
      "metadata": {
        "colab": {
          "base_uri": "https://localhost:8080/",
          "height": 489
        },
        "id": "86CC2NIOqZXo",
        "outputId": "0640bd2f-7e25-4136-f1a4-f17f3a31f570"
      },
      "execution_count": null,
      "outputs": [
        {
          "output_type": "display_data",
          "data": {
            "text/plain": [
              "<Figure size 1000x500 with 3 Axes>"
            ],
            "image/png": "[encoded data removed]"
          },
          "metadata": {}
        }
      ]
    },
    {
      "cell_type": "code",
      "source": [
        "# Se guarda el modelo (pesos)\n",
        "modelPath = \"./data/CIFAR/\"\n",
        "modelName = modelPath + \"AlexNet_v1_Cifar10.pth\"\n",
        "torch.save(model_1.state_dict(), modelName)"
      ],
      "metadata": {
        "id": "0Pf-keV0AZgG"
      },
      "execution_count": null,
      "outputs": []
    },
    {
      "cell_type": "markdown",
      "source": [
        "## 4. Evaluación"
      ],
      "metadata": {
        "id": "LYw3SymPAMax"
      }
    },
    {
      "cell_type": "code",
      "source": [
        "# Si se ha guardado el modelo, aquí se carga\n",
        "# modelPath = \"./data/CIFAR/\"\n",
        "# modelName = modelPath + \"AlexNet_v1_Cifar10.pth\"\n",
        "# model_1 = AlexNet()\n",
        "# modelo_1.load_state_dict(torch.load(modelName))"
      ],
      "metadata": {
        "id": "yTlRR_ewrBEz"
      },
      "execution_count": null,
      "outputs": []
    },
    {
      "cell_type": "code",
      "source": [
        "print(\"Evaluación del modelo en el conjunto de prueba\")\n",
        "loss_T1, acc_T1 = test(model_1, test_loader, True)"
      ],
      "metadata": {
        "id": "l5d_ZD_tALz1",
        "colab": {
          "base_uri": "https://localhost:8080/"
        },
        "outputId": "9536709d-dc43-4982-cd2b-423fcfe7140e"
      },
      "execution_count": null,
      "outputs": [
        {
          "output_type": "stream",
          "name": "stdout",
          "text": [
            "Evaluación del modelo en el conjunto de prueba\n",
            "\n",
            " Average loss: 1.0529, Accuracy: 6370/10000 (64%)\n",
            "\n",
            "Accuracy of plane : 68.60 %\n",
            "Accuracy of car   : 76.80 %\n",
            "Accuracy of bird  : 46.70 %\n",
            "Accuracy of cat   : 41.40 %\n",
            "Accuracy of deer  : 69.40 %\n",
            "Accuracy of dog   : 38.30 %\n",
            "Accuracy of frog  : 76.20 %\n",
            "Accuracy of horse : 67.70 %\n",
            "Accuracy of ship  : 75.80 %\n",
            "Accuracy of truck : 76.10 %\n"
          ]
        }
      ]
    },
    {
      "cell_type": "markdown",
      "source": [
        "# Modelo 2: AlexNet from scratch\n",
        "Reescanlando el tamaño de las imágenes a 224x224 y definiendo el modelo con los parámetros originales en cada capa."
      ],
      "metadata": {
        "id": "1l_z6ZgYyZA2"
      }
    },
    {
      "cell_type": "markdown",
      "source": [
        "## 1. Los datos"
      ],
      "metadata": {
        "id": "_GzqGVdSA8JM"
      }
    },
    {
      "cell_type": "code",
      "source": [
        "# Obtención de los conjuntos de datos, aplicando el reescalamiento\n",
        "transform = transforms.Compose([\n",
        "    transforms.Resize(224),\n",
        "    transforms.ToTensor(),\n",
        "    transforms.Normalize((0.5, 0.5, 0.5), (0.5, 0.5, 0.5))\n",
        "])\n",
        "\n",
        "train_dataset = datasets.CIFAR10(\n",
        "    root = \"./data/CIFAR\",\n",
        "    train = True,\n",
        "    download = True,\n",
        "    transform = transform\n",
        ")\n",
        "\n",
        "test_dataset = datasets.CIFAR10(\n",
        "    root = \"./data/CIFAR\",\n",
        "    train = False,\n",
        "    download = True,\n",
        "    transform = transform\n",
        ")"
      ],
      "metadata": {
        "id": "X0-ppSHaBATq",
        "colab": {
          "base_uri": "https://localhost:8080/"
        },
        "outputId": "7918d686-c84f-4076-946b-fc42e94430a0"
      },
      "execution_count": null,
      "outputs": [
        {
          "output_type": "stream",
          "name": "stdout",
          "text": [
            "Files already downloaded and verified\n",
            "Files already downloaded and verified\n"
          ]
        }
      ]
    },
    {
      "cell_type": "code",
      "source": [
        "# Data Loaders\n",
        "batchSize = 64\n",
        "train_loader = DataLoader(train_dataset, batch_size = batchSize, shuffle = True, num_workers = 2)\n",
        "test_loader = DataLoader(test_dataset, batch_size = batchSize, shuffle = False, num_workers = 2)"
      ],
      "metadata": {
        "id": "TEC1iUQChcYJ"
      },
      "execution_count": null,
      "outputs": []
    },
    {
      "cell_type": "markdown",
      "source": [
        "## 2. El modelo"
      ],
      "metadata": {
        "id": "Rzobo5QTBBJW"
      }
    },
    {
      "cell_type": "code",
      "source": [
        "# Creación del modelo AlexNet para imagenes de 224x224\n",
        "class AlexNet_v2(nn.Module):\n",
        "  def __init__(self):\n",
        "    super(AlexNet_v2, self).__init__()\n",
        "    self.cn1 = nn.Conv2d(in_channels=3, out_channels=96, kernel_size=11, padding=2, stride=4)\n",
        "    self.cn2 = nn.Conv2d(in_channels=96, out_channels=256, kernel_size=5, padding=2)\n",
        "    self.cn3 = nn.Conv2d(in_channels=256, out_channels=384, kernel_size=3, padding=1)\n",
        "    self.cn4 = nn.Conv2d(in_channels=384, out_channels=384, kernel_size=3,padding=1)\n",
        "    self.cn5 = nn.Conv2d(in_channels=384, out_channels=256, kernel_size=3, padding=1)\n",
        "    self.fc1 = nn.Linear(in_features=9216, out_features=4096)\n",
        "    self.fc2 = nn.Linear(in_features=4096, out_features=4096)\n",
        "    self.fc3 = nn.Linear(in_features=4096, out_features=10)\n",
        "    self.dp = nn.Dropout(p=0.5)\n",
        "  def forward(self, x):\n",
        "    x = F.relu(self.cn1(x))\n",
        "    x = F.max_pool2d(x, kernel_size=3, stride=2)\n",
        "    x = F.relu(self.cn2(x))\n",
        "    x = F.max_pool2d(x, kernel_size=3, stride=2)\n",
        "    x = F.relu(self.cn3(x))\n",
        "    x = F.relu(self.cn4(x))\n",
        "    x = F.relu(self.cn5(x))\n",
        "    x = F.max_pool2d(x, kernel_size=3, stride=2)\n",
        "    x = torch.flatten(x, start_dim=1)\n",
        "    x = F.relu(self.fc1(x))\n",
        "    x = self.dp(x)\n",
        "    x = F.relu(self.fc2(x))\n",
        "    x = self.dp(x)\n",
        "    x = self.fc3(x)\n",
        "    return x"
      ],
      "metadata": {
        "id": "2qz94lRtvdWE"
      },
      "execution_count": null,
      "outputs": []
    },
    {
      "cell_type": "code",
      "source": [
        "# Se carga el modelo en la GPU\n",
        "model_2 = AlexNet_v2().to(device)\n",
        "# Función de perdida\n",
        "criterion = nn.CrossEntropyLoss()\n",
        "# Optimizador\n",
        "optimizer = torch.optim.Adam(model_2.parameters(), lr=0.001)"
      ],
      "metadata": {
        "id": "NBUdeGjKyEoK"
      },
      "execution_count": null,
      "outputs": []
    },
    {
      "cell_type": "code",
      "source": [
        "print(\"AlexNet model params = \", count_params(model_2))"
      ],
      "metadata": {
        "id": "z0XcXuRoF5ge",
        "colab": {
          "base_uri": "https://localhost:8080/"
        },
        "outputId": "15d17e24-c6d6-4da1-9e85-2807dc9e06bc"
      },
      "execution_count": null,
      "outputs": [
        {
          "output_type": "stream",
          "name": "stdout",
          "text": [
            "AlexNet model params =  58322314\n"
          ]
        }
      ]
    },
    {
      "cell_type": "markdown",
      "source": [
        "## 3. Entrenamiento"
      ],
      "metadata": {
        "id": "ppzqNCanE_KK"
      }
    },
    {
      "cell_type": "code",
      "source": [
        "# Ciclo de entrenamiento AlexNet_v2\n",
        "num_epochs = 15\n",
        "acc_history = []\n",
        "loss_history = []\n",
        "\n",
        "start_time = timeit.default_timer()\n",
        "for epoch in range(1,num_epochs+1):\n",
        "  train(model_2, train_loader, optimizer, criterion, epoch, device)\n",
        "  loss, acc = test(model_2, train_loader, False)\n",
        "  acc_history.append(acc)\n",
        "  loss_history.append(loss)\n",
        "end_time = timeit.default_timer()\n",
        "print(\"Fin del entrenamiento\")\n",
        "traintime_v2 = end_time - start_time\n",
        "print(f\"Tiempo total de entrenamiento: {traintime_v2:.2f} segundos\")"
      ],
      "metadata": {
        "id": "9N1aLKDNaeTS",
        "colab": {
          "base_uri": "https://localhost:8080/"
        },
        "outputId": "a455242e-6282-4340-c827-e37d92313d8f"
      },
      "execution_count": null,
      "outputs": [
        {
          "output_type": "stream",
          "name": "stdout",
          "text": [
            "Train Epoch 1: [0/50000 (0%)]\tLoss: 2.302480\n",
            "Train Epoch 1: [6400/50000 (13%)]\tLoss: 1.962781\n",
            "Train Epoch 1: [12800/50000 (26%)]\tLoss: 1.830029\n",
            "Train Epoch 1: [19200/50000 (38%)]\tLoss: 1.761237\n",
            "Train Epoch 1: [25600/50000 (51%)]\tLoss: 1.536608\n",
            "Train Epoch 1: [32000/50000 (64%)]\tLoss: 1.605390\n",
            "Train Epoch 1: [38400/50000 (77%)]\tLoss: 1.679134\n",
            "Train Epoch 1: [44800/50000 (90%)]\tLoss: 1.253224\n",
            "\n",
            " Average loss: 1.3568, Accuracy: 25503/50000 (51%)\n",
            "\n",
            "Train Epoch 2: [0/50000 (0%)]\tLoss: 1.528077\n",
            "Train Epoch 2: [6400/50000 (13%)]\tLoss: 1.542971\n",
            "Train Epoch 2: [12800/50000 (26%)]\tLoss: 1.497714\n",
            "Train Epoch 2: [19200/50000 (38%)]\tLoss: 1.425901\n",
            "Train Epoch 2: [25600/50000 (51%)]\tLoss: 1.165198\n",
            "Train Epoch 2: [32000/50000 (64%)]\tLoss: 1.491337\n",
            "Train Epoch 2: [38400/50000 (77%)]\tLoss: 1.343976\n",
            "Train Epoch 2: [44800/50000 (90%)]\tLoss: 1.139500\n",
            "\n",
            " Average loss: 1.1588, Accuracy: 29411/50000 (59%)\n",
            "\n",
            "Train Epoch 3: [0/50000 (0%)]\tLoss: 1.063707\n",
            "Train Epoch 3: [6400/50000 (13%)]\tLoss: 1.184980\n",
            "Train Epoch 3: [12800/50000 (26%)]\tLoss: 1.110615\n",
            "Train Epoch 3: [19200/50000 (38%)]\tLoss: 1.357675\n",
            "Train Epoch 3: [25600/50000 (51%)]\tLoss: 0.971404\n",
            "Train Epoch 3: [32000/50000 (64%)]\tLoss: 1.131711\n",
            "Train Epoch 3: [38400/50000 (77%)]\tLoss: 1.034139\n",
            "Train Epoch 3: [44800/50000 (90%)]\tLoss: 1.117240\n",
            "\n",
            " Average loss: 1.1292, Accuracy: 29882/50000 (60%)\n",
            "\n",
            "Train Epoch 4: [0/50000 (0%)]\tLoss: 1.305882\n",
            "Train Epoch 4: [6400/50000 (13%)]\tLoss: 1.313869\n",
            "Train Epoch 4: [12800/50000 (26%)]\tLoss: 1.012300\n",
            "Train Epoch 4: [19200/50000 (38%)]\tLoss: 0.922360\n",
            "Train Epoch 4: [25600/50000 (51%)]\tLoss: 1.082179\n",
            "Train Epoch 4: [32000/50000 (64%)]\tLoss: 0.973599\n",
            "Train Epoch 4: [38400/50000 (77%)]\tLoss: 1.358032\n",
            "Train Epoch 4: [44800/50000 (90%)]\tLoss: 1.122539\n",
            "\n",
            " Average loss: 0.9438, Accuracy: 33409/50000 (67%)\n",
            "\n",
            "Train Epoch 5: [0/50000 (0%)]\tLoss: 0.876177\n",
            "Train Epoch 5: [6400/50000 (13%)]\tLoss: 0.983808\n",
            "Train Epoch 5: [12800/50000 (26%)]\tLoss: 0.856436\n",
            "Train Epoch 5: [19200/50000 (38%)]\tLoss: 1.215762\n",
            "Train Epoch 5: [25600/50000 (51%)]\tLoss: 0.935460\n",
            "Train Epoch 5: [32000/50000 (64%)]\tLoss: 0.970197\n",
            "Train Epoch 5: [38400/50000 (77%)]\tLoss: 1.102151\n",
            "Train Epoch 5: [44800/50000 (90%)]\tLoss: 1.042248\n",
            "\n",
            " Average loss: 0.8917, Accuracy: 34463/50000 (69%)\n",
            "\n",
            "Train Epoch 6: [0/50000 (0%)]\tLoss: 1.142173\n",
            "Train Epoch 6: [6400/50000 (13%)]\tLoss: 1.153316\n",
            "Train Epoch 6: [12800/50000 (26%)]\tLoss: 0.718074\n",
            "Train Epoch 6: [19200/50000 (38%)]\tLoss: 0.962862\n",
            "Train Epoch 6: [25600/50000 (51%)]\tLoss: 0.751685\n",
            "Train Epoch 6: [32000/50000 (64%)]\tLoss: 0.963316\n",
            "Train Epoch 6: [38400/50000 (77%)]\tLoss: 1.159058\n",
            "Train Epoch 6: [44800/50000 (90%)]\tLoss: 1.003683\n",
            "\n",
            " Average loss: 0.8229, Accuracy: 35782/50000 (72%)\n",
            "\n",
            "Train Epoch 7: [0/50000 (0%)]\tLoss: 0.907645\n",
            "Train Epoch 7: [6400/50000 (13%)]\tLoss: 1.128231\n",
            "Train Epoch 7: [12800/50000 (26%)]\tLoss: 0.654364\n",
            "Train Epoch 7: [19200/50000 (38%)]\tLoss: 0.810617\n",
            "Train Epoch 7: [25600/50000 (51%)]\tLoss: 0.742312\n",
            "Train Epoch 7: [32000/50000 (64%)]\tLoss: 0.748953\n",
            "Train Epoch 7: [38400/50000 (77%)]\tLoss: 0.882062\n",
            "Train Epoch 7: [44800/50000 (90%)]\tLoss: 0.958728\n",
            "\n",
            " Average loss: 0.7595, Accuracy: 36972/50000 (74%)\n",
            "\n",
            "Train Epoch 8: [0/50000 (0%)]\tLoss: 0.839248\n",
            "Train Epoch 8: [6400/50000 (13%)]\tLoss: 0.711477\n",
            "Train Epoch 8: [12800/50000 (26%)]\tLoss: 0.818505\n",
            "Train Epoch 8: [19200/50000 (38%)]\tLoss: 1.016974\n",
            "Train Epoch 8: [25600/50000 (51%)]\tLoss: 0.798997\n",
            "Train Epoch 8: [32000/50000 (64%)]\tLoss: 1.082093\n",
            "Train Epoch 8: [38400/50000 (77%)]\tLoss: 1.047435\n",
            "Train Epoch 8: [44800/50000 (90%)]\tLoss: 0.814287\n",
            "\n",
            " Average loss: 0.7375, Accuracy: 37775/50000 (76%)\n",
            "\n",
            "Train Epoch 9: [0/50000 (0%)]\tLoss: 0.756367\n",
            "Train Epoch 9: [6400/50000 (13%)]\tLoss: 0.591945\n",
            "Train Epoch 9: [12800/50000 (26%)]\tLoss: 0.704696\n",
            "Train Epoch 9: [19200/50000 (38%)]\tLoss: 0.929234\n",
            "Train Epoch 9: [25600/50000 (51%)]\tLoss: 0.732940\n",
            "Train Epoch 9: [32000/50000 (64%)]\tLoss: 0.816221\n",
            "Train Epoch 9: [38400/50000 (77%)]\tLoss: 0.801515\n",
            "Train Epoch 9: [44800/50000 (90%)]\tLoss: 0.703073\n",
            "\n",
            " Average loss: 0.6151, Accuracy: 39822/50000 (80%)\n",
            "\n",
            "Train Epoch 10: [0/50000 (0%)]\tLoss: 0.683613\n",
            "Train Epoch 10: [6400/50000 (13%)]\tLoss: 0.556699\n",
            "Train Epoch 10: [12800/50000 (26%)]\tLoss: 0.511193\n",
            "Train Epoch 10: [19200/50000 (38%)]\tLoss: 0.508907\n",
            "Train Epoch 10: [25600/50000 (51%)]\tLoss: 0.810462\n",
            "Train Epoch 10: [32000/50000 (64%)]\tLoss: 0.776140\n",
            "Train Epoch 10: [38400/50000 (77%)]\tLoss: 0.789384\n",
            "Train Epoch 10: [44800/50000 (90%)]\tLoss: 0.873258\n",
            "\n",
            " Average loss: 0.6288, Accuracy: 40052/50000 (80%)\n",
            "\n",
            "Train Epoch 11: [0/50000 (0%)]\tLoss: 0.744870\n",
            "Train Epoch 11: [6400/50000 (13%)]\tLoss: 0.598742\n",
            "Train Epoch 11: [12800/50000 (26%)]\tLoss: 0.588763\n",
            "Train Epoch 11: [19200/50000 (38%)]\tLoss: 0.808840\n",
            "Train Epoch 11: [25600/50000 (51%)]\tLoss: 0.558980\n",
            "Train Epoch 11: [32000/50000 (64%)]\tLoss: 0.736471\n",
            "Train Epoch 11: [38400/50000 (77%)]\tLoss: 1.016882\n",
            "Train Epoch 11: [44800/50000 (90%)]\tLoss: 0.613522\n",
            "\n",
            " Average loss: 0.5669, Accuracy: 41037/50000 (82%)\n",
            "\n",
            "Train Epoch 12: [0/50000 (0%)]\tLoss: 0.746666\n",
            "Train Epoch 12: [6400/50000 (13%)]\tLoss: 0.651073\n",
            "Train Epoch 12: [12800/50000 (26%)]\tLoss: 0.702730\n",
            "Train Epoch 12: [19200/50000 (38%)]\tLoss: 0.902254\n",
            "Train Epoch 12: [25600/50000 (51%)]\tLoss: 0.806566\n",
            "Train Epoch 12: [32000/50000 (64%)]\tLoss: 0.692884\n",
            "Train Epoch 12: [38400/50000 (77%)]\tLoss: 0.603427\n",
            "Train Epoch 12: [44800/50000 (90%)]\tLoss: 0.677577\n",
            "\n",
            " Average loss: 0.5467, Accuracy: 41427/50000 (83%)\n",
            "\n",
            "Train Epoch 13: [0/50000 (0%)]\tLoss: 0.557261\n",
            "Train Epoch 13: [6400/50000 (13%)]\tLoss: 0.546894\n",
            "Train Epoch 13: [12800/50000 (26%)]\tLoss: 0.790139\n",
            "Train Epoch 13: [19200/50000 (38%)]\tLoss: 0.717732\n",
            "Train Epoch 13: [25600/50000 (51%)]\tLoss: 0.731321\n",
            "Train Epoch 13: [32000/50000 (64%)]\tLoss: 0.548367\n",
            "Train Epoch 13: [38400/50000 (77%)]\tLoss: 0.801776\n",
            "Train Epoch 13: [44800/50000 (90%)]\tLoss: 0.662897\n",
            "\n",
            " Average loss: 0.4524, Accuracy: 43340/50000 (87%)\n",
            "\n",
            "Train Epoch 14: [0/50000 (0%)]\tLoss: 0.406410\n",
            "Train Epoch 14: [6400/50000 (13%)]\tLoss: 0.685930\n",
            "Train Epoch 14: [12800/50000 (26%)]\tLoss: 0.529659\n",
            "Train Epoch 14: [19200/50000 (38%)]\tLoss: 0.542047\n",
            "Train Epoch 14: [25600/50000 (51%)]\tLoss: 0.563551\n",
            "Train Epoch 14: [32000/50000 (64%)]\tLoss: 0.571952\n",
            "Train Epoch 14: [38400/50000 (77%)]\tLoss: 0.567626\n",
            "Train Epoch 14: [44800/50000 (90%)]\tLoss: 0.861151\n",
            "\n",
            " Average loss: 0.4320, Accuracy: 43874/50000 (88%)\n",
            "\n",
            "Train Epoch 15: [0/50000 (0%)]\tLoss: 0.670439\n",
            "Train Epoch 15: [6400/50000 (13%)]\tLoss: 0.724827\n",
            "Train Epoch 15: [12800/50000 (26%)]\tLoss: 0.596838\n",
            "Train Epoch 15: [19200/50000 (38%)]\tLoss: 0.454617\n",
            "Train Epoch 15: [25600/50000 (51%)]\tLoss: 0.641232\n",
            "Train Epoch 15: [32000/50000 (64%)]\tLoss: 0.577494\n",
            "Train Epoch 15: [38400/50000 (77%)]\tLoss: 0.502594\n",
            "Train Epoch 15: [44800/50000 (90%)]\tLoss: 0.647608\n",
            "\n",
            " Average loss: 0.3733, Accuracy: 44821/50000 (90%)\n",
            "\n",
            "Fin del entrenamiento\n",
            "Tiempo total de entrenamiento: 2810.18 segundos\n"
          ]
        }
      ]
    },
    {
      "cell_type": "code",
      "source": [
        "plt.figure(figsize=(10, 5))\n",
        "plt.title(\"Entrenamiento AlexNet\")\n",
        "plt.axis('off')\n",
        "plt.subplot(1, 2, 1)\n",
        "plt.plot(range(1,num_epochs+1), acc_history, label=\"Accuracy\")\n",
        "plt.xlabel(\"Épocas\")\n",
        "plt.legend()\n",
        "plt.subplot(1, 2, 2)\n",
        "plt.plot(range(1,num_epochs+1), loss_history, label=\"Loss\")\n",
        "plt.xlabel(\"Épocas\")\n",
        "plt.legend()\n",
        "plt.show()"
      ],
      "metadata": {
        "colab": {
          "base_uri": "https://localhost:8080/",
          "height": 489
        },
        "id": "zg36JI3YiDCb",
        "outputId": "1b0b910f-714b-424f-a028-2011e202399d"
      },
      "execution_count": null,
      "outputs": [
        {
          "output_type": "display_data",
          "data": {
            "text/plain": [
              "<Figure size 1000x500 with 3 Axes>"
            ],
            "image/png": "[encoded data removed]"
          },
          "metadata": {}
        }
      ]
    },
    {
      "cell_type": "code",
      "source": [
        "# Se guarda el modelo\n",
        "modelPath = \"./data/CIFAR/\"\n",
        "modelName = modelPath + \"AlexNet_v2_Cifar10.pth\"\n",
        "torch.save(model_2.state_dict(), modelName)"
      ],
      "metadata": {
        "id": "VjTeE4lGz1aE"
      },
      "execution_count": null,
      "outputs": []
    },
    {
      "cell_type": "markdown",
      "source": [
        "## 4. Evaluación"
      ],
      "metadata": {
        "id": "KtVwUJVAaW4N"
      }
    },
    {
      "cell_type": "code",
      "source": [
        "# Si se ha guardado el modelo, aquí se carga\n",
        "# modelPath = \"./data/CIFAR/\"\n",
        "# modelName = modelPath + \"AlexNet_v2_Cifar10.pth\"\n",
        "# model_2 = AlexNet()\n",
        "# modelo_2.load_state_dict(torch.load(modelName))"
      ],
      "metadata": {
        "id": "c9B5bKSEabXj"
      },
      "execution_count": null,
      "outputs": []
    },
    {
      "cell_type": "code",
      "source": [
        "print(\"Evaluación del modelo en el conjunto de prueba\")\n",
        "loss_T2, acc_T2 = test(model_2, test_loader, True)"
      ],
      "metadata": {
        "colab": {
          "base_uri": "https://localhost:8080/"
        },
        "id": "Ws5yE5cWiVKE",
        "outputId": "609e4a00-33a7-4561-b65b-756421213970"
      },
      "execution_count": null,
      "outputs": [
        {
          "output_type": "stream",
          "name": "stdout",
          "text": [
            "Evaluación del modelo en el conjunto de prueba\n",
            "\n",
            " Average loss: 1.0136, Accuracy: 6661/10000 (67%)\n",
            "\n",
            "Accuracy of plane : 70.30 %\n",
            "Accuracy of car   : 77.50 %\n",
            "Accuracy of bird  : 52.50 %\n",
            "Accuracy of cat   : 45.10 %\n",
            "Accuracy of deer  : 63.00 %\n",
            "Accuracy of dog   : 50.40 %\n",
            "Accuracy of frog  : 79.70 %\n",
            "Accuracy of horse : 74.70 %\n",
            "Accuracy of ship  : 79.10 %\n",
            "Accuracy of truck : 73.80 %\n"
          ]
        }
      ]
    },
    {
      "cell_type": "markdown",
      "source": [
        "# Modelo 3: AlexNet pre-entrenado\n",
        "Se usa el modelo incluido en la biblioteca torchvision.models directamente, sin ningún entrenamiento posterior."
      ],
      "metadata": {
        "id": "UmAhfp3ZHFlP"
      }
    },
    {
      "cell_type": "code",
      "source": [
        "# Se carga el modelo pre-entrenado\n",
        "model = models.alexnet(weights=True)\n",
        "# model.classifier es la parte fully connected de AlexNet\n",
        "# el layer número 6 es el ultimo layer del modelo: Linear(in_features=4096, out_features=1000)\n",
        "num_features = model.classifier[6].in_features\n",
        "# Se cambia esta ultima capa por una donde los inputs sean los mismos, pero los outputs cambien a 10\n",
        "model.classifier[6] = nn.Linear(num_features, 10)\n",
        "# Se manda el modelo a la GPU\n",
        "model = model.to(device)\n",
        "\n",
        "# Función de perdida\n",
        "criterion = nn.CrossEntropyLoss()\n",
        "# Optimizador\n",
        "optimizer = torch.optim.Adam(model.parameters(), lr=0.001)"
      ],
      "metadata": {
        "id": "R-OZ4duqHK2V"
      },
      "execution_count": null,
      "outputs": []
    },
    {
      "cell_type": "code",
      "source": [
        "print(\"Evaluación del modelo en el conjunto de prueba\")\n",
        "loss_T4, acc_T4 = test(model, test_loader, True)"
      ],
      "metadata": {
        "id": "jGUegPvZHprD"
      },
      "execution_count": null,
      "outputs": []
    },
    {
      "cell_type": "code",
      "source": [
        "from google.colab import drive\n",
        "drive.mount('/content/drive')"
      ],
      "metadata": {
        "id": "uClZU5XUIuzI"
      },
      "execution_count": null,
      "outputs": []
    },
    {
      "cell_type": "markdown",
      "source": [
        "# Modelo 3: AlexNet pre-entrenado 2.0\n",
        "Se usa el modelo incluido en la biblioteca torchvision.models"
      ],
      "metadata": {
        "id": "OGEsdDw3iXNb"
      }
    },
    {
      "cell_type": "markdown",
      "source": [
        "## 1. Los datos"
      ],
      "metadata": {
        "id": "FLz4LiUvtjuV"
      }
    },
    {
      "cell_type": "markdown",
      "source": [
        "En este caso, se utilizan los mismos datos y data loaders del modelo anterior"
      ],
      "metadata": {
        "id": "UGTN0GF4tnrV"
      }
    },
    {
      "cell_type": "markdown",
      "source": [
        "## 2. El modelo"
      ],
      "metadata": {
        "id": "02NWuH11txLz"
      }
    },
    {
      "cell_type": "code",
      "source": [
        "# Se carga el modelo pre-entrenado\n",
        "model_3 = models.alexnet(weights=True)\n",
        "# model.classifier es la parte fully connected de AlexNet\n",
        "# el layer número 6 es el ultimo layer del modelo: Linear(in_features=4096, out_features=1000)\n",
        "num_features = model_3.classifier[6].in_features\n",
        "# Se cambia esta ultima capa por una donde los inputs sean los mismos, pero los outputs cambien a 10\n",
        "model_3.classifier[6] = nn.Linear(num_features, 10)\n",
        "# Se manda el modelo a la GPU\n",
        "model_3 = model_3.to(device)\n",
        "\n",
        "# Función de perdida\n",
        "criterion = nn.CrossEntropyLoss()\n",
        "# Optimizador\n",
        "optimizer = torch.optim.Adam(model_3.parameters(), lr=0.001)"
      ],
      "metadata": {
        "id": "fyGkqjNZim76"
      },
      "execution_count": null,
      "outputs": []
    },
    {
      "cell_type": "code",
      "source": [
        "# Número total de parámetros entrenables del modelo\n",
        "print(\"AlexNet model params = \", count_params(model_3))"
      ],
      "metadata": {
        "colab": {
          "base_uri": "https://localhost:8080/"
        },
        "id": "BPESqp2vv8V0",
        "outputId": "0d8f2533-fc35-4129-d0e5-59fbf0769728"
      },
      "execution_count": null,
      "outputs": [
        {
          "output_type": "stream",
          "name": "stdout",
          "text": [
            "AlexNet model params =  57044810\n"
          ]
        }
      ]
    },
    {
      "cell_type": "markdown",
      "source": [
        "## 3. Entrenamiento"
      ],
      "metadata": {
        "id": "1ZvhL-xewnZI"
      }
    },
    {
      "cell_type": "code",
      "source": [
        "# Ciclo de entrenamiento AlexNet_v3\n",
        "num_epochs = 15\n",
        "acc_history = []\n",
        "loss_history = []\n",
        "\n",
        "start_time = timeit.default_timer()\n",
        "for epoch in range(1,num_epochs+1):\n",
        "  train(model_3, train_loader, optimizer, criterion, epoch, device)\n",
        "  loss, acc = test(model_3, train_loader, False)\n",
        "  acc_history.append(acc)\n",
        "  loss_history.append(loss)\n",
        "end_time = timeit.default_timer()\n",
        "print(\"Fin del entrenamiento\")\n",
        "traintime_v3 = end_time - start_time\n",
        "print(f\"Tiempo total de entrenamiento: {traintime_v3:.2f} segundos\")"
      ],
      "metadata": {
        "colab": {
          "base_uri": "https://localhost:8080/"
        },
        "id": "_a12q6zBw0Ta",
        "outputId": "25c04c84-ae4b-48e4-fc5a-b6be52ab8e05"
      },
      "execution_count": null,
      "outputs": [
        {
          "output_type": "stream",
          "name": "stdout",
          "text": [
            "Train Epoch 1: [0/50000 (0%)]\tLoss: 2.484256\n",
            "Train Epoch 1: [6400/50000 (13%)]\tLoss: 2.001378\n",
            "Train Epoch 1: [12800/50000 (26%)]\tLoss: 1.988543\n",
            "Train Epoch 1: [19200/50000 (38%)]\tLoss: 2.006165\n",
            "Train Epoch 1: [25600/50000 (51%)]\tLoss: 1.672419\n",
            "Train Epoch 1: [32000/50000 (64%)]\tLoss: 1.870311\n",
            "Train Epoch 1: [38400/50000 (77%)]\tLoss: 1.715744\n",
            "Train Epoch 1: [44800/50000 (90%)]\tLoss: 1.828236\n",
            "\n",
            " Average loss: 1.4348, Accuracy: 23677/50000 (47%)\n",
            "\n",
            "Train Epoch 2: [0/50000 (0%)]\tLoss: 1.291413\n",
            "Train Epoch 2: [6400/50000 (13%)]\tLoss: 1.343254\n",
            "Train Epoch 2: [12800/50000 (26%)]\tLoss: 1.223958\n",
            "Train Epoch 2: [19200/50000 (38%)]\tLoss: 1.337153\n",
            "Train Epoch 2: [25600/50000 (51%)]\tLoss: 1.259437\n",
            "Train Epoch 2: [32000/50000 (64%)]\tLoss: 1.423819\n",
            "Train Epoch 2: [38400/50000 (77%)]\tLoss: 1.365988\n",
            "Train Epoch 2: [44800/50000 (90%)]\tLoss: 0.986643\n",
            "\n",
            " Average loss: 1.1136, Accuracy: 30212/50000 (60%)\n",
            "\n",
            "Train Epoch 3: [0/50000 (0%)]\tLoss: 1.196145\n",
            "Train Epoch 3: [6400/50000 (13%)]\tLoss: 1.134972\n",
            "Train Epoch 3: [12800/50000 (26%)]\tLoss: 0.901620\n",
            "Train Epoch 3: [19200/50000 (38%)]\tLoss: 1.221178\n",
            "Train Epoch 3: [25600/50000 (51%)]\tLoss: 1.082980\n",
            "Train Epoch 3: [32000/50000 (64%)]\tLoss: 1.056593\n",
            "Train Epoch 3: [38400/50000 (77%)]\tLoss: 0.832023\n",
            "Train Epoch 3: [44800/50000 (90%)]\tLoss: 1.020712\n",
            "\n",
            " Average loss: 0.8625, Accuracy: 34334/50000 (69%)\n",
            "\n",
            "Train Epoch 4: [0/50000 (0%)]\tLoss: 0.765964\n",
            "Train Epoch 4: [6400/50000 (13%)]\tLoss: 1.015159\n",
            "Train Epoch 4: [12800/50000 (26%)]\tLoss: 0.820543\n",
            "Train Epoch 4: [19200/50000 (38%)]\tLoss: 1.059058\n",
            "Train Epoch 4: [25600/50000 (51%)]\tLoss: 0.847991\n",
            "Train Epoch 4: [32000/50000 (64%)]\tLoss: 0.735406\n",
            "Train Epoch 4: [38400/50000 (77%)]\tLoss: 1.003383\n",
            "Train Epoch 4: [44800/50000 (90%)]\tLoss: 0.927629\n",
            "\n",
            " Average loss: 0.7505, Accuracy: 36830/50000 (74%)\n",
            "\n",
            "Train Epoch 5: [0/50000 (0%)]\tLoss: 0.691016\n",
            "Train Epoch 5: [6400/50000 (13%)]\tLoss: 0.739170\n",
            "Train Epoch 5: [12800/50000 (26%)]\tLoss: 0.686961\n",
            "Train Epoch 5: [19200/50000 (38%)]\tLoss: 0.672522\n",
            "Train Epoch 5: [25600/50000 (51%)]\tLoss: 0.718727\n",
            "Train Epoch 5: [32000/50000 (64%)]\tLoss: 0.820726\n",
            "Train Epoch 5: [38400/50000 (77%)]\tLoss: 0.720921\n",
            "Train Epoch 5: [44800/50000 (90%)]\tLoss: 0.739375\n",
            "\n",
            " Average loss: 0.7232, Accuracy: 37931/50000 (76%)\n",
            "\n",
            "Train Epoch 6: [0/50000 (0%)]\tLoss: 0.702771\n",
            "Train Epoch 6: [6400/50000 (13%)]\tLoss: 1.021143\n",
            "Train Epoch 6: [12800/50000 (26%)]\tLoss: 0.410083\n",
            "Train Epoch 6: [19200/50000 (38%)]\tLoss: 0.791580\n",
            "Train Epoch 6: [25600/50000 (51%)]\tLoss: 0.689942\n",
            "Train Epoch 6: [32000/50000 (64%)]\tLoss: 0.655637\n",
            "Train Epoch 6: [38400/50000 (77%)]\tLoss: 1.037976\n",
            "Train Epoch 6: [44800/50000 (90%)]\tLoss: 0.766852\n",
            "\n",
            " Average loss: 0.6350, Accuracy: 39218/50000 (78%)\n",
            "\n",
            "Train Epoch 7: [0/50000 (0%)]\tLoss: 0.594064\n",
            "Train Epoch 7: [6400/50000 (13%)]\tLoss: 0.825598\n",
            "Train Epoch 7: [12800/50000 (26%)]\tLoss: 0.672609\n",
            "Train Epoch 7: [19200/50000 (38%)]\tLoss: 0.592258\n",
            "Train Epoch 7: [25600/50000 (51%)]\tLoss: 0.733341\n",
            "Train Epoch 7: [32000/50000 (64%)]\tLoss: 0.724066\n",
            "Train Epoch 7: [38400/50000 (77%)]\tLoss: 0.752311\n",
            "Train Epoch 7: [44800/50000 (90%)]\tLoss: 0.411301\n",
            "\n",
            " Average loss: 0.6517, Accuracy: 38886/50000 (78%)\n",
            "\n",
            "Train Epoch 8: [0/50000 (0%)]\tLoss: 0.762252\n",
            "Train Epoch 8: [6400/50000 (13%)]\tLoss: 0.620023\n",
            "Train Epoch 8: [12800/50000 (26%)]\tLoss: 0.827319\n",
            "Train Epoch 8: [19200/50000 (38%)]\tLoss: 0.790626\n",
            "Train Epoch 8: [25600/50000 (51%)]\tLoss: 0.896010\n",
            "Train Epoch 8: [32000/50000 (64%)]\tLoss: 0.578907\n",
            "Train Epoch 8: [38400/50000 (77%)]\tLoss: 0.837812\n",
            "Train Epoch 8: [44800/50000 (90%)]\tLoss: 0.733432\n",
            "\n",
            " Average loss: 0.5311, Accuracy: 40886/50000 (82%)\n",
            "\n",
            "Train Epoch 9: [0/50000 (0%)]\tLoss: 0.500477\n",
            "Train Epoch 9: [6400/50000 (13%)]\tLoss: 0.586770\n",
            "Train Epoch 9: [12800/50000 (26%)]\tLoss: 0.761561\n",
            "Train Epoch 9: [19200/50000 (38%)]\tLoss: 0.573588\n",
            "Train Epoch 9: [25600/50000 (51%)]\tLoss: 0.576244\n",
            "Train Epoch 9: [32000/50000 (64%)]\tLoss: 0.650196\n",
            "Train Epoch 9: [38400/50000 (77%)]\tLoss: 0.841350\n",
            "Train Epoch 9: [44800/50000 (90%)]\tLoss: 0.548596\n",
            "\n",
            " Average loss: 0.5359, Accuracy: 40634/50000 (81%)\n",
            "\n",
            "Train Epoch 10: [0/50000 (0%)]\tLoss: 0.561567\n",
            "Train Epoch 10: [6400/50000 (13%)]\tLoss: 0.521068\n",
            "Train Epoch 10: [12800/50000 (26%)]\tLoss: 0.622028\n",
            "Train Epoch 10: [19200/50000 (38%)]\tLoss: 0.572522\n",
            "Train Epoch 10: [25600/50000 (51%)]\tLoss: 0.627604\n",
            "Train Epoch 10: [32000/50000 (64%)]\tLoss: 0.565894\n",
            "Train Epoch 10: [38400/50000 (77%)]\tLoss: 0.882602\n",
            "Train Epoch 10: [44800/50000 (90%)]\tLoss: 0.745108\n",
            "\n",
            " Average loss: 0.5584, Accuracy: 40515/50000 (81%)\n",
            "\n",
            "Train Epoch 11: [0/50000 (0%)]\tLoss: 0.531369\n",
            "Train Epoch 11: [6400/50000 (13%)]\tLoss: 0.700022\n",
            "Train Epoch 11: [12800/50000 (26%)]\tLoss: 0.561620\n",
            "Train Epoch 11: [19200/50000 (38%)]\tLoss: 0.737171\n",
            "Train Epoch 11: [25600/50000 (51%)]\tLoss: 0.645783\n",
            "Train Epoch 11: [32000/50000 (64%)]\tLoss: 0.599730\n",
            "Train Epoch 11: [38400/50000 (77%)]\tLoss: 0.376660\n",
            "Train Epoch 11: [44800/50000 (90%)]\tLoss: 0.522545\n",
            "\n",
            " Average loss: 0.4534, Accuracy: 42339/50000 (85%)\n",
            "\n",
            "Train Epoch 12: [0/50000 (0%)]\tLoss: 0.614316\n",
            "Train Epoch 12: [6400/50000 (13%)]\tLoss: 0.570580\n",
            "Train Epoch 12: [12800/50000 (26%)]\tLoss: 0.584474\n",
            "Train Epoch 12: [19200/50000 (38%)]\tLoss: 0.703357\n",
            "Train Epoch 12: [25600/50000 (51%)]\tLoss: 0.823840\n",
            "Train Epoch 12: [32000/50000 (64%)]\tLoss: 0.579296\n",
            "Train Epoch 12: [38400/50000 (77%)]\tLoss: 0.677393\n",
            "Train Epoch 12: [44800/50000 (90%)]\tLoss: 0.855936\n",
            "\n",
            " Average loss: 0.4130, Accuracy: 42966/50000 (86%)\n",
            "\n",
            "Train Epoch 13: [0/50000 (0%)]\tLoss: 0.831595\n",
            "Train Epoch 13: [6400/50000 (13%)]\tLoss: 0.758589\n",
            "Train Epoch 13: [12800/50000 (26%)]\tLoss: 0.384555\n",
            "Train Epoch 13: [19200/50000 (38%)]\tLoss: 0.600838\n",
            "Train Epoch 13: [25600/50000 (51%)]\tLoss: 0.497241\n",
            "Train Epoch 13: [32000/50000 (64%)]\tLoss: 0.648329\n",
            "Train Epoch 13: [38400/50000 (77%)]\tLoss: 0.537345\n",
            "Train Epoch 13: [44800/50000 (90%)]\tLoss: 0.527894\n",
            "\n",
            " Average loss: 0.4295, Accuracy: 42812/50000 (86%)\n",
            "\n",
            "Train Epoch 14: [0/50000 (0%)]\tLoss: 0.537596\n",
            "Train Epoch 14: [6400/50000 (13%)]\tLoss: 0.595220\n",
            "Train Epoch 14: [12800/50000 (26%)]\tLoss: 0.352424\n",
            "Train Epoch 14: [19200/50000 (38%)]\tLoss: 0.527861\n",
            "Train Epoch 14: [25600/50000 (51%)]\tLoss: 0.809284\n",
            "Train Epoch 14: [32000/50000 (64%)]\tLoss: 0.475464\n",
            "Train Epoch 14: [38400/50000 (77%)]\tLoss: 0.343704\n",
            "Train Epoch 14: [44800/50000 (90%)]\tLoss: 0.396002\n",
            "\n",
            " Average loss: 0.4205, Accuracy: 43075/50000 (86%)\n",
            "\n",
            "Train Epoch 15: [0/50000 (0%)]\tLoss: 0.543376\n",
            "Train Epoch 15: [6400/50000 (13%)]\tLoss: 0.501778\n",
            "Train Epoch 15: [12800/50000 (26%)]\tLoss: 0.536871\n",
            "Train Epoch 15: [19200/50000 (38%)]\tLoss: 0.500816\n",
            "Train Epoch 15: [25600/50000 (51%)]\tLoss: 0.520337\n",
            "Train Epoch 15: [32000/50000 (64%)]\tLoss: 0.475045\n",
            "Train Epoch 15: [38400/50000 (77%)]\tLoss: 0.504466\n",
            "Train Epoch 15: [44800/50000 (90%)]\tLoss: 0.997307\n",
            "\n",
            " Average loss: 0.3725, Accuracy: 43894/50000 (88%)\n",
            "\n",
            "Fin del entrenamiento\n",
            "Tiempo total de entrenamiento: 2651.97 segundos\n"
          ]
        }
      ]
    },
    {
      "cell_type": "code",
      "source": [
        "plt.figure(figsize=(10, 5))\n",
        "plt.title(\"Entrenamiento AlexNet\")\n",
        "plt.axis('off')\n",
        "plt.subplot(1, 2, 1)\n",
        "plt.plot(range(1,num_epochs+1), acc_history, label=\"Accuracy\")\n",
        "plt.xlabel(\"Épocas\")\n",
        "plt.legend()\n",
        "plt.subplot(1, 2, 2)\n",
        "plt.plot(range(1,num_epochs+1), loss_history, label=\"Loss\")\n",
        "plt.xlabel(\"Épocas\")\n",
        "plt.legend()\n",
        "plt.show()"
      ],
      "metadata": {
        "colab": {
          "base_uri": "https://localhost:8080/",
          "height": 489
        },
        "id": "O0sDe6rnw8G_",
        "outputId": "efa69941-d72b-40ef-f912-4f609688a4e0"
      },
      "execution_count": null,
      "outputs": [
        {
          "output_type": "display_data",
          "data": {
            "text/plain": [
              "<Figure size 1000x500 with 3 Axes>"
            ],
            "image/png": "[encoded data removed]"
          },
          "metadata": {}
        }
      ]
    },
    {
      "cell_type": "code",
      "source": [
        "# Se guarda el modelo\n",
        "modelPath = \"./data/CIFAR/\"\n",
        "modelName = modelPath + \"AlexNet_v3_Cifar10.pth\"\n",
        "torch.save(model_3.state_dict(), modelName)"
      ],
      "metadata": {
        "id": "7bMAgXHgxJdt"
      },
      "execution_count": null,
      "outputs": []
    },
    {
      "cell_type": "markdown",
      "source": [
        "## 4. Evaluación"
      ],
      "metadata": {
        "id": "ziXOFBflxMBA"
      }
    },
    {
      "cell_type": "code",
      "source": [
        "# Si se ha guardado el modelo, aquí se carga\n",
        "# modelPath = \"./data/CIFAR/\"\n",
        "# modelName = modelPath + \"AlexNet_v3_Cifar10.pth\"\n",
        "# model_3 = AlexNet()\n",
        "# modelo_3.load_state_dict(torch.load(modelName))"
      ],
      "metadata": {
        "id": "4ITS3qbdxN4l"
      },
      "execution_count": null,
      "outputs": []
    },
    {
      "cell_type": "code",
      "source": [
        "print(\"Evaluación del modelo en el conjunto de prueba\")\n",
        "loss_T3, acc_T3 = test(model_3, test_loader, True)"
      ],
      "metadata": {
        "colab": {
          "base_uri": "https://localhost:8080/"
        },
        "id": "HRPjQ2P1xWCA",
        "outputId": "dd2e8805-2c60-4ffa-c007-9cbd2b5ed2b9"
      },
      "execution_count": null,
      "outputs": [
        {
          "output_type": "stream",
          "name": "stdout",
          "text": [
            "Evaluación del modelo en el conjunto de prueba\n",
            "\n",
            " Average loss: 0.6898, Accuracy: 7809/10000 (78%)\n",
            "\n",
            "Accuracy of plane : 78.00 %\n",
            "Accuracy of car   : 81.90 %\n",
            "Accuracy of bird  : 63.90 %\n",
            "Accuracy of cat   : 66.60 %\n",
            "Accuracy of deer  : 77.40 %\n",
            "Accuracy of dog   : 72.00 %\n",
            "Accuracy of frog  : 80.90 %\n",
            "Accuracy of horse : 79.70 %\n",
            "Accuracy of ship  : 90.60 %\n",
            "Accuracy of truck : 89.90 %\n"
          ]
        }
      ]
    },
    {
      "cell_type": "code",
      "source": [],
      "metadata": {
        "id": "3BUk4wtAGx_d"
      },
      "execution_count": null,
      "outputs": []
    },
    {
      "cell_type": "markdown",
      "source": [
        "# Resumen"
      ],
      "metadata": {
        "id": "pbOVhq5w7398"
      }
    },
    {
      "cell_type": "code",
      "source": [
        "import pandas as pd\n",
        "\n",
        "# Se crea un dataframe con los resultados de los modelos\n",
        "results = pd.DataFrame({\n",
        "    \"Modelo\": [\"AlexNet (32x32)\", \"AlexNet (224x224)\", \"AlexNet (pre-entrenado)\"],\n",
        "    \"Tiempo de entrenamiento (segundos)\": [traintime_v1, traintime_v2, traintime_v3],\n",
        "    \"Accuracy test\": [acc_T1, acc_T2, acc_T3],\n",
        "    \"Loss test\": [loss_T1, loss_T2, loss_T3]\n",
        "})\n",
        "\n",
        "results"
      ],
      "metadata": {
        "colab": {
          "base_uri": "https://localhost:8080/",
          "height": 143
        },
        "id": "OAHTfGon7_gn",
        "outputId": "1cd6689b-5034-41ab-a472-1c4475774daa"
      },
      "execution_count": null,
      "outputs": [
        {
          "output_type": "execute_result",
          "data": {
            "text/plain": [
              "                    Modelo  Tiempo de entrenamiento (segundos)  Accuracy test  \\\n",
              "0          AlexNet (32x32)                          471.113666         0.6370   \n",
              "1        AlexNet (224x224)                         2810.178915         0.6661   \n",
              "2  AlexNet (pre-entrenado)                         2651.969516         0.7809   \n",
              "\n",
              "   Loss test  \n",
              "0   1.052892  \n",
              "1   1.013621  \n",
              "2   0.689839  "
            ],
            "text/html": [
              "\n",
              "  <div id=\"df-1c48c087-a161-47bb-b88a-ef1f6550cc59\" class=\"colab-df-container\">\n",
              "    <div>\n",
              "<style scoped>\n",
              "    .dataframe tbody tr th:only-of-type {\n",
              "        vertical-align: middle;\n",
              "    }\n",
              "\n",
              "    .dataframe tbody tr th {\n",
              "        vertical-align: top;\n",
              "    }\n",
              "\n",
              "    .dataframe thead th {\n",
              "        text-align: right;\n",
              "    }\n",
              "</style>\n",
              "<table border=\"1\" class=\"dataframe\">\n",
              "  <thead>\n",
              "    <tr style=\"text-align: right;\">\n",
              "      <th></th>\n",
              "      <th>Modelo</th>\n",
              "      <th>Tiempo de entrenamiento (segundos)</th>\n",
              "      <th>Accuracy test</th>\n",
              "      <th>Loss test</th>\n",
              "    </tr>\n",
              "  </thead>\n",
              "  <tbody>\n",
              "    <tr>\n",
              "      <th>0</th>\n",
              "      <td>AlexNet (32x32)</td>\n",
              "      <td>471.113666</td>\n",
              "      <td>0.6370</td>\n",
              "      <td>1.052892</td>\n",
              "    </tr>\n",
              "    <tr>\n",
              "      <th>1</th>\n",
              "      <td>AlexNet (224x224)</td>\n",
              "      <td>2810.178915</td>\n",
              "      <td>0.6661</td>\n",
              "      <td>1.013621</td>\n",
              "    </tr>\n",
              "    <tr>\n",
              "      <th>2</th>\n",
              "      <td>AlexNet (pre-entrenado)</td>\n",
              "      <td>2651.969516</td>\n",
              "      <td>0.7809</td>\n",
              "      <td>0.689839</td>\n",
              "    </tr>\n",
              "  </tbody>\n",
              "</table>\n",
              "</div>\n",
              "    <div class=\"colab-df-buttons\">\n",
              "\n",
              "  <div class=\"colab-df-container\">\n",
              "    <button class=\"colab-df-convert\" onclick=\"convertToInteractive('df-1c48c087-a161-47bb-b88a-ef1f6550cc59')\"\n",
              "            title=\"Convert this dataframe to an interactive table.\"\n",
              "            style=\"display:none;\">\n",
              "\n",
              "  <svg xmlns=\"http://www.w3.org/2000/svg\" height=\"24px\" viewBox=\"0 -960 960 960\">\n",
              "    <path d=\"M120-120v-720h720v720H120Zm60-500h600v-160H180v160Zm220 220h160v-160H400v160Zm0 220h160v-160H400v160ZM180-400h160v-160H180v160Zm440 0h160v-160H620v160ZM180-180h160v-160H180v160Zm440 0h160v-160H620v160Z\"/>\n",
              "  </svg>\n",
              "    </button>\n",
              "\n",
              "  <style>\n",
              "    .colab-df-container {\n",
              "      display:flex;\n",
              "      gap: 12px;\n",
              "    }\n",
              "\n",
              "    .colab-df-convert {\n",
              "      background-color: #E8F0FE;\n",
              "      border: none;\n",
              "      border-radius: 50%;\n",
              "      cursor: pointer;\n",
              "      display: none;\n",
              "      fill: #1967D2;\n",
              "      height: 32px;\n",
              "      padding: 0 0 0 0;\n",
              "      width: 32px;\n",
              "    }\n",
              "\n",
              "    .colab-df-convert:hover {\n",
              "      background-color: #E2EBFA;\n",
              "      box-shadow: 0px 1px 2px rgba(60, 64, 67, 0.3), 0px 1px 3px 1px rgba(60, 64, 67, 0.15);\n",
              "      fill: #174EA6;\n",
              "    }\n",
              "\n",
              "    .colab-df-buttons div {\n",
              "      margin-bottom: 4px;\n",
              "    }\n",
              "\n",
              "    [theme=dark] .colab-df-convert {\n",
              "      background-color: #3B4455;\n",
              "      fill: #D2E3FC;\n",
              "    }\n",
              "\n",
              "    [theme=dark] .colab-df-convert:hover {\n",
              "      background-color: #434B5C;\n",
              "      box-shadow: 0px 1px 3px 1px rgba(0, 0, 0, 0.15);\n",
              "      filter: drop-shadow(0px 1px 2px rgba(0, 0, 0, 0.3));\n",
              "      fill: #FFFFFF;\n",
              "    }\n",
              "  </style>\n",
              "\n",
              "    <script>\n",
              "      const buttonEl =\n",
              "        document.querySelector('#df-1c48c087-a161-47bb-b88a-ef1f6550cc59 button.colab-df-convert');\n",
              "      buttonEl.style.display =\n",
              "        google.colab.kernel.accessAllowed ? 'block' : 'none';\n",
              "\n",
              "      async function convertToInteractive(key) {\n",
              "        const element = document.querySelector('#df-1c48c087-a161-47bb-b88a-ef1f6550cc59');\n",
              "        const dataTable =\n",
              "          await google.colab.kernel.invokeFunction('convertToInteractive',\n",
              "                                                    [key], {});\n",
              "        if (!dataTable) return;\n",
              "\n",
              "        const docLinkHtml = 'Like what you see? Visit the ' +\n",
              "          '<a target=\"_blank\" href=https://colab.research.google.com/notebooks/data_table.ipynb>data table notebook</a>'\n",
              "          + ' to learn more about interactive tables.';\n",
              "        element.innerHTML = '';\n",
              "        dataTable['output_type'] = 'display_data';\n",
              "        await google.colab.output.renderOutput(dataTable, element);\n",
              "        const docLink = document.createElement('div');\n",
              "        docLink.innerHTML = docLinkHtml;\n",
              "        element.appendChild(docLink);\n",
              "      }\n",
              "    </script>\n",
              "  </div>\n",
              "\n",
              "\n",
              "<div id=\"df-fe4996fb-4058-4d7c-b4a7-12508ced4aa6\">\n",
              "  <button class=\"colab-df-quickchart\" onclick=\"quickchart('df-fe4996fb-4058-4d7c-b4a7-12508ced4aa6')\"\n",
              "            title=\"Suggest charts\"\n",
              "            style=\"display:none;\">\n",
              "\n",
              "<svg xmlns=\"http://www.w3.org/2000/svg\" height=\"24px\"viewBox=\"0 0 24 24\"\n",
              "     width=\"24px\">\n",
              "    <g>\n",
              "        <path d=\"M19 3H5c-1.1 0-2 .9-2 2v14c0 1.1.9 2 2 2h14c1.1 0 2-.9 2-2V5c0-1.1-.9-2-2-2zM9 17H7v-7h2v7zm4 0h-2V7h2v10zm4 0h-2v-4h2v4z\"/>\n",
              "    </g>\n",
              "</svg>\n",
              "  </button>\n",
              "\n",
              "<style>\n",
              "  .colab-df-quickchart {\n",
              "      --bg-color: #E8F0FE;\n",
              "      --fill-color: #1967D2;\n",
              "      --hover-bg-color: #E2EBFA;\n",
              "      --hover-fill-color: #174EA6;\n",
              "      --disabled-fill-color: #AAA;\n",
              "      --disabled-bg-color: #DDD;\n",
              "  }\n",
              "\n",
              "  [theme=dark] .colab-df-quickchart {\n",
              "      --bg-color: #3B4455;\n",
              "      --fill-color: #D2E3FC;\n",
              "      --hover-bg-color: #434B5C;\n",
              "      --hover-fill-color: #FFFFFF;\n",
              "      --disabled-bg-color: #3B4455;\n",
              "      --disabled-fill-color: #666;\n",
              "  }\n",
              "\n",
              "  .colab-df-quickchart {\n",
              "    background-color: var(--bg-color);\n",
              "    border: none;\n",
              "    border-radius: 50%;\n",
              "    cursor: pointer;\n",
              "    display: none;\n",
              "    fill: var(--fill-color);\n",
              "    height: 32px;\n",
              "    padding: 0;\n",
              "    width: 32px;\n",
              "  }\n",
              "\n",
              "  .colab-df-quickchart:hover {\n",
              "    background-color: var(--hover-bg-color);\n",
              "    box-shadow: 0 1px 2px rgba(60, 64, 67, 0.3), 0 1px 3px 1px rgba(60, 64, 67, 0.15);\n",
              "    fill: var(--button-hover-fill-color);\n",
              "  }\n",
              "\n",
              "  .colab-df-quickchart-complete:disabled,\n",
              "  .colab-df-quickchart-complete:disabled:hover {\n",
              "    background-color: var(--disabled-bg-color);\n",
              "    fill: var(--disabled-fill-color);\n",
              "    box-shadow: none;\n",
              "  }\n",
              "\n",
              "  .colab-df-spinner {\n",
              "    border: 2px solid var(--fill-color);\n",
              "    border-color: transparent;\n",
              "    border-bottom-color: var(--fill-color);\n",
              "    animation:\n",
              "      spin 1s steps(1) infinite;\n",
              "  }\n",
              "\n",
              "  @keyframes spin {\n",
              "    0% {\n",
              "      border-color: transparent;\n",
              "      border-bottom-color: var(--fill-color);\n",
              "      border-left-color: var(--fill-color);\n",
              "    }\n",
              "    20% {\n",
              "      border-color: transparent;\n",
              "      border-left-color: var(--fill-color);\n",
              "      border-top-color: var(--fill-color);\n",
              "    }\n",
              "    30% {\n",
              "      border-color: transparent;\n",
              "      border-left-color: var(--fill-color);\n",
              "      border-top-color: var(--fill-color);\n",
              "      border-right-color: var(--fill-color);\n",
              "    }\n",
              "    40% {\n",
              "      border-color: transparent;\n",
              "      border-right-color: var(--fill-color);\n",
              "      border-top-color: var(--fill-color);\n",
              "    }\n",
              "    60% {\n",
              "      border-color: transparent;\n",
              "      border-right-color: var(--fill-color);\n",
              "    }\n",
              "    80% {\n",
              "      border-color: transparent;\n",
              "      border-right-color: var(--fill-color);\n",
              "      border-bottom-color: var(--fill-color);\n",
              "    }\n",
              "    90% {\n",
              "      border-color: transparent;\n",
              "      border-bottom-color: var(--fill-color);\n",
              "    }\n",
              "  }\n",
              "</style>\n",
              "\n",
              "  <script>\n",
              "    async function quickchart(key) {\n",
              "      const quickchartButtonEl =\n",
              "        document.querySelector('#' + key + ' button');\n",
              "      quickchartButtonEl.disabled = true;  // To prevent multiple clicks.\n",
              "      quickchartButtonEl.classList.add('colab-df-spinner');\n",
              "      try {\n",
              "        const charts = await google.colab.kernel.invokeFunction(\n",
              "            'suggestCharts', [key], {});\n",
              "      } catch (error) {\n",
              "        console.error('Error during call to suggestCharts:', error);\n",
              "      }\n",
              "      quickchartButtonEl.classList.remove('colab-df-spinner');\n",
              "      quickchartButtonEl.classList.add('colab-df-quickchart-complete');\n",
              "    }\n",
              "    (() => {\n",
              "      let quickchartButtonEl =\n",
              "        document.querySelector('#df-fe4996fb-4058-4d7c-b4a7-12508ced4aa6 button');\n",
              "      quickchartButtonEl.style.display =\n",
              "        google.colab.kernel.accessAllowed ? 'block' : 'none';\n",
              "    })();\n",
              "  </script>\n",
              "</div>\n",
              "\n",
              "  <div id=\"id_4f05c981-b15e-4025-8725-2102e0403a7d\">\n",
              "    <style>\n",
              "      .colab-df-generate {\n",
              "        background-color: #E8F0FE;\n",
              "        border: none;\n",
              "        border-radius: 50%;\n",
              "        cursor: pointer;\n",
              "        display: none;\n",
              "        fill: #1967D2;\n",
              "        height: 32px;\n",
              "        padding: 0 0 0 0;\n",
              "        width: 32px;\n",
              "      }\n",
              "\n",
              "      .colab-df-generate:hover {\n",
              "        background-color: #E2EBFA;\n",
              "        box-shadow: 0px 1px 2px rgba(60, 64, 67, 0.3), 0px 1px 3px 1px rgba(60, 64, 67, 0.15);\n",
              "        fill: #174EA6;\n",
              "      }\n",
              "\n",
              "      [theme=dark] .colab-df-generate {\n",
              "        background-color: #3B4455;\n",
              "        fill: #D2E3FC;\n",
              "      }\n",
              "\n",
              "      [theme=dark] .colab-df-generate:hover {\n",
              "        background-color: #434B5C;\n",
              "        box-shadow: 0px 1px 3px 1px rgba(0, 0, 0, 0.15);\n",
              "        filter: drop-shadow(0px 1px 2px rgba(0, 0, 0, 0.3));\n",
              "        fill: #FFFFFF;\n",
              "      }\n",
              "    </style>\n",
              "    <button class=\"colab-df-generate\" onclick=\"generateWithVariable('results')\"\n",
              "            title=\"Generate code using this dataframe.\"\n",
              "            style=\"display:none;\">\n",
              "\n",
              "  <svg xmlns=\"http://www.w3.org/2000/svg\" height=\"24px\"viewBox=\"0 0 24 24\"\n",
              "       width=\"24px\">\n",
              "    <path d=\"M7,19H8.4L18.45,9,17,7.55,7,17.6ZM5,21V16.75L18.45,3.32a2,2,0,0,1,2.83,0l1.4,1.43a1.91,1.91,0,0,1,.58,1.4,1.91,1.91,0,0,1-.58,1.4L9.25,21ZM18.45,9,17,7.55Zm-12,3A5.31,5.31,0,0,0,4.9,8.1,5.31,5.31,0,0,0,1,6.5,5.31,5.31,0,0,0,4.9,4.9,5.31,5.31,0,0,0,6.5,1,5.31,5.31,0,0,0,8.1,4.9,5.31,5.31,0,0,0,12,6.5,5.46,5.46,0,0,0,6.5,12Z\"/>\n",
              "  </svg>\n",
              "    </button>\n",
              "    <script>\n",
              "      (() => {\n",
              "      const buttonEl =\n",
              "        document.querySelector('#id_4f05c981-b15e-4025-8725-2102e0403a7d button.colab-df-generate');\n",
              "      buttonEl.style.display =\n",
              "        google.colab.kernel.accessAllowed ? 'block' : 'none';\n",
              "\n",
              "      buttonEl.onclick = () => {\n",
              "        google.colab.notebook.generateWithVariable('results');\n",
              "      }\n",
              "      })();\n",
              "    </script>\n",
              "  </div>\n",
              "\n",
              "    </div>\n",
              "  </div>\n"
            ],
            "application/vnd.google.colaboratory.intrinsic+json": {
              "type": "dataframe",
              "variable_name": "results",
              "summary": "{\n  \"name\": \"results\",\n  \"rows\": 3,\n  \"fields\": [\n    {\n      \"column\": \"Modelo\",\n      \"properties\": {\n        \"dtype\": \"string\",\n        \"num_unique_values\": 3,\n        \"samples\": [\n          \"AlexNet (32x32)\",\n          \"AlexNet (224x224)\",\n          \"AlexNet (pre-entrenado)\"\n        ],\n        \"semantic_type\": \"\",\n        \"description\": \"\"\n      }\n    },\n    {\n      \"column\": \"Tiempo de entrenamiento (segundos)\",\n      \"properties\": {\n        \"dtype\": \"number\",\n        \"std\": 1307.1845500571599,\n        \"min\": 471.113666352,\n        \"max\": 2810.178915181,\n        \"num_unique_values\": 3,\n        \"samples\": [\n          471.113666352,\n          2810.178915181,\n          2651.969515564\n        ],\n        \"semantic_type\": \"\",\n        \"description\": \"\"\n      }\n    },\n    {\n      \"column\": \"Accuracy test\",\n      \"properties\": {\n        \"dtype\": \"number\",\n        \"std\": 0.07608444869573108,\n        \"min\": 0.637,\n        \"max\": 0.7809,\n        \"num_unique_values\": 3,\n        \"samples\": [\n          0.637,\n          0.6661,\n          0.7809\n        ],\n        \"semantic_type\": \"\",\n        \"description\": \"\"\n      }\n    },\n    {\n      \"column\": \"Loss test\",\n      \"properties\": {\n        \"dtype\": \"number\",\n        \"std\": 0.19924228496789856,\n        \"min\": 0.689838596400182,\n        \"max\": 1.0528919992932848,\n        \"num_unique_values\": 3,\n        \"samples\": [\n          1.0528919992932848,\n          1.0136208226726313,\n          0.689838596400182\n        ],\n        \"semantic_type\": \"\",\n        \"description\": \"\"\n      }\n    }\n  ]\n}"
            }
          },
          "metadata": {},
          "execution_count": 39
        }
      ]
    },
    {
      "cell_type": "markdown",
      "source": [
        "Los tres modelos fueron entrenados con las mismas condiciones: misma función de perdida y optimización, mismo número de elementos por batch y mismo número de epocas. Como resultado, el modelo pre-entrenado fue el que tuvo una mayor precisión y menor perdida, aunque no fue el que menor tiempo de entrenamiento tuvo, esto dado el número de parámetros involucrados en el entrenamiento.\n",
        "\n",
        "El modelo AlexNet (224x224), que era una replica del modelo original sin pre-entrenamiento, tuvo un tiempo de entrenamiento un poco mayor a este, pero con resultados más deficientes. Esto revela que resulta más conveniente usar el modelo directamente de la biblioteca torchvision.models.\n",
        "\n",
        "Mientras que el modelo de AlexNet modificado para usarse directamente con las imagenes de 32x32 tuvo los valores más bajos de precisión y perdida, estos no son muy diferentes al modelo sin pre-entrenamiento, además de que el tiempo de entrenamiento fue más corto.  "
      ],
      "metadata": {
        "id": "xG8CdC5JD8Ba"
      }
    },
    {
      "cell_type": "code",
      "source": [],
      "metadata": {
        "id": "_rrvoVirJ2W-"
      },
      "execution_count": null,
      "outputs": []
    }
  ]
}