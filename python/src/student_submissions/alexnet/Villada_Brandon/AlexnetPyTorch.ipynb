{
  "nbformat": 4,
  "nbformat_minor": 0,
  "metadata": {
    "colab": {
      "provenance": [],
      "gpuType": "T4"
    },
    "kernelspec": {
      "name": "python3",
      "display_name": "Python 3"
    },
    "language_info": {
      "name": "python"
    },
    "accelerator": "GPU"
  },
  "cells": [
    {
      "cell_type": "code",
      "execution_count": 1,
      "metadata": {
        "id": "gJztjuqUQEKt"
      },
      "outputs": [],
      "source": [
        "import torch\n",
        "import torch.nn as nn\n",
        "import torch.optim as optim\n",
        "import torchvision\n",
        "import torchvision.transforms as transforms\n",
        "from torch.optim.lr_scheduler import StepLR\n"
      ]
    },
    {
      "cell_type": "code",
      "source": [
        "# 2. Definición de Data Loaders\n",
        "def get_data_loaders(batch_size=128, pretrained=False):\n",
        "    transform = transforms.Compose([\n",
        "        transforms.Resize(224 if pretrained else 32),\n",
        "        transforms.RandomHorizontalFlip(),\n",
        "        transforms.ToTensor(),\n",
        "        transforms.Normalize(mean=[0.485, 0.456, 0.406] if pretrained else [0.5, 0.5, 0.5],\n",
        "                             std=[0.229, 0.224, 0.225] if pretrained else [0.5, 0.5, 0.5])\n",
        "    ])\n",
        "    trainset = torchvision.datasets.CIFAR10(root='./data', train=True, download=True, transform=transform)\n",
        "    testset = torchvision.datasets.CIFAR10(root='./data', train=False, download=True, transform=transform)\n",
        "    trainloader = torch.utils.data.DataLoader(trainset, batch_size=batch_size, shuffle=True, num_workers=2)\n",
        "    testloader = torch.utils.data.DataLoader(testset, batch_size=batch_size, shuffle=False, num_workers=2)\n",
        "    return trainloader, testloader"
      ],
      "metadata": {
        "id": "LgfRuf-zT1LI"
      },
      "execution_count": 2,
      "outputs": []
    },
    {
      "cell_type": "code",
      "source": [
        "# 3. Definición del modelo AlexNet desde cero\n",
        "class AlexNetFromScratch(nn.Module):\n",
        "    def __init__(self, num_classes=10):\n",
        "        super(AlexNetFromScratch, self).__init__()\n",
        "        self.features = nn.Sequential(\n",
        "            nn.Conv2d(3, 64, kernel_size=3, stride=1, padding=1),\n",
        "            nn.ReLU(inplace=True),\n",
        "            nn.MaxPool2d(kernel_size=2, stride=2),\n",
        "            nn.Conv2d(64, 192, kernel_size=3, padding=1),\n",
        "            nn.ReLU(inplace=True),\n",
        "            nn.MaxPool2d(kernel_size=2, stride=2),\n",
        "            nn.Conv2d(192, 384, kernel_size=3, padding=1),\n",
        "            nn.ReLU(inplace=True),\n",
        "            nn.Conv2d(384, 256, kernel_size=3, padding=1),\n",
        "            nn.ReLU(inplace=True),\n",
        "            nn.Conv2d(256, 256, kernel_size=3, padding=1),\n",
        "            nn.ReLU(inplace=True),\n",
        "            nn.MaxPool2d(kernel_size=2, stride=2)\n",
        "        )\n",
        "        self.classifier = nn.Sequential(\n",
        "            nn.Dropout(),\n",
        "            nn.Linear(256 * 4 * 4, 4096),\n",
        "            nn.ReLU(inplace=True),\n",
        "            nn.Dropout(),\n",
        "            nn.Linear(4096, 4096),\n",
        "            nn.ReLU(inplace=True),\n",
        "            nn.Linear(4096, num_classes)\n",
        "        )\n",
        "    def forward(self, x):\n",
        "        x = self.features(x)\n",
        "        x = x.view(x.size(0), -1)\n",
        "        x = self.classifier(x)\n",
        "        return x"
      ],
      "metadata": {
        "id": "KAG25EGaT5mn"
      },
      "execution_count": 3,
      "outputs": []
    },
    {
      "cell_type": "code",
      "source": [
        "# 4. Funciones de entrenamiento y evaluación\n",
        "def train_model(model, trainloader, criterion, optimizer, scheduler, num_epochs=10):\n",
        "    device = torch.device(\"cuda\" if torch.cuda.is_available() else \"cpu\")\n",
        "    model.to(device)\n",
        "    print(\"Starting training...\")\n",
        "    for epoch in range(num_epochs):\n",
        "        model.train()\n",
        "        running_loss = 0.0\n",
        "        for inputs, labels in trainloader:\n",
        "            inputs, labels = inputs.to(device), labels.to(device)\n",
        "            optimizer.zero_grad()\n",
        "            outputs = model(inputs)\n",
        "            loss = criterion(outputs, labels)\n",
        "            loss.backward()\n",
        "            optimizer.step()\n",
        "            running_loss += loss.item()\n",
        "        scheduler.step()\n",
        "        print(f\"Epoch {epoch+1}/{num_epochs}, Loss: {running_loss/len(trainloader):.4f}\")\n",
        "\n",
        "def evaluate_model(model, testloader):\n",
        "    device = torch.device(\"cuda\" if torch.cuda.is_available() else \"cpu\")\n",
        "    model.to(device)\n",
        "    model.eval()\n",
        "    correct = 0\n",
        "    total = 0\n",
        "    with torch.no_grad():\n",
        "        for inputs, labels in testloader:\n",
        "            inputs, labels = inputs.to(device), labels.to(device)\n",
        "            outputs = model(inputs)\n",
        "            _, predicted = torch.max(outputs, 1)\n",
        "            total += labels.size(0)\n",
        "            correct += (predicted == labels).sum().item()\n",
        "    print(f\"Model Accuracy: {100 * correct / total:.2f}%\")"
      ],
      "metadata": {
        "id": "mjbKi2yYT-WD"
      },
      "execution_count": 4,
      "outputs": []
    },
    {
      "cell_type": "code",
      "source": [
        "# 5. Entrenamiento y evaluación del modelo desde cero\n",
        "trainloader, testloader = get_data_loaders()\n",
        "model_scratch = AlexNetFromScratch()\n",
        "criterion = nn.CrossEntropyLoss()\n",
        "optimizer = optim.SGD(model_scratch.parameters(), lr=0.01, momentum=0.9)\n",
        "scheduler = StepLR(optimizer, step_size=5, gamma=0.5)\n",
        "train_model(model_scratch, trainloader, criterion, optimizer, scheduler, num_epochs=10)\n",
        "evaluate_model(model_scratch, testloader)\n"
      ],
      "metadata": {
        "colab": {
          "base_uri": "https://localhost:8080/"
        },
        "id": "uSighydxUB9N",
        "outputId": "d18d4443-1dc8-4945-a431-2a4a39e8bda3"
      },
      "execution_count": 5,
      "outputs": [
        {
          "output_type": "stream",
          "name": "stdout",
          "text": [
            "Downloading https://www.cs.toronto.edu/~kriz/cifar-10-python.tar.gz to ./data/cifar-10-python.tar.gz\n"
          ]
        },
        {
          "output_type": "stream",
          "name": "stderr",
          "text": [
            "100%|██████████| 170M/170M [00:04<00:00, 41.0MB/s]\n"
          ]
        },
        {
          "output_type": "stream",
          "name": "stdout",
          "text": [
            "Extracting ./data/cifar-10-python.tar.gz to ./data\n",
            "Files already downloaded and verified\n",
            "Starting training...\n",
            "Epoch 1/10, Loss: 2.2789\n",
            "Epoch 2/10, Loss: 1.7754\n",
            "Epoch 3/10, Loss: 1.4759\n",
            "Epoch 4/10, Loss: 1.2793\n",
            "Epoch 5/10, Loss: 1.1280\n",
            "Epoch 6/10, Loss: 0.9684\n",
            "Epoch 7/10, Loss: 0.8931\n",
            "Epoch 8/10, Loss: 0.8324\n",
            "Epoch 9/10, Loss: 0.7692\n",
            "Epoch 10/10, Loss: 0.7359\n",
            "Model Accuracy: 73.86%\n"
          ]
        }
      ]
    },
    {
      "cell_type": "code",
      "source": [
        "# 6. Carga y fine-tuning de AlexNet preentrenado\n",
        "pretrained_model = torchvision.models.alexnet(weights=torchvision.models.AlexNet_Weights.IMAGENET1K_V1)\n",
        "for param in pretrained_model.features.parameters():\n",
        "    param.requires_grad = False\n",
        "pretrained_model.classifier[6] = nn.Linear(4096, 10)\n",
        "trainloader_pre, testloader_pre = get_data_loaders(pretrained=True)\n",
        "criterion_pre = nn.CrossEntropyLoss()\n",
        "optimizer_pre = optim.SGD(pretrained_model.classifier.parameters(), lr=0.01, momentum=0.9)\n",
        "scheduler_pre = StepLR(optimizer_pre, step_size=5, gamma=0.5)\n",
        "train_model(pretrained_model, trainloader_pre, criterion_pre, optimizer_pre, scheduler_pre, num_epochs=10)\n",
        "evaluate_model(pretrained_model, testloader_pre)"
      ],
      "metadata": {
        "colab": {
          "base_uri": "https://localhost:8080/"
        },
        "id": "1UsLHchOWFpy",
        "outputId": "828f311b-e5eb-4b75-ec6f-75e310c38ab9"
      },
      "execution_count": 6,
      "outputs": [
        {
          "output_type": "stream",
          "name": "stderr",
          "text": [
            "Downloading: \"https://download.pytorch.org/models/alexnet-owt-7be5be79.pth\" to /root/.cache/torch/hub/checkpoints/alexnet-owt-7be5be79.pth\n",
            "100%|██████████| 233M/233M [00:01<00:00, 171MB/s]\n"
          ]
        },
        {
          "output_type": "stream",
          "name": "stdout",
          "text": [
            "Files already downloaded and verified\n",
            "Files already downloaded and verified\n",
            "Starting training...\n",
            "Epoch 1/10, Loss: 0.6698\n",
            "Epoch 2/10, Loss: 0.4829\n",
            "Epoch 3/10, Loss: 0.4296\n",
            "Epoch 4/10, Loss: 0.3761\n",
            "Epoch 5/10, Loss: 0.3415\n",
            "Epoch 6/10, Loss: 0.2766\n",
            "Epoch 7/10, Loss: 0.2496\n",
            "Epoch 8/10, Loss: 0.2318\n",
            "Epoch 9/10, Loss: 0.2214\n",
            "Epoch 10/10, Loss: 0.2034\n",
            "Model Accuracy: 88.45%\n"
          ]
        }
      ]
    }
  ]
}