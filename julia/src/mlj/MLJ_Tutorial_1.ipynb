{
 "cells": [
  {
   "cell_type": "code",
   "execution_count": null,
   "metadata": {},
   "outputs": [],
   "source": [
    "import Pkg; using Pkg\n",
    "\n",
    "#Pkg.add(\"MLJ\")\n",
    "#Pkg.add(\"RDatasets\")\n",
    "#Pkg.add(\"DataFrames\")\n",
    "#Pkg.add(\"StatsBase\")\n",
    "##Pkg.add(\"PrettyPrinting\")\n",
    "#Pkg.add(\"PyPlot\")\n",
    "#Pkg.add(\"Distances\")\n",
    "# Pkg.add(\"MLJLinearModels\"); \n",
    "\n",
    "#Pkg.update()\n",
    "\n",
    "# Pkg.offline(true) ## try not to get packages from the internet\n",
    "\n",
    "\n"
   ]
  },
  {
   "cell_type": "markdown",
   "metadata": {},
   "source": [
    "#### MLJ Demo using the ISL Chap 4 ISL Stock Market data\n",
    "\n",
    "+ The notebook demonstrates some of the features of the MLJ package by using the Stock Market data from Chap 4 of the ISL book.\n",
    "\n",
    "+ The Stock Market Data is presented in pages 171 to 189 of the ISL Book. The \"smarket\" data, as it is named, contains the S&P stock value for 1250 days, from 2001 to 2005. For each day, the percentage values of the 5 previous days, are entered as Lag1 .. Lag5. There is also a column named \"Today\" and a column named \"Volume\". There are 9 columns named\n",
    "\n",
    "```\n",
    "Year, Lag1, Lag2, Lag3, lag4, Lag5, Volume, Today, Direction\n",
    "\n",
    "```\n",
    "The shape of the smarket data is [1250,9]. The first 8 columns contain the independent variables, all numerical, which will form a matrix X of shape [1250,8]. Column 9  in the smarket data is named `Direction`. This is the dependent variable, i.e., this is the variable we need to predict using some of the classification methods available in the MLJ package. The variable `Direction` contains binary values [\"Down\", \"Up\"], so eventually those values need to be transformed into `[0,1]`.\n",
    "\n",
    "+ As a reminder, when  we discussed Classification  Methods in Data Science, we covered \n",
    "\n",
    "1. Logistic Regression\n",
    "2. ISL Lab 4 Part 1 (LDA)\n",
    "3. ISL Lab 4 Part 2 (QDA)\n"
   ]
  },
  {
   "cell_type": "code",
   "execution_count": 1,
   "metadata": {},
   "outputs": [
    {
     "name": "stdout",
     "output_type": "stream",
     "text": [
      "size(smarket) = (1250, 9)\n",
      "names(smarket) = [\"Year\", \"Lag1\", \"Lag2\", \"Lag3\", \"Lag4\", \"Lag5\", \"Volume\", \"Today\", \"Direction\"]\n",
      "nthreads = 24\n"
     ]
    }
   ],
   "source": [
    "using MLJ\n",
    "using RDatasets\n",
    "using DataFrames\n",
    "using StatsBase\n",
    "using PrettyPrinting\n",
    "using Plots\n",
    "using Distances\n",
    "using MLJLinearModels\n",
    "\n",
    "smarket = dataset(\"ISLR\", \"Smarket\")\n",
    "@show size(smarket)\n",
    "@show names(smarket)\n",
    "\n",
    "function CheckThreads()\n",
    "    println(\"nthreads = \", Threads.nthreads())\n",
    "end\n",
    "\n",
    "CheckThreads()"
   ]
  },
  {
   "cell_type": "markdown",
   "metadata": {},
   "source": [
    "Since we often  want  to only show a few significant digits for the metrics etc, let's introduce a simple function to do that:"
   ]
  },
  {
   "cell_type": "code",
   "execution_count": 2,
   "metadata": {},
   "outputs": [
    {
     "data": {
      "text/plain": [
       "3.14"
      ]
     },
     "metadata": {},
     "output_type": "display_data"
    }
   ],
   "source": [
    "r3(x) = round(x, sigdigits=3)\n",
    "r3(pi)"
   ]
  },
  {
   "cell_type": "markdown",
   "metadata": {},
   "source": [
    "Let's get a description of the data too"
   ]
  },
  {
   "cell_type": "code",
   "execution_count": 3,
   "metadata": {},
   "outputs": [
    {
     "data": {
      "text/html": [
       "<div><div style = \"float: left;\"><span>9×4 DataFrame</span></div><div style = \"clear: both;\"></div></div><div class = \"data-frame\" style = \"overflow-x: scroll;\"><table class = \"data-frame\" style = \"margin-bottom: 6px;\"><thead><tr class = \"header\"><th class = \"rowNumber\" style = \"font-weight: bold; text-align: right;\">Row</th><th style = \"text-align: left;\">variable</th><th style = \"text-align: left;\">mean</th><th style = \"text-align: left;\">std</th><th style = \"text-align: left;\">eltype</th></tr><tr class = \"subheader headerLastRow\"><th class = \"rowNumber\" style = \"font-weight: bold; text-align: right;\"></th><th title = \"Symbol\" style = \"text-align: left;\">Symbol</th><th title = \"Union{Nothing, Float64}\" style = \"text-align: left;\">Union…</th><th title = \"Union{Nothing, Float64}\" style = \"text-align: left;\">Union…</th><th title = \"DataType\" style = \"text-align: left;\">DataType</th></tr></thead><tbody><tr><td class = \"rowNumber\" style = \"font-weight: bold; text-align: right;\">1</td><td style = \"text-align: left;\">Year</td><td style = \"text-align: left;\">2003.02</td><td style = \"text-align: left;\">1.40902</td><td style = \"text-align: left;\">Float64</td></tr><tr><td class = \"rowNumber\" style = \"font-weight: bold; text-align: right;\">2</td><td style = \"text-align: left;\">Lag1</td><td style = \"text-align: left;\">0.0038344</td><td style = \"text-align: left;\">1.1363</td><td style = \"text-align: left;\">Float64</td></tr><tr><td class = \"rowNumber\" style = \"font-weight: bold; text-align: right;\">3</td><td style = \"text-align: left;\">Lag2</td><td style = \"text-align: left;\">0.0039192</td><td style = \"text-align: left;\">1.13628</td><td style = \"text-align: left;\">Float64</td></tr><tr><td class = \"rowNumber\" style = \"font-weight: bold; text-align: right;\">4</td><td style = \"text-align: left;\">Lag3</td><td style = \"text-align: left;\">0.001716</td><td style = \"text-align: left;\">1.1387</td><td style = \"text-align: left;\">Float64</td></tr><tr><td class = \"rowNumber\" style = \"font-weight: bold; text-align: right;\">5</td><td style = \"text-align: left;\">Lag4</td><td style = \"text-align: left;\">0.001636</td><td style = \"text-align: left;\">1.13877</td><td style = \"text-align: left;\">Float64</td></tr><tr><td class = \"rowNumber\" style = \"font-weight: bold; text-align: right;\">6</td><td style = \"text-align: left;\">Lag5</td><td style = \"text-align: left;\">0.0056096</td><td style = \"text-align: left;\">1.14755</td><td style = \"text-align: left;\">Float64</td></tr><tr><td class = \"rowNumber\" style = \"font-weight: bold; text-align: right;\">7</td><td style = \"text-align: left;\">Volume</td><td style = \"text-align: left;\">1.4783</td><td style = \"text-align: left;\">0.360357</td><td style = \"text-align: left;\">Float64</td></tr><tr><td class = \"rowNumber\" style = \"font-weight: bold; text-align: right;\">8</td><td style = \"text-align: left;\">Today</td><td style = \"text-align: left;\">0.0031384</td><td style = \"text-align: left;\">1.13633</td><td style = \"text-align: left;\">Float64</td></tr><tr><td class = \"rowNumber\" style = \"font-weight: bold; text-align: right;\">9</td><td style = \"text-align: left;\">Direction</td><td style = \"font-style: italic; text-align: left;\"></td><td style = \"font-style: italic; text-align: left;\"></td><td style = \"text-align: left;\">CategoricalValue{String, UInt8}</td></tr></tbody></table></div>"
      ],
      "text/latex": [
       "\\begin{tabular}{r|cccc}\n",
       "\t& variable & mean & std & eltype\\\\\n",
       "\t\\hline\n",
       "\t& Symbol & Union… & Union… & DataType\\\\\n",
       "\t\\hline\n",
       "\t1 & Year & 2003.02 & 1.40902 & Float64 \\\\\n",
       "\t2 & Lag1 & 0.0038344 & 1.1363 & Float64 \\\\\n",
       "\t3 & Lag2 & 0.0039192 & 1.13628 & Float64 \\\\\n",
       "\t4 & Lag3 & 0.001716 & 1.1387 & Float64 \\\\\n",
       "\t5 & Lag4 & 0.001636 & 1.13877 & Float64 \\\\\n",
       "\t6 & Lag5 & 0.0056096 & 1.14755 & Float64 \\\\\n",
       "\t7 & Volume & 1.4783 & 0.360357 & Float64 \\\\\n",
       "\t8 & Today & 0.0031384 & 1.13633 & Float64 \\\\\n",
       "\t9 & Direction &  &  & CategoricalValue\\{String, UInt8\\} \\\\\n",
       "\\end{tabular}\n"
      ],
      "text/plain": [
       "\u001b[1m9×4 DataFrame\u001b[0m\n",
       "\u001b[1m Row \u001b[0m│\u001b[1m variable  \u001b[0m\u001b[1m mean      \u001b[0m\u001b[1m std      \u001b[0m\u001b[1m eltype                          \u001b[0m\n",
       "     │\u001b[90m Symbol    \u001b[0m\u001b[90m Union…    \u001b[0m\u001b[90m Union…   \u001b[0m\u001b[90m DataType                        \u001b[0m\n",
       "─────┼─────────────────────────────────────────────────────────────────\n",
       "   1 │ Year       2003.02    1.40902   Float64\n",
       "   2 │ Lag1       0.0038344  1.1363    Float64\n",
       "   3 │ Lag2       0.0039192  1.13628   Float64\n",
       "   4 │ Lag3       0.001716   1.1387    Float64\n",
       "   5 │ Lag4       0.001636   1.13877   Float64\n",
       "   6 │ Lag5       0.0056096  1.14755   Float64\n",
       "   7 │ Volume     1.4783     0.360357  Float64\n",
       "   8 │ Today      0.0031384  1.13633   Float64\n",
       "   9 │ Direction \u001b[90m           \u001b[0m\u001b[90m          \u001b[0m CategoricalValue{String, UInt8}"
      ]
     },
     "metadata": {},
     "output_type": "display_data"
    }
   ],
   "source": [
    "describe(smarket, :mean, :std, :eltype)"
   ]
  },
  {
   "cell_type": "code",
   "execution_count": 4,
   "metadata": {},
   "outputs": [
    {
     "name": "stdout",
     "output_type": "stream",
     "text": [
      "\u001b[1m5×9 DataFrame\u001b[0m\n",
      "\u001b[1m Row \u001b[0m│\u001b[1m Year    \u001b[0m\u001b[1m Lag1    \u001b[0m\u001b[1m Lag2    \u001b[0m\u001b[1m Lag3    \u001b[0m\u001b[1m Lag4    \u001b[0m\u001b[1m Lag5    \u001b[0m\u001b[1m Volume  \u001b[0m\u001b[1m Today   \u001b[0m\u001b[1m Direction \u001b[0m\n",
      "     │\u001b[90m Float64 \u001b[0m\u001b[90m Float64 \u001b[0m\u001b[90m Float64 \u001b[0m\u001b[90m Float64 \u001b[0m\u001b[90m Float64 \u001b[0m\u001b[90m Float64 \u001b[0m\u001b[90m Float64 \u001b[0m\u001b[90m Float64 \u001b[0m\u001b[90m Cat…      \u001b[0m\n",
      "─────┼───────────────────────────────────────────────────────────────────────────────────\n",
      "   1 │  2001.0    0.381   -0.192   -2.624   -1.055    5.01    1.1913    0.959  Up\n",
      "   2 │  2001.0    0.959    0.381   -0.192   -2.624   -1.055   1.2965    1.032  Up\n",
      "   3 │  2001.0    1.032    0.959    0.381   -0.192   -2.624   1.4112   -0.623  Down\n",
      "   4 │  2001.0   -0.623    1.032    0.959    0.381   -0.192   1.276     0.614  Up\n",
      "   5 │  2001.0    0.614   -0.623    1.032    0.959    0.381   1.2057    0.213  Up\n"
     ]
    }
   ],
   "source": [
    "# println the first 5 rows of the data set\n",
    "println( smarket[1:5, :])"
   ]
  },
  {
   "cell_type": "markdown",
   "metadata": {},
   "source": [
    "### Preparing the data\n",
    "The independent variables in columns [1..8] will form the X matrix of shape [1250, 1:8].\n",
    "The dependent variable is Direction. The Direction variable contains categorical two values: \"Down\", \"Up\" \n",
    "Those values need to be transformed to the numbers 0, 1, and placed in a numerical array named y to compute logit regression.\n",
    "\n",
    "\n",
    "Some people call this operation **One Shot Encoding**"
   ]
  },
  {
   "cell_type": "code",
   "execution_count": 5,
   "metadata": {},
   "outputs": [
    {
     "name": "stdout",
     "output_type": "stream",
     "text": [
      "[1, 1, 0, 1, 1]\n"
     ]
    }
   ],
   "source": [
    "   \n",
    "y = map( x -> if x == \"Down\" 0 elseif x == \"Up\" 1 end, smarket.Direction)\n",
    "\n",
    "println(y[1:5])    \n",
    "\n",
    "X = select(smarket, Not(:Direction));\n",
    "\n"
   ]
  },
  {
   "cell_type": "markdown",
   "metadata": {},
   "source": [
    "We can compute all the pairwise correlations; we use `Matrix` so that the dataframe entries are considered as one matrix of numbers with the same type (otherwise `cor` won't work). \n",
    "\n",
    "Note that in the code below, `cm` is a symmetric matrix, in which the diagonals cells have the identity value. "
   ]
  },
  {
   "cell_type": "code",
   "execution_count": 6,
   "metadata": {},
   "outputs": [
    {
     "data": {
      "text/plain": [
       "8×8 Matrix{Float64}:\n",
       " 1.0    0.03    0.03    0.03    0.04    0.03    0.5    0.03\n",
       " 0.03   1.0    -0.03   -0.01   -0.003  -0.006   0.04  -0.03\n",
       " 0.03  -0.03    1.0    -0.03   -0.01   -0.004  -0.04  -0.01\n",
       " 0.03  -0.01   -0.03    1.0    -0.02   -0.02   -0.04  -0.002\n",
       " 0.04  -0.003  -0.01   -0.02    1.0    -0.03   -0.05  -0.007\n",
       " 0.03  -0.006  -0.004  -0.02   -0.03    1.0    -0.02  -0.03\n",
       " 0.5    0.04   -0.04   -0.04   -0.05   -0.02    1.0    0.01\n",
       " 0.03  -0.03   -0.01   -0.002  -0.007  -0.03    0.01   1.0"
      ]
     },
     "metadata": {},
     "output_type": "display_data"
    }
   ],
   "source": [
    "cm = X |> Matrix |> cor\n",
    "round.(cm, sigdigits=1)"
   ]
  },
  {
   "cell_type": "markdown",
   "metadata": {},
   "source": [
    "Let's see what the `:Volume` feature looks like:"
   ]
  },
  {
   "cell_type": "code",
   "execution_count": 8,
   "metadata": {},
   "outputs": [
    {
     "data": {
      "image/png": "[encoded data removed]",
      "image/svg+xml": [
       "<?xml version=\"1.0\" encoding=\"utf-8\"?>\n",
       "<svg xmlns=\"http://www.w3.org/2000/svg\" xmlns:xlink=\"http://www.w3.org/1999/xlink\" width=\"600\" height=\"400\" viewBox=\"0 0 2400 1600\">\n",
       "<defs>\n",
       "  <clipPath id=\"clip150\">\n",
       "    <rect x=\"0\" y=\"0\" width=\"2400\" height=\"1600\"/>\n",
       "  </clipPath>\n",
       "</defs>\n",
       "<path clip-path=\"url(#clip150)\" d=\"M0 1600 L2400 1600 L2400 0 L0 0  Z\" fill=\"#ffffff\" fill-rule=\"evenodd\" fill-opacity=\"1\"/>\n",
       "<defs>\n",
       "  <clipPath id=\"clip151\">\n",
       "    <rect x=\"480\" y=\"0\" width=\"1681\" height=\"1600\"/>\n",
       "  </clipPath>\n",
       "</defs>\n",
       "<path clip-path=\"url(#clip150)\" d=\"M219.033 1423.18 L2352.76 1423.18 L2352.76 123.472 L219.033 123.472  Z\" fill=\"#ffffff\" fill-rule=\"evenodd\" fill-opacity=\"1\"/>\n",
       "<defs>\n",
       "  <clipPath id=\"clip152\">\n",
       "    <rect x=\"219\" y=\"123\" width=\"2135\" height=\"1301\"/>\n",
       "  </clipPath>\n",
       "</defs>\n",
       "<polyline clip-path=\"url(#clip152)\" style=\"stroke:#000000; stroke-linecap:round; stroke-linejoin:round; stroke-width:2; stroke-opacity:0.1; fill:none\" points=\"277.81,1423.18 277.81,123.472 \"/>\n",
       "<polyline clip-path=\"url(#clip152)\" style=\"stroke:#000000; stroke-linecap:round; stroke-linejoin:round; stroke-width:2; stroke-opacity:0.1; fill:none\" points=\"600.139,1423.18 600.139,123.472 \"/>\n",
       "<polyline clip-path=\"url(#clip152)\" style=\"stroke:#000000; stroke-linecap:round; stroke-linejoin:round; stroke-width:2; stroke-opacity:0.1; fill:none\" points=\"922.468,1423.18 922.468,123.472 \"/>\n",
       "<polyline clip-path=\"url(#clip152)\" style=\"stroke:#000000; stroke-linecap:round; stroke-linejoin:round; stroke-width:2; stroke-opacity:0.1; fill:none\" points=\"1244.8,1423.18 1244.8,123.472 \"/>\n",
       "<polyline clip-path=\"url(#clip152)\" style=\"stroke:#000000; stroke-linecap:round; stroke-linejoin:round; stroke-width:2; stroke-opacity:0.1; fill:none\" points=\"1567.13,1423.18 1567.13,123.472 \"/>\n",
       "<polyline clip-path=\"url(#clip152)\" style=\"stroke:#000000; stroke-linecap:round; stroke-linejoin:round; stroke-width:2; stroke-opacity:0.1; fill:none\" points=\"1889.46,1423.18 1889.46,123.472 \"/>\n",
       "<polyline clip-path=\"url(#clip152)\" style=\"stroke:#000000; stroke-linecap:round; stroke-linejoin:round; stroke-width:2; stroke-opacity:0.1; fill:none\" points=\"2211.79,1423.18 2211.79,123.472 \"/>\n",
       "<polyline clip-path=\"url(#clip152)\" style=\"stroke:#000000; stroke-linecap:round; stroke-linejoin:round; stroke-width:2; stroke-opacity:0.1; fill:none\" points=\"219.033,1323.29 2352.76,1323.29 \"/>\n",
       "<polyline clip-path=\"url(#clip152)\" style=\"stroke:#000000; stroke-linecap:round; stroke-linejoin:round; stroke-width:2; stroke-opacity:0.1; fill:none\" points=\"219.033,1104.05 2352.76,1104.05 \"/>\n",
       "<polyline clip-path=\"url(#clip152)\" style=\"stroke:#000000; stroke-linecap:round; stroke-linejoin:round; stroke-width:2; stroke-opacity:0.1; fill:none\" points=\"219.033,884.816 2352.76,884.816 \"/>\n",
       "<polyline clip-path=\"url(#clip152)\" style=\"stroke:#000000; stroke-linecap:round; stroke-linejoin:round; stroke-width:2; stroke-opacity:0.1; fill:none\" points=\"219.033,665.581 2352.76,665.581 \"/>\n",
       "<polyline clip-path=\"url(#clip152)\" style=\"stroke:#000000; stroke-linecap:round; stroke-linejoin:round; stroke-width:2; stroke-opacity:0.1; fill:none\" points=\"219.033,446.345 2352.76,446.345 \"/>\n",
       "<polyline clip-path=\"url(#clip152)\" style=\"stroke:#000000; stroke-linecap:round; stroke-linejoin:round; stroke-width:2; stroke-opacity:0.1; fill:none\" points=\"219.033,227.11 2352.76,227.11 \"/>\n",
       "<polyline clip-path=\"url(#clip150)\" style=\"stroke:#000000; stroke-linecap:round; stroke-linejoin:round; stroke-width:4; stroke-opacity:1; fill:none\" points=\"219.033,1423.18 2352.76,1423.18 \"/>\n",
       "<polyline clip-path=\"url(#clip150)\" style=\"stroke:#000000; stroke-linecap:round; stroke-linejoin:round; stroke-width:4; stroke-opacity:1; fill:none\" points=\"277.81,1423.18 277.81,1404.28 \"/>\n",
       "<polyline clip-path=\"url(#clip150)\" style=\"stroke:#000000; stroke-linecap:round; stroke-linejoin:round; stroke-width:4; stroke-opacity:1; fill:none\" points=\"600.139,1423.18 600.139,1404.28 \"/>\n",
       "<polyline clip-path=\"url(#clip150)\" style=\"stroke:#000000; stroke-linecap:round; stroke-linejoin:round; stroke-width:4; stroke-opacity:1; fill:none\" points=\"922.468,1423.18 922.468,1404.28 \"/>\n",
       "<polyline clip-path=\"url(#clip150)\" style=\"stroke:#000000; stroke-linecap:round; stroke-linejoin:round; stroke-width:4; stroke-opacity:1; fill:none\" points=\"1244.8,1423.18 1244.8,1404.28 \"/>\n",
       "<polyline clip-path=\"url(#clip150)\" style=\"stroke:#000000; stroke-linecap:round; stroke-linejoin:round; stroke-width:4; stroke-opacity:1; fill:none\" points=\"1567.13,1423.18 1567.13,1404.28 \"/>\n",
       "<polyline clip-path=\"url(#clip150)\" style=\"stroke:#000000; stroke-linecap:round; stroke-linejoin:round; stroke-width:4; stroke-opacity:1; fill:none\" points=\"1889.46,1423.18 1889.46,1404.28 \"/>\n",
       "<polyline clip-path=\"url(#clip150)\" style=\"stroke:#000000; stroke-linecap:round; stroke-linejoin:round; stroke-width:4; stroke-opacity:1; fill:none\" points=\"2211.79,1423.18 2211.79,1404.28 \"/>\n",
       "<path clip-path=\"url(#clip150)\" d=\"M277.81 1454.1 Q274.199 1454.1 272.37 1457.66 Q270.564 1461.2 270.564 1468.33 Q270.564 1475.44 272.37 1479.01 Q274.199 1482.55 277.81 1482.55 Q281.444 1482.55 283.249 1479.01 Q285.078 1475.44 285.078 1468.33 Q285.078 1461.2 283.249 1457.66 Q281.444 1454.1 277.81 1454.1 M277.81 1450.39 Q283.62 1450.39 286.675 1455 Q289.754 1459.58 289.754 1468.33 Q289.754 1477.06 286.675 1481.67 Q283.62 1486.25 277.81 1486.25 Q272 1486.25 268.921 1481.67 Q265.865 1477.06 265.865 1468.33 Q265.865 1459.58 268.921 1455 Q272 1450.39 277.81 1450.39 Z\" fill=\"#000000\" fill-rule=\"nonzero\" fill-opacity=\"1\" /><path clip-path=\"url(#clip150)\" d=\"M563.831 1481.64 L580.151 1481.64 L580.151 1485.58 L558.206 1485.58 L558.206 1481.64 Q560.868 1478.89 565.452 1474.26 Q570.058 1469.61 571.239 1468.27 Q573.484 1465.74 574.364 1464.01 Q575.266 1462.25 575.266 1460.56 Q575.266 1457.8 573.322 1456.07 Q571.401 1454.33 568.299 1454.33 Q566.1 1454.33 563.646 1455.09 Q561.216 1455.86 558.438 1457.41 L558.438 1452.69 Q561.262 1451.55 563.716 1450.97 Q566.169 1450.39 568.206 1450.39 Q573.577 1450.39 576.771 1453.08 Q579.965 1455.77 579.965 1460.26 Q579.965 1462.39 579.155 1464.31 Q578.368 1466.2 576.262 1468.8 Q575.683 1469.47 572.581 1472.69 Q569.479 1475.88 563.831 1481.64 Z\" fill=\"#000000\" fill-rule=\"nonzero\" fill-opacity=\"1\" /><path clip-path=\"url(#clip150)\" d=\"M599.965 1454.1 Q596.354 1454.1 594.526 1457.66 Q592.72 1461.2 592.72 1468.33 Q592.72 1475.44 594.526 1479.01 Q596.354 1482.55 599.965 1482.55 Q603.6 1482.55 605.405 1479.01 Q607.234 1475.44 607.234 1468.33 Q607.234 1461.2 605.405 1457.66 Q603.6 1454.1 599.965 1454.1 M599.965 1450.39 Q605.775 1450.39 608.831 1455 Q611.91 1459.58 611.91 1468.33 Q611.91 1477.06 608.831 1481.67 Q605.775 1486.25 599.965 1486.25 Q594.155 1486.25 591.076 1481.67 Q588.021 1477.06 588.021 1468.33 Q588.021 1459.58 591.076 1455 Q594.155 1450.39 599.965 1450.39 Z\" fill=\"#000000\" fill-rule=\"nonzero\" fill-opacity=\"1\" /><path clip-path=\"url(#clip150)\" d=\"M630.127 1454.1 Q626.516 1454.1 624.687 1457.66 Q622.882 1461.2 622.882 1468.33 Q622.882 1475.44 624.687 1479.01 Q626.516 1482.55 630.127 1482.55 Q633.761 1482.55 635.567 1479.01 Q637.396 1475.44 637.396 1468.33 Q637.396 1461.2 635.567 1457.66 Q633.761 1454.1 630.127 1454.1 M630.127 1450.39 Q635.937 1450.39 638.993 1455 Q642.072 1459.58 642.072 1468.33 Q642.072 1477.06 638.993 1481.67 Q635.937 1486.25 630.127 1486.25 Q624.317 1486.25 621.238 1481.67 Q618.183 1477.06 618.183 1468.33 Q618.183 1459.58 621.238 1455 Q624.317 1450.39 630.127 1450.39 Z\" fill=\"#000000\" fill-rule=\"nonzero\" fill-opacity=\"1\" /><path clip-path=\"url(#clip150)\" d=\"M895.559 1455.09 L883.753 1473.54 L895.559 1473.54 L895.559 1455.09 M894.332 1451.02 L900.211 1451.02 L900.211 1473.54 L905.142 1473.54 L905.142 1477.43 L900.211 1477.43 L900.211 1485.58 L895.559 1485.58 L895.559 1477.43 L879.957 1477.43 L879.957 1472.92 L894.332 1451.02 Z\" fill=\"#000000\" fill-rule=\"nonzero\" fill-opacity=\"1\" /><path clip-path=\"url(#clip150)\" d=\"M922.873 1454.1 Q919.262 1454.1 917.433 1457.66 Q915.628 1461.2 915.628 1468.33 Q915.628 1475.44 917.433 1479.01 Q919.262 1482.55 922.873 1482.55 Q926.508 1482.55 928.313 1479.01 Q930.142 1475.44 930.142 1468.33 Q930.142 1461.2 928.313 1457.66 Q926.508 1454.1 922.873 1454.1 M922.873 1450.39 Q928.683 1450.39 931.739 1455 Q934.818 1459.58 934.818 1468.33 Q934.818 1477.06 931.739 1481.67 Q928.683 1486.25 922.873 1486.25 Q917.063 1486.25 913.984 1481.67 Q910.929 1477.06 910.929 1468.33 Q910.929 1459.58 913.984 1455 Q917.063 1450.39 922.873 1450.39 Z\" fill=\"#000000\" fill-rule=\"nonzero\" fill-opacity=\"1\" /><path clip-path=\"url(#clip150)\" d=\"M953.035 1454.1 Q949.424 1454.1 947.595 1457.66 Q945.79 1461.2 945.79 1468.33 Q945.79 1475.44 947.595 1479.01 Q949.424 1482.55 953.035 1482.55 Q956.669 1482.55 958.475 1479.01 Q960.304 1475.44 960.304 1468.33 Q960.304 1461.2 958.475 1457.66 Q956.669 1454.1 953.035 1454.1 M953.035 1450.39 Q958.845 1450.39 961.901 1455 Q964.98 1459.58 964.98 1468.33 Q964.98 1477.06 961.901 1481.67 Q958.845 1486.25 953.035 1486.25 Q947.225 1486.25 944.146 1481.67 Q941.091 1477.06 941.091 1468.33 Q941.091 1459.58 944.146 1455 Q947.225 1450.39 953.035 1450.39 Z\" fill=\"#000000\" fill-rule=\"nonzero\" fill-opacity=\"1\" /><path clip-path=\"url(#clip150)\" d=\"M1215.12 1466.44 Q1211.97 1466.44 1210.12 1468.59 Q1208.29 1470.74 1208.29 1474.49 Q1208.29 1478.22 1210.12 1480.39 Q1211.97 1482.55 1215.12 1482.55 Q1218.27 1482.55 1220.1 1480.39 Q1221.95 1478.22 1221.95 1474.49 Q1221.95 1470.74 1220.1 1468.59 Q1218.27 1466.44 1215.12 1466.44 M1224.4 1451.78 L1224.4 1456.04 Q1222.64 1455.21 1220.84 1454.77 Q1219.06 1454.33 1217.3 1454.33 Q1212.67 1454.33 1210.21 1457.45 Q1207.78 1460.58 1207.44 1466.9 Q1208.8 1464.89 1210.86 1463.82 Q1212.92 1462.73 1215.4 1462.73 Q1220.61 1462.73 1223.62 1465.9 Q1226.65 1469.05 1226.65 1474.49 Q1226.65 1479.82 1223.5 1483.03 Q1220.35 1486.25 1215.12 1486.25 Q1209.13 1486.25 1205.96 1481.67 Q1202.78 1477.06 1202.78 1468.33 Q1202.78 1460.14 1206.67 1455.28 Q1210.56 1450.39 1217.11 1450.39 Q1218.87 1450.39 1220.65 1450.74 Q1222.46 1451.09 1224.4 1451.78 Z\" fill=\"#000000\" fill-rule=\"nonzero\" fill-opacity=\"1\" /><path clip-path=\"url(#clip150)\" d=\"M1244.7 1454.1 Q1241.09 1454.1 1239.27 1457.66 Q1237.46 1461.2 1237.46 1468.33 Q1237.46 1475.44 1239.27 1479.01 Q1241.09 1482.55 1244.7 1482.55 Q1248.34 1482.55 1250.14 1479.01 Q1251.97 1475.44 1251.97 1468.33 Q1251.97 1461.2 1250.14 1457.66 Q1248.34 1454.1 1244.7 1454.1 M1244.7 1450.39 Q1250.52 1450.39 1253.57 1455 Q1256.65 1459.58 1256.65 1468.33 Q1256.65 1477.06 1253.57 1481.67 Q1250.52 1486.25 1244.7 1486.25 Q1238.89 1486.25 1235.82 1481.67 Q1232.76 1477.06 1232.76 1468.33 Q1232.76 1459.58 1235.82 1455 Q1238.89 1450.39 1244.7 1450.39 Z\" fill=\"#000000\" fill-rule=\"nonzero\" fill-opacity=\"1\" /><path clip-path=\"url(#clip150)\" d=\"M1274.87 1454.1 Q1271.26 1454.1 1269.43 1457.66 Q1267.62 1461.2 1267.62 1468.33 Q1267.62 1475.44 1269.43 1479.01 Q1271.26 1482.55 1274.87 1482.55 Q1278.5 1482.55 1280.31 1479.01 Q1282.14 1475.44 1282.14 1468.33 Q1282.14 1461.2 1280.31 1457.66 Q1278.5 1454.1 1274.87 1454.1 M1274.87 1450.39 Q1280.68 1450.39 1283.73 1455 Q1286.81 1459.58 1286.81 1468.33 Q1286.81 1477.06 1283.73 1481.67 Q1280.68 1486.25 1274.87 1486.25 Q1269.06 1486.25 1265.98 1481.67 Q1262.92 1477.06 1262.92 1468.33 Q1262.92 1459.58 1265.98 1455 Q1269.06 1450.39 1274.87 1450.39 Z\" fill=\"#000000\" fill-rule=\"nonzero\" fill-opacity=\"1\" /><path clip-path=\"url(#clip150)\" d=\"M1536.92 1469.17 Q1533.59 1469.17 1531.66 1470.95 Q1529.77 1472.73 1529.77 1475.86 Q1529.77 1478.98 1531.66 1480.77 Q1533.59 1482.55 1536.92 1482.55 Q1540.25 1482.55 1542.17 1480.77 Q1544.09 1478.96 1544.09 1475.86 Q1544.09 1472.73 1542.17 1470.95 Q1540.27 1469.17 1536.92 1469.17 M1532.24 1467.18 Q1529.23 1466.44 1527.54 1464.38 Q1525.88 1462.32 1525.88 1459.35 Q1525.88 1455.21 1528.82 1452.8 Q1531.78 1450.39 1536.92 1450.39 Q1542.08 1450.39 1545.02 1452.8 Q1547.96 1455.21 1547.96 1459.35 Q1547.96 1462.32 1546.27 1464.38 Q1544.6 1466.44 1541.62 1467.18 Q1545 1467.96 1546.87 1470.26 Q1548.77 1472.55 1548.77 1475.86 Q1548.77 1480.88 1545.69 1483.57 Q1542.64 1486.25 1536.92 1486.25 Q1531.2 1486.25 1528.12 1483.57 Q1525.07 1480.88 1525.07 1475.86 Q1525.07 1472.55 1526.96 1470.26 Q1528.86 1467.96 1532.24 1467.18 M1530.53 1459.79 Q1530.53 1462.48 1532.2 1463.98 Q1533.89 1465.49 1536.92 1465.49 Q1539.93 1465.49 1541.62 1463.98 Q1543.33 1462.48 1543.33 1459.79 Q1543.33 1457.11 1541.62 1455.6 Q1539.93 1454.1 1536.92 1454.1 Q1533.89 1454.1 1532.2 1455.6 Q1530.53 1457.11 1530.53 1459.79 Z\" fill=\"#000000\" fill-rule=\"nonzero\" fill-opacity=\"1\" /><path clip-path=\"url(#clip150)\" d=\"M1567.08 1454.1 Q1563.47 1454.1 1561.64 1457.66 Q1559.84 1461.2 1559.84 1468.33 Q1559.84 1475.44 1561.64 1479.01 Q1563.47 1482.55 1567.08 1482.55 Q1570.71 1482.55 1572.52 1479.01 Q1574.35 1475.44 1574.35 1468.33 Q1574.35 1461.2 1572.52 1457.66 Q1570.71 1454.1 1567.08 1454.1 M1567.08 1450.39 Q1572.89 1450.39 1575.95 1455 Q1579.02 1459.58 1579.02 1468.33 Q1579.02 1477.06 1575.95 1481.67 Q1572.89 1486.25 1567.08 1486.25 Q1561.27 1486.25 1558.19 1481.67 Q1555.14 1477.06 1555.14 1468.33 Q1555.14 1459.58 1558.19 1455 Q1561.27 1450.39 1567.08 1450.39 Z\" fill=\"#000000\" fill-rule=\"nonzero\" fill-opacity=\"1\" /><path clip-path=\"url(#clip150)\" d=\"M1597.24 1454.1 Q1593.63 1454.1 1591.8 1457.66 Q1590 1461.2 1590 1468.33 Q1590 1475.44 1591.8 1479.01 Q1593.63 1482.55 1597.24 1482.55 Q1600.88 1482.55 1602.68 1479.01 Q1604.51 1475.44 1604.51 1468.33 Q1604.51 1461.2 1602.68 1457.66 Q1600.88 1454.1 1597.24 1454.1 M1597.24 1450.39 Q1603.05 1450.39 1606.11 1455 Q1609.19 1459.58 1609.19 1468.33 Q1609.19 1477.06 1606.11 1481.67 Q1603.05 1486.25 1597.24 1486.25 Q1591.43 1486.25 1588.35 1481.67 Q1585.3 1477.06 1585.3 1468.33 Q1585.3 1459.58 1588.35 1455 Q1591.43 1450.39 1597.24 1450.39 Z\" fill=\"#000000\" fill-rule=\"nonzero\" fill-opacity=\"1\" /><path clip-path=\"url(#clip150)\" d=\"M1833.98 1481.64 L1841.62 1481.64 L1841.62 1455.28 L1833.31 1456.95 L1833.31 1452.69 L1841.57 1451.02 L1846.25 1451.02 L1846.25 1481.64 L1853.89 1481.64 L1853.89 1485.58 L1833.98 1485.58 L1833.98 1481.64 Z\" fill=\"#000000\" fill-rule=\"nonzero\" fill-opacity=\"1\" /><path clip-path=\"url(#clip150)\" d=\"M1873.33 1454.1 Q1869.72 1454.1 1867.89 1457.66 Q1866.09 1461.2 1866.09 1468.33 Q1866.09 1475.44 1867.89 1479.01 Q1869.72 1482.55 1873.33 1482.55 Q1876.97 1482.55 1878.77 1479.01 Q1880.6 1475.44 1880.6 1468.33 Q1880.6 1461.2 1878.77 1457.66 Q1876.97 1454.1 1873.33 1454.1 M1873.33 1450.39 Q1879.14 1450.39 1882.2 1455 Q1885.28 1459.58 1885.28 1468.33 Q1885.28 1477.06 1882.2 1481.67 Q1879.14 1486.25 1873.33 1486.25 Q1867.52 1486.25 1864.44 1481.67 Q1861.39 1477.06 1861.39 1468.33 Q1861.39 1459.58 1864.44 1455 Q1867.52 1450.39 1873.33 1450.39 Z\" fill=\"#000000\" fill-rule=\"nonzero\" fill-opacity=\"1\" /><path clip-path=\"url(#clip150)\" d=\"M1903.5 1454.1 Q1899.88 1454.1 1898.06 1457.66 Q1896.25 1461.2 1896.25 1468.33 Q1896.25 1475.44 1898.06 1479.01 Q1899.88 1482.55 1903.5 1482.55 Q1907.13 1482.55 1908.94 1479.01 Q1910.76 1475.44 1910.76 1468.33 Q1910.76 1461.2 1908.94 1457.66 Q1907.13 1454.1 1903.5 1454.1 M1903.5 1450.39 Q1909.31 1450.39 1912.36 1455 Q1915.44 1459.58 1915.44 1468.33 Q1915.44 1477.06 1912.36 1481.67 Q1909.31 1486.25 1903.5 1486.25 Q1897.69 1486.25 1894.61 1481.67 Q1891.55 1477.06 1891.55 1468.33 Q1891.55 1459.58 1894.61 1455 Q1897.69 1450.39 1903.5 1450.39 Z\" fill=\"#000000\" fill-rule=\"nonzero\" fill-opacity=\"1\" /><path clip-path=\"url(#clip150)\" d=\"M1933.66 1454.1 Q1930.05 1454.1 1928.22 1457.66 Q1926.41 1461.2 1926.41 1468.33 Q1926.41 1475.44 1928.22 1479.01 Q1930.05 1482.55 1933.66 1482.55 Q1937.29 1482.55 1939.1 1479.01 Q1940.93 1475.44 1940.93 1468.33 Q1940.93 1461.2 1939.1 1457.66 Q1937.29 1454.1 1933.66 1454.1 M1933.66 1450.39 Q1939.47 1450.39 1942.52 1455 Q1945.6 1459.58 1945.6 1468.33 Q1945.6 1477.06 1942.52 1481.67 Q1939.47 1486.25 1933.66 1486.25 Q1927.85 1486.25 1924.77 1481.67 Q1921.71 1477.06 1921.71 1468.33 Q1921.71 1459.58 1924.77 1455 Q1927.85 1450.39 1933.66 1450.39 Z\" fill=\"#000000\" fill-rule=\"nonzero\" fill-opacity=\"1\" /><path clip-path=\"url(#clip150)\" d=\"M2156.31 1481.64 L2163.95 1481.64 L2163.95 1455.28 L2155.64 1456.95 L2155.64 1452.69 L2163.9 1451.02 L2168.58 1451.02 L2168.58 1481.64 L2176.22 1481.64 L2176.22 1485.58 L2156.31 1485.58 L2156.31 1481.64 Z\" fill=\"#000000\" fill-rule=\"nonzero\" fill-opacity=\"1\" /><path clip-path=\"url(#clip150)\" d=\"M2189.69 1481.64 L2206.01 1481.64 L2206.01 1485.58 L2184.07 1485.58 L2184.07 1481.64 Q2186.73 1478.89 2191.31 1474.26 Q2195.92 1469.61 2197.1 1468.27 Q2199.34 1465.74 2200.22 1464.01 Q2201.13 1462.25 2201.13 1460.56 Q2201.13 1457.8 2199.18 1456.07 Q2197.26 1454.33 2194.16 1454.33 Q2191.96 1454.33 2189.51 1455.09 Q2187.07 1455.86 2184.3 1457.41 L2184.3 1452.69 Q2187.12 1451.55 2189.57 1450.97 Q2192.03 1450.39 2194.07 1450.39 Q2199.44 1450.39 2202.63 1453.08 Q2205.82 1455.77 2205.82 1460.26 Q2205.82 1462.39 2205.01 1464.31 Q2204.23 1466.2 2202.12 1468.8 Q2201.54 1469.47 2198.44 1472.69 Q2195.34 1475.88 2189.69 1481.64 Z\" fill=\"#000000\" fill-rule=\"nonzero\" fill-opacity=\"1\" /><path clip-path=\"url(#clip150)\" d=\"M2225.82 1454.1 Q2222.21 1454.1 2220.38 1457.66 Q2218.58 1461.2 2218.58 1468.33 Q2218.58 1475.44 2220.38 1479.01 Q2222.21 1482.55 2225.82 1482.55 Q2229.46 1482.55 2231.26 1479.01 Q2233.09 1475.44 2233.09 1468.33 Q2233.09 1461.2 2231.26 1457.66 Q2229.46 1454.1 2225.82 1454.1 M2225.82 1450.39 Q2231.63 1450.39 2234.69 1455 Q2237.77 1459.58 2237.77 1468.33 Q2237.77 1477.06 2234.69 1481.67 Q2231.63 1486.25 2225.82 1486.25 Q2220.01 1486.25 2216.94 1481.67 Q2213.88 1477.06 2213.88 1468.33 Q2213.88 1459.58 2216.94 1455 Q2220.01 1450.39 2225.82 1450.39 Z\" fill=\"#000000\" fill-rule=\"nonzero\" fill-opacity=\"1\" /><path clip-path=\"url(#clip150)\" d=\"M2255.99 1454.1 Q2252.38 1454.1 2250.55 1457.66 Q2248.74 1461.2 2248.74 1468.33 Q2248.74 1475.44 2250.55 1479.01 Q2252.38 1482.55 2255.99 1482.55 Q2259.62 1482.55 2261.43 1479.01 Q2263.25 1475.44 2263.25 1468.33 Q2263.25 1461.2 2261.43 1457.66 Q2259.62 1454.1 2255.99 1454.1 M2255.99 1450.39 Q2261.8 1450.39 2264.85 1455 Q2267.93 1459.58 2267.93 1468.33 Q2267.93 1477.06 2264.85 1481.67 Q2261.8 1486.25 2255.99 1486.25 Q2250.18 1486.25 2247.1 1481.67 Q2244.04 1477.06 2244.04 1468.33 Q2244.04 1459.58 2247.1 1455 Q2250.18 1450.39 2255.99 1450.39 Z\" fill=\"#000000\" fill-rule=\"nonzero\" fill-opacity=\"1\" /><path clip-path=\"url(#clip150)\" d=\"M1089.88 1525.81 L1089.88 1562.76 L1097.64 1562.76 Q1107.48 1562.76 1112.03 1558.3 Q1116.61 1553.85 1116.61 1544.24 Q1116.61 1534.69 1112.03 1530.26 Q1107.48 1525.81 1097.64 1525.81 L1089.88 1525.81 M1083.45 1520.52 L1096.66 1520.52 Q1110.47 1520.52 1116.93 1526.28 Q1123.39 1532.01 1123.39 1544.24 Q1123.39 1556.52 1116.9 1562.28 Q1110.41 1568.04 1096.66 1568.04 L1083.45 1568.04 L1083.45 1520.52 Z\" fill=\"#000000\" fill-rule=\"nonzero\" fill-opacity=\"1\" /><path clip-path=\"url(#clip150)\" d=\"M1149.59 1550.12 Q1142.49 1550.12 1139.75 1551.75 Q1137.02 1553.37 1137.02 1557.29 Q1137.02 1560.4 1139.05 1562.25 Q1141.12 1564.07 1144.66 1564.07 Q1149.53 1564.07 1152.45 1560.63 Q1155.41 1557.16 1155.41 1551.43 L1155.41 1550.12 L1149.59 1550.12 M1161.27 1547.71 L1161.27 1568.04 L1155.41 1568.04 L1155.41 1562.63 Q1153.41 1565.88 1150.42 1567.44 Q1147.42 1568.97 1143.1 1568.97 Q1137.62 1568.97 1134.37 1565.91 Q1131.16 1562.82 1131.16 1557.67 Q1131.16 1551.65 1135.17 1548.6 Q1139.21 1545.54 1147.2 1545.54 L1155.41 1545.54 L1155.41 1544.97 Q1155.41 1540.93 1152.74 1538.73 Q1150.1 1536.5 1145.29 1536.5 Q1142.24 1536.5 1139.34 1537.23 Q1136.44 1537.97 1133.77 1539.43 L1133.77 1534.02 Q1136.98 1532.78 1140.01 1532.17 Q1143.03 1531.54 1145.9 1531.54 Q1153.63 1531.54 1157.45 1535.55 Q1161.27 1539.56 1161.27 1547.71 Z\" fill=\"#000000\" fill-rule=\"nonzero\" fill-opacity=\"1\" /><path clip-path=\"url(#clip150)\" d=\"M1188.16 1571.35 Q1185.68 1577.72 1183.33 1579.66 Q1180.97 1581.6 1177.02 1581.6 L1172.35 1581.6 L1172.35 1576.7 L1175.78 1576.7 Q1178.2 1576.7 1179.54 1575.56 Q1180.88 1574.41 1182.5 1570.14 L1183.55 1567.47 L1169.13 1532.4 L1175.34 1532.4 L1186.48 1560.28 L1197.62 1532.4 L1203.82 1532.4 L1188.16 1571.35 Z\" fill=\"#000000\" fill-rule=\"nonzero\" fill-opacity=\"1\" /><path clip-path=\"url(#clip150)\" d=\"M1232.88 1520.52 L1241.54 1520.52 L1262.61 1560.28 L1262.61 1520.52 L1268.85 1520.52 L1268.85 1568.04 L1260.19 1568.04 L1239.12 1528.29 L1239.12 1568.04 L1232.88 1568.04 L1232.88 1520.52 Z\" fill=\"#000000\" fill-rule=\"nonzero\" fill-opacity=\"1\" /><path clip-path=\"url(#clip150)\" d=\"M1280.79 1553.98 L1280.79 1532.4 L1286.64 1532.4 L1286.64 1553.75 Q1286.64 1558.81 1288.62 1561.36 Q1290.59 1563.87 1294.54 1563.87 Q1299.28 1563.87 1302.02 1560.85 Q1304.78 1557.83 1304.78 1552.61 L1304.78 1532.4 L1310.64 1532.4 L1310.64 1568.04 L1304.78 1568.04 L1304.78 1562.57 Q1302.65 1565.82 1299.82 1567.41 Q1297.02 1568.97 1293.29 1568.97 Q1287.15 1568.97 1283.97 1565.15 Q1280.79 1561.33 1280.79 1553.98 M1295.52 1531.54 L1295.52 1531.54 Z\" fill=\"#000000\" fill-rule=\"nonzero\" fill-opacity=\"1\" /><path clip-path=\"url(#clip150)\" d=\"M1350.46 1539.24 Q1352.65 1535.29 1355.71 1533.41 Q1358.77 1531.54 1362.9 1531.54 Q1368.47 1531.54 1371.5 1535.45 Q1374.52 1539.33 1374.52 1546.53 L1374.52 1568.04 L1368.63 1568.04 L1368.63 1546.72 Q1368.63 1541.59 1366.82 1539.11 Q1365 1536.63 1361.28 1536.63 Q1356.73 1536.63 1354.09 1539.65 Q1351.45 1542.68 1351.45 1547.9 L1351.45 1568.04 L1345.56 1568.04 L1345.56 1546.72 Q1345.56 1541.56 1343.74 1539.11 Q1341.93 1536.63 1338.14 1536.63 Q1333.65 1536.63 1331.01 1539.68 Q1328.37 1542.71 1328.37 1547.9 L1328.37 1568.04 L1322.48 1568.04 L1322.48 1532.4 L1328.37 1532.4 L1328.37 1537.93 Q1330.37 1534.66 1333.18 1533.1 Q1335.98 1531.54 1339.83 1531.54 Q1343.71 1531.54 1346.42 1533.51 Q1349.15 1535.48 1350.46 1539.24 Z\" fill=\"#000000\" fill-rule=\"nonzero\" fill-opacity=\"1\" /><path clip-path=\"url(#clip150)\" d=\"M1411.79 1550.25 Q1411.79 1543.79 1409.12 1540.13 Q1406.48 1536.44 1401.83 1536.44 Q1397.18 1536.44 1394.51 1540.13 Q1391.87 1543.79 1391.87 1550.25 Q1391.87 1556.71 1394.51 1560.4 Q1397.18 1564.07 1401.83 1564.07 Q1406.48 1564.07 1409.12 1560.4 Q1411.79 1556.71 1411.79 1550.25 M1391.87 1537.81 Q1393.71 1534.62 1396.51 1533.1 Q1399.35 1531.54 1403.26 1531.54 Q1409.76 1531.54 1413.8 1536.69 Q1417.87 1541.85 1417.87 1550.25 Q1417.87 1558.65 1413.8 1563.81 Q1409.76 1568.97 1403.26 1568.97 Q1399.35 1568.97 1396.51 1567.44 Q1393.71 1565.88 1391.87 1562.7 L1391.87 1568.04 L1385.98 1568.04 L1385.98 1518.52 L1391.87 1518.52 L1391.87 1537.81 Z\" fill=\"#000000\" fill-rule=\"nonzero\" fill-opacity=\"1\" /><path clip-path=\"url(#clip150)\" d=\"M1458.07 1548.76 L1458.07 1551.62 L1431.14 1551.62 Q1431.53 1557.67 1434.77 1560.85 Q1438.05 1564 1443.88 1564 Q1447.25 1564 1450.4 1563.17 Q1453.58 1562.35 1456.7 1560.69 L1456.7 1566.23 Q1453.55 1567.57 1450.24 1568.27 Q1446.93 1568.97 1443.53 1568.97 Q1435 1568.97 1430 1564 Q1425.03 1559.04 1425.03 1550.57 Q1425.03 1541.82 1429.74 1536.69 Q1434.49 1531.54 1442.51 1531.54 Q1449.7 1531.54 1453.87 1536.18 Q1458.07 1540.8 1458.07 1548.76 M1452.21 1547.04 Q1452.15 1542.23 1449.51 1539.37 Q1446.9 1536.5 1442.57 1536.5 Q1437.67 1536.5 1434.71 1539.27 Q1431.78 1542.04 1431.33 1547.07 L1452.21 1547.04 Z\" fill=\"#000000\" fill-rule=\"nonzero\" fill-opacity=\"1\" /><path clip-path=\"url(#clip150)\" d=\"M1488.34 1537.87 Q1487.35 1537.3 1486.18 1537.04 Q1485.03 1536.76 1483.63 1536.76 Q1478.66 1536.76 1475.99 1540 Q1473.35 1543.22 1473.35 1549.27 L1473.35 1568.04 L1467.46 1568.04 L1467.46 1532.4 L1473.35 1532.4 L1473.35 1537.93 Q1475.19 1534.69 1478.15 1533.13 Q1481.11 1531.54 1485.35 1531.54 Q1485.95 1531.54 1486.68 1531.63 Q1487.42 1531.7 1488.31 1531.85 L1488.34 1537.87 Z\" fill=\"#000000\" fill-rule=\"nonzero\" fill-opacity=\"1\" /><polyline clip-path=\"url(#clip150)\" style=\"stroke:#000000; stroke-linecap:round; stroke-linejoin:round; stroke-width:4; stroke-opacity:1; fill:none\" points=\"219.033,1423.18 219.033,123.472 \"/>\n",
       "<polyline clip-path=\"url(#clip150)\" style=\"stroke:#000000; stroke-linecap:round; stroke-linejoin:round; stroke-width:4; stroke-opacity:1; fill:none\" points=\"219.033,1323.29 237.931,1323.29 \"/>\n",
       "<polyline clip-path=\"url(#clip150)\" style=\"stroke:#000000; stroke-linecap:round; stroke-linejoin:round; stroke-width:4; stroke-opacity:1; fill:none\" points=\"219.033,1104.05 237.931,1104.05 \"/>\n",
       "<polyline clip-path=\"url(#clip150)\" style=\"stroke:#000000; stroke-linecap:round; stroke-linejoin:round; stroke-width:4; stroke-opacity:1; fill:none\" points=\"219.033,884.816 237.931,884.816 \"/>\n",
       "<polyline clip-path=\"url(#clip150)\" style=\"stroke:#000000; stroke-linecap:round; stroke-linejoin:round; stroke-width:4; stroke-opacity:1; fill:none\" points=\"219.033,665.581 237.931,665.581 \"/>\n",
       "<polyline clip-path=\"url(#clip150)\" style=\"stroke:#000000; stroke-linecap:round; stroke-linejoin:round; stroke-width:4; stroke-opacity:1; fill:none\" points=\"219.033,446.345 237.931,446.345 \"/>\n",
       "<polyline clip-path=\"url(#clip150)\" style=\"stroke:#000000; stroke-linecap:round; stroke-linejoin:round; stroke-width:4; stroke-opacity:1; fill:none\" points=\"219.033,227.11 237.931,227.11 \"/>\n",
       "<path clip-path=\"url(#clip150)\" d=\"M126.853 1309.09 Q123.242 1309.09 121.413 1312.65 Q119.607 1316.19 119.607 1323.32 Q119.607 1330.43 121.413 1333.99 Q123.242 1337.53 126.853 1337.53 Q130.487 1337.53 132.292 1333.99 Q134.121 1330.43 134.121 1323.32 Q134.121 1316.19 132.292 1312.65 Q130.487 1309.09 126.853 1309.09 M126.853 1305.38 Q132.663 1305.38 135.718 1309.99 Q138.797 1314.57 138.797 1323.32 Q138.797 1332.05 135.718 1336.65 Q132.663 1341.24 126.853 1341.24 Q121.043 1341.24 117.964 1336.65 Q114.908 1332.05 114.908 1323.32 Q114.908 1314.57 117.964 1309.99 Q121.043 1305.38 126.853 1305.38 Z\" fill=\"#000000\" fill-rule=\"nonzero\" fill-opacity=\"1\" /><path clip-path=\"url(#clip150)\" d=\"M147.015 1334.69 L151.899 1334.69 L151.899 1340.57 L147.015 1340.57 L147.015 1334.69 Z\" fill=\"#000000\" fill-rule=\"nonzero\" fill-opacity=\"1\" /><path clip-path=\"url(#clip150)\" d=\"M162.13 1306.01 L180.487 1306.01 L180.487 1309.94 L166.413 1309.94 L166.413 1318.41 Q167.431 1318.07 168.45 1317.9 Q169.468 1317.72 170.487 1317.72 Q176.274 1317.72 179.653 1320.89 Q183.033 1324.06 183.033 1329.48 Q183.033 1335.06 179.561 1338.16 Q176.089 1341.24 169.769 1341.24 Q167.593 1341.24 165.325 1340.87 Q163.079 1340.5 160.672 1339.76 L160.672 1335.06 Q162.755 1336.19 164.977 1336.75 Q167.2 1337.3 169.677 1337.3 Q173.681 1337.3 176.019 1335.2 Q178.357 1333.09 178.357 1329.48 Q178.357 1325.87 176.019 1323.76 Q173.681 1321.65 169.677 1321.65 Q167.802 1321.65 165.927 1322.07 Q164.075 1322.49 162.13 1323.37 L162.13 1306.01 Z\" fill=\"#000000\" fill-rule=\"nonzero\" fill-opacity=\"1\" /><path clip-path=\"url(#clip150)\" d=\"M116.668 1117.4 L124.306 1117.4 L124.306 1091.03 L115.996 1092.7 L115.996 1088.44 L124.26 1086.77 L128.936 1086.77 L128.936 1117.4 L136.575 1117.4 L136.575 1121.33 L116.668 1121.33 L116.668 1117.4 Z\" fill=\"#000000\" fill-rule=\"nonzero\" fill-opacity=\"1\" /><path clip-path=\"url(#clip150)\" d=\"M146.019 1115.45 L150.903 1115.45 L150.903 1121.33 L146.019 1121.33 L146.019 1115.45 Z\" fill=\"#000000\" fill-rule=\"nonzero\" fill-opacity=\"1\" /><path clip-path=\"url(#clip150)\" d=\"M171.089 1089.85 Q167.477 1089.85 165.649 1093.41 Q163.843 1096.96 163.843 1104.09 Q163.843 1111.19 165.649 1114.76 Q167.477 1118.3 171.089 1118.3 Q174.723 1118.3 176.528 1114.76 Q178.357 1111.19 178.357 1104.09 Q178.357 1096.96 176.528 1093.41 Q174.723 1089.85 171.089 1089.85 M171.089 1086.15 Q176.899 1086.15 179.954 1090.75 Q183.033 1095.34 183.033 1104.09 Q183.033 1112.81 179.954 1117.42 Q176.899 1122 171.089 1122 Q165.278 1122 162.2 1117.42 Q159.144 1112.81 159.144 1104.09 Q159.144 1095.34 162.2 1090.75 Q165.278 1086.15 171.089 1086.15 Z\" fill=\"#000000\" fill-rule=\"nonzero\" fill-opacity=\"1\" /><path clip-path=\"url(#clip150)\" d=\"M117.663 898.161 L125.302 898.161 L125.302 871.795 L116.992 873.462 L116.992 869.203 L125.255 867.536 L129.931 867.536 L129.931 898.161 L137.57 898.161 L137.57 902.096 L117.663 902.096 L117.663 898.161 Z\" fill=\"#000000\" fill-rule=\"nonzero\" fill-opacity=\"1\" /><path clip-path=\"url(#clip150)\" d=\"M147.015 896.216 L151.899 896.216 L151.899 902.096 L147.015 902.096 L147.015 896.216 Z\" fill=\"#000000\" fill-rule=\"nonzero\" fill-opacity=\"1\" /><path clip-path=\"url(#clip150)\" d=\"M162.13 867.536 L180.487 867.536 L180.487 871.471 L166.413 871.471 L166.413 879.943 Q167.431 879.596 168.45 879.434 Q169.468 879.249 170.487 879.249 Q176.274 879.249 179.653 882.42 Q183.033 885.591 183.033 891.008 Q183.033 896.587 179.561 899.689 Q176.089 902.767 169.769 902.767 Q167.593 902.767 165.325 902.397 Q163.079 902.026 160.672 901.286 L160.672 896.587 Q162.755 897.721 164.977 898.276 Q167.2 898.832 169.677 898.832 Q173.681 898.832 176.019 896.726 Q178.357 894.619 178.357 891.008 Q178.357 887.397 176.019 885.29 Q173.681 883.184 169.677 883.184 Q167.802 883.184 165.927 883.601 Q164.075 884.017 162.13 884.897 L162.13 867.536 Z\" fill=\"#000000\" fill-rule=\"nonzero\" fill-opacity=\"1\" /><path clip-path=\"url(#clip150)\" d=\"M119.885 678.925 L136.204 678.925 L136.204 682.861 L114.26 682.861 L114.26 678.925 Q116.922 676.171 121.505 671.541 Q126.112 666.888 127.292 665.546 Q129.538 663.023 130.417 661.287 Q131.32 659.527 131.32 657.838 Q131.32 655.083 129.376 653.347 Q127.455 651.611 124.353 651.611 Q122.154 651.611 119.7 652.375 Q117.269 653.139 114.492 654.689 L114.492 649.967 Q117.316 648.833 119.769 648.254 Q122.223 647.676 124.26 647.676 Q129.63 647.676 132.825 650.361 Q136.019 653.046 136.019 657.537 Q136.019 659.666 135.209 661.588 Q134.422 663.486 132.316 666.078 Q131.737 666.75 128.635 669.967 Q125.533 673.162 119.885 678.925 Z\" fill=\"#000000\" fill-rule=\"nonzero\" fill-opacity=\"1\" /><path clip-path=\"url(#clip150)\" d=\"M146.019 676.981 L150.903 676.981 L150.903 682.861 L146.019 682.861 L146.019 676.981 Z\" fill=\"#000000\" fill-rule=\"nonzero\" fill-opacity=\"1\" /><path clip-path=\"url(#clip150)\" d=\"M171.089 651.379 Q167.477 651.379 165.649 654.944 Q163.843 658.486 163.843 665.615 Q163.843 672.722 165.649 676.287 Q167.477 679.828 171.089 679.828 Q174.723 679.828 176.528 676.287 Q178.357 672.722 178.357 665.615 Q178.357 658.486 176.528 654.944 Q174.723 651.379 171.089 651.379 M171.089 647.676 Q176.899 647.676 179.954 652.282 Q183.033 656.865 183.033 665.615 Q183.033 674.342 179.954 678.949 Q176.899 683.532 171.089 683.532 Q165.278 683.532 162.2 678.949 Q159.144 674.342 159.144 665.615 Q159.144 656.865 162.2 652.282 Q165.278 647.676 171.089 647.676 Z\" fill=\"#000000\" fill-rule=\"nonzero\" fill-opacity=\"1\" /><path clip-path=\"url(#clip150)\" d=\"M120.88 459.69 L137.2 459.69 L137.2 463.625 L115.256 463.625 L115.256 459.69 Q117.918 456.935 122.501 452.306 Q127.107 447.653 128.288 446.311 Q130.533 443.787 131.413 442.051 Q132.316 440.292 132.316 438.602 Q132.316 435.848 130.371 434.112 Q128.45 432.375 125.348 432.375 Q123.149 432.375 120.695 433.139 Q118.265 433.903 115.487 435.454 L115.487 430.732 Q118.311 429.598 120.765 429.019 Q123.218 428.44 125.255 428.44 Q130.626 428.44 133.82 431.125 Q137.015 433.811 137.015 438.301 Q137.015 440.431 136.204 442.352 Q135.417 444.25 133.311 446.843 Q132.732 447.514 129.63 450.732 Q126.529 453.926 120.88 459.69 Z\" fill=\"#000000\" fill-rule=\"nonzero\" fill-opacity=\"1\" /><path clip-path=\"url(#clip150)\" d=\"M147.015 457.746 L151.899 457.746 L151.899 463.625 L147.015 463.625 L147.015 457.746 Z\" fill=\"#000000\" fill-rule=\"nonzero\" fill-opacity=\"1\" /><path clip-path=\"url(#clip150)\" d=\"M162.13 429.065 L180.487 429.065 L180.487 433 L166.413 433 L166.413 441.473 Q167.431 441.125 168.45 440.963 Q169.468 440.778 170.487 440.778 Q176.274 440.778 179.653 443.949 Q183.033 447.121 183.033 452.537 Q183.033 458.116 179.561 461.218 Q176.089 464.297 169.769 464.297 Q167.593 464.297 165.325 463.926 Q163.079 463.556 160.672 462.815 L160.672 458.116 Q162.755 459.25 164.977 459.806 Q167.2 460.361 169.677 460.361 Q173.681 460.361 176.019 458.255 Q178.357 456.148 178.357 452.537 Q178.357 448.926 176.019 446.82 Q173.681 444.713 169.677 444.713 Q167.802 444.713 165.927 445.13 Q164.075 445.547 162.13 446.426 L162.13 429.065 Z\" fill=\"#000000\" fill-rule=\"nonzero\" fill-opacity=\"1\" /><path clip-path=\"url(#clip150)\" d=\"M130.024 225.756 Q133.38 226.473 135.255 228.742 Q137.154 231.01 137.154 234.344 Q137.154 239.459 133.635 242.26 Q130.117 245.061 123.635 245.061 Q121.459 245.061 119.144 244.621 Q116.853 244.205 114.399 243.348 L114.399 238.834 Q116.343 239.969 118.658 240.547 Q120.973 241.126 123.496 241.126 Q127.894 241.126 130.186 239.39 Q132.501 237.654 132.501 234.344 Q132.501 231.288 130.348 229.575 Q128.218 227.839 124.399 227.839 L120.371 227.839 L120.371 223.997 L124.584 223.997 Q128.033 223.997 129.862 222.631 Q131.691 221.242 131.691 218.649 Q131.691 215.987 129.792 214.575 Q127.917 213.14 124.399 213.14 Q122.478 213.14 120.279 213.557 Q118.08 213.973 115.441 214.853 L115.441 210.686 Q118.103 209.946 120.418 209.575 Q122.755 209.205 124.816 209.205 Q130.14 209.205 133.242 211.635 Q136.343 214.043 136.343 218.163 Q136.343 221.034 134.7 223.024 Q133.056 224.992 130.024 225.756 Z\" fill=\"#000000\" fill-rule=\"nonzero\" fill-opacity=\"1\" /><path clip-path=\"url(#clip150)\" d=\"M146.019 238.51 L150.903 238.51 L150.903 244.39 L146.019 244.39 L146.019 238.51 Z\" fill=\"#000000\" fill-rule=\"nonzero\" fill-opacity=\"1\" /><path clip-path=\"url(#clip150)\" d=\"M171.089 212.909 Q167.477 212.909 165.649 216.473 Q163.843 220.015 163.843 227.145 Q163.843 234.251 165.649 237.816 Q167.477 241.358 171.089 241.358 Q174.723 241.358 176.528 237.816 Q178.357 234.251 178.357 227.145 Q178.357 220.015 176.528 216.473 Q174.723 212.909 171.089 212.909 M171.089 209.205 Q176.899 209.205 179.954 213.811 Q183.033 218.395 183.033 227.145 Q183.033 235.871 179.954 240.478 Q176.899 245.061 171.089 245.061 Q165.278 245.061 162.2 240.478 Q159.144 235.871 159.144 227.145 Q159.144 218.395 162.2 213.811 Q165.278 209.205 171.089 209.205 Z\" fill=\"#000000\" fill-rule=\"nonzero\" fill-opacity=\"1\" /><path clip-path=\"url(#clip150)\" d=\"M64.0042 874.413 L16.4842 892.556 L16.4842 885.84 L56.4926 870.785 L16.4842 855.698 L16.4842 849.014 L64.0042 867.125 L64.0042 874.413 Z\" fill=\"#000000\" fill-rule=\"nonzero\" fill-opacity=\"1\" /><path clip-path=\"url(#clip150)\" d=\"M32.4621 833.577 Q32.4621 838.288 36.1542 841.025 Q39.8145 843.763 46.212 843.763 Q52.6095 843.763 56.3017 841.057 Q59.9619 838.32 59.9619 833.577 Q59.9619 828.899 56.2698 826.161 Q52.5777 823.424 46.212 823.424 Q39.8781 823.424 36.186 826.161 Q32.4621 828.899 32.4621 833.577 M27.4968 833.577 Q27.4968 825.939 32.4621 821.578 Q37.4273 817.218 46.212 817.218 Q54.9649 817.218 59.9619 821.578 Q64.9272 825.939 64.9272 833.577 Q64.9272 841.248 59.9619 845.609 Q54.9649 849.937 46.212 849.937 Q37.4273 849.937 32.4621 845.609 Q27.4968 841.248 27.4968 833.577 Z\" fill=\"#000000\" fill-rule=\"nonzero\" fill-opacity=\"1\" /><path clip-path=\"url(#clip150)\" d=\"M14.479 807.51 L14.479 801.653 L64.0042 801.653 L64.0042 807.51 L14.479 807.51 Z\" fill=\"#000000\" fill-rule=\"nonzero\" fill-opacity=\"1\" /><path clip-path=\"url(#clip150)\" d=\"M49.9359 790.004 L28.3562 790.004 L28.3562 784.148 L49.7131 784.148 Q54.7739 784.148 57.3202 782.174 Q59.8346 780.201 59.8346 776.254 Q59.8346 771.512 56.8109 768.775 Q53.7872 766.005 48.5673 766.005 L28.3562 766.005 L28.3562 760.149 L64.0042 760.149 L64.0042 766.005 L58.5296 766.005 Q61.7762 768.138 63.3676 770.971 Q64.9272 773.772 64.9272 777.496 Q64.9272 783.638 61.1078 786.821 Q57.2883 790.004 49.9359 790.004 M27.4968 775.268 L27.4968 775.268 Z\" fill=\"#000000\" fill-rule=\"nonzero\" fill-opacity=\"1\" /><path clip-path=\"url(#clip150)\" d=\"M35.1993 720.331 Q31.2526 718.135 29.3747 715.08 Q27.4968 712.024 27.4968 707.887 Q27.4968 702.317 31.4117 699.293 Q35.2948 696.269 42.4881 696.269 L64.0042 696.269 L64.0042 702.157 L42.679 702.157 Q37.5546 702.157 35.072 703.972 Q32.5894 705.786 32.5894 709.51 Q32.5894 714.061 35.6131 716.703 Q38.6368 719.345 43.8567 719.345 L64.0042 719.345 L64.0042 725.233 L42.679 725.233 Q37.5228 725.233 35.072 727.047 Q32.5894 728.862 32.5894 732.649 Q32.5894 737.137 35.6449 739.779 Q38.6686 742.42 43.8567 742.42 L64.0042 742.42 L64.0042 748.309 L28.3562 748.309 L28.3562 742.42 L33.8944 742.42 Q30.616 740.415 29.0564 737.614 Q27.4968 734.813 27.4968 730.962 Q27.4968 727.079 29.4702 724.374 Q31.4436 721.636 35.1993 720.331 Z\" fill=\"#000000\" fill-rule=\"nonzero\" fill-opacity=\"1\" /><path clip-path=\"url(#clip150)\" d=\"M44.7161 654.096 L47.5806 654.096 L47.5806 681.023 Q53.6281 680.641 56.8109 677.395 Q59.9619 674.116 59.9619 668.292 Q59.9619 664.918 59.1344 661.767 Q58.3069 658.584 56.6518 655.465 L62.1899 655.465 Q63.5267 658.616 64.227 661.926 Q64.9272 665.236 64.9272 668.642 Q64.9272 677.172 59.9619 682.169 Q54.9967 687.134 46.5303 687.134 Q37.7774 687.134 32.6531 682.424 Q27.4968 677.681 27.4968 669.66 Q27.4968 662.467 32.1438 658.298 Q36.7589 654.096 44.7161 654.096 M42.9973 659.953 Q38.1912 660.016 35.3266 662.658 Q32.4621 665.268 32.4621 669.597 Q32.4621 674.498 35.2312 677.458 Q38.0002 680.387 43.0292 680.832 L42.9973 659.953 Z\" fill=\"#000000\" fill-rule=\"nonzero\" fill-opacity=\"1\" /><path clip-path=\"url(#clip150)\" d=\"M1157.24 72.576 L1134.15 12.096 L1142.69 12.096 L1161.86 63.0159 L1181.06 12.096 L1189.56 12.096 L1166.51 72.576 L1157.24 72.576 Z\" fill=\"#000000\" fill-rule=\"nonzero\" fill-opacity=\"1\" /><path clip-path=\"url(#clip150)\" d=\"M1209.21 32.4315 Q1203.22 32.4315 1199.73 37.1306 Q1196.25 41.7891 1196.25 49.9314 Q1196.25 58.0738 1199.69 62.7728 Q1203.17 67.4314 1209.21 67.4314 Q1215.17 67.4314 1218.65 62.7323 Q1222.13 58.0333 1222.13 49.9314 Q1222.13 41.8701 1218.65 37.1711 Q1215.17 32.4315 1209.21 32.4315 M1209.21 26.1121 Q1218.93 26.1121 1224.48 32.4315 Q1230.03 38.7509 1230.03 49.9314 Q1230.03 61.0714 1224.48 67.4314 Q1218.93 73.7508 1209.21 73.7508 Q1199.45 73.7508 1193.9 67.4314 Q1188.39 61.0714 1188.39 49.9314 Q1188.39 38.7509 1193.9 32.4315 Q1199.45 26.1121 1209.21 26.1121 Z\" fill=\"#000000\" fill-rule=\"nonzero\" fill-opacity=\"1\" /><path clip-path=\"url(#clip150)\" d=\"M1242.39 9.54393 L1249.84 9.54393 L1249.84 72.576 L1242.39 72.576 L1242.39 9.54393 Z\" fill=\"#000000\" fill-rule=\"nonzero\" fill-opacity=\"1\" /><path clip-path=\"url(#clip150)\" d=\"M1264.67 54.671 L1264.67 27.2059 L1272.12 27.2059 L1272.12 54.3874 Q1272.12 60.8284 1274.63 64.0691 Q1277.14 67.2693 1282.17 67.2693 Q1288.2 67.2693 1291.69 63.421 Q1295.21 59.5726 1295.21 52.9291 L1295.21 27.2059 L1302.67 27.2059 L1302.67 72.576 L1295.21 72.576 L1295.21 65.6084 Q1292.5 69.7404 1288.89 71.7658 Q1285.33 73.7508 1280.59 73.7508 Q1272.77 73.7508 1268.72 68.8897 Q1264.67 64.0286 1264.67 54.671 M1283.42 26.1121 L1283.42 26.1121 Z\" fill=\"#000000\" fill-rule=\"nonzero\" fill-opacity=\"1\" /><path clip-path=\"url(#clip150)\" d=\"M1353.34 35.9153 Q1356.14 30.8922 1360.03 28.5022 Q1363.91 26.1121 1369.18 26.1121 Q1376.27 26.1121 1380.12 31.0947 Q1383.97 36.0368 1383.97 45.1919 L1383.97 72.576 L1376.47 72.576 L1376.47 45.4349 Q1376.47 38.913 1374.16 35.7533 Q1371.85 32.5936 1367.12 32.5936 Q1361.32 32.5936 1357.96 36.4419 Q1354.6 40.2903 1354.6 46.9338 L1354.6 72.576 L1347.1 72.576 L1347.1 45.4349 Q1347.1 38.8725 1344.79 35.7533 Q1342.49 32.5936 1337.66 32.5936 Q1331.95 32.5936 1328.59 36.4824 Q1325.23 40.3308 1325.23 46.9338 L1325.23 72.576 L1317.73 72.576 L1317.73 27.2059 L1325.23 27.2059 L1325.23 34.2544 Q1327.78 30.082 1331.35 28.0971 Q1334.91 26.1121 1339.81 26.1121 Q1344.75 26.1121 1348.2 28.6237 Q1351.68 31.1352 1353.34 35.9153 Z\" fill=\"#000000\" fill-rule=\"nonzero\" fill-opacity=\"1\" /><path clip-path=\"url(#clip150)\" d=\"M1437.64 48.0275 L1437.64 51.6733 L1403.37 51.6733 Q1403.86 59.3701 1407.99 63.421 Q1412.16 67.4314 1419.57 67.4314 Q1423.87 67.4314 1427.88 66.3781 Q1431.93 65.3249 1435.9 63.2184 L1435.9 70.267 Q1431.89 71.9684 1427.68 72.8596 Q1423.46 73.7508 1419.13 73.7508 Q1408.27 73.7508 1401.91 67.4314 Q1395.59 61.1119 1395.59 50.3365 Q1395.59 39.1965 1401.59 32.6746 Q1407.62 26.1121 1417.83 26.1121 Q1426.99 26.1121 1432.29 32.0264 Q1437.64 37.9003 1437.64 48.0275 M1430.19 45.84 Q1430.11 39.7232 1426.74 36.0774 Q1423.42 32.4315 1417.91 32.4315 Q1411.67 32.4315 1407.91 35.9558 Q1404.18 39.4801 1403.61 45.8805 L1430.19 45.84 Z\" fill=\"#000000\" fill-rule=\"nonzero\" fill-opacity=\"1\" /><polyline clip-path=\"url(#clip152)\" style=\"stroke:#009af9; stroke-linecap:round; stroke-linejoin:round; stroke-width:4; stroke-opacity:1; fill:none\" points=\"279.421,1020.17 281.033,974.045 282.645,923.752 284.256,983.033 285.868,1013.86 287.48,950.981 289.091,908.932 290.703,925.243 292.314,1032.14 293.926,1002.06 295.538,968.564 297.149,990.926 298.761,1061.08 300.373,1080.77 301.984,1038.37 303.596,974.571 305.208,1051.96 306.819,1082.83 308.431,1098.35 310.043,1077.92 311.654,1034.64 313.266,1057.05 314.878,1070.95 316.489,1086.91 318.101,1071.08 319.712,1038.15 321.324,1036.66 322.936,991.277 324.547,1054.85 326.159,1012.63 327.771,943.615 329.382,1002.63 330.994,1046.7 332.606,1054.02 334.217,1005.26 335.829,974.746 337.441,975.141 339.052,1135.09 340.664,1063.8 342.276,1046.09 343.887,1054.02 345.499,1066.39 347.11,1003.64 348.722,945.807 350.334,929.803 351.945,990.268 353.557,865.716 355.169,1048.72 356.78,1000.62 358.392,952.209 360.004,786.62 361.615,944.053 363.227,1054.07 364.839,966.284 366.45,957.865 368.062,1001.23 369.674,980.929 371.285,992.285 372.897,934.758 374.508,917.443 376.12,942.694 377.732,987.067 379.343,1076.52 380.955,950.762 382.567,976.763 384.178,1059.33 385.79,1141.8 387.402,1055.99 389.013,701.141 390.625,890.604 392.237,955.541 393.848,1098.53 395.46,1009.12 397.072,1014.78 398.683,952.691 400.295,1064.02 401.906,987.067 403.518,1024.56 405.13,954.007 406.741,1043.59 408.353,1068.05 409.965,1126.41 411.576,1101.29 413.188,1046 414.8,1079.19 416.411,1145.18 418.023,1166.23 419.635,1072.57 421.246,926.339 422.858,948.131 424.469,1046.7 426.081,1027.36 427.693,989.873 429.304,1044.95 430.916,1059.9 432.528,1179.42 434.139,1092.65 435.751,1034.51 437.363,1004.69 438.974,1097.47 440.586,1175.74 442.198,1052.84 443.809,1076.91 445.421,1064.76 447.033,1224.1 448.644,1161.01 450.256,1044.2 451.867,1076.16 453.479,997.547 455.091,825.381 456.702,1055.12 458.314,1022.98 459.926,950.543 461.537,864.287 463.149,1021.09 464.761,1082.08 466.372,1016.84 467.984,1032.98 469.596,960.54 471.207,739.086 472.819,1047.8 474.431,1269.74 476.042,1132.6 477.654,1079.19 479.265,1084.01 480.877,988.383 482.489,935.635 484.1,931.294 485.712,1050.69 487.324,1086.6 488.935,999.651 490.547,965.363 492.159,953.437 493.77,1029.12 495.382,1109.8 496.994,1016.93 498.605,980.973 500.217,1010.26 501.829,1097.34 503.44,1143.91 505.052,1047.4 506.663,954.84 508.275,1008.33 509.887,1130.4 511.498,1186.62 513.11,1098.79 514.722,1049.42 516.333,1058.36 517.945,1121.2 519.557,1175.26 521.168,1119.57 522.78,1075.29 524.392,1079.76 526.003,1115.32 527.615,1149.17 529.226,1085.81 530.838,1055.47 532.45,1110.1 534.061,1084.93 535.673,1173.07 537.285,1109.71 538.896,1119.97 540.508,1035.21 542.12,1139.09 543.731,1025.87 545.343,935.459 546.955,946.333 548.566,918.008 550.178,982.77 551.79,520.521 553.401,818.866 555.013,612.723 556.624,663.476 558.236,526.454 559.848,776.689 561.459,834.918 563.071,876.441 564.683,899.285 566.294,827.157 567.906,1027.06 569.518,976.982 571.129,818.782 572.741,836.979 574.353,971.765 575.964,1113.26 577.576,1004.17 579.188,967.073 580.799,795.114 582.411,958.742 584.022,1093.22 585.634,1011.75 587.246,905.775 588.857,988.777 590.469,974.746 592.081,1057.7 593.692,964.925 595.304,956.637 596.916,944.273 598.527,996.845 600.139,1057.53 601.751,973.65 603.362,949.49 604.974,964.881 606.586,1050.6 608.197,986.673 609.809,947.956 611.42,923.708 613.032,877.143 614.644,1062.92 616.255,1107.73 617.867,941.773 619.479,909.633 621.09,904.766 622.702,956.111 624.314,965.144 625.925,959.268 627.537,1091.2 629.149,1362.62 630.76,1047.14 632.372,977.772 633.984,918.271 635.595,939.318 637.207,953.393 638.818,1015.09 640.43,964.398 642.042,768.49 643.653,890.121 645.265,995.223 646.877,1008.16 648.488,943.045 650.1,906.871 651.712,879.774 653.323,969.528 654.935,989.873 656.547,948.833 658.158,891.437 659.77,888.981 661.381,799.753 662.993,1349.74 664.605,1195.65 666.216,1158.29 667.828,1140.27 669.44,1128.78 671.051,1029.07 672.663,929.145 674.275,879.116 675.886,968.871 677.498,990.575 679.11,905.863 680.721,972.949 682.333,1011.14 683.945,978.473 685.556,934.407 687.168,892.489 688.779,937.389 690.391,957.909 692.003,967.424 693.614,893.936 695.226,861.665 696.838,952.735 698.449,1022.14 700.061,748.013 701.673,656.987 703.284,859.823 704.896,943.045 706.508,912.176 708.119,762.79 709.731,812.117 711.343,910.423 712.954,940.984 714.566,1034.16 716.177,1062.75 717.789,1009.39 719.401,984.568 721.012,946.553 722.624,1020.79 724.236,911.606 725.847,936.731 727.459,923.84 729.071,942.957 730.682,968.476 732.294,931.382 733.906,932.083 735.517,903.889 737.129,843.468 738.741,863.199 740.352,866.707 741.964,877.187 743.575,923.401 745.187,1011.88 746.799,970.581 748.41,948.833 750.022,1012.5 751.634,887.491 753.245,1029.73 754.857,992.241 756.469,970.362 758.08,955.322 759.692,997.371 761.304,1078.66 762.915,1006.01 764.527,1025.08 766.138,1039.33 767.75,1081.73 769.362,1026.57 770.973,1007.72 772.585,979.613 774.197,1055.73 775.808,1062.26 777.42,1000.84 779.032,907.66 780.643,882.36 782.255,980.359 783.867,1051.26 785.478,954.401 787.09,938.792 788.702,946.509 790.313,1022.93 791.925,1024.34 793.536,933.705 795.148,940.414 796.76,877.187 798.371,939.976 799.983,966.065 801.595,828.429 803.206,906.126 804.818,944.448 806.43,979.306 808.041,1050.29 809.653,948.526 811.265,883.939 812.876,1036.97 814.488,1028.68 816.1,1065.2 817.711,922.305 819.323,919.806 820.934,991.54 822.546,983.735 824.158,1108.52 825.769,1016.14 827.381,1044.29 828.993,1019.47 830.604,1154.3 832.216,1105.59 833.828,1068.18 835.439,978.386 837.051,982.463 838.663,961.855 840.274,899.461 841.886,972.466 843.498,840.311 845.109,954.401 846.721,1004.87 848.332,1010.92 849.944,755.151 851.556,926.251 853.167,863.331 854.779,1000.31 856.391,1019.38 858.002,956.681 859.614,933.179 861.226,886.044 862.837,861.752 864.449,878.809 866.061,659.315 867.672,705.657 869.284,614.28 870.896,917.482 872.507,743.19 874.119,872.626 875.73,1235.86 877.342,1023.2 878.954,951.069 880.565,745.865 882.177,630.292 883.789,837.724 885.4,413.548 887.012,734.114 888.624,417.187 890.235,781.205 891.847,378.777 893.459,556.814 895.07,472.206 896.682,325.52 898.293,479.362 899.905,754.985 901.517,762.636 903.128,741.835 904.74,643.938 906.352,809.311 907.963,868.11 909.575,917.482 911.187,878.633 912.798,889.025 914.41,820.492 916.022,974.746 917.633,1088.05 919.245,973.519 920.857,869.996 922.468,882.58 924.08,987.725 925.691,972.598 927.303,968.783 928.915,949.227 930.526,940.502 932.138,1072.7 933.75,1096.64 935.361,969.134 936.973,1039.77 938.585,985.182 940.196,1134.79 941.808,976.982 943.42,940.896 945.031,928.093 946.643,1023.15 948.255,1046.79 949.866,1022.32 951.478,1171.31 953.089,1020.04 954.701,985.226 956.313,1103.44 957.924,907.353 959.536,884.377 961.148,874.293 962.759,756.432 964.371,936.95 965.983,810.171 967.594,818.388 969.206,819.045 970.818,881.615 972.429,787.532 974.041,761.65 975.653,810.758 977.264,808.303 978.876,737.52 980.487,851.273 982.099,692.577 983.711,715.992 985.322,626.017 986.934,729.54 988.546,1016.23 990.157,684.873 991.769,847.546 993.381,761.873 994.992,918.534 996.604,908.055 998.216,863.243 999.827,843.644 1001.44,796.872 1003.05,954.796 1004.66,936.292 1006.27,871.793 1007.89,918.885 1009.5,822.86 1011.11,906.564 1012.72,820.843 1014.33,948.789 1015.94,808.522 1017.56,899.329 1019.17,908.274 1020.78,1054.5 1022.39,938.704 1024,900.864 1025.61,876.485 1027.23,928.619 1028.84,980.139 1030.45,956.111 1032.06,877.23 1033.67,483.571 1035.28,829.218 1036.9,852.369 1038.51,865.699 1040.12,950.455 1041.73,1260.38 1043.34,835.707 1044.95,889.902 1046.56,845.836 1048.18,994.346 1049.79,998.336 1051.4,963.39 1053.01,978.386 1054.62,979.043 1056.23,992.11 1057.85,959.005 1059.46,984.963 1061.07,993.644 1062.68,908.406 1064.29,934.845 1065.9,760.847 1067.52,1054.9 1069.13,1341.57 1070.74,1226.34 1072.35,1209.99 1073.96,1078.71 1075.57,1065.25 1077.19,1003.55 1078.8,1046.7 1080.41,912.922 1082.02,864.997 1083.63,899.022 1085.24,858.376 1086.86,891.218 1088.47,930.285 1090.08,937.695 1091.69,914.588 1093.3,869.645 1094.91,946.991 1096.53,957.076 1098.14,858.157 1099.75,777.588 1101.36,852.018 1102.97,912.922 1104.58,902.749 1106.2,842.986 1107.81,880.3 1109.42,850.383 1111.03,990.707 1112.64,906.038 1114.25,906.389 1115.87,915.114 1117.48,982.683 1119.09,999.608 1120.7,969.441 1122.31,989.83 1123.92,889.508 1125.54,926.646 1127.15,994.083 1128.76,1070.9 1130.37,1018.94 1131.98,929.452 1133.59,1003.55 1135.21,891.963 1136.82,939.888 1138.43,977.859 1140.04,940.37 1141.65,1012.45 1143.26,991.54 1144.88,958.172 1146.49,972.861 1148.1,942.475 1149.71,992.241 1151.32,916.517 1152.93,832.199 1154.55,746.128 1156.16,866.444 1157.77,796.938 1159.38,860.656 1160.99,896.479 1162.6,911.519 1164.22,716.57 1165.83,975.579 1167.44,957.865 1169.05,963.872 1170.66,1001.93 1172.27,1004.52 1173.89,886.789 1175.5,901.653 1177.11,845.441 1178.72,955.19 1180.33,998.292 1181.94,887.447 1183.55,1000.84 1185.17,975.272 1186.78,983.34 1188.39,1041.96 1190,1046.61 1191.61,902.267 1193.22,846.406 1194.84,915.246 1196.45,1052 1198.06,827.289 1199.67,811.504 1201.28,819.878 1202.89,956.813 1204.51,984.349 1206.12,873.591 1207.73,758.313 1209.34,929.759 1210.95,861.007 1212.56,908.362 1214.18,819.221 1215.79,870.829 1217.4,937.608 1219.01,961.066 1220.62,937.959 1222.23,920.727 1223.85,927.874 1225.46,881.001 1227.07,882.404 1228.68,939.318 1230.29,882.492 1231.9,903.319 1233.52,907.397 1235.13,1015.92 1236.74,870.785 1238.35,858.946 1239.96,803.348 1241.57,802.033 1243.19,813.564 1244.8,906.652 1246.41,832.769 1248.02,800.147 1249.63,736.964 1251.24,969.441 1252.86,983.296 1254.47,876.047 1256.08,861.533 1257.69,984.963 1259.3,952.384 1260.91,893.717 1262.53,889.683 1264.14,871.618 1265.75,797.999 1267.36,929.496 1268.97,933.793 1270.58,902.706 1272.2,934.188 1273.81,986.629 1275.42,846.581 1277.03,902.267 1278.64,876.353 1280.25,1202.31 1281.87,915.903 1283.48,856.008 1285.09,833.076 1286.7,899.855 1288.31,1010.79 1289.92,907.222 1291.54,876.66 1293.15,813.784 1294.76,814.047 1296.37,943.922 1297.98,992.592 1299.59,911.256 1301.21,945.018 1302.82,858.946 1304.43,929.759 1306.04,959.97 1307.65,880.914 1309.26,932.215 1310.87,837.461 1312.49,932.785 1314.1,964.311 1315.71,949.841 1317.32,888.762 1318.93,933.355 1320.54,1066.08 1322.16,1094.32 1323.77,1046.04 1325.38,1012.5 1326.99,1022.14 1328.6,1263.49 1330.21,1048.1 1331.83,972.247 1333.44,1011.62 1335.05,925.55 1336.66,968.608 1338.27,1116.46 1339.88,1025.7 1341.5,1081.51 1343.11,1031.62 1344.72,1128.12 1346.33,897.751 1347.94,807.82 1349.55,905.029 1351.17,900.075 1352.78,972.817 1354.39,922.174 1356,848.817 1357.61,956.769 1359.22,1000.27 1360.84,1037.71 1362.45,927.26 1364.06,955.756 1365.67,885.342 1367.28,876.66 1368.89,981.806 1370.51,971.765 1372.12,860.262 1373.73,871.662 1375.34,896.874 1376.95,943.352 1378.56,845.134 1380.18,855.745 1381.79,985.971 1383.4,853.904 1385.01,1092.74 1386.62,981.499 1388.23,988.953 1389.85,850.308 1391.46,1056.65 1393.07,1086.29 1394.68,984.831 1396.29,875.564 1397.9,920.902 1399.52,949.71 1401.13,1028.37 1402.74,885.693 1404.35,820.273 1405.96,839.083 1407.57,919.762 1409.19,941.028 1410.8,828.166 1412.41,857.368 1414.02,827.946 1415.63,885.298 1417.24,938.222 1418.86,920.946 1420.47,927.874 1422.08,905.029 1423.69,910.905 1425.3,997.24 1426.91,1032.8 1428.53,950.893 1430.14,936.117 1431.75,947.912 1433.36,939.932 1434.97,948.701 1436.58,961.022 1438.19,960.803 1439.81,983.998 1441.42,971.282 1443.03,957.734 1444.64,1061.21 1446.25,1328.89 1447.86,939.625 1449.48,936.029 1451.09,910.379 1452.7,900.995 1454.31,987.462 1455.92,1008.07 1457.53,899.943 1459.15,909.37 1460.76,910.642 1462.37,1006.23 1463.98,875.696 1465.59,863.813 1467.2,910.379 1468.82,849.782 1470.43,815.844 1472.04,993.688 1473.65,1040.34 1475.26,1315.37 1476.87,1386.4 1478.49,1078.27 1480.1,1098.53 1481.71,1091.99 1483.32,1036.88 1484.93,850.528 1486.54,887.228 1488.16,794.973 1489.77,723.283 1491.38,788.045 1492.99,880.344 1494.6,842.767 1496.21,878.414 1497.83,799.314 1499.44,787.87 1501.05,797.911 1502.66,771.866 1504.27,799.884 1505.88,857.982 1507.5,893.322 1509.11,808.917 1510.72,734.859 1512.33,699.825 1513.94,825.622 1515.55,841.32 1517.17,894.945 1518.78,825.71 1520.39,855.614 1522,894.638 1523.61,970.975 1525.22,926.953 1526.84,797.429 1528.45,900.469 1530.06,959.707 1531.67,930.198 1533.28,936.38 1534.89,857.28 1536.51,893.761 1538.12,937.257 1539.73,865.699 1541.34,945.895 1542.95,935.722 1544.56,867.102 1546.18,886.087 1547.79,895.339 1549.4,957.383 1551.01,987.506 1552.62,929.452 1554.23,992.504 1555.85,885.079 1557.46,819.747 1559.07,713.856 1560.68,933.705 1562.29,840.706 1563.9,884.509 1565.52,889.157 1567.13,942.168 1568.74,903.495 1570.35,905.731 1571.96,903.144 1573.57,872.626 1575.18,897.225 1576.8,964.135 1578.41,926.251 1580.02,958.304 1581.63,858.201 1583.24,858.201 1584.85,828.166 1586.47,922.656 1588.08,929.671 1589.69,902.881 1591.3,1016.44 1592.91,1059.15 1594.52,918.49 1596.14,863.901 1597.75,854.693 1599.36,890.165 1600.97,1018.59 1602.58,881.089 1604.19,780.416 1605.81,741.568 1607.42,930.373 1609.03,976.632 1610.64,876.923 1612.25,728.896 1613.86,727.405 1615.48,825.754 1617.09,853.421 1618.7,813.74 1620.31,898.409 1621.92,880.738 1623.53,817.467 1625.15,701.36 1626.76,869.996 1628.37,798.174 1629.98,923.796 1631.59,956.769 1633.2,915.465 1634.82,949.271 1636.43,863.506 1638.04,1011.53 1639.65,990.663 1641.26,1004.3 1642.87,864.778 1644.49,942.08 1646.1,907.836 1647.71,1028.37 1649.32,999.695 1650.93,993.688 1652.54,1002.15 1654.16,1053.5 1655.77,1011.18 1657.38,1020.61 1658.99,982.683 1660.6,1033.63 1662.21,1025.39 1663.83,952.384 1665.44,1030.21 1667.05,973.957 1668.66,884.553 1670.27,1049.72 1671.88,936.424 1673.5,909.283 1675.11,930.899 1676.72,747.618 1678.33,948.57 1679.94,939.625 1681.55,896.304 1683.17,886.701 1684.78,1066.78 1686.39,979.833 1688,959.97 1689.61,928.181 1691.22,1022.36 1692.84,1053.8 1694.45,1016.49 1696.06,901.478 1697.67,924.848 1699.28,906.608 1700.89,963.784 1702.5,908.581 1704.12,806.11 1705.73,805.54 1707.34,956.067 1708.95,922.787 1710.56,836.233 1712.17,861.007 1713.79,871.618 1715.4,973.299 1717.01,983.033 1718.62,955.717 1720.23,942.168 1721.84,929.803 1723.46,875.608 1725.07,1066.34 1726.68,996.363 1728.29,924.103 1729.9,926.427 1731.51,1027.28 1733.13,1013.64 1734.74,986.629 1736.35,980.183 1737.96,994.697 1739.57,1016.4 1741.18,1094.45 1742.8,1063.49 1744.41,1019.78 1746.02,1093.7 1747.63,1171.84 1749.24,1172.85 1750.85,1043.45 1752.47,1041.74 1754.08,1052.14 1755.69,1137.3 1757.3,1010.04 1758.91,996.056 1760.52,941.247 1762.14,989.523 1763.75,972.598 1765.36,1014.38 1766.97,991.803 1768.58,1054.11 1770.19,918.754 1771.81,1017.41 1773.42,961.548 1775.03,937.476 1776.64,978.517 1778.25,992.066 1779.86,988.514 1781.48,930.154 1783.09,927.391 1784.7,776.075 1786.31,848.774 1787.92,869.908 1789.53,920.595 1791.15,921.341 1792.76,907.836 1794.37,976.193 1795.98,1128.69 1797.59,963.697 1799.2,864.559 1800.82,889.42 1802.43,821.194 1804.04,940.37 1805.65,780.679 1807.26,803.392 1808.87,808.96 1810.49,898.145 1812.1,937.213 1813.71,803.523 1815.32,778.75 1816.93,828.604 1818.54,884.465 1820.16,930.461 1821.77,815.099 1823.38,767.525 1824.99,760.86 1826.6,786.423 1828.21,946.772 1829.83,906.389 1831.44,882.93 1833.05,931.732 1834.66,870.96 1836.27,905.292 1837.88,944.273 1839.49,804.05 1841.11,903.802 1842.72,873.153 1844.33,931.864 1845.94,916.254 1847.55,1038.46 1849.16,1321.28 1850.78,938.09 1852.39,861.358 1854,765.201 1855.61,764.28 1857.22,855.57 1858.83,948.657 1860.45,869.952 1862.06,873.766 1863.67,830.139 1865.28,909.502 1866.89,912.834 1868.5,865.348 1870.12,798.963 1871.73,755.949 1873.34,518.693 1874.95,918.666 1876.56,891.963 1878.17,932.697 1879.79,1123.3 1881.4,1138.25 1883.01,1111.51 1884.62,1136.54 1886.23,1178.68 1887.84,1197.49 1889.46,880.08 1891.07,787.914 1892.68,780.065 1894.29,854.518 1895.9,894.506 1897.51,889.025 1899.13,889.727 1900.74,857.587 1902.35,880.3 1903.96,956.988 1905.57,842.372 1907.18,885.386 1908.8,800.63 1910.41,821.895 1912.02,887.184 1913.63,836.409 1915.24,825.228 1916.85,840.706 1918.47,822.641 1920.08,805.979 1921.69,805.023 1923.3,857.745 1924.91,860.937 1926.52,819.852 1928.14,951.784 1929.75,921.573 1931.36,879.975 1932.97,888.468 1934.58,857.499 1936.19,976.816 1937.81,872.942 1939.42,889.157 1941.03,849.686 1942.64,862.366 1944.25,777.417 1945.86,884.338 1947.48,876.595 1949.09,874.433 1950.7,755.257 1952.31,793.588 1953.92,854.763 1955.53,833.848 1957.15,824.824 1958.76,889.714 1960.37,874.692 1961.98,794.943 1963.59,839.206 1965.2,906.818 1966.81,912.251 1968.43,878.883 1970.04,817.647 1971.65,848.892 1973.26,514.584 1974.87,744.751 1976.48,615.389 1978.1,557.335 1979.71,787.598 1981.32,776.856 1982.93,567.692 1984.54,623.001 1986.15,571.647 1987.77,591.615 1989.38,630.604 1990.99,722.231 1992.6,754.415 1994.21,709.156 1995.82,814.077 1997.44,873.718 1999.05,674.425 2000.66,643.771 2002.27,509.906 2003.88,363.053 2005.49,586.362 2007.11,603.011 2008.72,570.411 2010.33,530.286 2011.94,645.464 2013.55,755.454 2015.16,683.233 2016.78,599.144 2018.39,585.661 2020,506.696 2021.61,674.332 2023.22,592.347 2024.83,531.198 2026.45,666.852 2028.06,793.965 2029.67,728.273 2031.28,713.961 2032.89,737.941 2034.5,667.646 2036.12,582.889 2037.73,728.343 2039.34,715.014 2040.95,548.807 2042.56,763.859 2044.17,827.047 2045.79,805.378 2047.4,805.453 2049.01,778.627 2050.62,817.243 2052.23,936.805 2053.84,735.438 2055.46,748.846 2057.07,747.228 2058.68,828.902 2060.29,864.155 2061.9,730.75 2063.51,790.33 2065.13,742.699 2066.74,812.828 2068.35,814.069 2069.96,797.933 2071.57,735.543 2073.18,763.78 2074.8,486.961 2076.41,790.751 2078.02,788.045 2079.63,743.08 2081.24,652.462 2082.85,481.949 2084.47,780.188 2086.08,765.372 2087.69,766.745 2089.3,617.572 2090.91,843.679 2092.52,750.723 2094.14,716.676 2095.75,686.434 2097.36,709.072 2098.97,732.974 2100.58,695.392 2102.19,747.794 2103.8,644.223 2105.42,789.931 2107.03,848.817 2108.64,647.481 2110.25,637.808 2111.86,608.65 2113.47,767.749 2115.09,789.413 2116.7,694.441 2118.31,689.346 2119.92,664.844 2121.53,757.835 2123.14,789.725 2124.76,646.674 2126.37,665.589 2127.98,673.815 2129.59,696.151 2131.2,751.459 2132.81,710.515 2134.43,590.023 2136.04,691.205 2137.65,793.044 2139.26,857.245 2140.87,744.326 2142.48,727.339 2144.1,749.692 2145.71,859.038 2147.32,831.616 2148.93,806.496 2150.54,695.923 2152.15,853.636 2153.77,866.799 2155.38,841.21 2156.99,702.206 2158.6,505.315 2160.21,564.794 2161.82,823.36 2163.44,695.357 2165.05,635.896 2166.66,685.145 2168.27,668.843 2169.88,692.744 2171.49,629.468 2173.11,671.39 2174.72,630.792 2176.33,160.256 2177.94,632.02 2179.55,525.599 2181.16,425.233 2182.78,479.353 2184.39,677.411 2186,655.838 2187.61,675.985 2189.22,618.673 2190.83,588.357 2192.45,622.821 2194.06,622.834 2195.67,515.878 2197.28,425.834 2198.89,318.299 2200.5,610.298 2202.12,579.645 2203.73,534.46 2205.34,450.169 2206.95,511.612 2208.56,582.736 2210.17,641.653 2211.79,579.197 2213.4,357.077 2215.01,394.935 2216.62,459.096 2218.23,578.855 2219.84,528.572 2221.46,460.486 2223.07,492.222 2224.68,499.225 2226.29,416.762 2227.9,464.827 2229.51,381.412 2231.12,351.359 2232.74,643.433 2234.35,671.026 2235.96,680.905 2237.57,571.546 2239.18,499.637 2240.79,765.052 2242.41,709.524 2244.02,508.007 2245.63,612.271 2247.24,534.899 2248.85,466.826 2250.46,614.126 2252.08,537.801 2253.69,671.982 2255.3,1224.66 2256.91,658.17 2258.52,547.921 2260.13,501.29 2261.75,395.996 2263.36,610.517 2264.97,522.709 2266.58,617.024 2268.19,624.439 2269.8,587.401 2271.42,711.054 2273.03,719.71 2274.64,494.568 2276.25,601.774 2277.86,586.397 2279.47,409.43 2281.09,574.024 2282.7,667.032 2284.31,637.005 2285.92,714.47 2287.53,978.732 2289.14,867.071 2290.76,918.859 2292.37,936.319 \"/>\n",
       "<path clip-path=\"url(#clip150)\" d=\"M290.157 270.476 L676.954 270.476 L676.954 166.796 L290.157 166.796  Z\" fill=\"#ffffff\" fill-rule=\"evenodd\" fill-opacity=\"1\"/>\n",
       "<polyline clip-path=\"url(#clip150)\" style=\"stroke:#000000; stroke-linecap:round; stroke-linejoin:round; stroke-width:4; stroke-opacity:1; fill:none\" points=\"290.157,270.476 676.954,270.476 676.954,166.796 290.157,166.796 290.157,270.476 \"/>\n",
       "<polyline clip-path=\"url(#clip150)\" style=\"stroke:#009af9; stroke-linecap:round; stroke-linejoin:round; stroke-width:4; stroke-opacity:1; fill:none\" points=\"313.865,218.636 456.113,218.636 \"/>\n",
       "<path clip-path=\"url(#clip150)\" d=\"M493.016 235.916 L479.821 201.356 L484.706 201.356 L495.655 230.453 L506.627 201.356 L511.488 201.356 L498.317 235.916 L493.016 235.916 Z\" fill=\"#000000\" fill-rule=\"nonzero\" fill-opacity=\"1\" /><path clip-path=\"url(#clip150)\" d=\"M522.715 212.976 Q519.289 212.976 517.298 215.661 Q515.307 218.323 515.307 222.976 Q515.307 227.629 517.275 230.314 Q519.266 232.976 522.715 232.976 Q526.117 232.976 528.108 230.291 Q530.099 227.606 530.099 222.976 Q530.099 218.37 528.108 215.684 Q526.117 212.976 522.715 212.976 M522.715 209.365 Q528.27 209.365 531.441 212.976 Q534.613 216.587 534.613 222.976 Q534.613 229.342 531.441 232.976 Q528.27 236.587 522.715 236.587 Q517.136 236.587 513.965 232.976 Q510.817 229.342 510.817 222.976 Q510.817 216.587 513.965 212.976 Q517.136 209.365 522.715 209.365 Z\" fill=\"#000000\" fill-rule=\"nonzero\" fill-opacity=\"1\" /><path clip-path=\"url(#clip150)\" d=\"M541.673 199.897 L545.932 199.897 L545.932 235.916 L541.673 235.916 L541.673 199.897 Z\" fill=\"#000000\" fill-rule=\"nonzero\" fill-opacity=\"1\" /><path clip-path=\"url(#clip150)\" d=\"M554.404 225.684 L554.404 209.99 L558.663 209.99 L558.663 225.522 Q558.663 229.203 560.099 231.055 Q561.534 232.883 564.404 232.883 Q567.853 232.883 569.844 230.684 Q571.858 228.485 571.858 224.689 L571.858 209.99 L576.117 209.99 L576.117 235.916 L571.858 235.916 L571.858 231.934 Q570.307 234.295 568.247 235.453 Q566.21 236.587 563.501 236.587 Q559.034 236.587 556.719 233.809 Q554.404 231.031 554.404 225.684 M565.122 209.365 L565.122 209.365 Z\" fill=\"#000000\" fill-rule=\"nonzero\" fill-opacity=\"1\" /><path clip-path=\"url(#clip150)\" d=\"M605.075 214.967 Q606.672 212.096 608.895 210.731 Q611.117 209.365 614.126 209.365 Q618.177 209.365 620.376 212.212 Q622.575 215.036 622.575 220.268 L622.575 235.916 L618.293 235.916 L618.293 220.407 Q618.293 216.68 616.973 214.874 Q615.654 213.069 612.946 213.069 Q609.635 213.069 607.714 215.268 Q605.793 217.467 605.793 221.263 L605.793 235.916 L601.51 235.916 L601.51 220.407 Q601.51 216.657 600.191 214.874 Q598.872 213.069 596.117 213.069 Q592.853 213.069 590.932 215.291 Q589.011 217.49 589.011 221.263 L589.011 235.916 L584.728 235.916 L584.728 209.99 L589.011 209.99 L589.011 214.018 Q590.469 211.633 592.506 210.499 Q594.543 209.365 597.344 209.365 Q600.168 209.365 602.135 210.8 Q604.126 212.235 605.075 214.967 Z\" fill=\"#000000\" fill-rule=\"nonzero\" fill-opacity=\"1\" /><path clip-path=\"url(#clip150)\" d=\"M653.246 221.888 L653.246 223.971 L633.663 223.971 Q633.941 228.369 636.302 230.684 Q638.686 232.976 642.922 232.976 Q645.376 232.976 647.668 232.374 Q649.982 231.772 652.251 230.569 L652.251 234.596 Q649.959 235.568 647.552 236.078 Q645.144 236.587 642.668 236.587 Q636.464 236.587 632.83 232.976 Q629.219 229.365 629.219 223.207 Q629.219 216.842 632.645 213.115 Q636.094 209.365 641.927 209.365 Q647.158 209.365 650.191 212.745 Q653.246 216.101 653.246 221.888 M648.987 220.638 Q648.941 217.143 647.019 215.059 Q645.121 212.976 641.973 212.976 Q638.408 212.976 636.256 214.99 Q634.126 217.004 633.802 220.661 L648.987 220.638 Z\" fill=\"#000000\" fill-rule=\"nonzero\" fill-opacity=\"1\" /></svg>\n"
      ],
      "text/html": [
       "<?xml version=\"1.0\" encoding=\"utf-8\"?>\n",
       "<svg xmlns=\"http://www.w3.org/2000/svg\" xmlns:xlink=\"http://www.w3.org/1999/xlink\" width=\"600\" height=\"400\" viewBox=\"0 0 2400 1600\">\n",
       "<defs>\n",
       "  <clipPath id=\"clip200\">\n",
       "    <rect x=\"0\" y=\"0\" width=\"2400\" height=\"1600\"/>\n",
       "  </clipPath>\n",
       "</defs>\n",
       "<path clip-path=\"url(#clip200)\" d=\"M0 1600 L2400 1600 L2400 0 L0 0  Z\" fill=\"#ffffff\" fill-rule=\"evenodd\" fill-opacity=\"1\"/>\n",
       "<defs>\n",
       "  <clipPath id=\"clip201\">\n",
       "    <rect x=\"480\" y=\"0\" width=\"1681\" height=\"1600\"/>\n",
       "  </clipPath>\n",
       "</defs>\n",
       "<path clip-path=\"url(#clip200)\" d=\"M219.033 1423.18 L2352.76 1423.18 L2352.76 123.472 L219.033 123.472  Z\" fill=\"#ffffff\" fill-rule=\"evenodd\" fill-opacity=\"1\"/>\n",
       "<defs>\n",
       "  <clipPath id=\"clip202\">\n",
       "    <rect x=\"219\" y=\"123\" width=\"2135\" height=\"1301\"/>\n",
       "  </clipPath>\n",
       "</defs>\n",
       "<polyline clip-path=\"url(#clip202)\" style=\"stroke:#000000; stroke-linecap:round; stroke-linejoin:round; stroke-width:2; stroke-opacity:0.1; fill:none\" points=\"277.81,1423.18 277.81,123.472 \"/>\n",
       "<polyline clip-path=\"url(#clip202)\" style=\"stroke:#000000; stroke-linecap:round; stroke-linejoin:round; stroke-width:2; stroke-opacity:0.1; fill:none\" points=\"600.139,1423.18 600.139,123.472 \"/>\n",
       "<polyline clip-path=\"url(#clip202)\" style=\"stroke:#000000; stroke-linecap:round; stroke-linejoin:round; stroke-width:2; stroke-opacity:0.1; fill:none\" points=\"922.468,1423.18 922.468,123.472 \"/>\n",
       "<polyline clip-path=\"url(#clip202)\" style=\"stroke:#000000; stroke-linecap:round; stroke-linejoin:round; stroke-width:2; stroke-opacity:0.1; fill:none\" points=\"1244.8,1423.18 1244.8,123.472 \"/>\n",
       "<polyline clip-path=\"url(#clip202)\" style=\"stroke:#000000; stroke-linecap:round; stroke-linejoin:round; stroke-width:2; stroke-opacity:0.1; fill:none\" points=\"1567.13,1423.18 1567.13,123.472 \"/>\n",
       "<polyline clip-path=\"url(#clip202)\" style=\"stroke:#000000; stroke-linecap:round; stroke-linejoin:round; stroke-width:2; stroke-opacity:0.1; fill:none\" points=\"1889.46,1423.18 1889.46,123.472 \"/>\n",
       "<polyline clip-path=\"url(#clip202)\" style=\"stroke:#000000; stroke-linecap:round; stroke-linejoin:round; stroke-width:2; stroke-opacity:0.1; fill:none\" points=\"2211.79,1423.18 2211.79,123.472 \"/>\n",
       "<polyline clip-path=\"url(#clip202)\" style=\"stroke:#000000; stroke-linecap:round; stroke-linejoin:round; stroke-width:2; stroke-opacity:0.1; fill:none\" points=\"219.033,1323.29 2352.76,1323.29 \"/>\n",
       "<polyline clip-path=\"url(#clip202)\" style=\"stroke:#000000; stroke-linecap:round; stroke-linejoin:round; stroke-width:2; stroke-opacity:0.1; fill:none\" points=\"219.033,1104.05 2352.76,1104.05 \"/>\n",
       "<polyline clip-path=\"url(#clip202)\" style=\"stroke:#000000; stroke-linecap:round; stroke-linejoin:round; stroke-width:2; stroke-opacity:0.1; fill:none\" points=\"219.033,884.816 2352.76,884.816 \"/>\n",
       "<polyline clip-path=\"url(#clip202)\" style=\"stroke:#000000; stroke-linecap:round; stroke-linejoin:round; stroke-width:2; stroke-opacity:0.1; fill:none\" points=\"219.033,665.581 2352.76,665.581 \"/>\n",
       "<polyline clip-path=\"url(#clip202)\" style=\"stroke:#000000; stroke-linecap:round; stroke-linejoin:round; stroke-width:2; stroke-opacity:0.1; fill:none\" points=\"219.033,446.345 2352.76,446.345 \"/>\n",
       "<polyline clip-path=\"url(#clip202)\" style=\"stroke:#000000; stroke-linecap:round; stroke-linejoin:round; stroke-width:2; stroke-opacity:0.1; fill:none\" points=\"219.033,227.11 2352.76,227.11 \"/>\n",
       "<polyline clip-path=\"url(#clip200)\" style=\"stroke:#000000; stroke-linecap:round; stroke-linejoin:round; stroke-width:4; stroke-opacity:1; fill:none\" points=\"219.033,1423.18 2352.76,1423.18 \"/>\n",
       "<polyline clip-path=\"url(#clip200)\" style=\"stroke:#000000; stroke-linecap:round; stroke-linejoin:round; stroke-width:4; stroke-opacity:1; fill:none\" points=\"277.81,1423.18 277.81,1404.28 \"/>\n",
       "<polyline clip-path=\"url(#clip200)\" style=\"stroke:#000000; stroke-linecap:round; stroke-linejoin:round; stroke-width:4; stroke-opacity:1; fill:none\" points=\"600.139,1423.18 600.139,1404.28 \"/>\n",
       "<polyline clip-path=\"url(#clip200)\" style=\"stroke:#000000; stroke-linecap:round; stroke-linejoin:round; stroke-width:4; stroke-opacity:1; fill:none\" points=\"922.468,1423.18 922.468,1404.28 \"/>\n",
       "<polyline clip-path=\"url(#clip200)\" style=\"stroke:#000000; stroke-linecap:round; stroke-linejoin:round; stroke-width:4; stroke-opacity:1; fill:none\" points=\"1244.8,1423.18 1244.8,1404.28 \"/>\n",
       "<polyline clip-path=\"url(#clip200)\" style=\"stroke:#000000; stroke-linecap:round; stroke-linejoin:round; stroke-width:4; stroke-opacity:1; fill:none\" points=\"1567.13,1423.18 1567.13,1404.28 \"/>\n",
       "<polyline clip-path=\"url(#clip200)\" style=\"stroke:#000000; stroke-linecap:round; stroke-linejoin:round; stroke-width:4; stroke-opacity:1; fill:none\" points=\"1889.46,1423.18 1889.46,1404.28 \"/>\n",
       "<polyline clip-path=\"url(#clip200)\" style=\"stroke:#000000; stroke-linecap:round; stroke-linejoin:round; stroke-width:4; stroke-opacity:1; fill:none\" points=\"2211.79,1423.18 2211.79,1404.28 \"/>\n",
       "<path clip-path=\"url(#clip200)\" d=\"M277.81 1454.1 Q274.199 1454.1 272.37 1457.66 Q270.564 1461.2 270.564 1468.33 Q270.564 1475.44 272.37 1479.01 Q274.199 1482.55 277.81 1482.55 Q281.444 1482.55 283.249 1479.01 Q285.078 1475.44 285.078 1468.33 Q285.078 1461.2 283.249 1457.66 Q281.444 1454.1 277.81 1454.1 M277.81 1450.39 Q283.62 1450.39 286.675 1455 Q289.754 1459.58 289.754 1468.33 Q289.754 1477.06 286.675 1481.67 Q283.62 1486.25 277.81 1486.25 Q272 1486.25 268.921 1481.67 Q265.865 1477.06 265.865 1468.33 Q265.865 1459.58 268.921 1455 Q272 1450.39 277.81 1450.39 Z\" fill=\"#000000\" fill-rule=\"nonzero\" fill-opacity=\"1\" /><path clip-path=\"url(#clip200)\" d=\"M563.831 1481.64 L580.151 1481.64 L580.151 1485.58 L558.206 1485.58 L558.206 1481.64 Q560.868 1478.89 565.452 1474.26 Q570.058 1469.61 571.239 1468.27 Q573.484 1465.74 574.364 1464.01 Q575.266 1462.25 575.266 1460.56 Q575.266 1457.8 573.322 1456.07 Q571.401 1454.33 568.299 1454.33 Q566.1 1454.33 563.646 1455.09 Q561.216 1455.86 558.438 1457.41 L558.438 1452.69 Q561.262 1451.55 563.716 1450.97 Q566.169 1450.39 568.206 1450.39 Q573.577 1450.39 576.771 1453.08 Q579.965 1455.77 579.965 1460.26 Q579.965 1462.39 579.155 1464.31 Q578.368 1466.2 576.262 1468.8 Q575.683 1469.47 572.581 1472.69 Q569.479 1475.88 563.831 1481.64 Z\" fill=\"#000000\" fill-rule=\"nonzero\" fill-opacity=\"1\" /><path clip-path=\"url(#clip200)\" d=\"M599.965 1454.1 Q596.354 1454.1 594.526 1457.66 Q592.72 1461.2 592.72 1468.33 Q592.72 1475.44 594.526 1479.01 Q596.354 1482.55 599.965 1482.55 Q603.6 1482.55 605.405 1479.01 Q607.234 1475.44 607.234 1468.33 Q607.234 1461.2 605.405 1457.66 Q603.6 1454.1 599.965 1454.1 M599.965 1450.39 Q605.775 1450.39 608.831 1455 Q611.91 1459.58 611.91 1468.33 Q611.91 1477.06 608.831 1481.67 Q605.775 1486.25 599.965 1486.25 Q594.155 1486.25 591.076 1481.67 Q588.021 1477.06 588.021 1468.33 Q588.021 1459.58 591.076 1455 Q594.155 1450.39 599.965 1450.39 Z\" fill=\"#000000\" fill-rule=\"nonzero\" fill-opacity=\"1\" /><path clip-path=\"url(#clip200)\" d=\"M630.127 1454.1 Q626.516 1454.1 624.687 1457.66 Q622.882 1461.2 622.882 1468.33 Q622.882 1475.44 624.687 1479.01 Q626.516 1482.55 630.127 1482.55 Q633.761 1482.55 635.567 1479.01 Q637.396 1475.44 637.396 1468.33 Q637.396 1461.2 635.567 1457.66 Q633.761 1454.1 630.127 1454.1 M630.127 1450.39 Q635.937 1450.39 638.993 1455 Q642.072 1459.58 642.072 1468.33 Q642.072 1477.06 638.993 1481.67 Q635.937 1486.25 630.127 1486.25 Q624.317 1486.25 621.238 1481.67 Q618.183 1477.06 618.183 1468.33 Q618.183 1459.58 621.238 1455 Q624.317 1450.39 630.127 1450.39 Z\" fill=\"#000000\" fill-rule=\"nonzero\" fill-opacity=\"1\" /><path clip-path=\"url(#clip200)\" d=\"M895.559 1455.09 L883.753 1473.54 L895.559 1473.54 L895.559 1455.09 M894.332 1451.02 L900.211 1451.02 L900.211 1473.54 L905.142 1473.54 L905.142 1477.43 L900.211 1477.43 L900.211 1485.58 L895.559 1485.58 L895.559 1477.43 L879.957 1477.43 L879.957 1472.92 L894.332 1451.02 Z\" fill=\"#000000\" fill-rule=\"nonzero\" fill-opacity=\"1\" /><path clip-path=\"url(#clip200)\" d=\"M922.873 1454.1 Q919.262 1454.1 917.433 1457.66 Q915.628 1461.2 915.628 1468.33 Q915.628 1475.44 917.433 1479.01 Q919.262 1482.55 922.873 1482.55 Q926.508 1482.55 928.313 1479.01 Q930.142 1475.44 930.142 1468.33 Q930.142 1461.2 928.313 1457.66 Q926.508 1454.1 922.873 1454.1 M922.873 1450.39 Q928.683 1450.39 931.739 1455 Q934.818 1459.58 934.818 1468.33 Q934.818 1477.06 931.739 1481.67 Q928.683 1486.25 922.873 1486.25 Q917.063 1486.25 913.984 1481.67 Q910.929 1477.06 910.929 1468.33 Q910.929 1459.58 913.984 1455 Q917.063 1450.39 922.873 1450.39 Z\" fill=\"#000000\" fill-rule=\"nonzero\" fill-opacity=\"1\" /><path clip-path=\"url(#clip200)\" d=\"M953.035 1454.1 Q949.424 1454.1 947.595 1457.66 Q945.79 1461.2 945.79 1468.33 Q945.79 1475.44 947.595 1479.01 Q949.424 1482.55 953.035 1482.55 Q956.669 1482.55 958.475 1479.01 Q960.304 1475.44 960.304 1468.33 Q960.304 1461.2 958.475 1457.66 Q956.669 1454.1 953.035 1454.1 M953.035 1450.39 Q958.845 1450.39 961.901 1455 Q964.98 1459.58 964.98 1468.33 Q964.98 1477.06 961.901 1481.67 Q958.845 1486.25 953.035 1486.25 Q947.225 1486.25 944.146 1481.67 Q941.091 1477.06 941.091 1468.33 Q941.091 1459.58 944.146 1455 Q947.225 1450.39 953.035 1450.39 Z\" fill=\"#000000\" fill-rule=\"nonzero\" fill-opacity=\"1\" /><path clip-path=\"url(#clip200)\" d=\"M1215.12 1466.44 Q1211.97 1466.44 1210.12 1468.59 Q1208.29 1470.74 1208.29 1474.49 Q1208.29 1478.22 1210.12 1480.39 Q1211.97 1482.55 1215.12 1482.55 Q1218.27 1482.55 1220.1 1480.39 Q1221.95 1478.22 1221.95 1474.49 Q1221.95 1470.74 1220.1 1468.59 Q1218.27 1466.44 1215.12 1466.44 M1224.4 1451.78 L1224.4 1456.04 Q1222.64 1455.21 1220.84 1454.77 Q1219.06 1454.33 1217.3 1454.33 Q1212.67 1454.33 1210.21 1457.45 Q1207.78 1460.58 1207.44 1466.9 Q1208.8 1464.89 1210.86 1463.82 Q1212.92 1462.73 1215.4 1462.73 Q1220.61 1462.73 1223.62 1465.9 Q1226.65 1469.05 1226.65 1474.49 Q1226.65 1479.82 1223.5 1483.03 Q1220.35 1486.25 1215.12 1486.25 Q1209.13 1486.25 1205.96 1481.67 Q1202.78 1477.06 1202.78 1468.33 Q1202.78 1460.14 1206.67 1455.28 Q1210.56 1450.39 1217.11 1450.39 Q1218.87 1450.39 1220.65 1450.74 Q1222.46 1451.09 1224.4 1451.78 Z\" fill=\"#000000\" fill-rule=\"nonzero\" fill-opacity=\"1\" /><path clip-path=\"url(#clip200)\" d=\"M1244.7 1454.1 Q1241.09 1454.1 1239.27 1457.66 Q1237.46 1461.2 1237.46 1468.33 Q1237.46 1475.44 1239.27 1479.01 Q1241.09 1482.55 1244.7 1482.55 Q1248.34 1482.55 1250.14 1479.01 Q1251.97 1475.44 1251.97 1468.33 Q1251.97 1461.2 1250.14 1457.66 Q1248.34 1454.1 1244.7 1454.1 M1244.7 1450.39 Q1250.52 1450.39 1253.57 1455 Q1256.65 1459.58 1256.65 1468.33 Q1256.65 1477.06 1253.57 1481.67 Q1250.52 1486.25 1244.7 1486.25 Q1238.89 1486.25 1235.82 1481.67 Q1232.76 1477.06 1232.76 1468.33 Q1232.76 1459.58 1235.82 1455 Q1238.89 1450.39 1244.7 1450.39 Z\" fill=\"#000000\" fill-rule=\"nonzero\" fill-opacity=\"1\" /><path clip-path=\"url(#clip200)\" d=\"M1274.87 1454.1 Q1271.26 1454.1 1269.43 1457.66 Q1267.62 1461.2 1267.62 1468.33 Q1267.62 1475.44 1269.43 1479.01 Q1271.26 1482.55 1274.87 1482.55 Q1278.5 1482.55 1280.31 1479.01 Q1282.14 1475.44 1282.14 1468.33 Q1282.14 1461.2 1280.31 1457.66 Q1278.5 1454.1 1274.87 1454.1 M1274.87 1450.39 Q1280.68 1450.39 1283.73 1455 Q1286.81 1459.58 1286.81 1468.33 Q1286.81 1477.06 1283.73 1481.67 Q1280.68 1486.25 1274.87 1486.25 Q1269.06 1486.25 1265.98 1481.67 Q1262.92 1477.06 1262.92 1468.33 Q1262.92 1459.58 1265.98 1455 Q1269.06 1450.39 1274.87 1450.39 Z\" fill=\"#000000\" fill-rule=\"nonzero\" fill-opacity=\"1\" /><path clip-path=\"url(#clip200)\" d=\"M1536.92 1469.17 Q1533.59 1469.17 1531.66 1470.95 Q1529.77 1472.73 1529.77 1475.86 Q1529.77 1478.98 1531.66 1480.77 Q1533.59 1482.55 1536.92 1482.55 Q1540.25 1482.55 1542.17 1480.77 Q1544.09 1478.96 1544.09 1475.86 Q1544.09 1472.73 1542.17 1470.95 Q1540.27 1469.17 1536.92 1469.17 M1532.24 1467.18 Q1529.23 1466.44 1527.54 1464.38 Q1525.88 1462.32 1525.88 1459.35 Q1525.88 1455.21 1528.82 1452.8 Q1531.78 1450.39 1536.92 1450.39 Q1542.08 1450.39 1545.02 1452.8 Q1547.96 1455.21 1547.96 1459.35 Q1547.96 1462.32 1546.27 1464.38 Q1544.6 1466.44 1541.62 1467.18 Q1545 1467.96 1546.87 1470.26 Q1548.77 1472.55 1548.77 1475.86 Q1548.77 1480.88 1545.69 1483.57 Q1542.64 1486.25 1536.92 1486.25 Q1531.2 1486.25 1528.12 1483.57 Q1525.07 1480.88 1525.07 1475.86 Q1525.07 1472.55 1526.96 1470.26 Q1528.86 1467.96 1532.24 1467.18 M1530.53 1459.79 Q1530.53 1462.48 1532.2 1463.98 Q1533.89 1465.49 1536.92 1465.49 Q1539.93 1465.49 1541.62 1463.98 Q1543.33 1462.48 1543.33 1459.79 Q1543.33 1457.11 1541.62 1455.6 Q1539.93 1454.1 1536.92 1454.1 Q1533.89 1454.1 1532.2 1455.6 Q1530.53 1457.11 1530.53 1459.79 Z\" fill=\"#000000\" fill-rule=\"nonzero\" fill-opacity=\"1\" /><path clip-path=\"url(#clip200)\" d=\"M1567.08 1454.1 Q1563.47 1454.1 1561.64 1457.66 Q1559.84 1461.2 1559.84 1468.33 Q1559.84 1475.44 1561.64 1479.01 Q1563.47 1482.55 1567.08 1482.55 Q1570.71 1482.55 1572.52 1479.01 Q1574.35 1475.44 1574.35 1468.33 Q1574.35 1461.2 1572.52 1457.66 Q1570.71 1454.1 1567.08 1454.1 M1567.08 1450.39 Q1572.89 1450.39 1575.95 1455 Q1579.02 1459.58 1579.02 1468.33 Q1579.02 1477.06 1575.95 1481.67 Q1572.89 1486.25 1567.08 1486.25 Q1561.27 1486.25 1558.19 1481.67 Q1555.14 1477.06 1555.14 1468.33 Q1555.14 1459.58 1558.19 1455 Q1561.27 1450.39 1567.08 1450.39 Z\" fill=\"#000000\" fill-rule=\"nonzero\" fill-opacity=\"1\" /><path clip-path=\"url(#clip200)\" d=\"M1597.24 1454.1 Q1593.63 1454.1 1591.8 1457.66 Q1590 1461.2 1590 1468.33 Q1590 1475.44 1591.8 1479.01 Q1593.63 1482.55 1597.24 1482.55 Q1600.88 1482.55 1602.68 1479.01 Q1604.51 1475.44 1604.51 1468.33 Q1604.51 1461.2 1602.68 1457.66 Q1600.88 1454.1 1597.24 1454.1 M1597.24 1450.39 Q1603.05 1450.39 1606.11 1455 Q1609.19 1459.58 1609.19 1468.33 Q1609.19 1477.06 1606.11 1481.67 Q1603.05 1486.25 1597.24 1486.25 Q1591.43 1486.25 1588.35 1481.67 Q1585.3 1477.06 1585.3 1468.33 Q1585.3 1459.58 1588.35 1455 Q1591.43 1450.39 1597.24 1450.39 Z\" fill=\"#000000\" fill-rule=\"nonzero\" fill-opacity=\"1\" /><path clip-path=\"url(#clip200)\" d=\"M1833.98 1481.64 L1841.62 1481.64 L1841.62 1455.28 L1833.31 1456.95 L1833.31 1452.69 L1841.57 1451.02 L1846.25 1451.02 L1846.25 1481.64 L1853.89 1481.64 L1853.89 1485.58 L1833.98 1485.58 L1833.98 1481.64 Z\" fill=\"#000000\" fill-rule=\"nonzero\" fill-opacity=\"1\" /><path clip-path=\"url(#clip200)\" d=\"M1873.33 1454.1 Q1869.72 1454.1 1867.89 1457.66 Q1866.09 1461.2 1866.09 1468.33 Q1866.09 1475.44 1867.89 1479.01 Q1869.72 1482.55 1873.33 1482.55 Q1876.97 1482.55 1878.77 1479.01 Q1880.6 1475.44 1880.6 1468.33 Q1880.6 1461.2 1878.77 1457.66 Q1876.97 1454.1 1873.33 1454.1 M1873.33 1450.39 Q1879.14 1450.39 1882.2 1455 Q1885.28 1459.58 1885.28 1468.33 Q1885.28 1477.06 1882.2 1481.67 Q1879.14 1486.25 1873.33 1486.25 Q1867.52 1486.25 1864.44 1481.67 Q1861.39 1477.06 1861.39 1468.33 Q1861.39 1459.58 1864.44 1455 Q1867.52 1450.39 1873.33 1450.39 Z\" fill=\"#000000\" fill-rule=\"nonzero\" fill-opacity=\"1\" /><path clip-path=\"url(#clip200)\" d=\"M1903.5 1454.1 Q1899.88 1454.1 1898.06 1457.66 Q1896.25 1461.2 1896.25 1468.33 Q1896.25 1475.44 1898.06 1479.01 Q1899.88 1482.55 1903.5 1482.55 Q1907.13 1482.55 1908.94 1479.01 Q1910.76 1475.44 1910.76 1468.33 Q1910.76 1461.2 1908.94 1457.66 Q1907.13 1454.1 1903.5 1454.1 M1903.5 1450.39 Q1909.31 1450.39 1912.36 1455 Q1915.44 1459.58 1915.44 1468.33 Q1915.44 1477.06 1912.36 1481.67 Q1909.31 1486.25 1903.5 1486.25 Q1897.69 1486.25 1894.61 1481.67 Q1891.55 1477.06 1891.55 1468.33 Q1891.55 1459.58 1894.61 1455 Q1897.69 1450.39 1903.5 1450.39 Z\" fill=\"#000000\" fill-rule=\"nonzero\" fill-opacity=\"1\" /><path clip-path=\"url(#clip200)\" d=\"M1933.66 1454.1 Q1930.05 1454.1 1928.22 1457.66 Q1926.41 1461.2 1926.41 1468.33 Q1926.41 1475.44 1928.22 1479.01 Q1930.05 1482.55 1933.66 1482.55 Q1937.29 1482.55 1939.1 1479.01 Q1940.93 1475.44 1940.93 1468.33 Q1940.93 1461.2 1939.1 1457.66 Q1937.29 1454.1 1933.66 1454.1 M1933.66 1450.39 Q1939.47 1450.39 1942.52 1455 Q1945.6 1459.58 1945.6 1468.33 Q1945.6 1477.06 1942.52 1481.67 Q1939.47 1486.25 1933.66 1486.25 Q1927.85 1486.25 1924.77 1481.67 Q1921.71 1477.06 1921.71 1468.33 Q1921.71 1459.58 1924.77 1455 Q1927.85 1450.39 1933.66 1450.39 Z\" fill=\"#000000\" fill-rule=\"nonzero\" fill-opacity=\"1\" /><path clip-path=\"url(#clip200)\" d=\"M2156.31 1481.64 L2163.95 1481.64 L2163.95 1455.28 L2155.64 1456.95 L2155.64 1452.69 L2163.9 1451.02 L2168.58 1451.02 L2168.58 1481.64 L2176.22 1481.64 L2176.22 1485.58 L2156.31 1485.58 L2156.31 1481.64 Z\" fill=\"#000000\" fill-rule=\"nonzero\" fill-opacity=\"1\" /><path clip-path=\"url(#clip200)\" d=\"M2189.69 1481.64 L2206.01 1481.64 L2206.01 1485.58 L2184.07 1485.58 L2184.07 1481.64 Q2186.73 1478.89 2191.31 1474.26 Q2195.92 1469.61 2197.1 1468.27 Q2199.34 1465.74 2200.22 1464.01 Q2201.13 1462.25 2201.13 1460.56 Q2201.13 1457.8 2199.18 1456.07 Q2197.26 1454.33 2194.16 1454.33 Q2191.96 1454.33 2189.51 1455.09 Q2187.07 1455.86 2184.3 1457.41 L2184.3 1452.69 Q2187.12 1451.55 2189.57 1450.97 Q2192.03 1450.39 2194.07 1450.39 Q2199.44 1450.39 2202.63 1453.08 Q2205.82 1455.77 2205.82 1460.26 Q2205.82 1462.39 2205.01 1464.31 Q2204.23 1466.2 2202.12 1468.8 Q2201.54 1469.47 2198.44 1472.69 Q2195.34 1475.88 2189.69 1481.64 Z\" fill=\"#000000\" fill-rule=\"nonzero\" fill-opacity=\"1\" /><path clip-path=\"url(#clip200)\" d=\"M2225.82 1454.1 Q2222.21 1454.1 2220.38 1457.66 Q2218.58 1461.2 2218.58 1468.33 Q2218.58 1475.44 2220.38 1479.01 Q2222.21 1482.55 2225.82 1482.55 Q2229.46 1482.55 2231.26 1479.01 Q2233.09 1475.44 2233.09 1468.33 Q2233.09 1461.2 2231.26 1457.66 Q2229.46 1454.1 2225.82 1454.1 M2225.82 1450.39 Q2231.63 1450.39 2234.69 1455 Q2237.77 1459.58 2237.77 1468.33 Q2237.77 1477.06 2234.69 1481.67 Q2231.63 1486.25 2225.82 1486.25 Q2220.01 1486.25 2216.94 1481.67 Q2213.88 1477.06 2213.88 1468.33 Q2213.88 1459.58 2216.94 1455 Q2220.01 1450.39 2225.82 1450.39 Z\" fill=\"#000000\" fill-rule=\"nonzero\" fill-opacity=\"1\" /><path clip-path=\"url(#clip200)\" d=\"M2255.99 1454.1 Q2252.38 1454.1 2250.55 1457.66 Q2248.74 1461.2 2248.74 1468.33 Q2248.74 1475.44 2250.55 1479.01 Q2252.38 1482.55 2255.99 1482.55 Q2259.62 1482.55 2261.43 1479.01 Q2263.25 1475.44 2263.25 1468.33 Q2263.25 1461.2 2261.43 1457.66 Q2259.62 1454.1 2255.99 1454.1 M2255.99 1450.39 Q2261.8 1450.39 2264.85 1455 Q2267.93 1459.58 2267.93 1468.33 Q2267.93 1477.06 2264.85 1481.67 Q2261.8 1486.25 2255.99 1486.25 Q2250.18 1486.25 2247.1 1481.67 Q2244.04 1477.06 2244.04 1468.33 Q2244.04 1459.58 2247.1 1455 Q2250.18 1450.39 2255.99 1450.39 Z\" fill=\"#000000\" fill-rule=\"nonzero\" fill-opacity=\"1\" /><path clip-path=\"url(#clip200)\" d=\"M1089.88 1525.81 L1089.88 1562.76 L1097.64 1562.76 Q1107.48 1562.76 1112.03 1558.3 Q1116.61 1553.85 1116.61 1544.24 Q1116.61 1534.69 1112.03 1530.26 Q1107.48 1525.81 1097.64 1525.81 L1089.88 1525.81 M1083.45 1520.52 L1096.66 1520.52 Q1110.47 1520.52 1116.93 1526.28 Q1123.39 1532.01 1123.39 1544.24 Q1123.39 1556.52 1116.9 1562.28 Q1110.41 1568.04 1096.66 1568.04 L1083.45 1568.04 L1083.45 1520.52 Z\" fill=\"#000000\" fill-rule=\"nonzero\" fill-opacity=\"1\" /><path clip-path=\"url(#clip200)\" d=\"M1149.59 1550.12 Q1142.49 1550.12 1139.75 1551.75 Q1137.02 1553.37 1137.02 1557.29 Q1137.02 1560.4 1139.05 1562.25 Q1141.12 1564.07 1144.66 1564.07 Q1149.53 1564.07 1152.45 1560.63 Q1155.41 1557.16 1155.41 1551.43 L1155.41 1550.12 L1149.59 1550.12 M1161.27 1547.71 L1161.27 1568.04 L1155.41 1568.04 L1155.41 1562.63 Q1153.41 1565.88 1150.42 1567.44 Q1147.42 1568.97 1143.1 1568.97 Q1137.62 1568.97 1134.37 1565.91 Q1131.16 1562.82 1131.16 1557.67 Q1131.16 1551.65 1135.17 1548.6 Q1139.21 1545.54 1147.2 1545.54 L1155.41 1545.54 L1155.41 1544.97 Q1155.41 1540.93 1152.74 1538.73 Q1150.1 1536.5 1145.29 1536.5 Q1142.24 1536.5 1139.34 1537.23 Q1136.44 1537.97 1133.77 1539.43 L1133.77 1534.02 Q1136.98 1532.78 1140.01 1532.17 Q1143.03 1531.54 1145.9 1531.54 Q1153.63 1531.54 1157.45 1535.55 Q1161.27 1539.56 1161.27 1547.71 Z\" fill=\"#000000\" fill-rule=\"nonzero\" fill-opacity=\"1\" /><path clip-path=\"url(#clip200)\" d=\"M1188.16 1571.35 Q1185.68 1577.72 1183.33 1579.66 Q1180.97 1581.6 1177.02 1581.6 L1172.35 1581.6 L1172.35 1576.7 L1175.78 1576.7 Q1178.2 1576.7 1179.54 1575.56 Q1180.88 1574.41 1182.5 1570.14 L1183.55 1567.47 L1169.13 1532.4 L1175.34 1532.4 L1186.48 1560.28 L1197.62 1532.4 L1203.82 1532.4 L1188.16 1571.35 Z\" fill=\"#000000\" fill-rule=\"nonzero\" fill-opacity=\"1\" /><path clip-path=\"url(#clip200)\" d=\"M1232.88 1520.52 L1241.54 1520.52 L1262.61 1560.28 L1262.61 1520.52 L1268.85 1520.52 L1268.85 1568.04 L1260.19 1568.04 L1239.12 1528.29 L1239.12 1568.04 L1232.88 1568.04 L1232.88 1520.52 Z\" fill=\"#000000\" fill-rule=\"nonzero\" fill-opacity=\"1\" /><path clip-path=\"url(#clip200)\" d=\"M1280.79 1553.98 L1280.79 1532.4 L1286.64 1532.4 L1286.64 1553.75 Q1286.64 1558.81 1288.62 1561.36 Q1290.59 1563.87 1294.54 1563.87 Q1299.28 1563.87 1302.02 1560.85 Q1304.78 1557.83 1304.78 1552.61 L1304.78 1532.4 L1310.64 1532.4 L1310.64 1568.04 L1304.78 1568.04 L1304.78 1562.57 Q1302.65 1565.82 1299.82 1567.41 Q1297.02 1568.97 1293.29 1568.97 Q1287.15 1568.97 1283.97 1565.15 Q1280.79 1561.33 1280.79 1553.98 M1295.52 1531.54 L1295.52 1531.54 Z\" fill=\"#000000\" fill-rule=\"nonzero\" fill-opacity=\"1\" /><path clip-path=\"url(#clip200)\" d=\"M1350.46 1539.24 Q1352.65 1535.29 1355.71 1533.41 Q1358.77 1531.54 1362.9 1531.54 Q1368.47 1531.54 1371.5 1535.45 Q1374.52 1539.33 1374.52 1546.53 L1374.52 1568.04 L1368.63 1568.04 L1368.63 1546.72 Q1368.63 1541.59 1366.82 1539.11 Q1365 1536.63 1361.28 1536.63 Q1356.73 1536.63 1354.09 1539.65 Q1351.45 1542.68 1351.45 1547.9 L1351.45 1568.04 L1345.56 1568.04 L1345.56 1546.72 Q1345.56 1541.56 1343.74 1539.11 Q1341.93 1536.63 1338.14 1536.63 Q1333.65 1536.63 1331.01 1539.68 Q1328.37 1542.71 1328.37 1547.9 L1328.37 1568.04 L1322.48 1568.04 L1322.48 1532.4 L1328.37 1532.4 L1328.37 1537.93 Q1330.37 1534.66 1333.18 1533.1 Q1335.98 1531.54 1339.83 1531.54 Q1343.71 1531.54 1346.42 1533.51 Q1349.15 1535.48 1350.46 1539.24 Z\" fill=\"#000000\" fill-rule=\"nonzero\" fill-opacity=\"1\" /><path clip-path=\"url(#clip200)\" d=\"M1411.79 1550.25 Q1411.79 1543.79 1409.12 1540.13 Q1406.48 1536.44 1401.83 1536.44 Q1397.18 1536.44 1394.51 1540.13 Q1391.87 1543.79 1391.87 1550.25 Q1391.87 1556.71 1394.51 1560.4 Q1397.18 1564.07 1401.83 1564.07 Q1406.48 1564.07 1409.12 1560.4 Q1411.79 1556.71 1411.79 1550.25 M1391.87 1537.81 Q1393.71 1534.62 1396.51 1533.1 Q1399.35 1531.54 1403.26 1531.54 Q1409.76 1531.54 1413.8 1536.69 Q1417.87 1541.85 1417.87 1550.25 Q1417.87 1558.65 1413.8 1563.81 Q1409.76 1568.97 1403.26 1568.97 Q1399.35 1568.97 1396.51 1567.44 Q1393.71 1565.88 1391.87 1562.7 L1391.87 1568.04 L1385.98 1568.04 L1385.98 1518.52 L1391.87 1518.52 L1391.87 1537.81 Z\" fill=\"#000000\" fill-rule=\"nonzero\" fill-opacity=\"1\" /><path clip-path=\"url(#clip200)\" d=\"M1458.07 1548.76 L1458.07 1551.62 L1431.14 1551.62 Q1431.53 1557.67 1434.77 1560.85 Q1438.05 1564 1443.88 1564 Q1447.25 1564 1450.4 1563.17 Q1453.58 1562.35 1456.7 1560.69 L1456.7 1566.23 Q1453.55 1567.57 1450.24 1568.27 Q1446.93 1568.97 1443.53 1568.97 Q1435 1568.97 1430 1564 Q1425.03 1559.04 1425.03 1550.57 Q1425.03 1541.82 1429.74 1536.69 Q1434.49 1531.54 1442.51 1531.54 Q1449.7 1531.54 1453.87 1536.18 Q1458.07 1540.8 1458.07 1548.76 M1452.21 1547.04 Q1452.15 1542.23 1449.51 1539.37 Q1446.9 1536.5 1442.57 1536.5 Q1437.67 1536.5 1434.71 1539.27 Q1431.78 1542.04 1431.33 1547.07 L1452.21 1547.04 Z\" fill=\"#000000\" fill-rule=\"nonzero\" fill-opacity=\"1\" /><path clip-path=\"url(#clip200)\" d=\"M1488.34 1537.87 Q1487.35 1537.3 1486.18 1537.04 Q1485.03 1536.76 1483.63 1536.76 Q1478.66 1536.76 1475.99 1540 Q1473.35 1543.22 1473.35 1549.27 L1473.35 1568.04 L1467.46 1568.04 L1467.46 1532.4 L1473.35 1532.4 L1473.35 1537.93 Q1475.19 1534.69 1478.15 1533.13 Q1481.11 1531.54 1485.35 1531.54 Q1485.95 1531.54 1486.68 1531.63 Q1487.42 1531.7 1488.31 1531.85 L1488.34 1537.87 Z\" fill=\"#000000\" fill-rule=\"nonzero\" fill-opacity=\"1\" /><polyline clip-path=\"url(#clip200)\" style=\"stroke:#000000; stroke-linecap:round; stroke-linejoin:round; stroke-width:4; stroke-opacity:1; fill:none\" points=\"219.033,1423.18 219.033,123.472 \"/>\n",
       "<polyline clip-path=\"url(#clip200)\" style=\"stroke:#000000; stroke-linecap:round; stroke-linejoin:round; stroke-width:4; stroke-opacity:1; fill:none\" points=\"219.033,1323.29 237.931,1323.29 \"/>\n",
       "<polyline clip-path=\"url(#clip200)\" style=\"stroke:#000000; stroke-linecap:round; stroke-linejoin:round; stroke-width:4; stroke-opacity:1; fill:none\" points=\"219.033,1104.05 237.931,1104.05 \"/>\n",
       "<polyline clip-path=\"url(#clip200)\" style=\"stroke:#000000; stroke-linecap:round; stroke-linejoin:round; stroke-width:4; stroke-opacity:1; fill:none\" points=\"219.033,884.816 237.931,884.816 \"/>\n",
       "<polyline clip-path=\"url(#clip200)\" style=\"stroke:#000000; stroke-linecap:round; stroke-linejoin:round; stroke-width:4; stroke-opacity:1; fill:none\" points=\"219.033,665.581 237.931,665.581 \"/>\n",
       "<polyline clip-path=\"url(#clip200)\" style=\"stroke:#000000; stroke-linecap:round; stroke-linejoin:round; stroke-width:4; stroke-opacity:1; fill:none\" points=\"219.033,446.345 237.931,446.345 \"/>\n",
       "<polyline clip-path=\"url(#clip200)\" style=\"stroke:#000000; stroke-linecap:round; stroke-linejoin:round; stroke-width:4; stroke-opacity:1; fill:none\" points=\"219.033,227.11 237.931,227.11 \"/>\n",
       "<path clip-path=\"url(#clip200)\" d=\"M126.853 1309.09 Q123.242 1309.09 121.413 1312.65 Q119.607 1316.19 119.607 1323.32 Q119.607 1330.43 121.413 1333.99 Q123.242 1337.53 126.853 1337.53 Q130.487 1337.53 132.292 1333.99 Q134.121 1330.43 134.121 1323.32 Q134.121 1316.19 132.292 1312.65 Q130.487 1309.09 126.853 1309.09 M126.853 1305.38 Q132.663 1305.38 135.718 1309.99 Q138.797 1314.57 138.797 1323.32 Q138.797 1332.05 135.718 1336.65 Q132.663 1341.24 126.853 1341.24 Q121.043 1341.24 117.964 1336.65 Q114.908 1332.05 114.908 1323.32 Q114.908 1314.57 117.964 1309.99 Q121.043 1305.38 126.853 1305.38 Z\" fill=\"#000000\" fill-rule=\"nonzero\" fill-opacity=\"1\" /><path clip-path=\"url(#clip200)\" d=\"M147.015 1334.69 L151.899 1334.69 L151.899 1340.57 L147.015 1340.57 L147.015 1334.69 Z\" fill=\"#000000\" fill-rule=\"nonzero\" fill-opacity=\"1\" /><path clip-path=\"url(#clip200)\" d=\"M162.13 1306.01 L180.487 1306.01 L180.487 1309.94 L166.413 1309.94 L166.413 1318.41 Q167.431 1318.07 168.45 1317.9 Q169.468 1317.72 170.487 1317.72 Q176.274 1317.72 179.653 1320.89 Q183.033 1324.06 183.033 1329.48 Q183.033 1335.06 179.561 1338.16 Q176.089 1341.24 169.769 1341.24 Q167.593 1341.24 165.325 1340.87 Q163.079 1340.5 160.672 1339.76 L160.672 1335.06 Q162.755 1336.19 164.977 1336.75 Q167.2 1337.3 169.677 1337.3 Q173.681 1337.3 176.019 1335.2 Q178.357 1333.09 178.357 1329.48 Q178.357 1325.87 176.019 1323.76 Q173.681 1321.65 169.677 1321.65 Q167.802 1321.65 165.927 1322.07 Q164.075 1322.49 162.13 1323.37 L162.13 1306.01 Z\" fill=\"#000000\" fill-rule=\"nonzero\" fill-opacity=\"1\" /><path clip-path=\"url(#clip200)\" d=\"M116.668 1117.4 L124.306 1117.4 L124.306 1091.03 L115.996 1092.7 L115.996 1088.44 L124.26 1086.77 L128.936 1086.77 L128.936 1117.4 L136.575 1117.4 L136.575 1121.33 L116.668 1121.33 L116.668 1117.4 Z\" fill=\"#000000\" fill-rule=\"nonzero\" fill-opacity=\"1\" /><path clip-path=\"url(#clip200)\" d=\"M146.019 1115.45 L150.903 1115.45 L150.903 1121.33 L146.019 1121.33 L146.019 1115.45 Z\" fill=\"#000000\" fill-rule=\"nonzero\" fill-opacity=\"1\" /><path clip-path=\"url(#clip200)\" d=\"M171.089 1089.85 Q167.477 1089.85 165.649 1093.41 Q163.843 1096.96 163.843 1104.09 Q163.843 1111.19 165.649 1114.76 Q167.477 1118.3 171.089 1118.3 Q174.723 1118.3 176.528 1114.76 Q178.357 1111.19 178.357 1104.09 Q178.357 1096.96 176.528 1093.41 Q174.723 1089.85 171.089 1089.85 M171.089 1086.15 Q176.899 1086.15 179.954 1090.75 Q183.033 1095.34 183.033 1104.09 Q183.033 1112.81 179.954 1117.42 Q176.899 1122 171.089 1122 Q165.278 1122 162.2 1117.42 Q159.144 1112.81 159.144 1104.09 Q159.144 1095.34 162.2 1090.75 Q165.278 1086.15 171.089 1086.15 Z\" fill=\"#000000\" fill-rule=\"nonzero\" fill-opacity=\"1\" /><path clip-path=\"url(#clip200)\" d=\"M117.663 898.161 L125.302 898.161 L125.302 871.795 L116.992 873.462 L116.992 869.203 L125.255 867.536 L129.931 867.536 L129.931 898.161 L137.57 898.161 L137.57 902.096 L117.663 902.096 L117.663 898.161 Z\" fill=\"#000000\" fill-rule=\"nonzero\" fill-opacity=\"1\" /><path clip-path=\"url(#clip200)\" d=\"M147.015 896.216 L151.899 896.216 L151.899 902.096 L147.015 902.096 L147.015 896.216 Z\" fill=\"#000000\" fill-rule=\"nonzero\" fill-opacity=\"1\" /><path clip-path=\"url(#clip200)\" d=\"M162.13 867.536 L180.487 867.536 L180.487 871.471 L166.413 871.471 L166.413 879.943 Q167.431 879.596 168.45 879.434 Q169.468 879.249 170.487 879.249 Q176.274 879.249 179.653 882.42 Q183.033 885.591 183.033 891.008 Q183.033 896.587 179.561 899.689 Q176.089 902.767 169.769 902.767 Q167.593 902.767 165.325 902.397 Q163.079 902.026 160.672 901.286 L160.672 896.587 Q162.755 897.721 164.977 898.276 Q167.2 898.832 169.677 898.832 Q173.681 898.832 176.019 896.726 Q178.357 894.619 178.357 891.008 Q178.357 887.397 176.019 885.29 Q173.681 883.184 169.677 883.184 Q167.802 883.184 165.927 883.601 Q164.075 884.017 162.13 884.897 L162.13 867.536 Z\" fill=\"#000000\" fill-rule=\"nonzero\" fill-opacity=\"1\" /><path clip-path=\"url(#clip200)\" d=\"M119.885 678.925 L136.204 678.925 L136.204 682.861 L114.26 682.861 L114.26 678.925 Q116.922 676.171 121.505 671.541 Q126.112 666.888 127.292 665.546 Q129.538 663.023 130.417 661.287 Q131.32 659.527 131.32 657.838 Q131.32 655.083 129.376 653.347 Q127.455 651.611 124.353 651.611 Q122.154 651.611 119.7 652.375 Q117.269 653.139 114.492 654.689 L114.492 649.967 Q117.316 648.833 119.769 648.254 Q122.223 647.676 124.26 647.676 Q129.63 647.676 132.825 650.361 Q136.019 653.046 136.019 657.537 Q136.019 659.666 135.209 661.588 Q134.422 663.486 132.316 666.078 Q131.737 666.75 128.635 669.967 Q125.533 673.162 119.885 678.925 Z\" fill=\"#000000\" fill-rule=\"nonzero\" fill-opacity=\"1\" /><path clip-path=\"url(#clip200)\" d=\"M146.019 676.981 L150.903 676.981 L150.903 682.861 L146.019 682.861 L146.019 676.981 Z\" fill=\"#000000\" fill-rule=\"nonzero\" fill-opacity=\"1\" /><path clip-path=\"url(#clip200)\" d=\"M171.089 651.379 Q167.477 651.379 165.649 654.944 Q163.843 658.486 163.843 665.615 Q163.843 672.722 165.649 676.287 Q167.477 679.828 171.089 679.828 Q174.723 679.828 176.528 676.287 Q178.357 672.722 178.357 665.615 Q178.357 658.486 176.528 654.944 Q174.723 651.379 171.089 651.379 M171.089 647.676 Q176.899 647.676 179.954 652.282 Q183.033 656.865 183.033 665.615 Q183.033 674.342 179.954 678.949 Q176.899 683.532 171.089 683.532 Q165.278 683.532 162.2 678.949 Q159.144 674.342 159.144 665.615 Q159.144 656.865 162.2 652.282 Q165.278 647.676 171.089 647.676 Z\" fill=\"#000000\" fill-rule=\"nonzero\" fill-opacity=\"1\" /><path clip-path=\"url(#clip200)\" d=\"M120.88 459.69 L137.2 459.69 L137.2 463.625 L115.256 463.625 L115.256 459.69 Q117.918 456.935 122.501 452.306 Q127.107 447.653 128.288 446.311 Q130.533 443.787 131.413 442.051 Q132.316 440.292 132.316 438.602 Q132.316 435.848 130.371 434.112 Q128.45 432.375 125.348 432.375 Q123.149 432.375 120.695 433.139 Q118.265 433.903 115.487 435.454 L115.487 430.732 Q118.311 429.598 120.765 429.019 Q123.218 428.44 125.255 428.44 Q130.626 428.44 133.82 431.125 Q137.015 433.811 137.015 438.301 Q137.015 440.431 136.204 442.352 Q135.417 444.25 133.311 446.843 Q132.732 447.514 129.63 450.732 Q126.529 453.926 120.88 459.69 Z\" fill=\"#000000\" fill-rule=\"nonzero\" fill-opacity=\"1\" /><path clip-path=\"url(#clip200)\" d=\"M147.015 457.746 L151.899 457.746 L151.899 463.625 L147.015 463.625 L147.015 457.746 Z\" fill=\"#000000\" fill-rule=\"nonzero\" fill-opacity=\"1\" /><path clip-path=\"url(#clip200)\" d=\"M162.13 429.065 L180.487 429.065 L180.487 433 L166.413 433 L166.413 441.473 Q167.431 441.125 168.45 440.963 Q169.468 440.778 170.487 440.778 Q176.274 440.778 179.653 443.949 Q183.033 447.121 183.033 452.537 Q183.033 458.116 179.561 461.218 Q176.089 464.297 169.769 464.297 Q167.593 464.297 165.325 463.926 Q163.079 463.556 160.672 462.815 L160.672 458.116 Q162.755 459.25 164.977 459.806 Q167.2 460.361 169.677 460.361 Q173.681 460.361 176.019 458.255 Q178.357 456.148 178.357 452.537 Q178.357 448.926 176.019 446.82 Q173.681 444.713 169.677 444.713 Q167.802 444.713 165.927 445.13 Q164.075 445.547 162.13 446.426 L162.13 429.065 Z\" fill=\"#000000\" fill-rule=\"nonzero\" fill-opacity=\"1\" /><path clip-path=\"url(#clip200)\" d=\"M130.024 225.756 Q133.38 226.473 135.255 228.742 Q137.154 231.01 137.154 234.344 Q137.154 239.459 133.635 242.26 Q130.117 245.061 123.635 245.061 Q121.459 245.061 119.144 244.621 Q116.853 244.205 114.399 243.348 L114.399 238.834 Q116.343 239.969 118.658 240.547 Q120.973 241.126 123.496 241.126 Q127.894 241.126 130.186 239.39 Q132.501 237.654 132.501 234.344 Q132.501 231.288 130.348 229.575 Q128.218 227.839 124.399 227.839 L120.371 227.839 L120.371 223.997 L124.584 223.997 Q128.033 223.997 129.862 222.631 Q131.691 221.242 131.691 218.649 Q131.691 215.987 129.792 214.575 Q127.917 213.14 124.399 213.14 Q122.478 213.14 120.279 213.557 Q118.08 213.973 115.441 214.853 L115.441 210.686 Q118.103 209.946 120.418 209.575 Q122.755 209.205 124.816 209.205 Q130.14 209.205 133.242 211.635 Q136.343 214.043 136.343 218.163 Q136.343 221.034 134.7 223.024 Q133.056 224.992 130.024 225.756 Z\" fill=\"#000000\" fill-rule=\"nonzero\" fill-opacity=\"1\" /><path clip-path=\"url(#clip200)\" d=\"M146.019 238.51 L150.903 238.51 L150.903 244.39 L146.019 244.39 L146.019 238.51 Z\" fill=\"#000000\" fill-rule=\"nonzero\" fill-opacity=\"1\" /><path clip-path=\"url(#clip200)\" d=\"M171.089 212.909 Q167.477 212.909 165.649 216.473 Q163.843 220.015 163.843 227.145 Q163.843 234.251 165.649 237.816 Q167.477 241.358 171.089 241.358 Q174.723 241.358 176.528 237.816 Q178.357 234.251 178.357 227.145 Q178.357 220.015 176.528 216.473 Q174.723 212.909 171.089 212.909 M171.089 209.205 Q176.899 209.205 179.954 213.811 Q183.033 218.395 183.033 227.145 Q183.033 235.871 179.954 240.478 Q176.899 245.061 171.089 245.061 Q165.278 245.061 162.2 240.478 Q159.144 235.871 159.144 227.145 Q159.144 218.395 162.2 213.811 Q165.278 209.205 171.089 209.205 Z\" fill=\"#000000\" fill-rule=\"nonzero\" fill-opacity=\"1\" /><path clip-path=\"url(#clip200)\" d=\"M64.0042 874.413 L16.4842 892.556 L16.4842 885.84 L56.4926 870.785 L16.4842 855.698 L16.4842 849.014 L64.0042 867.125 L64.0042 874.413 Z\" fill=\"#000000\" fill-rule=\"nonzero\" fill-opacity=\"1\" /><path clip-path=\"url(#clip200)\" d=\"M32.4621 833.577 Q32.4621 838.288 36.1542 841.025 Q39.8145 843.763 46.212 843.763 Q52.6095 843.763 56.3017 841.057 Q59.9619 838.32 59.9619 833.577 Q59.9619 828.899 56.2698 826.161 Q52.5777 823.424 46.212 823.424 Q39.8781 823.424 36.186 826.161 Q32.4621 828.899 32.4621 833.577 M27.4968 833.577 Q27.4968 825.939 32.4621 821.578 Q37.4273 817.218 46.212 817.218 Q54.9649 817.218 59.9619 821.578 Q64.9272 825.939 64.9272 833.577 Q64.9272 841.248 59.9619 845.609 Q54.9649 849.937 46.212 849.937 Q37.4273 849.937 32.4621 845.609 Q27.4968 841.248 27.4968 833.577 Z\" fill=\"#000000\" fill-rule=\"nonzero\" fill-opacity=\"1\" /><path clip-path=\"url(#clip200)\" d=\"M14.479 807.51 L14.479 801.653 L64.0042 801.653 L64.0042 807.51 L14.479 807.51 Z\" fill=\"#000000\" fill-rule=\"nonzero\" fill-opacity=\"1\" /><path clip-path=\"url(#clip200)\" d=\"M49.9359 790.004 L28.3562 790.004 L28.3562 784.148 L49.7131 784.148 Q54.7739 784.148 57.3202 782.174 Q59.8346 780.201 59.8346 776.254 Q59.8346 771.512 56.8109 768.775 Q53.7872 766.005 48.5673 766.005 L28.3562 766.005 L28.3562 760.149 L64.0042 760.149 L64.0042 766.005 L58.5296 766.005 Q61.7762 768.138 63.3676 770.971 Q64.9272 773.772 64.9272 777.496 Q64.9272 783.638 61.1078 786.821 Q57.2883 790.004 49.9359 790.004 M27.4968 775.268 L27.4968 775.268 Z\" fill=\"#000000\" fill-rule=\"nonzero\" fill-opacity=\"1\" /><path clip-path=\"url(#clip200)\" d=\"M35.1993 720.331 Q31.2526 718.135 29.3747 715.08 Q27.4968 712.024 27.4968 707.887 Q27.4968 702.317 31.4117 699.293 Q35.2948 696.269 42.4881 696.269 L64.0042 696.269 L64.0042 702.157 L42.679 702.157 Q37.5546 702.157 35.072 703.972 Q32.5894 705.786 32.5894 709.51 Q32.5894 714.061 35.6131 716.703 Q38.6368 719.345 43.8567 719.345 L64.0042 719.345 L64.0042 725.233 L42.679 725.233 Q37.5228 725.233 35.072 727.047 Q32.5894 728.862 32.5894 732.649 Q32.5894 737.137 35.6449 739.779 Q38.6686 742.42 43.8567 742.42 L64.0042 742.42 L64.0042 748.309 L28.3562 748.309 L28.3562 742.42 L33.8944 742.42 Q30.616 740.415 29.0564 737.614 Q27.4968 734.813 27.4968 730.962 Q27.4968 727.079 29.4702 724.374 Q31.4436 721.636 35.1993 720.331 Z\" fill=\"#000000\" fill-rule=\"nonzero\" fill-opacity=\"1\" /><path clip-path=\"url(#clip200)\" d=\"M44.7161 654.096 L47.5806 654.096 L47.5806 681.023 Q53.6281 680.641 56.8109 677.395 Q59.9619 674.116 59.9619 668.292 Q59.9619 664.918 59.1344 661.767 Q58.3069 658.584 56.6518 655.465 L62.1899 655.465 Q63.5267 658.616 64.227 661.926 Q64.9272 665.236 64.9272 668.642 Q64.9272 677.172 59.9619 682.169 Q54.9967 687.134 46.5303 687.134 Q37.7774 687.134 32.6531 682.424 Q27.4968 677.681 27.4968 669.66 Q27.4968 662.467 32.1438 658.298 Q36.7589 654.096 44.7161 654.096 M42.9973 659.953 Q38.1912 660.016 35.3266 662.658 Q32.4621 665.268 32.4621 669.597 Q32.4621 674.498 35.2312 677.458 Q38.0002 680.387 43.0292 680.832 L42.9973 659.953 Z\" fill=\"#000000\" fill-rule=\"nonzero\" fill-opacity=\"1\" /><path clip-path=\"url(#clip200)\" d=\"M1157.24 72.576 L1134.15 12.096 L1142.69 12.096 L1161.86 63.0159 L1181.06 12.096 L1189.56 12.096 L1166.51 72.576 L1157.24 72.576 Z\" fill=\"#000000\" fill-rule=\"nonzero\" fill-opacity=\"1\" /><path clip-path=\"url(#clip200)\" d=\"M1209.21 32.4315 Q1203.22 32.4315 1199.73 37.1306 Q1196.25 41.7891 1196.25 49.9314 Q1196.25 58.0738 1199.69 62.7728 Q1203.17 67.4314 1209.21 67.4314 Q1215.17 67.4314 1218.65 62.7323 Q1222.13 58.0333 1222.13 49.9314 Q1222.13 41.8701 1218.65 37.1711 Q1215.17 32.4315 1209.21 32.4315 M1209.21 26.1121 Q1218.93 26.1121 1224.48 32.4315 Q1230.03 38.7509 1230.03 49.9314 Q1230.03 61.0714 1224.48 67.4314 Q1218.93 73.7508 1209.21 73.7508 Q1199.45 73.7508 1193.9 67.4314 Q1188.39 61.0714 1188.39 49.9314 Q1188.39 38.7509 1193.9 32.4315 Q1199.45 26.1121 1209.21 26.1121 Z\" fill=\"#000000\" fill-rule=\"nonzero\" fill-opacity=\"1\" /><path clip-path=\"url(#clip200)\" d=\"M1242.39 9.54393 L1249.84 9.54393 L1249.84 72.576 L1242.39 72.576 L1242.39 9.54393 Z\" fill=\"#000000\" fill-rule=\"nonzero\" fill-opacity=\"1\" /><path clip-path=\"url(#clip200)\" d=\"M1264.67 54.671 L1264.67 27.2059 L1272.12 27.2059 L1272.12 54.3874 Q1272.12 60.8284 1274.63 64.0691 Q1277.14 67.2693 1282.17 67.2693 Q1288.2 67.2693 1291.69 63.421 Q1295.21 59.5726 1295.21 52.9291 L1295.21 27.2059 L1302.67 27.2059 L1302.67 72.576 L1295.21 72.576 L1295.21 65.6084 Q1292.5 69.7404 1288.89 71.7658 Q1285.33 73.7508 1280.59 73.7508 Q1272.77 73.7508 1268.72 68.8897 Q1264.67 64.0286 1264.67 54.671 M1283.42 26.1121 L1283.42 26.1121 Z\" fill=\"#000000\" fill-rule=\"nonzero\" fill-opacity=\"1\" /><path clip-path=\"url(#clip200)\" d=\"M1353.34 35.9153 Q1356.14 30.8922 1360.03 28.5022 Q1363.91 26.1121 1369.18 26.1121 Q1376.27 26.1121 1380.12 31.0947 Q1383.97 36.0368 1383.97 45.1919 L1383.97 72.576 L1376.47 72.576 L1376.47 45.4349 Q1376.47 38.913 1374.16 35.7533 Q1371.85 32.5936 1367.12 32.5936 Q1361.32 32.5936 1357.96 36.4419 Q1354.6 40.2903 1354.6 46.9338 L1354.6 72.576 L1347.1 72.576 L1347.1 45.4349 Q1347.1 38.8725 1344.79 35.7533 Q1342.49 32.5936 1337.66 32.5936 Q1331.95 32.5936 1328.59 36.4824 Q1325.23 40.3308 1325.23 46.9338 L1325.23 72.576 L1317.73 72.576 L1317.73 27.2059 L1325.23 27.2059 L1325.23 34.2544 Q1327.78 30.082 1331.35 28.0971 Q1334.91 26.1121 1339.81 26.1121 Q1344.75 26.1121 1348.2 28.6237 Q1351.68 31.1352 1353.34 35.9153 Z\" fill=\"#000000\" fill-rule=\"nonzero\" fill-opacity=\"1\" /><path clip-path=\"url(#clip200)\" d=\"M1437.64 48.0275 L1437.64 51.6733 L1403.37 51.6733 Q1403.86 59.3701 1407.99 63.421 Q1412.16 67.4314 1419.57 67.4314 Q1423.87 67.4314 1427.88 66.3781 Q1431.93 65.3249 1435.9 63.2184 L1435.9 70.267 Q1431.89 71.9684 1427.68 72.8596 Q1423.46 73.7508 1419.13 73.7508 Q1408.27 73.7508 1401.91 67.4314 Q1395.59 61.1119 1395.59 50.3365 Q1395.59 39.1965 1401.59 32.6746 Q1407.62 26.1121 1417.83 26.1121 Q1426.99 26.1121 1432.29 32.0264 Q1437.64 37.9003 1437.64 48.0275 M1430.19 45.84 Q1430.11 39.7232 1426.74 36.0774 Q1423.42 32.4315 1417.91 32.4315 Q1411.67 32.4315 1407.91 35.9558 Q1404.18 39.4801 1403.61 45.8805 L1430.19 45.84 Z\" fill=\"#000000\" fill-rule=\"nonzero\" fill-opacity=\"1\" /><polyline clip-path=\"url(#clip202)\" style=\"stroke:#009af9; stroke-linecap:round; stroke-linejoin:round; stroke-width:4; stroke-opacity:1; fill:none\" points=\"279.421,1020.17 281.033,974.045 282.645,923.752 284.256,983.033 285.868,1013.86 287.48,950.981 289.091,908.932 290.703,925.243 292.314,1032.14 293.926,1002.06 295.538,968.564 297.149,990.926 298.761,1061.08 300.373,1080.77 301.984,1038.37 303.596,974.571 305.208,1051.96 306.819,1082.83 308.431,1098.35 310.043,1077.92 311.654,1034.64 313.266,1057.05 314.878,1070.95 316.489,1086.91 318.101,1071.08 319.712,1038.15 321.324,1036.66 322.936,991.277 324.547,1054.85 326.159,1012.63 327.771,943.615 329.382,1002.63 330.994,1046.7 332.606,1054.02 334.217,1005.26 335.829,974.746 337.441,975.141 339.052,1135.09 340.664,1063.8 342.276,1046.09 343.887,1054.02 345.499,1066.39 347.11,1003.64 348.722,945.807 350.334,929.803 351.945,990.268 353.557,865.716 355.169,1048.72 356.78,1000.62 358.392,952.209 360.004,786.62 361.615,944.053 363.227,1054.07 364.839,966.284 366.45,957.865 368.062,1001.23 369.674,980.929 371.285,992.285 372.897,934.758 374.508,917.443 376.12,942.694 377.732,987.067 379.343,1076.52 380.955,950.762 382.567,976.763 384.178,1059.33 385.79,1141.8 387.402,1055.99 389.013,701.141 390.625,890.604 392.237,955.541 393.848,1098.53 395.46,1009.12 397.072,1014.78 398.683,952.691 400.295,1064.02 401.906,987.067 403.518,1024.56 405.13,954.007 406.741,1043.59 408.353,1068.05 409.965,1126.41 411.576,1101.29 413.188,1046 414.8,1079.19 416.411,1145.18 418.023,1166.23 419.635,1072.57 421.246,926.339 422.858,948.131 424.469,1046.7 426.081,1027.36 427.693,989.873 429.304,1044.95 430.916,1059.9 432.528,1179.42 434.139,1092.65 435.751,1034.51 437.363,1004.69 438.974,1097.47 440.586,1175.74 442.198,1052.84 443.809,1076.91 445.421,1064.76 447.033,1224.1 448.644,1161.01 450.256,1044.2 451.867,1076.16 453.479,997.547 455.091,825.381 456.702,1055.12 458.314,1022.98 459.926,950.543 461.537,864.287 463.149,1021.09 464.761,1082.08 466.372,1016.84 467.984,1032.98 469.596,960.54 471.207,739.086 472.819,1047.8 474.431,1269.74 476.042,1132.6 477.654,1079.19 479.265,1084.01 480.877,988.383 482.489,935.635 484.1,931.294 485.712,1050.69 487.324,1086.6 488.935,999.651 490.547,965.363 492.159,953.437 493.77,1029.12 495.382,1109.8 496.994,1016.93 498.605,980.973 500.217,1010.26 501.829,1097.34 503.44,1143.91 505.052,1047.4 506.663,954.84 508.275,1008.33 509.887,1130.4 511.498,1186.62 513.11,1098.79 514.722,1049.42 516.333,1058.36 517.945,1121.2 519.557,1175.26 521.168,1119.57 522.78,1075.29 524.392,1079.76 526.003,1115.32 527.615,1149.17 529.226,1085.81 530.838,1055.47 532.45,1110.1 534.061,1084.93 535.673,1173.07 537.285,1109.71 538.896,1119.97 540.508,1035.21 542.12,1139.09 543.731,1025.87 545.343,935.459 546.955,946.333 548.566,918.008 550.178,982.77 551.79,520.521 553.401,818.866 555.013,612.723 556.624,663.476 558.236,526.454 559.848,776.689 561.459,834.918 563.071,876.441 564.683,899.285 566.294,827.157 567.906,1027.06 569.518,976.982 571.129,818.782 572.741,836.979 574.353,971.765 575.964,1113.26 577.576,1004.17 579.188,967.073 580.799,795.114 582.411,958.742 584.022,1093.22 585.634,1011.75 587.246,905.775 588.857,988.777 590.469,974.746 592.081,1057.7 593.692,964.925 595.304,956.637 596.916,944.273 598.527,996.845 600.139,1057.53 601.751,973.65 603.362,949.49 604.974,964.881 606.586,1050.6 608.197,986.673 609.809,947.956 611.42,923.708 613.032,877.143 614.644,1062.92 616.255,1107.73 617.867,941.773 619.479,909.633 621.09,904.766 622.702,956.111 624.314,965.144 625.925,959.268 627.537,1091.2 629.149,1362.62 630.76,1047.14 632.372,977.772 633.984,918.271 635.595,939.318 637.207,953.393 638.818,1015.09 640.43,964.398 642.042,768.49 643.653,890.121 645.265,995.223 646.877,1008.16 648.488,943.045 650.1,906.871 651.712,879.774 653.323,969.528 654.935,989.873 656.547,948.833 658.158,891.437 659.77,888.981 661.381,799.753 662.993,1349.74 664.605,1195.65 666.216,1158.29 667.828,1140.27 669.44,1128.78 671.051,1029.07 672.663,929.145 674.275,879.116 675.886,968.871 677.498,990.575 679.11,905.863 680.721,972.949 682.333,1011.14 683.945,978.473 685.556,934.407 687.168,892.489 688.779,937.389 690.391,957.909 692.003,967.424 693.614,893.936 695.226,861.665 696.838,952.735 698.449,1022.14 700.061,748.013 701.673,656.987 703.284,859.823 704.896,943.045 706.508,912.176 708.119,762.79 709.731,812.117 711.343,910.423 712.954,940.984 714.566,1034.16 716.177,1062.75 717.789,1009.39 719.401,984.568 721.012,946.553 722.624,1020.79 724.236,911.606 725.847,936.731 727.459,923.84 729.071,942.957 730.682,968.476 732.294,931.382 733.906,932.083 735.517,903.889 737.129,843.468 738.741,863.199 740.352,866.707 741.964,877.187 743.575,923.401 745.187,1011.88 746.799,970.581 748.41,948.833 750.022,1012.5 751.634,887.491 753.245,1029.73 754.857,992.241 756.469,970.362 758.08,955.322 759.692,997.371 761.304,1078.66 762.915,1006.01 764.527,1025.08 766.138,1039.33 767.75,1081.73 769.362,1026.57 770.973,1007.72 772.585,979.613 774.197,1055.73 775.808,1062.26 777.42,1000.84 779.032,907.66 780.643,882.36 782.255,980.359 783.867,1051.26 785.478,954.401 787.09,938.792 788.702,946.509 790.313,1022.93 791.925,1024.34 793.536,933.705 795.148,940.414 796.76,877.187 798.371,939.976 799.983,966.065 801.595,828.429 803.206,906.126 804.818,944.448 806.43,979.306 808.041,1050.29 809.653,948.526 811.265,883.939 812.876,1036.97 814.488,1028.68 816.1,1065.2 817.711,922.305 819.323,919.806 820.934,991.54 822.546,983.735 824.158,1108.52 825.769,1016.14 827.381,1044.29 828.993,1019.47 830.604,1154.3 832.216,1105.59 833.828,1068.18 835.439,978.386 837.051,982.463 838.663,961.855 840.274,899.461 841.886,972.466 843.498,840.311 845.109,954.401 846.721,1004.87 848.332,1010.92 849.944,755.151 851.556,926.251 853.167,863.331 854.779,1000.31 856.391,1019.38 858.002,956.681 859.614,933.179 861.226,886.044 862.837,861.752 864.449,878.809 866.061,659.315 867.672,705.657 869.284,614.28 870.896,917.482 872.507,743.19 874.119,872.626 875.73,1235.86 877.342,1023.2 878.954,951.069 880.565,745.865 882.177,630.292 883.789,837.724 885.4,413.548 887.012,734.114 888.624,417.187 890.235,781.205 891.847,378.777 893.459,556.814 895.07,472.206 896.682,325.52 898.293,479.362 899.905,754.985 901.517,762.636 903.128,741.835 904.74,643.938 906.352,809.311 907.963,868.11 909.575,917.482 911.187,878.633 912.798,889.025 914.41,820.492 916.022,974.746 917.633,1088.05 919.245,973.519 920.857,869.996 922.468,882.58 924.08,987.725 925.691,972.598 927.303,968.783 928.915,949.227 930.526,940.502 932.138,1072.7 933.75,1096.64 935.361,969.134 936.973,1039.77 938.585,985.182 940.196,1134.79 941.808,976.982 943.42,940.896 945.031,928.093 946.643,1023.15 948.255,1046.79 949.866,1022.32 951.478,1171.31 953.089,1020.04 954.701,985.226 956.313,1103.44 957.924,907.353 959.536,884.377 961.148,874.293 962.759,756.432 964.371,936.95 965.983,810.171 967.594,818.388 969.206,819.045 970.818,881.615 972.429,787.532 974.041,761.65 975.653,810.758 977.264,808.303 978.876,737.52 980.487,851.273 982.099,692.577 983.711,715.992 985.322,626.017 986.934,729.54 988.546,1016.23 990.157,684.873 991.769,847.546 993.381,761.873 994.992,918.534 996.604,908.055 998.216,863.243 999.827,843.644 1001.44,796.872 1003.05,954.796 1004.66,936.292 1006.27,871.793 1007.89,918.885 1009.5,822.86 1011.11,906.564 1012.72,820.843 1014.33,948.789 1015.94,808.522 1017.56,899.329 1019.17,908.274 1020.78,1054.5 1022.39,938.704 1024,900.864 1025.61,876.485 1027.23,928.619 1028.84,980.139 1030.45,956.111 1032.06,877.23 1033.67,483.571 1035.28,829.218 1036.9,852.369 1038.51,865.699 1040.12,950.455 1041.73,1260.38 1043.34,835.707 1044.95,889.902 1046.56,845.836 1048.18,994.346 1049.79,998.336 1051.4,963.39 1053.01,978.386 1054.62,979.043 1056.23,992.11 1057.85,959.005 1059.46,984.963 1061.07,993.644 1062.68,908.406 1064.29,934.845 1065.9,760.847 1067.52,1054.9 1069.13,1341.57 1070.74,1226.34 1072.35,1209.99 1073.96,1078.71 1075.57,1065.25 1077.19,1003.55 1078.8,1046.7 1080.41,912.922 1082.02,864.997 1083.63,899.022 1085.24,858.376 1086.86,891.218 1088.47,930.285 1090.08,937.695 1091.69,914.588 1093.3,869.645 1094.91,946.991 1096.53,957.076 1098.14,858.157 1099.75,777.588 1101.36,852.018 1102.97,912.922 1104.58,902.749 1106.2,842.986 1107.81,880.3 1109.42,850.383 1111.03,990.707 1112.64,906.038 1114.25,906.389 1115.87,915.114 1117.48,982.683 1119.09,999.608 1120.7,969.441 1122.31,989.83 1123.92,889.508 1125.54,926.646 1127.15,994.083 1128.76,1070.9 1130.37,1018.94 1131.98,929.452 1133.59,1003.55 1135.21,891.963 1136.82,939.888 1138.43,977.859 1140.04,940.37 1141.65,1012.45 1143.26,991.54 1144.88,958.172 1146.49,972.861 1148.1,942.475 1149.71,992.241 1151.32,916.517 1152.93,832.199 1154.55,746.128 1156.16,866.444 1157.77,796.938 1159.38,860.656 1160.99,896.479 1162.6,911.519 1164.22,716.57 1165.83,975.579 1167.44,957.865 1169.05,963.872 1170.66,1001.93 1172.27,1004.52 1173.89,886.789 1175.5,901.653 1177.11,845.441 1178.72,955.19 1180.33,998.292 1181.94,887.447 1183.55,1000.84 1185.17,975.272 1186.78,983.34 1188.39,1041.96 1190,1046.61 1191.61,902.267 1193.22,846.406 1194.84,915.246 1196.45,1052 1198.06,827.289 1199.67,811.504 1201.28,819.878 1202.89,956.813 1204.51,984.349 1206.12,873.591 1207.73,758.313 1209.34,929.759 1210.95,861.007 1212.56,908.362 1214.18,819.221 1215.79,870.829 1217.4,937.608 1219.01,961.066 1220.62,937.959 1222.23,920.727 1223.85,927.874 1225.46,881.001 1227.07,882.404 1228.68,939.318 1230.29,882.492 1231.9,903.319 1233.52,907.397 1235.13,1015.92 1236.74,870.785 1238.35,858.946 1239.96,803.348 1241.57,802.033 1243.19,813.564 1244.8,906.652 1246.41,832.769 1248.02,800.147 1249.63,736.964 1251.24,969.441 1252.86,983.296 1254.47,876.047 1256.08,861.533 1257.69,984.963 1259.3,952.384 1260.91,893.717 1262.53,889.683 1264.14,871.618 1265.75,797.999 1267.36,929.496 1268.97,933.793 1270.58,902.706 1272.2,934.188 1273.81,986.629 1275.42,846.581 1277.03,902.267 1278.64,876.353 1280.25,1202.31 1281.87,915.903 1283.48,856.008 1285.09,833.076 1286.7,899.855 1288.31,1010.79 1289.92,907.222 1291.54,876.66 1293.15,813.784 1294.76,814.047 1296.37,943.922 1297.98,992.592 1299.59,911.256 1301.21,945.018 1302.82,858.946 1304.43,929.759 1306.04,959.97 1307.65,880.914 1309.26,932.215 1310.87,837.461 1312.49,932.785 1314.1,964.311 1315.71,949.841 1317.32,888.762 1318.93,933.355 1320.54,1066.08 1322.16,1094.32 1323.77,1046.04 1325.38,1012.5 1326.99,1022.14 1328.6,1263.49 1330.21,1048.1 1331.83,972.247 1333.44,1011.62 1335.05,925.55 1336.66,968.608 1338.27,1116.46 1339.88,1025.7 1341.5,1081.51 1343.11,1031.62 1344.72,1128.12 1346.33,897.751 1347.94,807.82 1349.55,905.029 1351.17,900.075 1352.78,972.817 1354.39,922.174 1356,848.817 1357.61,956.769 1359.22,1000.27 1360.84,1037.71 1362.45,927.26 1364.06,955.756 1365.67,885.342 1367.28,876.66 1368.89,981.806 1370.51,971.765 1372.12,860.262 1373.73,871.662 1375.34,896.874 1376.95,943.352 1378.56,845.134 1380.18,855.745 1381.79,985.971 1383.4,853.904 1385.01,1092.74 1386.62,981.499 1388.23,988.953 1389.85,850.308 1391.46,1056.65 1393.07,1086.29 1394.68,984.831 1396.29,875.564 1397.9,920.902 1399.52,949.71 1401.13,1028.37 1402.74,885.693 1404.35,820.273 1405.96,839.083 1407.57,919.762 1409.19,941.028 1410.8,828.166 1412.41,857.368 1414.02,827.946 1415.63,885.298 1417.24,938.222 1418.86,920.946 1420.47,927.874 1422.08,905.029 1423.69,910.905 1425.3,997.24 1426.91,1032.8 1428.53,950.893 1430.14,936.117 1431.75,947.912 1433.36,939.932 1434.97,948.701 1436.58,961.022 1438.19,960.803 1439.81,983.998 1441.42,971.282 1443.03,957.734 1444.64,1061.21 1446.25,1328.89 1447.86,939.625 1449.48,936.029 1451.09,910.379 1452.7,900.995 1454.31,987.462 1455.92,1008.07 1457.53,899.943 1459.15,909.37 1460.76,910.642 1462.37,1006.23 1463.98,875.696 1465.59,863.813 1467.2,910.379 1468.82,849.782 1470.43,815.844 1472.04,993.688 1473.65,1040.34 1475.26,1315.37 1476.87,1386.4 1478.49,1078.27 1480.1,1098.53 1481.71,1091.99 1483.32,1036.88 1484.93,850.528 1486.54,887.228 1488.16,794.973 1489.77,723.283 1491.38,788.045 1492.99,880.344 1494.6,842.767 1496.21,878.414 1497.83,799.314 1499.44,787.87 1501.05,797.911 1502.66,771.866 1504.27,799.884 1505.88,857.982 1507.5,893.322 1509.11,808.917 1510.72,734.859 1512.33,699.825 1513.94,825.622 1515.55,841.32 1517.17,894.945 1518.78,825.71 1520.39,855.614 1522,894.638 1523.61,970.975 1525.22,926.953 1526.84,797.429 1528.45,900.469 1530.06,959.707 1531.67,930.198 1533.28,936.38 1534.89,857.28 1536.51,893.761 1538.12,937.257 1539.73,865.699 1541.34,945.895 1542.95,935.722 1544.56,867.102 1546.18,886.087 1547.79,895.339 1549.4,957.383 1551.01,987.506 1552.62,929.452 1554.23,992.504 1555.85,885.079 1557.46,819.747 1559.07,713.856 1560.68,933.705 1562.29,840.706 1563.9,884.509 1565.52,889.157 1567.13,942.168 1568.74,903.495 1570.35,905.731 1571.96,903.144 1573.57,872.626 1575.18,897.225 1576.8,964.135 1578.41,926.251 1580.02,958.304 1581.63,858.201 1583.24,858.201 1584.85,828.166 1586.47,922.656 1588.08,929.671 1589.69,902.881 1591.3,1016.44 1592.91,1059.15 1594.52,918.49 1596.14,863.901 1597.75,854.693 1599.36,890.165 1600.97,1018.59 1602.58,881.089 1604.19,780.416 1605.81,741.568 1607.42,930.373 1609.03,976.632 1610.64,876.923 1612.25,728.896 1613.86,727.405 1615.48,825.754 1617.09,853.421 1618.7,813.74 1620.31,898.409 1621.92,880.738 1623.53,817.467 1625.15,701.36 1626.76,869.996 1628.37,798.174 1629.98,923.796 1631.59,956.769 1633.2,915.465 1634.82,949.271 1636.43,863.506 1638.04,1011.53 1639.65,990.663 1641.26,1004.3 1642.87,864.778 1644.49,942.08 1646.1,907.836 1647.71,1028.37 1649.32,999.695 1650.93,993.688 1652.54,1002.15 1654.16,1053.5 1655.77,1011.18 1657.38,1020.61 1658.99,982.683 1660.6,1033.63 1662.21,1025.39 1663.83,952.384 1665.44,1030.21 1667.05,973.957 1668.66,884.553 1670.27,1049.72 1671.88,936.424 1673.5,909.283 1675.11,930.899 1676.72,747.618 1678.33,948.57 1679.94,939.625 1681.55,896.304 1683.17,886.701 1684.78,1066.78 1686.39,979.833 1688,959.97 1689.61,928.181 1691.22,1022.36 1692.84,1053.8 1694.45,1016.49 1696.06,901.478 1697.67,924.848 1699.28,906.608 1700.89,963.784 1702.5,908.581 1704.12,806.11 1705.73,805.54 1707.34,956.067 1708.95,922.787 1710.56,836.233 1712.17,861.007 1713.79,871.618 1715.4,973.299 1717.01,983.033 1718.62,955.717 1720.23,942.168 1721.84,929.803 1723.46,875.608 1725.07,1066.34 1726.68,996.363 1728.29,924.103 1729.9,926.427 1731.51,1027.28 1733.13,1013.64 1734.74,986.629 1736.35,980.183 1737.96,994.697 1739.57,1016.4 1741.18,1094.45 1742.8,1063.49 1744.41,1019.78 1746.02,1093.7 1747.63,1171.84 1749.24,1172.85 1750.85,1043.45 1752.47,1041.74 1754.08,1052.14 1755.69,1137.3 1757.3,1010.04 1758.91,996.056 1760.52,941.247 1762.14,989.523 1763.75,972.598 1765.36,1014.38 1766.97,991.803 1768.58,1054.11 1770.19,918.754 1771.81,1017.41 1773.42,961.548 1775.03,937.476 1776.64,978.517 1778.25,992.066 1779.86,988.514 1781.48,930.154 1783.09,927.391 1784.7,776.075 1786.31,848.774 1787.92,869.908 1789.53,920.595 1791.15,921.341 1792.76,907.836 1794.37,976.193 1795.98,1128.69 1797.59,963.697 1799.2,864.559 1800.82,889.42 1802.43,821.194 1804.04,940.37 1805.65,780.679 1807.26,803.392 1808.87,808.96 1810.49,898.145 1812.1,937.213 1813.71,803.523 1815.32,778.75 1816.93,828.604 1818.54,884.465 1820.16,930.461 1821.77,815.099 1823.38,767.525 1824.99,760.86 1826.6,786.423 1828.21,946.772 1829.83,906.389 1831.44,882.93 1833.05,931.732 1834.66,870.96 1836.27,905.292 1837.88,944.273 1839.49,804.05 1841.11,903.802 1842.72,873.153 1844.33,931.864 1845.94,916.254 1847.55,1038.46 1849.16,1321.28 1850.78,938.09 1852.39,861.358 1854,765.201 1855.61,764.28 1857.22,855.57 1858.83,948.657 1860.45,869.952 1862.06,873.766 1863.67,830.139 1865.28,909.502 1866.89,912.834 1868.5,865.348 1870.12,798.963 1871.73,755.949 1873.34,518.693 1874.95,918.666 1876.56,891.963 1878.17,932.697 1879.79,1123.3 1881.4,1138.25 1883.01,1111.51 1884.62,1136.54 1886.23,1178.68 1887.84,1197.49 1889.46,880.08 1891.07,787.914 1892.68,780.065 1894.29,854.518 1895.9,894.506 1897.51,889.025 1899.13,889.727 1900.74,857.587 1902.35,880.3 1903.96,956.988 1905.57,842.372 1907.18,885.386 1908.8,800.63 1910.41,821.895 1912.02,887.184 1913.63,836.409 1915.24,825.228 1916.85,840.706 1918.47,822.641 1920.08,805.979 1921.69,805.023 1923.3,857.745 1924.91,860.937 1926.52,819.852 1928.14,951.784 1929.75,921.573 1931.36,879.975 1932.97,888.468 1934.58,857.499 1936.19,976.816 1937.81,872.942 1939.42,889.157 1941.03,849.686 1942.64,862.366 1944.25,777.417 1945.86,884.338 1947.48,876.595 1949.09,874.433 1950.7,755.257 1952.31,793.588 1953.92,854.763 1955.53,833.848 1957.15,824.824 1958.76,889.714 1960.37,874.692 1961.98,794.943 1963.59,839.206 1965.2,906.818 1966.81,912.251 1968.43,878.883 1970.04,817.647 1971.65,848.892 1973.26,514.584 1974.87,744.751 1976.48,615.389 1978.1,557.335 1979.71,787.598 1981.32,776.856 1982.93,567.692 1984.54,623.001 1986.15,571.647 1987.77,591.615 1989.38,630.604 1990.99,722.231 1992.6,754.415 1994.21,709.156 1995.82,814.077 1997.44,873.718 1999.05,674.425 2000.66,643.771 2002.27,509.906 2003.88,363.053 2005.49,586.362 2007.11,603.011 2008.72,570.411 2010.33,530.286 2011.94,645.464 2013.55,755.454 2015.16,683.233 2016.78,599.144 2018.39,585.661 2020,506.696 2021.61,674.332 2023.22,592.347 2024.83,531.198 2026.45,666.852 2028.06,793.965 2029.67,728.273 2031.28,713.961 2032.89,737.941 2034.5,667.646 2036.12,582.889 2037.73,728.343 2039.34,715.014 2040.95,548.807 2042.56,763.859 2044.17,827.047 2045.79,805.378 2047.4,805.453 2049.01,778.627 2050.62,817.243 2052.23,936.805 2053.84,735.438 2055.46,748.846 2057.07,747.228 2058.68,828.902 2060.29,864.155 2061.9,730.75 2063.51,790.33 2065.13,742.699 2066.74,812.828 2068.35,814.069 2069.96,797.933 2071.57,735.543 2073.18,763.78 2074.8,486.961 2076.41,790.751 2078.02,788.045 2079.63,743.08 2081.24,652.462 2082.85,481.949 2084.47,780.188 2086.08,765.372 2087.69,766.745 2089.3,617.572 2090.91,843.679 2092.52,750.723 2094.14,716.676 2095.75,686.434 2097.36,709.072 2098.97,732.974 2100.58,695.392 2102.19,747.794 2103.8,644.223 2105.42,789.931 2107.03,848.817 2108.64,647.481 2110.25,637.808 2111.86,608.65 2113.47,767.749 2115.09,789.413 2116.7,694.441 2118.31,689.346 2119.92,664.844 2121.53,757.835 2123.14,789.725 2124.76,646.674 2126.37,665.589 2127.98,673.815 2129.59,696.151 2131.2,751.459 2132.81,710.515 2134.43,590.023 2136.04,691.205 2137.65,793.044 2139.26,857.245 2140.87,744.326 2142.48,727.339 2144.1,749.692 2145.71,859.038 2147.32,831.616 2148.93,806.496 2150.54,695.923 2152.15,853.636 2153.77,866.799 2155.38,841.21 2156.99,702.206 2158.6,505.315 2160.21,564.794 2161.82,823.36 2163.44,695.357 2165.05,635.896 2166.66,685.145 2168.27,668.843 2169.88,692.744 2171.49,629.468 2173.11,671.39 2174.72,630.792 2176.33,160.256 2177.94,632.02 2179.55,525.599 2181.16,425.233 2182.78,479.353 2184.39,677.411 2186,655.838 2187.61,675.985 2189.22,618.673 2190.83,588.357 2192.45,622.821 2194.06,622.834 2195.67,515.878 2197.28,425.834 2198.89,318.299 2200.5,610.298 2202.12,579.645 2203.73,534.46 2205.34,450.169 2206.95,511.612 2208.56,582.736 2210.17,641.653 2211.79,579.197 2213.4,357.077 2215.01,394.935 2216.62,459.096 2218.23,578.855 2219.84,528.572 2221.46,460.486 2223.07,492.222 2224.68,499.225 2226.29,416.762 2227.9,464.827 2229.51,381.412 2231.12,351.359 2232.74,643.433 2234.35,671.026 2235.96,680.905 2237.57,571.546 2239.18,499.637 2240.79,765.052 2242.41,709.524 2244.02,508.007 2245.63,612.271 2247.24,534.899 2248.85,466.826 2250.46,614.126 2252.08,537.801 2253.69,671.982 2255.3,1224.66 2256.91,658.17 2258.52,547.921 2260.13,501.29 2261.75,395.996 2263.36,610.517 2264.97,522.709 2266.58,617.024 2268.19,624.439 2269.8,587.401 2271.42,711.054 2273.03,719.71 2274.64,494.568 2276.25,601.774 2277.86,586.397 2279.47,409.43 2281.09,574.024 2282.7,667.032 2284.31,637.005 2285.92,714.47 2287.53,978.732 2289.14,867.071 2290.76,918.859 2292.37,936.319 \"/>\n",
       "<path clip-path=\"url(#clip200)\" d=\"M290.157 270.476 L676.954 270.476 L676.954 166.796 L290.157 166.796  Z\" fill=\"#ffffff\" fill-rule=\"evenodd\" fill-opacity=\"1\"/>\n",
       "<polyline clip-path=\"url(#clip200)\" style=\"stroke:#000000; stroke-linecap:round; stroke-linejoin:round; stroke-width:4; stroke-opacity:1; fill:none\" points=\"290.157,270.476 676.954,270.476 676.954,166.796 290.157,166.796 290.157,270.476 \"/>\n",
       "<polyline clip-path=\"url(#clip200)\" style=\"stroke:#009af9; stroke-linecap:round; stroke-linejoin:round; stroke-width:4; stroke-opacity:1; fill:none\" points=\"313.865,218.636 456.113,218.636 \"/>\n",
       "<path clip-path=\"url(#clip200)\" d=\"M493.016 235.916 L479.821 201.356 L484.706 201.356 L495.655 230.453 L506.627 201.356 L511.488 201.356 L498.317 235.916 L493.016 235.916 Z\" fill=\"#000000\" fill-rule=\"nonzero\" fill-opacity=\"1\" /><path clip-path=\"url(#clip200)\" d=\"M522.715 212.976 Q519.289 212.976 517.298 215.661 Q515.307 218.323 515.307 222.976 Q515.307 227.629 517.275 230.314 Q519.266 232.976 522.715 232.976 Q526.117 232.976 528.108 230.291 Q530.099 227.606 530.099 222.976 Q530.099 218.37 528.108 215.684 Q526.117 212.976 522.715 212.976 M522.715 209.365 Q528.27 209.365 531.441 212.976 Q534.613 216.587 534.613 222.976 Q534.613 229.342 531.441 232.976 Q528.27 236.587 522.715 236.587 Q517.136 236.587 513.965 232.976 Q510.817 229.342 510.817 222.976 Q510.817 216.587 513.965 212.976 Q517.136 209.365 522.715 209.365 Z\" fill=\"#000000\" fill-rule=\"nonzero\" fill-opacity=\"1\" /><path clip-path=\"url(#clip200)\" d=\"M541.673 199.897 L545.932 199.897 L545.932 235.916 L541.673 235.916 L541.673 199.897 Z\" fill=\"#000000\" fill-rule=\"nonzero\" fill-opacity=\"1\" /><path clip-path=\"url(#clip200)\" d=\"M554.404 225.684 L554.404 209.99 L558.663 209.99 L558.663 225.522 Q558.663 229.203 560.099 231.055 Q561.534 232.883 564.404 232.883 Q567.853 232.883 569.844 230.684 Q571.858 228.485 571.858 224.689 L571.858 209.99 L576.117 209.99 L576.117 235.916 L571.858 235.916 L571.858 231.934 Q570.307 234.295 568.247 235.453 Q566.21 236.587 563.501 236.587 Q559.034 236.587 556.719 233.809 Q554.404 231.031 554.404 225.684 M565.122 209.365 L565.122 209.365 Z\" fill=\"#000000\" fill-rule=\"nonzero\" fill-opacity=\"1\" /><path clip-path=\"url(#clip200)\" d=\"M605.075 214.967 Q606.672 212.096 608.895 210.731 Q611.117 209.365 614.126 209.365 Q618.177 209.365 620.376 212.212 Q622.575 215.036 622.575 220.268 L622.575 235.916 L618.293 235.916 L618.293 220.407 Q618.293 216.68 616.973 214.874 Q615.654 213.069 612.946 213.069 Q609.635 213.069 607.714 215.268 Q605.793 217.467 605.793 221.263 L605.793 235.916 L601.51 235.916 L601.51 220.407 Q601.51 216.657 600.191 214.874 Q598.872 213.069 596.117 213.069 Q592.853 213.069 590.932 215.291 Q589.011 217.49 589.011 221.263 L589.011 235.916 L584.728 235.916 L584.728 209.99 L589.011 209.99 L589.011 214.018 Q590.469 211.633 592.506 210.499 Q594.543 209.365 597.344 209.365 Q600.168 209.365 602.135 210.8 Q604.126 212.235 605.075 214.967 Z\" fill=\"#000000\" fill-rule=\"nonzero\" fill-opacity=\"1\" /><path clip-path=\"url(#clip200)\" d=\"M653.246 221.888 L653.246 223.971 L633.663 223.971 Q633.941 228.369 636.302 230.684 Q638.686 232.976 642.922 232.976 Q645.376 232.976 647.668 232.374 Q649.982 231.772 652.251 230.569 L652.251 234.596 Q649.959 235.568 647.552 236.078 Q645.144 236.587 642.668 236.587 Q636.464 236.587 632.83 232.976 Q629.219 229.365 629.219 223.207 Q629.219 216.842 632.645 213.115 Q636.094 209.365 641.927 209.365 Q647.158 209.365 650.191 212.745 Q653.246 216.101 653.246 221.888 M648.987 220.638 Q648.941 217.143 647.019 215.059 Q645.121 212.976 641.973 212.976 Q638.408 212.976 636.256 214.99 Q634.126 217.004 633.802 220.661 L648.987 220.638 Z\" fill=\"#000000\" fill-rule=\"nonzero\" fill-opacity=\"1\" /></svg>\n"
      ]
     },
     "metadata": {},
     "output_type": "display_data"
    }
   ],
   "source": [
    "\n",
    "using Plots\n",
    "\n",
    "# figure(figsize=(8,6))\n",
    "\n",
    "#xlabel(\"Tick number\", fontsize=14)\n",
    "#ylabel(\"Volume\", fontsize=14)\n",
    "#xticks(fontsize=12)\n",
    "#yticks(fontsize=12)\n",
    "\n",
    "plot(X.Volume, title=\"Volume\",label=\"Volume\")\n",
    "xlabel!(\"Day Number\")\n",
    "ylabel!(\"Volume\")\n"
   ]
  },
  {
   "cell_type": "code",
   "execution_count": 9,
   "metadata": {},
   "outputs": [
    {
     "data": {
      "image/png": "[encoded data removed]",
      "image/svg+xml": [
       "<?xml version=\"1.0\" encoding=\"utf-8\"?>\n",
       "<svg xmlns=\"http://www.w3.org/2000/svg\" xmlns:xlink=\"http://www.w3.org/1999/xlink\" width=\"600\" height=\"400\" viewBox=\"0 0 2400 1600\">\n",
       "<defs>\n",
       "  <clipPath id=\"clip240\">\n",
       "    <rect x=\"0\" y=\"0\" width=\"2400\" height=\"1600\"/>\n",
       "  </clipPath>\n",
       "</defs>\n",
       "<path clip-path=\"url(#clip240)\" d=\"M0 1600 L2400 1600 L2400 0 L0 0  Z\" fill=\"#ffffff\" fill-rule=\"evenodd\" fill-opacity=\"1\"/>\n",
       "<defs>\n",
       "  <clipPath id=\"clip241\">\n",
       "    <rect x=\"480\" y=\"0\" width=\"1681\" height=\"1600\"/>\n",
       "  </clipPath>\n",
       "</defs>\n",
       "<path clip-path=\"url(#clip240)\" d=\"M235.283 1423.18 L2352.76 1423.18 L2352.76 123.472 L235.283 123.472  Z\" fill=\"#ffffff\" fill-rule=\"evenodd\" fill-opacity=\"1\"/>\n",
       "<defs>\n",
       "  <clipPath id=\"clip242\">\n",
       "    <rect x=\"235\" y=\"123\" width=\"2118\" height=\"1301\"/>\n",
       "  </clipPath>\n",
       "</defs>\n",
       "<polyline clip-path=\"url(#clip242)\" style=\"stroke:#000000; stroke-linecap:round; stroke-linejoin:round; stroke-width:2; stroke-opacity:0.1; fill:none\" points=\"1608.11,1423.18 1608.11,123.472 \"/>\n",
       "<polyline clip-path=\"url(#clip242)\" style=\"stroke:#000000; stroke-linecap:round; stroke-linejoin:round; stroke-width:2; stroke-opacity:0.1; fill:none\" points=\"2864.47,1423.18 2864.47,123.472 \"/>\n",
       "<polyline clip-path=\"url(#clip242)\" style=\"stroke:#000000; stroke-linecap:round; stroke-linejoin:round; stroke-width:2; stroke-opacity:0.1; fill:none\" points=\"235.283,1423.18 2352.76,1423.18 \"/>\n",
       "<polyline clip-path=\"url(#clip242)\" style=\"stroke:#000000; stroke-linecap:round; stroke-linejoin:round; stroke-width:2; stroke-opacity:0.1; fill:none\" points=\"235.283,1222.61 2352.76,1222.61 \"/>\n",
       "<polyline clip-path=\"url(#clip242)\" style=\"stroke:#000000; stroke-linecap:round; stroke-linejoin:round; stroke-width:2; stroke-opacity:0.1; fill:none\" points=\"235.283,1022.04 2352.76,1022.04 \"/>\n",
       "<polyline clip-path=\"url(#clip242)\" style=\"stroke:#000000; stroke-linecap:round; stroke-linejoin:round; stroke-width:2; stroke-opacity:0.1; fill:none\" points=\"235.283,821.463 2352.76,821.463 \"/>\n",
       "<polyline clip-path=\"url(#clip242)\" style=\"stroke:#000000; stroke-linecap:round; stroke-linejoin:round; stroke-width:2; stroke-opacity:0.1; fill:none\" points=\"235.283,620.891 2352.76,620.891 \"/>\n",
       "<polyline clip-path=\"url(#clip242)\" style=\"stroke:#000000; stroke-linecap:round; stroke-linejoin:round; stroke-width:2; stroke-opacity:0.1; fill:none\" points=\"235.283,420.319 2352.76,420.319 \"/>\n",
       "<polyline clip-path=\"url(#clip242)\" style=\"stroke:#000000; stroke-linecap:round; stroke-linejoin:round; stroke-width:2; stroke-opacity:0.1; fill:none\" points=\"235.283,219.747 2352.76,219.747 \"/>\n",
       "<polyline clip-path=\"url(#clip240)\" style=\"stroke:#000000; stroke-linecap:round; stroke-linejoin:round; stroke-width:4; stroke-opacity:1; fill:none\" points=\"235.283,1423.18 2352.76,1423.18 \"/>\n",
       "<polyline clip-path=\"url(#clip240)\" style=\"stroke:#000000; stroke-linecap:round; stroke-linejoin:round; stroke-width:4; stroke-opacity:1; fill:none\" points=\"1608.11,1423.18 1608.11,1404.28 \"/>\n",
       "<polyline clip-path=\"url(#clip240)\" style=\"stroke:#000000; stroke-linecap:round; stroke-linejoin:round; stroke-width:4; stroke-opacity:1; fill:none\" points=\"2864.47,1423.18 2864.47,1404.28 \"/>\n",
       "<path clip-path=\"url(#clip240)\" d=\"M1579.07 1451.02 L1583.77 1451.02 L1583.77 1472.02 Q1583.77 1477.57 1585.78 1480.02 Q1587.8 1482.45 1592.31 1482.45 Q1596.8 1482.45 1598.82 1480.02 Q1600.83 1477.57 1600.83 1472.02 L1600.83 1451.02 L1605.53 1451.02 L1605.53 1472.59 Q1605.53 1479.35 1602.17 1482.8 Q1598.84 1486.25 1592.31 1486.25 Q1585.76 1486.25 1582.4 1482.8 Q1579.07 1479.35 1579.07 1472.59 L1579.07 1451.02 Z\" fill=\"#000000\" fill-rule=\"nonzero\" fill-opacity=\"1\" /><path clip-path=\"url(#clip240)\" d=\"M1618.24 1481.69 L1618.24 1495.44 L1613.95 1495.44 L1613.95 1459.65 L1618.24 1459.65 L1618.24 1463.59 Q1619.58 1461.27 1621.62 1460.16 Q1623.68 1459.03 1626.52 1459.03 Q1631.25 1459.03 1634.19 1462.78 Q1637.15 1466.53 1637.15 1472.64 Q1637.15 1478.75 1634.19 1482.5 Q1631.25 1486.25 1626.52 1486.25 Q1623.68 1486.25 1621.62 1485.14 Q1619.58 1484.01 1618.24 1481.69 M1632.73 1472.64 Q1632.73 1467.94 1630.78 1465.28 Q1628.86 1462.59 1625.48 1462.59 Q1622.1 1462.59 1620.16 1465.28 Q1618.24 1467.94 1618.24 1472.64 Q1618.24 1477.34 1620.16 1480.02 Q1622.1 1482.69 1625.48 1482.69 Q1628.86 1482.69 1630.78 1480.02 Q1632.73 1477.34 1632.73 1472.64 Z\" fill=\"#000000\" fill-rule=\"nonzero\" fill-opacity=\"1\" /><path clip-path=\"url(#clip240)\" d=\"M2806.32 1454.86 L2806.32 1481.74 L2811.97 1481.74 Q2819.13 1481.74 2822.44 1478.5 Q2825.77 1475.26 2825.77 1468.27 Q2825.77 1461.32 2822.44 1458.1 Q2819.13 1454.86 2811.97 1454.86 L2806.32 1454.86 M2801.65 1451.02 L2811.25 1451.02 Q2821.3 1451.02 2826 1455.21 Q2830.7 1459.38 2830.7 1468.27 Q2830.7 1477.2 2825.98 1481.39 Q2821.25 1485.58 2811.25 1485.58 L2801.65 1485.58 L2801.65 1451.02 Z\" fill=\"#000000\" fill-rule=\"nonzero\" fill-opacity=\"1\" /><path clip-path=\"url(#clip240)\" d=\"M2848.01 1462.64 Q2844.59 1462.64 2842.6 1465.33 Q2840.61 1467.99 2840.61 1472.64 Q2840.61 1477.29 2842.57 1479.98 Q2844.56 1482.64 2848.01 1482.64 Q2851.42 1482.64 2853.41 1479.95 Q2855.4 1477.27 2855.4 1472.64 Q2855.4 1468.03 2853.41 1465.35 Q2851.42 1462.64 2848.01 1462.64 M2848.01 1459.03 Q2853.57 1459.03 2856.74 1462.64 Q2859.91 1466.25 2859.91 1472.64 Q2859.91 1479.01 2856.74 1482.64 Q2853.57 1486.25 2848.01 1486.25 Q2842.44 1486.25 2839.26 1482.64 Q2836.12 1479.01 2836.12 1472.64 Q2836.12 1466.25 2839.26 1462.64 Q2842.44 1459.03 2848.01 1459.03 Z\" fill=\"#000000\" fill-rule=\"nonzero\" fill-opacity=\"1\" /><path clip-path=\"url(#clip240)\" d=\"M2864.5 1459.65 L2868.75 1459.65 L2874.08 1479.89 L2879.38 1459.65 L2884.4 1459.65 L2889.73 1479.89 L2895.03 1459.65 L2899.29 1459.65 L2892.5 1485.58 L2887.48 1485.58 L2881.9 1464.33 L2876.3 1485.58 L2871.28 1485.58 L2864.5 1459.65 Z\" fill=\"#000000\" fill-rule=\"nonzero\" fill-opacity=\"1\" /><path clip-path=\"url(#clip240)\" d=\"M2927.3 1469.93 L2927.3 1485.58 L2923.04 1485.58 L2923.04 1470.07 Q2923.04 1466.39 2921.6 1464.56 Q2920.17 1462.73 2917.3 1462.73 Q2913.85 1462.73 2911.86 1464.93 Q2909.87 1467.13 2909.87 1470.93 L2909.87 1485.58 L2905.58 1485.58 L2905.58 1459.65 L2909.87 1459.65 L2909.87 1463.68 Q2911.39 1461.34 2913.45 1460.19 Q2915.54 1459.03 2918.25 1459.03 Q2922.71 1459.03 2925 1461.81 Q2927.3 1464.56 2927.3 1469.93 Z\" fill=\"#000000\" fill-rule=\"nonzero\" fill-opacity=\"1\" /><path clip-path=\"url(#clip240)\" d=\"M1129.82 1520.52 L1157.12 1520.52 L1157.12 1525.93 L1136.25 1525.93 L1136.25 1539.94 L1155.09 1539.94 L1155.09 1545.35 L1136.25 1545.35 L1136.25 1568.04 L1129.82 1568.04 L1129.82 1520.52 Z\" fill=\"#000000\" fill-rule=\"nonzero\" fill-opacity=\"1\" /><path clip-path=\"url(#clip240)\" d=\"M1182.97 1537.87 Q1181.98 1537.3 1180.81 1537.04 Q1179.66 1536.76 1178.26 1536.76 Q1173.29 1536.76 1170.62 1540 Q1167.98 1543.22 1167.98 1549.27 L1167.98 1568.04 L1162.09 1568.04 L1162.09 1532.4 L1167.98 1532.4 L1167.98 1537.93 Q1169.82 1534.69 1172.78 1533.13 Q1175.74 1531.54 1179.98 1531.54 Q1180.58 1531.54 1181.31 1531.63 Q1182.05 1531.7 1182.94 1531.85 L1182.97 1537.87 Z\" fill=\"#000000\" fill-rule=\"nonzero\" fill-opacity=\"1\" /><path clip-path=\"url(#clip240)\" d=\"M1218.17 1548.76 L1218.17 1551.62 L1191.25 1551.62 Q1191.63 1557.67 1194.87 1560.85 Q1198.15 1564 1203.98 1564 Q1207.35 1564 1210.5 1563.17 Q1213.68 1562.35 1216.8 1560.69 L1216.8 1566.23 Q1213.65 1567.57 1210.34 1568.27 Q1207.03 1568.97 1203.63 1568.97 Q1195.1 1568.97 1190.1 1564 Q1185.13 1559.04 1185.13 1550.57 Q1185.13 1541.82 1189.84 1536.69 Q1194.59 1531.54 1202.61 1531.54 Q1209.8 1531.54 1213.97 1536.18 Q1218.17 1540.8 1218.17 1548.76 M1212.32 1547.04 Q1212.25 1542.23 1209.61 1539.37 Q1207 1536.5 1202.67 1536.5 Q1197.77 1536.5 1194.81 1539.27 Q1191.88 1542.04 1191.44 1547.07 L1212.32 1547.04 Z\" fill=\"#000000\" fill-rule=\"nonzero\" fill-opacity=\"1\" /><path clip-path=\"url(#clip240)\" d=\"M1231.29 1550.25 Q1231.29 1556.71 1233.93 1560.4 Q1236.6 1564.07 1241.25 1564.07 Q1245.89 1564.07 1248.57 1560.4 Q1251.24 1556.71 1251.24 1550.25 Q1251.24 1543.79 1248.57 1540.13 Q1245.89 1536.44 1241.25 1536.44 Q1236.6 1536.44 1233.93 1540.13 Q1231.29 1543.79 1231.29 1550.25 M1251.24 1562.7 Q1249.4 1565.88 1246.56 1567.44 Q1243.76 1568.97 1239.82 1568.97 Q1233.35 1568.97 1229.28 1563.81 Q1225.24 1558.65 1225.24 1550.25 Q1225.24 1541.85 1229.28 1536.69 Q1233.35 1531.54 1239.82 1531.54 Q1243.76 1531.54 1246.56 1533.1 Q1249.4 1534.62 1251.24 1537.81 L1251.24 1532.4 L1257.1 1532.4 L1257.1 1581.6 L1251.24 1581.6 L1251.24 1562.7 Z\" fill=\"#000000\" fill-rule=\"nonzero\" fill-opacity=\"1\" /><path clip-path=\"url(#clip240)\" d=\"M1268.56 1553.98 L1268.56 1532.4 L1274.41 1532.4 L1274.41 1553.75 Q1274.41 1558.81 1276.39 1561.36 Q1278.36 1563.87 1282.31 1563.87 Q1287.05 1563.87 1289.79 1560.85 Q1292.56 1557.83 1292.56 1552.61 L1292.56 1532.4 L1298.41 1532.4 L1298.41 1568.04 L1292.56 1568.04 L1292.56 1562.57 Q1290.42 1565.82 1287.59 1567.41 Q1284.79 1568.97 1281.07 1568.97 Q1274.92 1568.97 1271.74 1565.15 Q1268.56 1561.33 1268.56 1553.98 M1283.29 1531.54 L1283.29 1531.54 Z\" fill=\"#000000\" fill-rule=\"nonzero\" fill-opacity=\"1\" /><path clip-path=\"url(#clip240)\" d=\"M1340.97 1548.76 L1340.97 1551.62 L1314.04 1551.62 Q1314.42 1557.67 1317.67 1560.85 Q1320.95 1564 1326.77 1564 Q1330.14 1564 1333.3 1563.17 Q1336.48 1562.35 1339.6 1560.69 L1339.6 1566.23 Q1336.45 1567.57 1333.14 1568.27 Q1329.83 1568.97 1326.42 1568.97 Q1317.89 1568.97 1312.89 1564 Q1307.93 1559.04 1307.93 1550.57 Q1307.93 1541.82 1312.64 1536.69 Q1317.38 1531.54 1325.4 1531.54 Q1332.6 1531.54 1336.77 1536.18 Q1340.97 1540.8 1340.97 1548.76 M1335.11 1547.04 Q1335.05 1542.23 1332.4 1539.37 Q1329.79 1536.5 1325.47 1536.5 Q1320.56 1536.5 1317.6 1539.27 Q1314.68 1542.04 1314.23 1547.07 L1335.11 1547.04 Z\" fill=\"#000000\" fill-rule=\"nonzero\" fill-opacity=\"1\" /><path clip-path=\"url(#clip240)\" d=\"M1380.21 1546.53 L1380.21 1568.04 L1374.35 1568.04 L1374.35 1546.72 Q1374.35 1541.66 1372.38 1539.14 Q1370.41 1536.63 1366.46 1536.63 Q1361.72 1536.63 1358.98 1539.65 Q1356.24 1542.68 1356.24 1547.9 L1356.24 1568.04 L1350.36 1568.04 L1350.36 1532.4 L1356.24 1532.4 L1356.24 1537.93 Q1358.34 1534.72 1361.18 1533.13 Q1364.04 1531.54 1367.77 1531.54 Q1373.91 1531.54 1377.06 1535.36 Q1380.21 1539.14 1380.21 1546.53 Z\" fill=\"#000000\" fill-rule=\"nonzero\" fill-opacity=\"1\" /><path clip-path=\"url(#clip240)\" d=\"M1417.55 1533.76 L1417.55 1539.24 Q1415.06 1537.87 1412.55 1537.2 Q1410.07 1536.5 1407.52 1536.5 Q1401.82 1536.5 1398.67 1540.13 Q1395.52 1543.73 1395.52 1550.25 Q1395.52 1556.78 1398.67 1560.4 Q1401.82 1564 1407.52 1564 Q1410.07 1564 1412.55 1563.33 Q1415.06 1562.63 1417.55 1561.26 L1417.55 1566.68 Q1415.1 1567.82 1412.45 1568.39 Q1409.84 1568.97 1406.88 1568.97 Q1398.83 1568.97 1394.09 1563.91 Q1389.35 1558.85 1389.35 1550.25 Q1389.35 1541.53 1394.12 1536.53 Q1398.93 1531.54 1407.27 1531.54 Q1409.97 1531.54 1412.55 1532.11 Q1415.13 1532.65 1417.55 1533.76 Z\" fill=\"#000000\" fill-rule=\"nonzero\" fill-opacity=\"1\" /><path clip-path=\"url(#clip240)\" d=\"M1442.56 1571.35 Q1440.08 1577.72 1437.73 1579.66 Q1435.37 1581.6 1431.42 1581.6 L1426.74 1581.6 L1426.74 1576.7 L1430.18 1576.7 Q1432.6 1576.7 1433.94 1575.56 Q1435.27 1574.41 1436.9 1570.14 L1437.95 1567.47 L1423.53 1532.4 L1429.74 1532.4 L1440.88 1560.28 L1452.02 1532.4 L1458.22 1532.4 L1442.56 1571.35 Z\" fill=\"#000000\" fill-rule=\"nonzero\" fill-opacity=\"1\" /><polyline clip-path=\"url(#clip240)\" style=\"stroke:#000000; stroke-linecap:round; stroke-linejoin:round; stroke-width:4; stroke-opacity:1; fill:none\" points=\"235.283,1423.18 235.283,123.472 \"/>\n",
       "<polyline clip-path=\"url(#clip240)\" style=\"stroke:#000000; stroke-linecap:round; stroke-linejoin:round; stroke-width:4; stroke-opacity:1; fill:none\" points=\"235.283,1423.18 254.18,1423.18 \"/>\n",
       "<polyline clip-path=\"url(#clip240)\" style=\"stroke:#000000; stroke-linecap:round; stroke-linejoin:round; stroke-width:4; stroke-opacity:1; fill:none\" points=\"235.283,1222.61 254.18,1222.61 \"/>\n",
       "<polyline clip-path=\"url(#clip240)\" style=\"stroke:#000000; stroke-linecap:round; stroke-linejoin:round; stroke-width:4; stroke-opacity:1; fill:none\" points=\"235.283,1022.04 254.18,1022.04 \"/>\n",
       "<polyline clip-path=\"url(#clip240)\" style=\"stroke:#000000; stroke-linecap:round; stroke-linejoin:round; stroke-width:4; stroke-opacity:1; fill:none\" points=\"235.283,821.463 254.18,821.463 \"/>\n",
       "<polyline clip-path=\"url(#clip240)\" style=\"stroke:#000000; stroke-linecap:round; stroke-linejoin:round; stroke-width:4; stroke-opacity:1; fill:none\" points=\"235.283,620.891 254.18,620.891 \"/>\n",
       "<polyline clip-path=\"url(#clip240)\" style=\"stroke:#000000; stroke-linecap:round; stroke-linejoin:round; stroke-width:4; stroke-opacity:1; fill:none\" points=\"235.283,420.319 254.18,420.319 \"/>\n",
       "<polyline clip-path=\"url(#clip240)\" style=\"stroke:#000000; stroke-linecap:round; stroke-linejoin:round; stroke-width:4; stroke-opacity:1; fill:none\" points=\"235.283,219.747 254.18,219.747 \"/>\n",
       "<path clip-path=\"url(#clip240)\" d=\"M187.338 1408.98 Q183.727 1408.98 181.899 1412.54 Q180.093 1416.08 180.093 1423.21 Q180.093 1430.32 181.899 1433.89 Q183.727 1437.43 187.338 1437.43 Q190.973 1437.43 192.778 1433.89 Q194.607 1430.32 194.607 1423.21 Q194.607 1416.08 192.778 1412.54 Q190.973 1408.98 187.338 1408.98 M187.338 1405.27 Q193.149 1405.27 196.204 1409.88 Q199.283 1414.46 199.283 1423.21 Q199.283 1431.94 196.204 1436.55 Q193.149 1441.13 187.338 1441.13 Q181.528 1441.13 178.45 1436.55 Q175.394 1431.94 175.394 1423.21 Q175.394 1414.46 178.45 1409.88 Q181.528 1405.27 187.338 1405.27 Z\" fill=\"#000000\" fill-rule=\"nonzero\" fill-opacity=\"1\" /><path clip-path=\"url(#clip240)\" d=\"M117.825 1235.95 L125.464 1235.95 L125.464 1209.59 L117.154 1211.25 L117.154 1206.99 L125.418 1205.33 L130.093 1205.33 L130.093 1235.95 L137.732 1235.95 L137.732 1239.89 L117.825 1239.89 L117.825 1235.95 Z\" fill=\"#000000\" fill-rule=\"nonzero\" fill-opacity=\"1\" /><path clip-path=\"url(#clip240)\" d=\"M157.177 1208.41 Q153.566 1208.41 151.737 1211.97 Q149.931 1215.51 149.931 1222.64 Q149.931 1229.75 151.737 1233.31 Q153.566 1236.86 157.177 1236.86 Q160.811 1236.86 162.616 1233.31 Q164.445 1229.75 164.445 1222.64 Q164.445 1215.51 162.616 1211.97 Q160.811 1208.41 157.177 1208.41 M157.177 1204.7 Q162.987 1204.7 166.042 1209.31 Q169.121 1213.89 169.121 1222.64 Q169.121 1231.37 166.042 1235.98 Q162.987 1240.56 157.177 1240.56 Q151.366 1240.56 148.288 1235.98 Q145.232 1231.37 145.232 1222.64 Q145.232 1213.89 148.288 1209.31 Q151.366 1204.7 157.177 1204.7 Z\" fill=\"#000000\" fill-rule=\"nonzero\" fill-opacity=\"1\" /><path clip-path=\"url(#clip240)\" d=\"M187.338 1208.41 Q183.727 1208.41 181.899 1211.97 Q180.093 1215.51 180.093 1222.64 Q180.093 1229.75 181.899 1233.31 Q183.727 1236.86 187.338 1236.86 Q190.973 1236.86 192.778 1233.31 Q194.607 1229.75 194.607 1222.64 Q194.607 1215.51 192.778 1211.97 Q190.973 1208.41 187.338 1208.41 M187.338 1204.7 Q193.149 1204.7 196.204 1209.31 Q199.283 1213.89 199.283 1222.64 Q199.283 1231.37 196.204 1235.98 Q193.149 1240.56 187.338 1240.56 Q181.528 1240.56 178.45 1235.98 Q175.394 1231.37 175.394 1222.64 Q175.394 1213.89 178.45 1209.31 Q181.528 1204.7 187.338 1204.7 Z\" fill=\"#000000\" fill-rule=\"nonzero\" fill-opacity=\"1\" /><path clip-path=\"url(#clip240)\" d=\"M121.043 1035.38 L137.362 1035.38 L137.362 1039.32 L115.418 1039.32 L115.418 1035.38 Q118.08 1032.63 122.663 1028 Q127.269 1023.34 128.45 1022 Q130.695 1019.48 131.575 1017.74 Q132.478 1015.98 132.478 1014.29 Q132.478 1011.54 130.533 1009.8 Q128.612 1008.07 125.51 1008.07 Q123.311 1008.07 120.857 1008.83 Q118.427 1009.59 115.649 1011.14 L115.649 1006.42 Q118.473 1005.29 120.927 1004.71 Q123.38 1004.13 125.418 1004.13 Q130.788 1004.13 133.982 1006.82 Q137.177 1009.5 137.177 1013.99 Q137.177 1016.12 136.367 1018.04 Q135.579 1019.94 133.473 1022.53 Q132.894 1023.2 129.792 1026.42 Q126.691 1029.62 121.043 1035.38 Z\" fill=\"#000000\" fill-rule=\"nonzero\" fill-opacity=\"1\" /><path clip-path=\"url(#clip240)\" d=\"M157.177 1007.83 Q153.566 1007.83 151.737 1011.4 Q149.931 1014.94 149.931 1022.07 Q149.931 1029.18 151.737 1032.74 Q153.566 1036.28 157.177 1036.28 Q160.811 1036.28 162.616 1032.74 Q164.445 1029.18 164.445 1022.07 Q164.445 1014.94 162.616 1011.4 Q160.811 1007.83 157.177 1007.83 M157.177 1004.13 Q162.987 1004.13 166.042 1008.74 Q169.121 1013.32 169.121 1022.07 Q169.121 1030.8 166.042 1035.4 Q162.987 1039.99 157.177 1039.99 Q151.366 1039.99 148.288 1035.4 Q145.232 1030.8 145.232 1022.07 Q145.232 1013.32 148.288 1008.74 Q151.366 1004.13 157.177 1004.13 Z\" fill=\"#000000\" fill-rule=\"nonzero\" fill-opacity=\"1\" /><path clip-path=\"url(#clip240)\" d=\"M187.338 1007.83 Q183.727 1007.83 181.899 1011.4 Q180.093 1014.94 180.093 1022.07 Q180.093 1029.18 181.899 1032.74 Q183.727 1036.28 187.338 1036.28 Q190.973 1036.28 192.778 1032.74 Q194.607 1029.18 194.607 1022.07 Q194.607 1014.94 192.778 1011.4 Q190.973 1007.83 187.338 1007.83 M187.338 1004.13 Q193.149 1004.13 196.204 1008.74 Q199.283 1013.32 199.283 1022.07 Q199.283 1030.8 196.204 1035.4 Q193.149 1039.99 187.338 1039.99 Q181.528 1039.99 178.45 1035.4 Q175.394 1030.8 175.394 1022.07 Q175.394 1013.32 178.45 1008.74 Q181.528 1004.13 187.338 1004.13 Z\" fill=\"#000000\" fill-rule=\"nonzero\" fill-opacity=\"1\" /><path clip-path=\"url(#clip240)\" d=\"M131.181 820.109 Q134.538 820.827 136.413 823.095 Q138.311 825.364 138.311 828.697 Q138.311 833.813 134.792 836.614 Q131.274 839.415 124.793 839.415 Q122.617 839.415 120.302 838.975 Q118.01 838.558 115.556 837.702 L115.556 833.188 Q117.501 834.322 119.816 834.901 Q122.13 835.479 124.654 835.479 Q129.052 835.479 131.343 833.743 Q133.658 832.007 133.658 828.697 Q133.658 825.642 131.505 823.929 Q129.376 822.192 125.556 822.192 L121.529 822.192 L121.529 818.35 L125.742 818.35 Q129.191 818.35 131.019 816.984 Q132.848 815.595 132.848 813.003 Q132.848 810.341 130.95 808.929 Q129.075 807.493 125.556 807.493 Q123.635 807.493 121.436 807.91 Q119.237 808.327 116.598 809.206 L116.598 805.04 Q119.26 804.299 121.575 803.929 Q123.913 803.558 125.973 803.558 Q131.297 803.558 134.399 805.989 Q137.501 808.396 137.501 812.517 Q137.501 815.387 135.857 817.378 Q134.214 819.345 131.181 820.109 Z\" fill=\"#000000\" fill-rule=\"nonzero\" fill-opacity=\"1\" /><path clip-path=\"url(#clip240)\" d=\"M157.177 807.262 Q153.566 807.262 151.737 810.827 Q149.931 814.368 149.931 821.498 Q149.931 828.604 151.737 832.169 Q153.566 835.711 157.177 835.711 Q160.811 835.711 162.616 832.169 Q164.445 828.604 164.445 821.498 Q164.445 814.368 162.616 810.827 Q160.811 807.262 157.177 807.262 M157.177 803.558 Q162.987 803.558 166.042 808.165 Q169.121 812.748 169.121 821.498 Q169.121 830.225 166.042 834.831 Q162.987 839.415 157.177 839.415 Q151.366 839.415 148.288 834.831 Q145.232 830.225 145.232 821.498 Q145.232 812.748 148.288 808.165 Q151.366 803.558 157.177 803.558 Z\" fill=\"#000000\" fill-rule=\"nonzero\" fill-opacity=\"1\" /><path clip-path=\"url(#clip240)\" d=\"M187.338 807.262 Q183.727 807.262 181.899 810.827 Q180.093 814.368 180.093 821.498 Q180.093 828.604 181.899 832.169 Q183.727 835.711 187.338 835.711 Q190.973 835.711 192.778 832.169 Q194.607 828.604 194.607 821.498 Q194.607 814.368 192.778 810.827 Q190.973 807.262 187.338 807.262 M187.338 803.558 Q193.149 803.558 196.204 808.165 Q199.283 812.748 199.283 821.498 Q199.283 830.225 196.204 834.831 Q193.149 839.415 187.338 839.415 Q181.528 839.415 178.45 834.831 Q175.394 830.225 175.394 821.498 Q175.394 812.748 178.45 808.165 Q181.528 803.558 187.338 803.558 Z\" fill=\"#000000\" fill-rule=\"nonzero\" fill-opacity=\"1\" /><path clip-path=\"url(#clip240)\" d=\"M129.862 607.685 L118.056 626.134 L129.862 626.134 L129.862 607.685 M128.635 603.611 L134.515 603.611 L134.515 626.134 L139.445 626.134 L139.445 630.023 L134.515 630.023 L134.515 638.171 L129.862 638.171 L129.862 630.023 L114.26 630.023 L114.26 625.509 L128.635 603.611 Z\" fill=\"#000000\" fill-rule=\"nonzero\" fill-opacity=\"1\" /><path clip-path=\"url(#clip240)\" d=\"M157.177 606.69 Q153.566 606.69 151.737 610.255 Q149.931 613.796 149.931 620.926 Q149.931 628.032 151.737 631.597 Q153.566 635.139 157.177 635.139 Q160.811 635.139 162.616 631.597 Q164.445 628.032 164.445 620.926 Q164.445 613.796 162.616 610.255 Q160.811 606.69 157.177 606.69 M157.177 602.986 Q162.987 602.986 166.042 607.593 Q169.121 612.176 169.121 620.926 Q169.121 629.653 166.042 634.259 Q162.987 638.842 157.177 638.842 Q151.366 638.842 148.288 634.259 Q145.232 629.653 145.232 620.926 Q145.232 612.176 148.288 607.593 Q151.366 602.986 157.177 602.986 Z\" fill=\"#000000\" fill-rule=\"nonzero\" fill-opacity=\"1\" /><path clip-path=\"url(#clip240)\" d=\"M187.338 606.69 Q183.727 606.69 181.899 610.255 Q180.093 613.796 180.093 620.926 Q180.093 628.032 181.899 631.597 Q183.727 635.139 187.338 635.139 Q190.973 635.139 192.778 631.597 Q194.607 628.032 194.607 620.926 Q194.607 613.796 192.778 610.255 Q190.973 606.69 187.338 606.69 M187.338 602.986 Q193.149 602.986 196.204 607.593 Q199.283 612.176 199.283 620.926 Q199.283 629.653 196.204 634.259 Q193.149 638.842 187.338 638.842 Q181.528 638.842 178.45 634.259 Q175.394 629.653 175.394 620.926 Q175.394 612.176 178.45 607.593 Q181.528 602.986 187.338 602.986 Z\" fill=\"#000000\" fill-rule=\"nonzero\" fill-opacity=\"1\" /><path clip-path=\"url(#clip240)\" d=\"M117.061 403.039 L135.417 403.039 L135.417 406.974 L121.343 406.974 L121.343 415.446 Q122.362 415.099 123.38 414.937 Q124.399 414.752 125.418 414.752 Q131.205 414.752 134.584 417.923 Q137.964 421.094 137.964 426.511 Q137.964 432.09 134.492 435.192 Q131.019 438.27 124.7 438.27 Q122.524 438.27 120.255 437.9 Q118.01 437.53 115.603 436.789 L115.603 432.09 Q117.686 433.224 119.908 433.78 Q122.13 434.335 124.607 434.335 Q128.612 434.335 130.95 432.229 Q133.288 430.122 133.288 426.511 Q133.288 422.9 130.95 420.793 Q128.612 418.687 124.607 418.687 Q122.732 418.687 120.857 419.104 Q119.006 419.52 117.061 420.4 L117.061 403.039 Z\" fill=\"#000000\" fill-rule=\"nonzero\" fill-opacity=\"1\" /><path clip-path=\"url(#clip240)\" d=\"M157.177 406.118 Q153.566 406.118 151.737 409.682 Q149.931 413.224 149.931 420.354 Q149.931 427.46 151.737 431.025 Q153.566 434.567 157.177 434.567 Q160.811 434.567 162.616 431.025 Q164.445 427.46 164.445 420.354 Q164.445 413.224 162.616 409.682 Q160.811 406.118 157.177 406.118 M157.177 402.414 Q162.987 402.414 166.042 407.02 Q169.121 411.604 169.121 420.354 Q169.121 429.08 166.042 433.687 Q162.987 438.27 157.177 438.27 Q151.366 438.27 148.288 433.687 Q145.232 429.08 145.232 420.354 Q145.232 411.604 148.288 407.02 Q151.366 402.414 157.177 402.414 Z\" fill=\"#000000\" fill-rule=\"nonzero\" fill-opacity=\"1\" /><path clip-path=\"url(#clip240)\" d=\"M187.338 406.118 Q183.727 406.118 181.899 409.682 Q180.093 413.224 180.093 420.354 Q180.093 427.46 181.899 431.025 Q183.727 434.567 187.338 434.567 Q190.973 434.567 192.778 431.025 Q194.607 427.46 194.607 420.354 Q194.607 413.224 192.778 409.682 Q190.973 406.118 187.338 406.118 M187.338 402.414 Q193.149 402.414 196.204 407.02 Q199.283 411.604 199.283 420.354 Q199.283 429.08 196.204 433.687 Q193.149 438.27 187.338 438.27 Q181.528 438.27 178.45 433.687 Q175.394 429.08 175.394 420.354 Q175.394 411.604 178.45 407.02 Q181.528 402.414 187.338 402.414 Z\" fill=\"#000000\" fill-rule=\"nonzero\" fill-opacity=\"1\" /><path clip-path=\"url(#clip240)\" d=\"M127.593 217.883 Q124.445 217.883 122.593 220.036 Q120.765 222.189 120.765 225.939 Q120.765 229.666 122.593 231.842 Q124.445 233.994 127.593 233.994 Q130.742 233.994 132.57 231.842 Q134.422 229.666 134.422 225.939 Q134.422 222.189 132.57 220.036 Q130.742 217.883 127.593 217.883 M136.876 203.231 L136.876 207.49 Q135.117 206.657 133.311 206.217 Q131.529 205.777 129.769 205.777 Q125.14 205.777 122.686 208.902 Q120.255 212.027 119.908 218.346 Q121.274 216.332 123.334 215.268 Q125.394 214.18 127.871 214.18 Q133.08 214.18 136.089 217.351 Q139.121 220.499 139.121 225.939 Q139.121 231.263 135.973 234.48 Q132.825 237.698 127.593 237.698 Q121.598 237.698 118.427 233.115 Q115.256 228.508 115.256 219.781 Q115.256 211.587 119.144 206.726 Q123.033 201.842 129.584 201.842 Q131.343 201.842 133.126 202.189 Q134.931 202.536 136.876 203.231 Z\" fill=\"#000000\" fill-rule=\"nonzero\" fill-opacity=\"1\" /><path clip-path=\"url(#clip240)\" d=\"M157.177 205.545 Q153.566 205.545 151.737 209.11 Q149.931 212.652 149.931 219.781 Q149.931 226.888 151.737 230.453 Q153.566 233.994 157.177 233.994 Q160.811 233.994 162.616 230.453 Q164.445 226.888 164.445 219.781 Q164.445 212.652 162.616 209.11 Q160.811 205.545 157.177 205.545 M157.177 201.842 Q162.987 201.842 166.042 206.448 Q169.121 211.032 169.121 219.781 Q169.121 228.508 166.042 233.115 Q162.987 237.698 157.177 237.698 Q151.366 237.698 148.288 233.115 Q145.232 228.508 145.232 219.781 Q145.232 211.032 148.288 206.448 Q151.366 201.842 157.177 201.842 Z\" fill=\"#000000\" fill-rule=\"nonzero\" fill-opacity=\"1\" /><path clip-path=\"url(#clip240)\" d=\"M187.338 205.545 Q183.727 205.545 181.899 209.11 Q180.093 212.652 180.093 219.781 Q180.093 226.888 181.899 230.453 Q183.727 233.994 187.338 233.994 Q190.973 233.994 192.778 230.453 Q194.607 226.888 194.607 219.781 Q194.607 212.652 192.778 209.11 Q190.973 205.545 187.338 205.545 M187.338 201.842 Q193.149 201.842 196.204 206.448 Q199.283 211.032 199.283 219.781 Q199.283 228.508 196.204 233.115 Q193.149 237.698 187.338 237.698 Q181.528 237.698 178.45 233.115 Q175.394 228.508 175.394 219.781 Q175.394 211.032 178.45 206.448 Q181.528 201.842 187.338 201.842 Z\" fill=\"#000000\" fill-rule=\"nonzero\" fill-opacity=\"1\" /><path clip-path=\"url(#clip240)\" d=\"M21.7677 908.168 L58.7206 908.168 L58.7206 900.401 Q58.7206 890.566 54.2646 886.015 Q49.8086 881.432 40.1964 881.432 Q30.6479 881.432 26.2237 886.015 Q21.7677 890.566 21.7677 900.401 L21.7677 908.168 M16.4842 914.597 L16.4842 901.388 Q16.4842 887.575 22.2451 881.113 Q27.9743 874.652 40.1964 874.652 Q52.4822 874.652 58.2432 881.145 Q64.0042 887.638 64.0042 901.388 L64.0042 914.597 L16.4842 914.597 Z\" fill=\"#000000\" fill-rule=\"nonzero\" fill-opacity=\"1\" /><path clip-path=\"url(#clip240)\" d=\"M28.3562 864.658 L28.3562 858.802 L64.0042 858.802 L64.0042 864.658 L28.3562 864.658 M14.479 864.658 L14.479 858.802 L21.895 858.802 L21.895 864.658 L14.479 864.658 Z\" fill=\"#000000\" fill-rule=\"nonzero\" fill-opacity=\"1\" /><path clip-path=\"url(#clip240)\" d=\"M33.8307 825.891 Q33.2578 826.877 33.0032 828.055 Q32.7167 829.201 32.7167 830.601 Q32.7167 835.567 35.9632 838.24 Q39.1779 840.882 45.2253 840.882 L64.0042 840.882 L64.0042 846.77 L28.3562 846.77 L28.3562 840.882 L33.8944 840.882 Q30.6479 839.036 29.0883 836.076 Q27.4968 833.116 27.4968 828.883 Q27.4968 828.278 27.5923 827.546 Q27.656 826.814 27.8151 825.923 L33.8307 825.891 Z\" fill=\"#000000\" fill-rule=\"nonzero\" fill-opacity=\"1\" /><path clip-path=\"url(#clip240)\" d=\"M44.7161 790.688 L47.5806 790.688 L47.5806 817.615 Q53.6281 817.233 56.8109 813.987 Q59.9619 810.709 59.9619 804.884 Q59.9619 801.51 59.1344 798.359 Q58.3069 795.176 56.6518 792.057 L62.1899 792.057 Q63.5267 795.208 64.227 798.518 Q64.9272 801.828 64.9272 805.234 Q64.9272 813.764 59.9619 818.761 Q54.9967 823.726 46.5303 823.726 Q37.7774 823.726 32.6531 819.016 Q27.4968 814.273 27.4968 806.253 Q27.4968 799.059 32.1438 794.89 Q36.7589 790.688 44.7161 790.688 M42.9973 796.545 Q38.1912 796.609 35.3266 799.25 Q32.4621 801.86 32.4621 806.189 Q32.4621 811.091 35.2312 814.051 Q38.0002 816.979 43.0292 817.424 L42.9973 796.545 Z\" fill=\"#000000\" fill-rule=\"nonzero\" fill-opacity=\"1\" /><path clip-path=\"url(#clip240)\" d=\"M29.7248 755.422 L35.1993 755.422 Q33.8307 757.905 33.1623 760.42 Q32.4621 762.902 32.4621 765.448 Q32.4621 771.146 36.0905 774.297 Q39.6872 777.448 46.212 777.448 Q52.7369 777.448 56.3653 774.297 Q59.9619 771.146 59.9619 765.448 Q59.9619 762.902 59.2935 760.42 Q58.5933 757.905 57.2247 755.422 L62.6355 755.422 Q63.7814 757.873 64.3543 760.515 Q64.9272 763.125 64.9272 766.085 Q64.9272 774.138 59.8664 778.88 Q54.8057 783.623 46.212 783.623 Q37.491 783.623 32.4939 778.848 Q27.4968 774.042 27.4968 765.703 Q27.4968 762.998 28.0697 760.42 Q28.6108 757.841 29.7248 755.422 Z\" fill=\"#000000\" fill-rule=\"nonzero\" fill-opacity=\"1\" /><path clip-path=\"url(#clip240)\" d=\"M18.2347 739.445 L28.3562 739.445 L28.3562 727.381 L32.9077 727.381 L32.9077 739.445 L52.2594 739.445 Q56.6199 739.445 57.8613 738.267 Q59.1026 737.057 59.1026 733.397 L59.1026 727.381 L64.0042 727.381 L64.0042 733.397 Q64.0042 740.177 61.4897 742.755 Q58.9434 745.333 52.2594 745.333 L32.9077 745.333 L32.9077 749.63 L28.3562 749.63 L28.3562 745.333 L18.2347 745.333 L18.2347 739.445 Z\" fill=\"#000000\" fill-rule=\"nonzero\" fill-opacity=\"1\" /><path clip-path=\"url(#clip240)\" d=\"M28.3562 719.679 L28.3562 713.823 L64.0042 713.823 L64.0042 719.679 L28.3562 719.679 M14.479 719.679 L14.479 713.823 L21.895 713.823 L21.895 719.679 L14.479 719.679 Z\" fill=\"#000000\" fill-rule=\"nonzero\" fill-opacity=\"1\" /><path clip-path=\"url(#clip240)\" d=\"M32.4621 687.755 Q32.4621 692.466 36.1542 695.203 Q39.8145 697.94 46.212 697.94 Q52.6095 697.94 56.3017 695.235 Q59.9619 692.497 59.9619 687.755 Q59.9619 683.076 56.2698 680.339 Q52.5777 677.602 46.212 677.602 Q39.8781 677.602 36.186 680.339 Q32.4621 683.076 32.4621 687.755 M27.4968 687.755 Q27.4968 680.116 32.4621 675.756 Q37.4273 671.395 46.212 671.395 Q54.9649 671.395 59.9619 675.756 Q64.9272 680.116 64.9272 687.755 Q64.9272 695.426 59.9619 699.786 Q54.9649 704.115 46.212 704.115 Q37.4273 704.115 32.4621 699.786 Q27.4968 695.426 27.4968 687.755 Z\" fill=\"#000000\" fill-rule=\"nonzero\" fill-opacity=\"1\" /><path clip-path=\"url(#clip240)\" d=\"M42.4881 632.055 L64.0042 632.055 L64.0042 637.911 L42.679 637.911 Q37.6183 637.911 35.1038 639.885 Q32.5894 641.858 32.5894 645.805 Q32.5894 650.547 35.6131 653.285 Q38.6368 656.022 43.8567 656.022 L64.0042 656.022 L64.0042 661.91 L28.3562 661.91 L28.3562 656.022 L33.8944 656.022 Q30.6797 653.921 29.0883 651.089 Q27.4968 648.224 27.4968 644.5 Q27.4968 638.357 31.3163 635.206 Q35.1038 632.055 42.4881 632.055 Z\" fill=\"#000000\" fill-rule=\"nonzero\" fill-opacity=\"1\" /><path clip-path=\"url(#clip240)\" d=\"M1122.4 18.8205 L1122.4 65.8515 L1132.29 65.8515 Q1144.8 65.8515 1150.6 60.1802 Q1156.43 54.509 1156.43 42.2752 Q1156.43 30.1225 1150.6 24.4918 Q1144.8 18.8205 1132.29 18.8205 L1122.4 18.8205 M1114.22 12.096 L1131.03 12.096 Q1148.61 12.096 1156.84 19.4281 Q1165.06 26.7198 1165.06 42.2752 Q1165.06 57.9117 1156.79 65.2439 Q1148.53 72.576 1131.03 72.576 L1114.22 72.576 L1114.22 12.096 Z\" fill=\"#000000\" fill-rule=\"nonzero\" fill-opacity=\"1\" /><path clip-path=\"url(#clip240)\" d=\"M1177.78 27.2059 L1185.23 27.2059 L1185.23 72.576 L1177.78 72.576 L1177.78 27.2059 M1177.78 9.54393 L1185.23 9.54393 L1185.23 18.9825 L1177.78 18.9825 L1177.78 9.54393 Z\" fill=\"#000000\" fill-rule=\"nonzero\" fill-opacity=\"1\" /><path clip-path=\"url(#clip240)\" d=\"M1227.12 34.1734 Q1225.86 33.4443 1224.36 33.1202 Q1222.91 32.7556 1221.12 32.7556 Q1214.8 32.7556 1211.4 36.8875 Q1208.04 40.9789 1208.04 48.6757 L1208.04 72.576 L1200.54 72.576 L1200.54 27.2059 L1208.04 27.2059 L1208.04 34.2544 Q1210.39 30.1225 1214.16 28.1376 Q1217.92 26.1121 1223.31 26.1121 Q1224.08 26.1121 1225.01 26.2337 Q1225.94 26.3147 1227.08 26.5172 L1227.12 34.1734 Z\" fill=\"#000000\" fill-rule=\"nonzero\" fill-opacity=\"1\" /><path clip-path=\"url(#clip240)\" d=\"M1271.92 48.0275 L1271.92 51.6733 L1237.65 51.6733 Q1238.14 59.3701 1242.27 63.421 Q1246.44 67.4314 1253.85 67.4314 Q1258.15 67.4314 1262.16 66.3781 Q1266.21 65.3249 1270.18 63.2184 L1270.18 70.267 Q1266.17 71.9684 1261.96 72.8596 Q1257.74 73.7508 1253.41 73.7508 Q1242.55 73.7508 1236.19 67.4314 Q1229.87 61.1119 1229.87 50.3365 Q1229.87 39.1965 1235.87 32.6746 Q1241.9 26.1121 1252.11 26.1121 Q1261.27 26.1121 1266.57 32.0264 Q1271.92 37.9003 1271.92 48.0275 M1264.47 45.84 Q1264.39 39.7232 1261.02 36.0774 Q1257.7 32.4315 1252.19 32.4315 Q1245.96 32.4315 1242.19 35.9558 Q1238.46 39.4801 1237.89 45.8805 L1264.47 45.84 Z\" fill=\"#000000\" fill-rule=\"nonzero\" fill-opacity=\"1\" /><path clip-path=\"url(#clip240)\" d=\"M1316.81 28.9478 L1316.81 35.9153 Q1313.65 34.1734 1310.45 33.3227 Q1307.29 32.4315 1304.05 32.4315 Q1296.79 32.4315 1292.78 37.0496 Q1288.77 41.6271 1288.77 49.9314 Q1288.77 58.2358 1292.78 62.8538 Q1296.79 67.4314 1304.05 67.4314 Q1307.29 67.4314 1310.45 66.5807 Q1313.65 65.6895 1316.81 63.9476 L1316.81 70.8341 Q1313.69 72.2924 1310.32 73.0216 Q1307 73.7508 1303.24 73.7508 Q1292.99 73.7508 1286.95 67.3098 Q1280.91 60.8689 1280.91 49.9314 Q1280.91 38.832 1286.99 32.472 Q1293.11 26.1121 1303.72 26.1121 Q1307.16 26.1121 1310.45 26.8413 Q1313.73 27.5299 1316.81 28.9478 Z\" fill=\"#000000\" fill-rule=\"nonzero\" fill-opacity=\"1\" /><path clip-path=\"url(#clip240)\" d=\"M1337.14 14.324 L1337.14 27.2059 L1352.49 27.2059 L1352.49 32.9987 L1337.14 32.9987 L1337.14 57.6282 Q1337.14 63.1779 1338.64 64.7578 Q1340.18 66.3376 1344.84 66.3376 L1352.49 66.3376 L1352.49 72.576 L1344.84 72.576 Q1336.21 72.576 1332.93 69.3758 Q1329.65 66.1351 1329.65 57.6282 L1329.65 32.9987 L1324.18 32.9987 L1324.18 27.2059 L1329.65 27.2059 L1329.65 14.324 L1337.14 14.324 Z\" fill=\"#000000\" fill-rule=\"nonzero\" fill-opacity=\"1\" /><path clip-path=\"url(#clip240)\" d=\"M1362.3 27.2059 L1369.75 27.2059 L1369.75 72.576 L1362.3 72.576 L1362.3 27.2059 M1362.3 9.54393 L1369.75 9.54393 L1369.75 18.9825 L1362.3 18.9825 L1362.3 9.54393 Z\" fill=\"#000000\" fill-rule=\"nonzero\" fill-opacity=\"1\" /><path clip-path=\"url(#clip240)\" d=\"M1402.93 32.4315 Q1396.93 32.4315 1393.45 37.1306 Q1389.97 41.7891 1389.97 49.9314 Q1389.97 58.0738 1393.41 62.7728 Q1396.89 67.4314 1402.93 67.4314 Q1408.88 67.4314 1412.37 62.7323 Q1415.85 58.0333 1415.85 49.9314 Q1415.85 41.8701 1412.37 37.1711 Q1408.88 32.4315 1402.93 32.4315 M1402.93 26.1121 Q1412.65 26.1121 1418.2 32.4315 Q1423.75 38.7509 1423.75 49.9314 Q1423.75 61.0714 1418.2 67.4314 Q1412.65 73.7508 1402.93 73.7508 Q1393.17 73.7508 1387.62 67.4314 Q1382.11 61.0714 1382.11 49.9314 Q1382.11 38.7509 1387.62 32.4315 Q1393.17 26.1121 1402.93 26.1121 Z\" fill=\"#000000\" fill-rule=\"nonzero\" fill-opacity=\"1\" /><path clip-path=\"url(#clip240)\" d=\"M1473.82 45.1919 L1473.82 72.576 L1466.37 72.576 L1466.37 45.4349 Q1466.37 38.994 1463.85 35.7938 Q1461.34 32.5936 1456.32 32.5936 Q1450.28 32.5936 1446.8 36.4419 Q1443.32 40.2903 1443.32 46.9338 L1443.32 72.576 L1435.82 72.576 L1435.82 27.2059 L1443.32 27.2059 L1443.32 34.2544 Q1445.99 30.163 1449.59 28.1376 Q1453.24 26.1121 1457.98 26.1121 Q1465.8 26.1121 1469.81 30.9732 Q1473.82 35.7938 1473.82 45.1919 Z\" fill=\"#000000\" fill-rule=\"nonzero\" fill-opacity=\"1\" /><path clip-path=\"url(#clip242)\" d=\"M351.748 215.735 L351.748 1423.18 L979.929 1423.18 L979.929 215.735 L351.748 215.735 L351.748 215.735  Z\" fill=\"#009af9\" fill-rule=\"evenodd\" fill-opacity=\"1\"/>\n",
       "<polyline clip-path=\"url(#clip242)\" style=\"stroke:#000000; stroke-linecap:round; stroke-linejoin:round; stroke-width:4; stroke-opacity:1; fill:none\" points=\"351.748,215.735 351.748,1423.18 979.929,1423.18 979.929,215.735 351.748,215.735 \"/>\n",
       "<path clip-path=\"url(#clip242)\" d=\"M979.929 1423.18 L979.929 1423.18 L1608.11 1423.18 L1608.11 1423.18 L979.929 1423.18 L979.929 1423.18  Z\" fill=\"#009af9\" fill-rule=\"evenodd\" fill-opacity=\"1\"/>\n",
       "<polyline clip-path=\"url(#clip242)\" style=\"stroke:#000000; stroke-linecap:round; stroke-linejoin:round; stroke-width:4; stroke-opacity:1; fill:none\" points=\"979.929,1423.18 979.929,1423.18 1608.11,1423.18 979.929,1423.18 \"/>\n",
       "<path clip-path=\"url(#clip242)\" d=\"M1608.11 123.472 L1608.11 1423.18 L2236.29 1423.18 L2236.29 123.472 L1608.11 123.472 L1608.11 123.472  Z\" fill=\"#009af9\" fill-rule=\"evenodd\" fill-opacity=\"1\"/>\n",
       "<polyline clip-path=\"url(#clip242)\" style=\"stroke:#000000; stroke-linecap:round; stroke-linejoin:round; stroke-width:4; stroke-opacity:1; fill:none\" points=\"1608.11,123.472 1608.11,1423.18 2236.29,1423.18 2236.29,123.472 1608.11,123.472 \"/>\n",
       "<circle clip-path=\"url(#clip242)\" style=\"fill:#009af9; stroke:none; fill-opacity:0\" cx=\"665.838\" cy=\"215.735\" r=\"2\"/>\n",
       "<circle clip-path=\"url(#clip242)\" style=\"fill:#009af9; stroke:none; fill-opacity:0\" cx=\"1294.02\" cy=\"1423.18\" r=\"2\"/>\n",
       "<circle clip-path=\"url(#clip242)\" style=\"fill:#009af9; stroke:none; fill-opacity:0\" cx=\"1922.2\" cy=\"123.472\" r=\"2\"/>\n",
       "<path clip-path=\"url(#clip240)\" d=\"M1864.94 1379.86 L2282.17 1379.86 L2282.17 1276.18 L1864.94 1276.18  Z\" fill=\"#ffffff\" fill-rule=\"evenodd\" fill-opacity=\"1\"/>\n",
       "<polyline clip-path=\"url(#clip240)\" style=\"stroke:#000000; stroke-linecap:round; stroke-linejoin:round; stroke-width:4; stroke-opacity:1; fill:none\" points=\"1864.94,1379.86 2282.17,1379.86 2282.17,1276.18 1864.94,1276.18 1864.94,1379.86 \"/>\n",
       "<path clip-path=\"url(#clip240)\" d=\"M1888.47 1348.75 L2029.63 1348.75 L2029.63 1307.28 L1888.47 1307.28 L1888.47 1348.75  Z\" fill=\"#009af9\" fill-rule=\"evenodd\" fill-opacity=\"1\"/>\n",
       "<polyline clip-path=\"url(#clip240)\" style=\"stroke:#000000; stroke-linecap:round; stroke-linejoin:round; stroke-width:4; stroke-opacity:1; fill:none\" points=\"1888.47,1348.75 2029.63,1348.75 2029.63,1307.28 1888.47,1307.28 1888.47,1348.75 \"/>\n",
       "<path clip-path=\"url(#clip240)\" d=\"M2057.84 1314.58 L2057.84 1341.45 L2063.49 1341.45 Q2070.64 1341.45 2073.95 1338.21 Q2077.28 1334.97 2077.28 1327.98 Q2077.28 1321.04 2073.95 1317.82 Q2070.64 1314.58 2063.49 1314.58 L2057.84 1314.58 M2053.16 1310.74 L2062.77 1310.74 Q2072.81 1310.74 2077.51 1314.93 Q2082.21 1319.09 2082.21 1327.98 Q2082.21 1336.92 2077.49 1341.11 Q2072.77 1345.3 2062.77 1345.3 L2053.16 1345.3 L2053.16 1310.74 Z\" fill=\"#000000\" fill-rule=\"nonzero\" fill-opacity=\"1\" /><path clip-path=\"url(#clip240)\" d=\"M2089.48 1319.37 L2093.74 1319.37 L2093.74 1345.3 L2089.48 1345.3 L2089.48 1319.37 M2089.48 1309.28 L2093.74 1309.28 L2093.74 1314.67 L2089.48 1314.67 L2089.48 1309.28 Z\" fill=\"#000000\" fill-rule=\"nonzero\" fill-opacity=\"1\" /><path clip-path=\"url(#clip240)\" d=\"M2117.67 1323.35 Q2116.96 1322.94 2116.1 1322.75 Q2115.27 1322.54 2114.25 1322.54 Q2110.64 1322.54 2108.69 1324.9 Q2106.77 1327.24 2106.77 1331.64 L2106.77 1345.3 L2102.49 1345.3 L2102.49 1319.37 L2106.77 1319.37 L2106.77 1323.4 Q2108.11 1321.04 2110.27 1319.9 Q2112.42 1318.75 2115.5 1318.75 Q2115.94 1318.75 2116.47 1318.81 Q2117 1318.86 2117.65 1318.98 L2117.67 1323.35 Z\" fill=\"#000000\" fill-rule=\"nonzero\" fill-opacity=\"1\" /><path clip-path=\"url(#clip240)\" d=\"M2143.28 1331.27 L2143.28 1333.35 L2123.69 1333.35 Q2123.97 1337.75 2126.33 1340.06 Q2128.72 1342.36 2132.95 1342.36 Q2135.41 1342.36 2137.7 1341.75 Q2140.01 1341.15 2142.28 1339.95 L2142.28 1343.98 Q2139.99 1344.95 2137.58 1345.46 Q2135.17 1345.97 2132.7 1345.97 Q2126.49 1345.97 2122.86 1342.36 Q2119.25 1338.75 2119.25 1332.59 Q2119.25 1326.22 2122.67 1322.5 Q2126.12 1318.75 2131.96 1318.75 Q2137.19 1318.75 2140.22 1322.13 Q2143.28 1325.48 2143.28 1331.27 M2139.02 1330.02 Q2138.97 1326.52 2137.05 1324.44 Q2135.15 1322.36 2132 1322.36 Q2128.44 1322.36 2126.29 1324.37 Q2124.16 1326.38 2123.83 1330.04 L2139.02 1330.02 Z\" fill=\"#000000\" fill-rule=\"nonzero\" fill-opacity=\"1\" /><path clip-path=\"url(#clip240)\" d=\"M2168.92 1320.37 L2168.92 1324.35 Q2167.12 1323.35 2165.29 1322.87 Q2163.48 1322.36 2161.63 1322.36 Q2157.49 1322.36 2155.2 1325 Q2152.91 1327.61 2152.91 1332.36 Q2152.91 1337.1 2155.2 1339.74 Q2157.49 1342.36 2161.63 1342.36 Q2163.48 1342.36 2165.29 1341.87 Q2167.12 1341.36 2168.92 1340.37 L2168.92 1344.3 Q2167.14 1345.13 2165.22 1345.55 Q2163.32 1345.97 2161.17 1345.97 Q2155.31 1345.97 2151.86 1342.29 Q2148.42 1338.61 2148.42 1332.36 Q2148.42 1326.01 2151.89 1322.38 Q2155.38 1318.75 2161.45 1318.75 Q2163.42 1318.75 2165.29 1319.16 Q2167.17 1319.56 2168.92 1320.37 Z\" fill=\"#000000\" fill-rule=\"nonzero\" fill-opacity=\"1\" /><path clip-path=\"url(#clip240)\" d=\"M2180.54 1312.01 L2180.54 1319.37 L2189.32 1319.37 L2189.32 1322.68 L2180.54 1322.68 L2180.54 1336.75 Q2180.54 1339.93 2181.4 1340.83 Q2182.28 1341.73 2184.94 1341.73 L2189.32 1341.73 L2189.32 1345.3 L2184.94 1345.3 Q2180.01 1345.3 2178.14 1343.47 Q2176.26 1341.62 2176.26 1336.75 L2176.26 1322.68 L2173.14 1322.68 L2173.14 1319.37 L2176.26 1319.37 L2176.26 1312.01 L2180.54 1312.01 Z\" fill=\"#000000\" fill-rule=\"nonzero\" fill-opacity=\"1\" /><path clip-path=\"url(#clip240)\" d=\"M2194.92 1319.37 L2199.18 1319.37 L2199.18 1345.3 L2194.92 1345.3 L2194.92 1319.37 M2194.92 1309.28 L2199.18 1309.28 L2199.18 1314.67 L2194.92 1314.67 L2194.92 1309.28 Z\" fill=\"#000000\" fill-rule=\"nonzero\" fill-opacity=\"1\" /><path clip-path=\"url(#clip240)\" d=\"M2218.14 1322.36 Q2214.71 1322.36 2212.72 1325.04 Q2210.73 1327.7 2210.73 1332.36 Q2210.73 1337.01 2212.7 1339.69 Q2214.69 1342.36 2218.14 1342.36 Q2221.54 1342.36 2223.53 1339.67 Q2225.52 1336.99 2225.52 1332.36 Q2225.52 1327.75 2223.53 1325.06 Q2221.54 1322.36 2218.14 1322.36 M2218.14 1318.75 Q2223.69 1318.75 2226.86 1322.36 Q2230.04 1325.97 2230.04 1332.36 Q2230.04 1338.72 2226.86 1342.36 Q2223.69 1345.97 2218.14 1345.97 Q2212.56 1345.97 2209.39 1342.36 Q2206.24 1338.72 2206.24 1332.36 Q2206.24 1325.97 2209.39 1322.36 Q2212.56 1318.75 2218.14 1318.75 Z\" fill=\"#000000\" fill-rule=\"nonzero\" fill-opacity=\"1\" /><path clip-path=\"url(#clip240)\" d=\"M2258.65 1329.65 L2258.65 1345.3 L2254.39 1345.3 L2254.39 1329.79 Q2254.39 1326.11 2252.95 1324.28 Q2251.52 1322.45 2248.65 1322.45 Q2245.2 1322.45 2243.21 1324.65 Q2241.22 1326.85 2241.22 1330.64 L2241.22 1345.3 L2236.93 1345.3 L2236.93 1319.37 L2241.22 1319.37 L2241.22 1323.4 Q2242.74 1321.06 2244.8 1319.9 Q2246.89 1318.75 2249.6 1318.75 Q2254.06 1318.75 2256.35 1321.52 Q2258.65 1324.28 2258.65 1329.65 Z\" fill=\"#000000\" fill-rule=\"nonzero\" fill-opacity=\"1\" /></svg>\n"
      ],
      "text/html": [
       "<?xml version=\"1.0\" encoding=\"utf-8\"?>\n",
       "<svg xmlns=\"http://www.w3.org/2000/svg\" xmlns:xlink=\"http://www.w3.org/1999/xlink\" width=\"600\" height=\"400\" viewBox=\"0 0 2400 1600\">\n",
       "<defs>\n",
       "  <clipPath id=\"clip290\">\n",
       "    <rect x=\"0\" y=\"0\" width=\"2400\" height=\"1600\"/>\n",
       "  </clipPath>\n",
       "</defs>\n",
       "<path clip-path=\"url(#clip290)\" d=\"M0 1600 L2400 1600 L2400 0 L0 0  Z\" fill=\"#ffffff\" fill-rule=\"evenodd\" fill-opacity=\"1\"/>\n",
       "<defs>\n",
       "  <clipPath id=\"clip291\">\n",
       "    <rect x=\"480\" y=\"0\" width=\"1681\" height=\"1600\"/>\n",
       "  </clipPath>\n",
       "</defs>\n",
       "<path clip-path=\"url(#clip290)\" d=\"M235.283 1423.18 L2352.76 1423.18 L2352.76 123.472 L235.283 123.472  Z\" fill=\"#ffffff\" fill-rule=\"evenodd\" fill-opacity=\"1\"/>\n",
       "<defs>\n",
       "  <clipPath id=\"clip292\">\n",
       "    <rect x=\"235\" y=\"123\" width=\"2118\" height=\"1301\"/>\n",
       "  </clipPath>\n",
       "</defs>\n",
       "<polyline clip-path=\"url(#clip292)\" style=\"stroke:#000000; stroke-linecap:round; stroke-linejoin:round; stroke-width:2; stroke-opacity:0.1; fill:none\" points=\"1608.11,1423.18 1608.11,123.472 \"/>\n",
       "<polyline clip-path=\"url(#clip292)\" style=\"stroke:#000000; stroke-linecap:round; stroke-linejoin:round; stroke-width:2; stroke-opacity:0.1; fill:none\" points=\"2864.47,1423.18 2864.47,123.472 \"/>\n",
       "<polyline clip-path=\"url(#clip292)\" style=\"stroke:#000000; stroke-linecap:round; stroke-linejoin:round; stroke-width:2; stroke-opacity:0.1; fill:none\" points=\"235.283,1423.18 2352.76,1423.18 \"/>\n",
       "<polyline clip-path=\"url(#clip292)\" style=\"stroke:#000000; stroke-linecap:round; stroke-linejoin:round; stroke-width:2; stroke-opacity:0.1; fill:none\" points=\"235.283,1222.61 2352.76,1222.61 \"/>\n",
       "<polyline clip-path=\"url(#clip292)\" style=\"stroke:#000000; stroke-linecap:round; stroke-linejoin:round; stroke-width:2; stroke-opacity:0.1; fill:none\" points=\"235.283,1022.04 2352.76,1022.04 \"/>\n",
       "<polyline clip-path=\"url(#clip292)\" style=\"stroke:#000000; stroke-linecap:round; stroke-linejoin:round; stroke-width:2; stroke-opacity:0.1; fill:none\" points=\"235.283,821.463 2352.76,821.463 \"/>\n",
       "<polyline clip-path=\"url(#clip292)\" style=\"stroke:#000000; stroke-linecap:round; stroke-linejoin:round; stroke-width:2; stroke-opacity:0.1; fill:none\" points=\"235.283,620.891 2352.76,620.891 \"/>\n",
       "<polyline clip-path=\"url(#clip292)\" style=\"stroke:#000000; stroke-linecap:round; stroke-linejoin:round; stroke-width:2; stroke-opacity:0.1; fill:none\" points=\"235.283,420.319 2352.76,420.319 \"/>\n",
       "<polyline clip-path=\"url(#clip292)\" style=\"stroke:#000000; stroke-linecap:round; stroke-linejoin:round; stroke-width:2; stroke-opacity:0.1; fill:none\" points=\"235.283,219.747 2352.76,219.747 \"/>\n",
       "<polyline clip-path=\"url(#clip290)\" style=\"stroke:#000000; stroke-linecap:round; stroke-linejoin:round; stroke-width:4; stroke-opacity:1; fill:none\" points=\"235.283,1423.18 2352.76,1423.18 \"/>\n",
       "<polyline clip-path=\"url(#clip290)\" style=\"stroke:#000000; stroke-linecap:round; stroke-linejoin:round; stroke-width:4; stroke-opacity:1; fill:none\" points=\"1608.11,1423.18 1608.11,1404.28 \"/>\n",
       "<polyline clip-path=\"url(#clip290)\" style=\"stroke:#000000; stroke-linecap:round; stroke-linejoin:round; stroke-width:4; stroke-opacity:1; fill:none\" points=\"2864.47,1423.18 2864.47,1404.28 \"/>\n",
       "<path clip-path=\"url(#clip290)\" d=\"M1579.07 1451.02 L1583.77 1451.02 L1583.77 1472.02 Q1583.77 1477.57 1585.78 1480.02 Q1587.8 1482.45 1592.31 1482.45 Q1596.8 1482.45 1598.82 1480.02 Q1600.83 1477.57 1600.83 1472.02 L1600.83 1451.02 L1605.53 1451.02 L1605.53 1472.59 Q1605.53 1479.35 1602.17 1482.8 Q1598.84 1486.25 1592.31 1486.25 Q1585.76 1486.25 1582.4 1482.8 Q1579.07 1479.35 1579.07 1472.59 L1579.07 1451.02 Z\" fill=\"#000000\" fill-rule=\"nonzero\" fill-opacity=\"1\" /><path clip-path=\"url(#clip290)\" d=\"M1618.24 1481.69 L1618.24 1495.44 L1613.95 1495.44 L1613.95 1459.65 L1618.24 1459.65 L1618.24 1463.59 Q1619.58 1461.27 1621.62 1460.16 Q1623.68 1459.03 1626.52 1459.03 Q1631.25 1459.03 1634.19 1462.78 Q1637.15 1466.53 1637.15 1472.64 Q1637.15 1478.75 1634.19 1482.5 Q1631.25 1486.25 1626.52 1486.25 Q1623.68 1486.25 1621.62 1485.14 Q1619.58 1484.01 1618.24 1481.69 M1632.73 1472.64 Q1632.73 1467.94 1630.78 1465.28 Q1628.86 1462.59 1625.48 1462.59 Q1622.1 1462.59 1620.16 1465.28 Q1618.24 1467.94 1618.24 1472.64 Q1618.24 1477.34 1620.16 1480.02 Q1622.1 1482.69 1625.48 1482.69 Q1628.86 1482.69 1630.78 1480.02 Q1632.73 1477.34 1632.73 1472.64 Z\" fill=\"#000000\" fill-rule=\"nonzero\" fill-opacity=\"1\" /><path clip-path=\"url(#clip290)\" d=\"M2806.32 1454.86 L2806.32 1481.74 L2811.97 1481.74 Q2819.13 1481.74 2822.44 1478.5 Q2825.77 1475.26 2825.77 1468.27 Q2825.77 1461.32 2822.44 1458.1 Q2819.13 1454.86 2811.97 1454.86 L2806.32 1454.86 M2801.65 1451.02 L2811.25 1451.02 Q2821.3 1451.02 2826 1455.21 Q2830.7 1459.38 2830.7 1468.27 Q2830.7 1477.2 2825.98 1481.39 Q2821.25 1485.58 2811.25 1485.58 L2801.65 1485.58 L2801.65 1451.02 Z\" fill=\"#000000\" fill-rule=\"nonzero\" fill-opacity=\"1\" /><path clip-path=\"url(#clip290)\" d=\"M2848.01 1462.64 Q2844.59 1462.64 2842.6 1465.33 Q2840.61 1467.99 2840.61 1472.64 Q2840.61 1477.29 2842.57 1479.98 Q2844.56 1482.64 2848.01 1482.64 Q2851.42 1482.64 2853.41 1479.95 Q2855.4 1477.27 2855.4 1472.64 Q2855.4 1468.03 2853.41 1465.35 Q2851.42 1462.64 2848.01 1462.64 M2848.01 1459.03 Q2853.57 1459.03 2856.74 1462.64 Q2859.91 1466.25 2859.91 1472.64 Q2859.91 1479.01 2856.74 1482.64 Q2853.57 1486.25 2848.01 1486.25 Q2842.44 1486.25 2839.26 1482.64 Q2836.12 1479.01 2836.12 1472.64 Q2836.12 1466.25 2839.26 1462.64 Q2842.44 1459.03 2848.01 1459.03 Z\" fill=\"#000000\" fill-rule=\"nonzero\" fill-opacity=\"1\" /><path clip-path=\"url(#clip290)\" d=\"M2864.5 1459.65 L2868.75 1459.65 L2874.08 1479.89 L2879.38 1459.65 L2884.4 1459.65 L2889.73 1479.89 L2895.03 1459.65 L2899.29 1459.65 L2892.5 1485.58 L2887.48 1485.58 L2881.9 1464.33 L2876.3 1485.58 L2871.28 1485.58 L2864.5 1459.65 Z\" fill=\"#000000\" fill-rule=\"nonzero\" fill-opacity=\"1\" /><path clip-path=\"url(#clip290)\" d=\"M2927.3 1469.93 L2927.3 1485.58 L2923.04 1485.58 L2923.04 1470.07 Q2923.04 1466.39 2921.6 1464.56 Q2920.17 1462.73 2917.3 1462.73 Q2913.85 1462.73 2911.86 1464.93 Q2909.87 1467.13 2909.87 1470.93 L2909.87 1485.58 L2905.58 1485.58 L2905.58 1459.65 L2909.87 1459.65 L2909.87 1463.68 Q2911.39 1461.34 2913.45 1460.19 Q2915.54 1459.03 2918.25 1459.03 Q2922.71 1459.03 2925 1461.81 Q2927.3 1464.56 2927.3 1469.93 Z\" fill=\"#000000\" fill-rule=\"nonzero\" fill-opacity=\"1\" /><path clip-path=\"url(#clip290)\" d=\"M1129.82 1520.52 L1157.12 1520.52 L1157.12 1525.93 L1136.25 1525.93 L1136.25 1539.94 L1155.09 1539.94 L1155.09 1545.35 L1136.25 1545.35 L1136.25 1568.04 L1129.82 1568.04 L1129.82 1520.52 Z\" fill=\"#000000\" fill-rule=\"nonzero\" fill-opacity=\"1\" /><path clip-path=\"url(#clip290)\" d=\"M1182.97 1537.87 Q1181.98 1537.3 1180.81 1537.04 Q1179.66 1536.76 1178.26 1536.76 Q1173.29 1536.76 1170.62 1540 Q1167.98 1543.22 1167.98 1549.27 L1167.98 1568.04 L1162.09 1568.04 L1162.09 1532.4 L1167.98 1532.4 L1167.98 1537.93 Q1169.82 1534.69 1172.78 1533.13 Q1175.74 1531.54 1179.98 1531.54 Q1180.58 1531.54 1181.31 1531.63 Q1182.05 1531.7 1182.94 1531.85 L1182.97 1537.87 Z\" fill=\"#000000\" fill-rule=\"nonzero\" fill-opacity=\"1\" /><path clip-path=\"url(#clip290)\" d=\"M1218.17 1548.76 L1218.17 1551.62 L1191.25 1551.62 Q1191.63 1557.67 1194.87 1560.85 Q1198.15 1564 1203.98 1564 Q1207.35 1564 1210.5 1563.17 Q1213.68 1562.35 1216.8 1560.69 L1216.8 1566.23 Q1213.65 1567.57 1210.34 1568.27 Q1207.03 1568.97 1203.63 1568.97 Q1195.1 1568.97 1190.1 1564 Q1185.13 1559.04 1185.13 1550.57 Q1185.13 1541.82 1189.84 1536.69 Q1194.59 1531.54 1202.61 1531.54 Q1209.8 1531.54 1213.97 1536.18 Q1218.17 1540.8 1218.17 1548.76 M1212.32 1547.04 Q1212.25 1542.23 1209.61 1539.37 Q1207 1536.5 1202.67 1536.5 Q1197.77 1536.5 1194.81 1539.27 Q1191.88 1542.04 1191.44 1547.07 L1212.32 1547.04 Z\" fill=\"#000000\" fill-rule=\"nonzero\" fill-opacity=\"1\" /><path clip-path=\"url(#clip290)\" d=\"M1231.29 1550.25 Q1231.29 1556.71 1233.93 1560.4 Q1236.6 1564.07 1241.25 1564.07 Q1245.89 1564.07 1248.57 1560.4 Q1251.24 1556.71 1251.24 1550.25 Q1251.24 1543.79 1248.57 1540.13 Q1245.89 1536.44 1241.25 1536.44 Q1236.6 1536.44 1233.93 1540.13 Q1231.29 1543.79 1231.29 1550.25 M1251.24 1562.7 Q1249.4 1565.88 1246.56 1567.44 Q1243.76 1568.97 1239.82 1568.97 Q1233.35 1568.97 1229.28 1563.81 Q1225.24 1558.65 1225.24 1550.25 Q1225.24 1541.85 1229.28 1536.69 Q1233.35 1531.54 1239.82 1531.54 Q1243.76 1531.54 1246.56 1533.1 Q1249.4 1534.62 1251.24 1537.81 L1251.24 1532.4 L1257.1 1532.4 L1257.1 1581.6 L1251.24 1581.6 L1251.24 1562.7 Z\" fill=\"#000000\" fill-rule=\"nonzero\" fill-opacity=\"1\" /><path clip-path=\"url(#clip290)\" d=\"M1268.56 1553.98 L1268.56 1532.4 L1274.41 1532.4 L1274.41 1553.75 Q1274.41 1558.81 1276.39 1561.36 Q1278.36 1563.87 1282.31 1563.87 Q1287.05 1563.87 1289.79 1560.85 Q1292.56 1557.83 1292.56 1552.61 L1292.56 1532.4 L1298.41 1532.4 L1298.41 1568.04 L1292.56 1568.04 L1292.56 1562.57 Q1290.42 1565.82 1287.59 1567.41 Q1284.79 1568.97 1281.07 1568.97 Q1274.92 1568.97 1271.74 1565.15 Q1268.56 1561.33 1268.56 1553.98 M1283.29 1531.54 L1283.29 1531.54 Z\" fill=\"#000000\" fill-rule=\"nonzero\" fill-opacity=\"1\" /><path clip-path=\"url(#clip290)\" d=\"M1340.97 1548.76 L1340.97 1551.62 L1314.04 1551.62 Q1314.42 1557.67 1317.67 1560.85 Q1320.95 1564 1326.77 1564 Q1330.14 1564 1333.3 1563.17 Q1336.48 1562.35 1339.6 1560.69 L1339.6 1566.23 Q1336.45 1567.57 1333.14 1568.27 Q1329.83 1568.97 1326.42 1568.97 Q1317.89 1568.97 1312.89 1564 Q1307.93 1559.04 1307.93 1550.57 Q1307.93 1541.82 1312.64 1536.69 Q1317.38 1531.54 1325.4 1531.54 Q1332.6 1531.54 1336.77 1536.18 Q1340.97 1540.8 1340.97 1548.76 M1335.11 1547.04 Q1335.05 1542.23 1332.4 1539.37 Q1329.79 1536.5 1325.47 1536.5 Q1320.56 1536.5 1317.6 1539.27 Q1314.68 1542.04 1314.23 1547.07 L1335.11 1547.04 Z\" fill=\"#000000\" fill-rule=\"nonzero\" fill-opacity=\"1\" /><path clip-path=\"url(#clip290)\" d=\"M1380.21 1546.53 L1380.21 1568.04 L1374.35 1568.04 L1374.35 1546.72 Q1374.35 1541.66 1372.38 1539.14 Q1370.41 1536.63 1366.46 1536.63 Q1361.72 1536.63 1358.98 1539.65 Q1356.24 1542.68 1356.24 1547.9 L1356.24 1568.04 L1350.36 1568.04 L1350.36 1532.4 L1356.24 1532.4 L1356.24 1537.93 Q1358.34 1534.72 1361.18 1533.13 Q1364.04 1531.54 1367.77 1531.54 Q1373.91 1531.54 1377.06 1535.36 Q1380.21 1539.14 1380.21 1546.53 Z\" fill=\"#000000\" fill-rule=\"nonzero\" fill-opacity=\"1\" /><path clip-path=\"url(#clip290)\" d=\"M1417.55 1533.76 L1417.55 1539.24 Q1415.06 1537.87 1412.55 1537.2 Q1410.07 1536.5 1407.52 1536.5 Q1401.82 1536.5 1398.67 1540.13 Q1395.52 1543.73 1395.52 1550.25 Q1395.52 1556.78 1398.67 1560.4 Q1401.82 1564 1407.52 1564 Q1410.07 1564 1412.55 1563.33 Q1415.06 1562.63 1417.55 1561.26 L1417.55 1566.68 Q1415.1 1567.82 1412.45 1568.39 Q1409.84 1568.97 1406.88 1568.97 Q1398.83 1568.97 1394.09 1563.91 Q1389.35 1558.85 1389.35 1550.25 Q1389.35 1541.53 1394.12 1536.53 Q1398.93 1531.54 1407.27 1531.54 Q1409.97 1531.54 1412.55 1532.11 Q1415.13 1532.65 1417.55 1533.76 Z\" fill=\"#000000\" fill-rule=\"nonzero\" fill-opacity=\"1\" /><path clip-path=\"url(#clip290)\" d=\"M1442.56 1571.35 Q1440.08 1577.72 1437.73 1579.66 Q1435.37 1581.6 1431.42 1581.6 L1426.74 1581.6 L1426.74 1576.7 L1430.18 1576.7 Q1432.6 1576.7 1433.94 1575.56 Q1435.27 1574.41 1436.9 1570.14 L1437.95 1567.47 L1423.53 1532.4 L1429.74 1532.4 L1440.88 1560.28 L1452.02 1532.4 L1458.22 1532.4 L1442.56 1571.35 Z\" fill=\"#000000\" fill-rule=\"nonzero\" fill-opacity=\"1\" /><polyline clip-path=\"url(#clip290)\" style=\"stroke:#000000; stroke-linecap:round; stroke-linejoin:round; stroke-width:4; stroke-opacity:1; fill:none\" points=\"235.283,1423.18 235.283,123.472 \"/>\n",
       "<polyline clip-path=\"url(#clip290)\" style=\"stroke:#000000; stroke-linecap:round; stroke-linejoin:round; stroke-width:4; stroke-opacity:1; fill:none\" points=\"235.283,1423.18 254.18,1423.18 \"/>\n",
       "<polyline clip-path=\"url(#clip290)\" style=\"stroke:#000000; stroke-linecap:round; stroke-linejoin:round; stroke-width:4; stroke-opacity:1; fill:none\" points=\"235.283,1222.61 254.18,1222.61 \"/>\n",
       "<polyline clip-path=\"url(#clip290)\" style=\"stroke:#000000; stroke-linecap:round; stroke-linejoin:round; stroke-width:4; stroke-opacity:1; fill:none\" points=\"235.283,1022.04 254.18,1022.04 \"/>\n",
       "<polyline clip-path=\"url(#clip290)\" style=\"stroke:#000000; stroke-linecap:round; stroke-linejoin:round; stroke-width:4; stroke-opacity:1; fill:none\" points=\"235.283,821.463 254.18,821.463 \"/>\n",
       "<polyline clip-path=\"url(#clip290)\" style=\"stroke:#000000; stroke-linecap:round; stroke-linejoin:round; stroke-width:4; stroke-opacity:1; fill:none\" points=\"235.283,620.891 254.18,620.891 \"/>\n",
       "<polyline clip-path=\"url(#clip290)\" style=\"stroke:#000000; stroke-linecap:round; stroke-linejoin:round; stroke-width:4; stroke-opacity:1; fill:none\" points=\"235.283,420.319 254.18,420.319 \"/>\n",
       "<polyline clip-path=\"url(#clip290)\" style=\"stroke:#000000; stroke-linecap:round; stroke-linejoin:round; stroke-width:4; stroke-opacity:1; fill:none\" points=\"235.283,219.747 254.18,219.747 \"/>\n",
       "<path clip-path=\"url(#clip290)\" d=\"M187.338 1408.98 Q183.727 1408.98 181.899 1412.54 Q180.093 1416.08 180.093 1423.21 Q180.093 1430.32 181.899 1433.89 Q183.727 1437.43 187.338 1437.43 Q190.973 1437.43 192.778 1433.89 Q194.607 1430.32 194.607 1423.21 Q194.607 1416.08 192.778 1412.54 Q190.973 1408.98 187.338 1408.98 M187.338 1405.27 Q193.149 1405.27 196.204 1409.88 Q199.283 1414.46 199.283 1423.21 Q199.283 1431.94 196.204 1436.55 Q193.149 1441.13 187.338 1441.13 Q181.528 1441.13 178.45 1436.55 Q175.394 1431.94 175.394 1423.21 Q175.394 1414.46 178.45 1409.88 Q181.528 1405.27 187.338 1405.27 Z\" fill=\"#000000\" fill-rule=\"nonzero\" fill-opacity=\"1\" /><path clip-path=\"url(#clip290)\" d=\"M117.825 1235.95 L125.464 1235.95 L125.464 1209.59 L117.154 1211.25 L117.154 1206.99 L125.418 1205.33 L130.093 1205.33 L130.093 1235.95 L137.732 1235.95 L137.732 1239.89 L117.825 1239.89 L117.825 1235.95 Z\" fill=\"#000000\" fill-rule=\"nonzero\" fill-opacity=\"1\" /><path clip-path=\"url(#clip290)\" d=\"M157.177 1208.41 Q153.566 1208.41 151.737 1211.97 Q149.931 1215.51 149.931 1222.64 Q149.931 1229.75 151.737 1233.31 Q153.566 1236.86 157.177 1236.86 Q160.811 1236.86 162.616 1233.31 Q164.445 1229.75 164.445 1222.64 Q164.445 1215.51 162.616 1211.97 Q160.811 1208.41 157.177 1208.41 M157.177 1204.7 Q162.987 1204.7 166.042 1209.31 Q169.121 1213.89 169.121 1222.64 Q169.121 1231.37 166.042 1235.98 Q162.987 1240.56 157.177 1240.56 Q151.366 1240.56 148.288 1235.98 Q145.232 1231.37 145.232 1222.64 Q145.232 1213.89 148.288 1209.31 Q151.366 1204.7 157.177 1204.7 Z\" fill=\"#000000\" fill-rule=\"nonzero\" fill-opacity=\"1\" /><path clip-path=\"url(#clip290)\" d=\"M187.338 1208.41 Q183.727 1208.41 181.899 1211.97 Q180.093 1215.51 180.093 1222.64 Q180.093 1229.75 181.899 1233.31 Q183.727 1236.86 187.338 1236.86 Q190.973 1236.86 192.778 1233.31 Q194.607 1229.75 194.607 1222.64 Q194.607 1215.51 192.778 1211.97 Q190.973 1208.41 187.338 1208.41 M187.338 1204.7 Q193.149 1204.7 196.204 1209.31 Q199.283 1213.89 199.283 1222.64 Q199.283 1231.37 196.204 1235.98 Q193.149 1240.56 187.338 1240.56 Q181.528 1240.56 178.45 1235.98 Q175.394 1231.37 175.394 1222.64 Q175.394 1213.89 178.45 1209.31 Q181.528 1204.7 187.338 1204.7 Z\" fill=\"#000000\" fill-rule=\"nonzero\" fill-opacity=\"1\" /><path clip-path=\"url(#clip290)\" d=\"M121.043 1035.38 L137.362 1035.38 L137.362 1039.32 L115.418 1039.32 L115.418 1035.38 Q118.08 1032.63 122.663 1028 Q127.269 1023.34 128.45 1022 Q130.695 1019.48 131.575 1017.74 Q132.478 1015.98 132.478 1014.29 Q132.478 1011.54 130.533 1009.8 Q128.612 1008.07 125.51 1008.07 Q123.311 1008.07 120.857 1008.83 Q118.427 1009.59 115.649 1011.14 L115.649 1006.42 Q118.473 1005.29 120.927 1004.71 Q123.38 1004.13 125.418 1004.13 Q130.788 1004.13 133.982 1006.82 Q137.177 1009.5 137.177 1013.99 Q137.177 1016.12 136.367 1018.04 Q135.579 1019.94 133.473 1022.53 Q132.894 1023.2 129.792 1026.42 Q126.691 1029.62 121.043 1035.38 Z\" fill=\"#000000\" fill-rule=\"nonzero\" fill-opacity=\"1\" /><path clip-path=\"url(#clip290)\" d=\"M157.177 1007.83 Q153.566 1007.83 151.737 1011.4 Q149.931 1014.94 149.931 1022.07 Q149.931 1029.18 151.737 1032.74 Q153.566 1036.28 157.177 1036.28 Q160.811 1036.28 162.616 1032.74 Q164.445 1029.18 164.445 1022.07 Q164.445 1014.94 162.616 1011.4 Q160.811 1007.83 157.177 1007.83 M157.177 1004.13 Q162.987 1004.13 166.042 1008.74 Q169.121 1013.32 169.121 1022.07 Q169.121 1030.8 166.042 1035.4 Q162.987 1039.99 157.177 1039.99 Q151.366 1039.99 148.288 1035.4 Q145.232 1030.8 145.232 1022.07 Q145.232 1013.32 148.288 1008.74 Q151.366 1004.13 157.177 1004.13 Z\" fill=\"#000000\" fill-rule=\"nonzero\" fill-opacity=\"1\" /><path clip-path=\"url(#clip290)\" d=\"M187.338 1007.83 Q183.727 1007.83 181.899 1011.4 Q180.093 1014.94 180.093 1022.07 Q180.093 1029.18 181.899 1032.74 Q183.727 1036.28 187.338 1036.28 Q190.973 1036.28 192.778 1032.74 Q194.607 1029.18 194.607 1022.07 Q194.607 1014.94 192.778 1011.4 Q190.973 1007.83 187.338 1007.83 M187.338 1004.13 Q193.149 1004.13 196.204 1008.74 Q199.283 1013.32 199.283 1022.07 Q199.283 1030.8 196.204 1035.4 Q193.149 1039.99 187.338 1039.99 Q181.528 1039.99 178.45 1035.4 Q175.394 1030.8 175.394 1022.07 Q175.394 1013.32 178.45 1008.74 Q181.528 1004.13 187.338 1004.13 Z\" fill=\"#000000\" fill-rule=\"nonzero\" fill-opacity=\"1\" /><path clip-path=\"url(#clip290)\" d=\"M131.181 820.109 Q134.538 820.827 136.413 823.095 Q138.311 825.364 138.311 828.697 Q138.311 833.813 134.792 836.614 Q131.274 839.415 124.793 839.415 Q122.617 839.415 120.302 838.975 Q118.01 838.558 115.556 837.702 L115.556 833.188 Q117.501 834.322 119.816 834.901 Q122.13 835.479 124.654 835.479 Q129.052 835.479 131.343 833.743 Q133.658 832.007 133.658 828.697 Q133.658 825.642 131.505 823.929 Q129.376 822.192 125.556 822.192 L121.529 822.192 L121.529 818.35 L125.742 818.35 Q129.191 818.35 131.019 816.984 Q132.848 815.595 132.848 813.003 Q132.848 810.341 130.95 808.929 Q129.075 807.493 125.556 807.493 Q123.635 807.493 121.436 807.91 Q119.237 808.327 116.598 809.206 L116.598 805.04 Q119.26 804.299 121.575 803.929 Q123.913 803.558 125.973 803.558 Q131.297 803.558 134.399 805.989 Q137.501 808.396 137.501 812.517 Q137.501 815.387 135.857 817.378 Q134.214 819.345 131.181 820.109 Z\" fill=\"#000000\" fill-rule=\"nonzero\" fill-opacity=\"1\" /><path clip-path=\"url(#clip290)\" d=\"M157.177 807.262 Q153.566 807.262 151.737 810.827 Q149.931 814.368 149.931 821.498 Q149.931 828.604 151.737 832.169 Q153.566 835.711 157.177 835.711 Q160.811 835.711 162.616 832.169 Q164.445 828.604 164.445 821.498 Q164.445 814.368 162.616 810.827 Q160.811 807.262 157.177 807.262 M157.177 803.558 Q162.987 803.558 166.042 808.165 Q169.121 812.748 169.121 821.498 Q169.121 830.225 166.042 834.831 Q162.987 839.415 157.177 839.415 Q151.366 839.415 148.288 834.831 Q145.232 830.225 145.232 821.498 Q145.232 812.748 148.288 808.165 Q151.366 803.558 157.177 803.558 Z\" fill=\"#000000\" fill-rule=\"nonzero\" fill-opacity=\"1\" /><path clip-path=\"url(#clip290)\" d=\"M187.338 807.262 Q183.727 807.262 181.899 810.827 Q180.093 814.368 180.093 821.498 Q180.093 828.604 181.899 832.169 Q183.727 835.711 187.338 835.711 Q190.973 835.711 192.778 832.169 Q194.607 828.604 194.607 821.498 Q194.607 814.368 192.778 810.827 Q190.973 807.262 187.338 807.262 M187.338 803.558 Q193.149 803.558 196.204 808.165 Q199.283 812.748 199.283 821.498 Q199.283 830.225 196.204 834.831 Q193.149 839.415 187.338 839.415 Q181.528 839.415 178.45 834.831 Q175.394 830.225 175.394 821.498 Q175.394 812.748 178.45 808.165 Q181.528 803.558 187.338 803.558 Z\" fill=\"#000000\" fill-rule=\"nonzero\" fill-opacity=\"1\" /><path clip-path=\"url(#clip290)\" d=\"M129.862 607.685 L118.056 626.134 L129.862 626.134 L129.862 607.685 M128.635 603.611 L134.515 603.611 L134.515 626.134 L139.445 626.134 L139.445 630.023 L134.515 630.023 L134.515 638.171 L129.862 638.171 L129.862 630.023 L114.26 630.023 L114.26 625.509 L128.635 603.611 Z\" fill=\"#000000\" fill-rule=\"nonzero\" fill-opacity=\"1\" /><path clip-path=\"url(#clip290)\" d=\"M157.177 606.69 Q153.566 606.69 151.737 610.255 Q149.931 613.796 149.931 620.926 Q149.931 628.032 151.737 631.597 Q153.566 635.139 157.177 635.139 Q160.811 635.139 162.616 631.597 Q164.445 628.032 164.445 620.926 Q164.445 613.796 162.616 610.255 Q160.811 606.69 157.177 606.69 M157.177 602.986 Q162.987 602.986 166.042 607.593 Q169.121 612.176 169.121 620.926 Q169.121 629.653 166.042 634.259 Q162.987 638.842 157.177 638.842 Q151.366 638.842 148.288 634.259 Q145.232 629.653 145.232 620.926 Q145.232 612.176 148.288 607.593 Q151.366 602.986 157.177 602.986 Z\" fill=\"#000000\" fill-rule=\"nonzero\" fill-opacity=\"1\" /><path clip-path=\"url(#clip290)\" d=\"M187.338 606.69 Q183.727 606.69 181.899 610.255 Q180.093 613.796 180.093 620.926 Q180.093 628.032 181.899 631.597 Q183.727 635.139 187.338 635.139 Q190.973 635.139 192.778 631.597 Q194.607 628.032 194.607 620.926 Q194.607 613.796 192.778 610.255 Q190.973 606.69 187.338 606.69 M187.338 602.986 Q193.149 602.986 196.204 607.593 Q199.283 612.176 199.283 620.926 Q199.283 629.653 196.204 634.259 Q193.149 638.842 187.338 638.842 Q181.528 638.842 178.45 634.259 Q175.394 629.653 175.394 620.926 Q175.394 612.176 178.45 607.593 Q181.528 602.986 187.338 602.986 Z\" fill=\"#000000\" fill-rule=\"nonzero\" fill-opacity=\"1\" /><path clip-path=\"url(#clip290)\" d=\"M117.061 403.039 L135.417 403.039 L135.417 406.974 L121.343 406.974 L121.343 415.446 Q122.362 415.099 123.38 414.937 Q124.399 414.752 125.418 414.752 Q131.205 414.752 134.584 417.923 Q137.964 421.094 137.964 426.511 Q137.964 432.09 134.492 435.192 Q131.019 438.27 124.7 438.27 Q122.524 438.27 120.255 437.9 Q118.01 437.53 115.603 436.789 L115.603 432.09 Q117.686 433.224 119.908 433.78 Q122.13 434.335 124.607 434.335 Q128.612 434.335 130.95 432.229 Q133.288 430.122 133.288 426.511 Q133.288 422.9 130.95 420.793 Q128.612 418.687 124.607 418.687 Q122.732 418.687 120.857 419.104 Q119.006 419.52 117.061 420.4 L117.061 403.039 Z\" fill=\"#000000\" fill-rule=\"nonzero\" fill-opacity=\"1\" /><path clip-path=\"url(#clip290)\" d=\"M157.177 406.118 Q153.566 406.118 151.737 409.682 Q149.931 413.224 149.931 420.354 Q149.931 427.46 151.737 431.025 Q153.566 434.567 157.177 434.567 Q160.811 434.567 162.616 431.025 Q164.445 427.46 164.445 420.354 Q164.445 413.224 162.616 409.682 Q160.811 406.118 157.177 406.118 M157.177 402.414 Q162.987 402.414 166.042 407.02 Q169.121 411.604 169.121 420.354 Q169.121 429.08 166.042 433.687 Q162.987 438.27 157.177 438.27 Q151.366 438.27 148.288 433.687 Q145.232 429.08 145.232 420.354 Q145.232 411.604 148.288 407.02 Q151.366 402.414 157.177 402.414 Z\" fill=\"#000000\" fill-rule=\"nonzero\" fill-opacity=\"1\" /><path clip-path=\"url(#clip290)\" d=\"M187.338 406.118 Q183.727 406.118 181.899 409.682 Q180.093 413.224 180.093 420.354 Q180.093 427.46 181.899 431.025 Q183.727 434.567 187.338 434.567 Q190.973 434.567 192.778 431.025 Q194.607 427.46 194.607 420.354 Q194.607 413.224 192.778 409.682 Q190.973 406.118 187.338 406.118 M187.338 402.414 Q193.149 402.414 196.204 407.02 Q199.283 411.604 199.283 420.354 Q199.283 429.08 196.204 433.687 Q193.149 438.27 187.338 438.27 Q181.528 438.27 178.45 433.687 Q175.394 429.08 175.394 420.354 Q175.394 411.604 178.45 407.02 Q181.528 402.414 187.338 402.414 Z\" fill=\"#000000\" fill-rule=\"nonzero\" fill-opacity=\"1\" /><path clip-path=\"url(#clip290)\" d=\"M127.593 217.883 Q124.445 217.883 122.593 220.036 Q120.765 222.189 120.765 225.939 Q120.765 229.666 122.593 231.842 Q124.445 233.994 127.593 233.994 Q130.742 233.994 132.57 231.842 Q134.422 229.666 134.422 225.939 Q134.422 222.189 132.57 220.036 Q130.742 217.883 127.593 217.883 M136.876 203.231 L136.876 207.49 Q135.117 206.657 133.311 206.217 Q131.529 205.777 129.769 205.777 Q125.14 205.777 122.686 208.902 Q120.255 212.027 119.908 218.346 Q121.274 216.332 123.334 215.268 Q125.394 214.18 127.871 214.18 Q133.08 214.18 136.089 217.351 Q139.121 220.499 139.121 225.939 Q139.121 231.263 135.973 234.48 Q132.825 237.698 127.593 237.698 Q121.598 237.698 118.427 233.115 Q115.256 228.508 115.256 219.781 Q115.256 211.587 119.144 206.726 Q123.033 201.842 129.584 201.842 Q131.343 201.842 133.126 202.189 Q134.931 202.536 136.876 203.231 Z\" fill=\"#000000\" fill-rule=\"nonzero\" fill-opacity=\"1\" /><path clip-path=\"url(#clip290)\" d=\"M157.177 205.545 Q153.566 205.545 151.737 209.11 Q149.931 212.652 149.931 219.781 Q149.931 226.888 151.737 230.453 Q153.566 233.994 157.177 233.994 Q160.811 233.994 162.616 230.453 Q164.445 226.888 164.445 219.781 Q164.445 212.652 162.616 209.11 Q160.811 205.545 157.177 205.545 M157.177 201.842 Q162.987 201.842 166.042 206.448 Q169.121 211.032 169.121 219.781 Q169.121 228.508 166.042 233.115 Q162.987 237.698 157.177 237.698 Q151.366 237.698 148.288 233.115 Q145.232 228.508 145.232 219.781 Q145.232 211.032 148.288 206.448 Q151.366 201.842 157.177 201.842 Z\" fill=\"#000000\" fill-rule=\"nonzero\" fill-opacity=\"1\" /><path clip-path=\"url(#clip290)\" d=\"M187.338 205.545 Q183.727 205.545 181.899 209.11 Q180.093 212.652 180.093 219.781 Q180.093 226.888 181.899 230.453 Q183.727 233.994 187.338 233.994 Q190.973 233.994 192.778 230.453 Q194.607 226.888 194.607 219.781 Q194.607 212.652 192.778 209.11 Q190.973 205.545 187.338 205.545 M187.338 201.842 Q193.149 201.842 196.204 206.448 Q199.283 211.032 199.283 219.781 Q199.283 228.508 196.204 233.115 Q193.149 237.698 187.338 237.698 Q181.528 237.698 178.45 233.115 Q175.394 228.508 175.394 219.781 Q175.394 211.032 178.45 206.448 Q181.528 201.842 187.338 201.842 Z\" fill=\"#000000\" fill-rule=\"nonzero\" fill-opacity=\"1\" /><path clip-path=\"url(#clip290)\" d=\"M21.7677 908.168 L58.7206 908.168 L58.7206 900.401 Q58.7206 890.566 54.2646 886.015 Q49.8086 881.432 40.1964 881.432 Q30.6479 881.432 26.2237 886.015 Q21.7677 890.566 21.7677 900.401 L21.7677 908.168 M16.4842 914.597 L16.4842 901.388 Q16.4842 887.575 22.2451 881.113 Q27.9743 874.652 40.1964 874.652 Q52.4822 874.652 58.2432 881.145 Q64.0042 887.638 64.0042 901.388 L64.0042 914.597 L16.4842 914.597 Z\" fill=\"#000000\" fill-rule=\"nonzero\" fill-opacity=\"1\" /><path clip-path=\"url(#clip290)\" d=\"M28.3562 864.658 L28.3562 858.802 L64.0042 858.802 L64.0042 864.658 L28.3562 864.658 M14.479 864.658 L14.479 858.802 L21.895 858.802 L21.895 864.658 L14.479 864.658 Z\" fill=\"#000000\" fill-rule=\"nonzero\" fill-opacity=\"1\" /><path clip-path=\"url(#clip290)\" d=\"M33.8307 825.891 Q33.2578 826.877 33.0032 828.055 Q32.7167 829.201 32.7167 830.601 Q32.7167 835.567 35.9632 838.24 Q39.1779 840.882 45.2253 840.882 L64.0042 840.882 L64.0042 846.77 L28.3562 846.77 L28.3562 840.882 L33.8944 840.882 Q30.6479 839.036 29.0883 836.076 Q27.4968 833.116 27.4968 828.883 Q27.4968 828.278 27.5923 827.546 Q27.656 826.814 27.8151 825.923 L33.8307 825.891 Z\" fill=\"#000000\" fill-rule=\"nonzero\" fill-opacity=\"1\" /><path clip-path=\"url(#clip290)\" d=\"M44.7161 790.688 L47.5806 790.688 L47.5806 817.615 Q53.6281 817.233 56.8109 813.987 Q59.9619 810.709 59.9619 804.884 Q59.9619 801.51 59.1344 798.359 Q58.3069 795.176 56.6518 792.057 L62.1899 792.057 Q63.5267 795.208 64.227 798.518 Q64.9272 801.828 64.9272 805.234 Q64.9272 813.764 59.9619 818.761 Q54.9967 823.726 46.5303 823.726 Q37.7774 823.726 32.6531 819.016 Q27.4968 814.273 27.4968 806.253 Q27.4968 799.059 32.1438 794.89 Q36.7589 790.688 44.7161 790.688 M42.9973 796.545 Q38.1912 796.609 35.3266 799.25 Q32.4621 801.86 32.4621 806.189 Q32.4621 811.091 35.2312 814.051 Q38.0002 816.979 43.0292 817.424 L42.9973 796.545 Z\" fill=\"#000000\" fill-rule=\"nonzero\" fill-opacity=\"1\" /><path clip-path=\"url(#clip290)\" d=\"M29.7248 755.422 L35.1993 755.422 Q33.8307 757.905 33.1623 760.42 Q32.4621 762.902 32.4621 765.448 Q32.4621 771.146 36.0905 774.297 Q39.6872 777.448 46.212 777.448 Q52.7369 777.448 56.3653 774.297 Q59.9619 771.146 59.9619 765.448 Q59.9619 762.902 59.2935 760.42 Q58.5933 757.905 57.2247 755.422 L62.6355 755.422 Q63.7814 757.873 64.3543 760.515 Q64.9272 763.125 64.9272 766.085 Q64.9272 774.138 59.8664 778.88 Q54.8057 783.623 46.212 783.623 Q37.491 783.623 32.4939 778.848 Q27.4968 774.042 27.4968 765.703 Q27.4968 762.998 28.0697 760.42 Q28.6108 757.841 29.7248 755.422 Z\" fill=\"#000000\" fill-rule=\"nonzero\" fill-opacity=\"1\" /><path clip-path=\"url(#clip290)\" d=\"M18.2347 739.445 L28.3562 739.445 L28.3562 727.381 L32.9077 727.381 L32.9077 739.445 L52.2594 739.445 Q56.6199 739.445 57.8613 738.267 Q59.1026 737.057 59.1026 733.397 L59.1026 727.381 L64.0042 727.381 L64.0042 733.397 Q64.0042 740.177 61.4897 742.755 Q58.9434 745.333 52.2594 745.333 L32.9077 745.333 L32.9077 749.63 L28.3562 749.63 L28.3562 745.333 L18.2347 745.333 L18.2347 739.445 Z\" fill=\"#000000\" fill-rule=\"nonzero\" fill-opacity=\"1\" /><path clip-path=\"url(#clip290)\" d=\"M28.3562 719.679 L28.3562 713.823 L64.0042 713.823 L64.0042 719.679 L28.3562 719.679 M14.479 719.679 L14.479 713.823 L21.895 713.823 L21.895 719.679 L14.479 719.679 Z\" fill=\"#000000\" fill-rule=\"nonzero\" fill-opacity=\"1\" /><path clip-path=\"url(#clip290)\" d=\"M32.4621 687.755 Q32.4621 692.466 36.1542 695.203 Q39.8145 697.94 46.212 697.94 Q52.6095 697.94 56.3017 695.235 Q59.9619 692.497 59.9619 687.755 Q59.9619 683.076 56.2698 680.339 Q52.5777 677.602 46.212 677.602 Q39.8781 677.602 36.186 680.339 Q32.4621 683.076 32.4621 687.755 M27.4968 687.755 Q27.4968 680.116 32.4621 675.756 Q37.4273 671.395 46.212 671.395 Q54.9649 671.395 59.9619 675.756 Q64.9272 680.116 64.9272 687.755 Q64.9272 695.426 59.9619 699.786 Q54.9649 704.115 46.212 704.115 Q37.4273 704.115 32.4621 699.786 Q27.4968 695.426 27.4968 687.755 Z\" fill=\"#000000\" fill-rule=\"nonzero\" fill-opacity=\"1\" /><path clip-path=\"url(#clip290)\" d=\"M42.4881 632.055 L64.0042 632.055 L64.0042 637.911 L42.679 637.911 Q37.6183 637.911 35.1038 639.885 Q32.5894 641.858 32.5894 645.805 Q32.5894 650.547 35.6131 653.285 Q38.6368 656.022 43.8567 656.022 L64.0042 656.022 L64.0042 661.91 L28.3562 661.91 L28.3562 656.022 L33.8944 656.022 Q30.6797 653.921 29.0883 651.089 Q27.4968 648.224 27.4968 644.5 Q27.4968 638.357 31.3163 635.206 Q35.1038 632.055 42.4881 632.055 Z\" fill=\"#000000\" fill-rule=\"nonzero\" fill-opacity=\"1\" /><path clip-path=\"url(#clip290)\" d=\"M1122.4 18.8205 L1122.4 65.8515 L1132.29 65.8515 Q1144.8 65.8515 1150.6 60.1802 Q1156.43 54.509 1156.43 42.2752 Q1156.43 30.1225 1150.6 24.4918 Q1144.8 18.8205 1132.29 18.8205 L1122.4 18.8205 M1114.22 12.096 L1131.03 12.096 Q1148.61 12.096 1156.84 19.4281 Q1165.06 26.7198 1165.06 42.2752 Q1165.06 57.9117 1156.79 65.2439 Q1148.53 72.576 1131.03 72.576 L1114.22 72.576 L1114.22 12.096 Z\" fill=\"#000000\" fill-rule=\"nonzero\" fill-opacity=\"1\" /><path clip-path=\"url(#clip290)\" d=\"M1177.78 27.2059 L1185.23 27.2059 L1185.23 72.576 L1177.78 72.576 L1177.78 27.2059 M1177.78 9.54393 L1185.23 9.54393 L1185.23 18.9825 L1177.78 18.9825 L1177.78 9.54393 Z\" fill=\"#000000\" fill-rule=\"nonzero\" fill-opacity=\"1\" /><path clip-path=\"url(#clip290)\" d=\"M1227.12 34.1734 Q1225.86 33.4443 1224.36 33.1202 Q1222.91 32.7556 1221.12 32.7556 Q1214.8 32.7556 1211.4 36.8875 Q1208.04 40.9789 1208.04 48.6757 L1208.04 72.576 L1200.54 72.576 L1200.54 27.2059 L1208.04 27.2059 L1208.04 34.2544 Q1210.39 30.1225 1214.16 28.1376 Q1217.92 26.1121 1223.31 26.1121 Q1224.08 26.1121 1225.01 26.2337 Q1225.94 26.3147 1227.08 26.5172 L1227.12 34.1734 Z\" fill=\"#000000\" fill-rule=\"nonzero\" fill-opacity=\"1\" /><path clip-path=\"url(#clip290)\" d=\"M1271.92 48.0275 L1271.92 51.6733 L1237.65 51.6733 Q1238.14 59.3701 1242.27 63.421 Q1246.44 67.4314 1253.85 67.4314 Q1258.15 67.4314 1262.16 66.3781 Q1266.21 65.3249 1270.18 63.2184 L1270.18 70.267 Q1266.17 71.9684 1261.96 72.8596 Q1257.74 73.7508 1253.41 73.7508 Q1242.55 73.7508 1236.19 67.4314 Q1229.87 61.1119 1229.87 50.3365 Q1229.87 39.1965 1235.87 32.6746 Q1241.9 26.1121 1252.11 26.1121 Q1261.27 26.1121 1266.57 32.0264 Q1271.92 37.9003 1271.92 48.0275 M1264.47 45.84 Q1264.39 39.7232 1261.02 36.0774 Q1257.7 32.4315 1252.19 32.4315 Q1245.96 32.4315 1242.19 35.9558 Q1238.46 39.4801 1237.89 45.8805 L1264.47 45.84 Z\" fill=\"#000000\" fill-rule=\"nonzero\" fill-opacity=\"1\" /><path clip-path=\"url(#clip290)\" d=\"M1316.81 28.9478 L1316.81 35.9153 Q1313.65 34.1734 1310.45 33.3227 Q1307.29 32.4315 1304.05 32.4315 Q1296.79 32.4315 1292.78 37.0496 Q1288.77 41.6271 1288.77 49.9314 Q1288.77 58.2358 1292.78 62.8538 Q1296.79 67.4314 1304.05 67.4314 Q1307.29 67.4314 1310.45 66.5807 Q1313.65 65.6895 1316.81 63.9476 L1316.81 70.8341 Q1313.69 72.2924 1310.32 73.0216 Q1307 73.7508 1303.24 73.7508 Q1292.99 73.7508 1286.95 67.3098 Q1280.91 60.8689 1280.91 49.9314 Q1280.91 38.832 1286.99 32.472 Q1293.11 26.1121 1303.72 26.1121 Q1307.16 26.1121 1310.45 26.8413 Q1313.73 27.5299 1316.81 28.9478 Z\" fill=\"#000000\" fill-rule=\"nonzero\" fill-opacity=\"1\" /><path clip-path=\"url(#clip290)\" d=\"M1337.14 14.324 L1337.14 27.2059 L1352.49 27.2059 L1352.49 32.9987 L1337.14 32.9987 L1337.14 57.6282 Q1337.14 63.1779 1338.64 64.7578 Q1340.18 66.3376 1344.84 66.3376 L1352.49 66.3376 L1352.49 72.576 L1344.84 72.576 Q1336.21 72.576 1332.93 69.3758 Q1329.65 66.1351 1329.65 57.6282 L1329.65 32.9987 L1324.18 32.9987 L1324.18 27.2059 L1329.65 27.2059 L1329.65 14.324 L1337.14 14.324 Z\" fill=\"#000000\" fill-rule=\"nonzero\" fill-opacity=\"1\" /><path clip-path=\"url(#clip290)\" d=\"M1362.3 27.2059 L1369.75 27.2059 L1369.75 72.576 L1362.3 72.576 L1362.3 27.2059 M1362.3 9.54393 L1369.75 9.54393 L1369.75 18.9825 L1362.3 18.9825 L1362.3 9.54393 Z\" fill=\"#000000\" fill-rule=\"nonzero\" fill-opacity=\"1\" /><path clip-path=\"url(#clip290)\" d=\"M1402.93 32.4315 Q1396.93 32.4315 1393.45 37.1306 Q1389.97 41.7891 1389.97 49.9314 Q1389.97 58.0738 1393.41 62.7728 Q1396.89 67.4314 1402.93 67.4314 Q1408.88 67.4314 1412.37 62.7323 Q1415.85 58.0333 1415.85 49.9314 Q1415.85 41.8701 1412.37 37.1711 Q1408.88 32.4315 1402.93 32.4315 M1402.93 26.1121 Q1412.65 26.1121 1418.2 32.4315 Q1423.75 38.7509 1423.75 49.9314 Q1423.75 61.0714 1418.2 67.4314 Q1412.65 73.7508 1402.93 73.7508 Q1393.17 73.7508 1387.62 67.4314 Q1382.11 61.0714 1382.11 49.9314 Q1382.11 38.7509 1387.62 32.4315 Q1393.17 26.1121 1402.93 26.1121 Z\" fill=\"#000000\" fill-rule=\"nonzero\" fill-opacity=\"1\" /><path clip-path=\"url(#clip290)\" d=\"M1473.82 45.1919 L1473.82 72.576 L1466.37 72.576 L1466.37 45.4349 Q1466.37 38.994 1463.85 35.7938 Q1461.34 32.5936 1456.32 32.5936 Q1450.28 32.5936 1446.8 36.4419 Q1443.32 40.2903 1443.32 46.9338 L1443.32 72.576 L1435.82 72.576 L1435.82 27.2059 L1443.32 27.2059 L1443.32 34.2544 Q1445.99 30.163 1449.59 28.1376 Q1453.24 26.1121 1457.98 26.1121 Q1465.8 26.1121 1469.81 30.9732 Q1473.82 35.7938 1473.82 45.1919 Z\" fill=\"#000000\" fill-rule=\"nonzero\" fill-opacity=\"1\" /><path clip-path=\"url(#clip292)\" d=\"M351.748 215.735 L351.748 1423.18 L979.929 1423.18 L979.929 215.735 L351.748 215.735 L351.748 215.735  Z\" fill=\"#009af9\" fill-rule=\"evenodd\" fill-opacity=\"1\"/>\n",
       "<polyline clip-path=\"url(#clip292)\" style=\"stroke:#000000; stroke-linecap:round; stroke-linejoin:round; stroke-width:4; stroke-opacity:1; fill:none\" points=\"351.748,215.735 351.748,1423.18 979.929,1423.18 979.929,215.735 351.748,215.735 \"/>\n",
       "<path clip-path=\"url(#clip292)\" d=\"M979.929 1423.18 L979.929 1423.18 L1608.11 1423.18 L1608.11 1423.18 L979.929 1423.18 L979.929 1423.18  Z\" fill=\"#009af9\" fill-rule=\"evenodd\" fill-opacity=\"1\"/>\n",
       "<polyline clip-path=\"url(#clip292)\" style=\"stroke:#000000; stroke-linecap:round; stroke-linejoin:round; stroke-width:4; stroke-opacity:1; fill:none\" points=\"979.929,1423.18 979.929,1423.18 1608.11,1423.18 979.929,1423.18 \"/>\n",
       "<path clip-path=\"url(#clip292)\" d=\"M1608.11 123.472 L1608.11 1423.18 L2236.29 1423.18 L2236.29 123.472 L1608.11 123.472 L1608.11 123.472  Z\" fill=\"#009af9\" fill-rule=\"evenodd\" fill-opacity=\"1\"/>\n",
       "<polyline clip-path=\"url(#clip292)\" style=\"stroke:#000000; stroke-linecap:round; stroke-linejoin:round; stroke-width:4; stroke-opacity:1; fill:none\" points=\"1608.11,123.472 1608.11,1423.18 2236.29,1423.18 2236.29,123.472 1608.11,123.472 \"/>\n",
       "<circle clip-path=\"url(#clip292)\" style=\"fill:#009af9; stroke:none; fill-opacity:0\" cx=\"665.838\" cy=\"215.735\" r=\"2\"/>\n",
       "<circle clip-path=\"url(#clip292)\" style=\"fill:#009af9; stroke:none; fill-opacity:0\" cx=\"1294.02\" cy=\"1423.18\" r=\"2\"/>\n",
       "<circle clip-path=\"url(#clip292)\" style=\"fill:#009af9; stroke:none; fill-opacity:0\" cx=\"1922.2\" cy=\"123.472\" r=\"2\"/>\n",
       "<path clip-path=\"url(#clip290)\" d=\"M1864.94 1379.86 L2282.17 1379.86 L2282.17 1276.18 L1864.94 1276.18  Z\" fill=\"#ffffff\" fill-rule=\"evenodd\" fill-opacity=\"1\"/>\n",
       "<polyline clip-path=\"url(#clip290)\" style=\"stroke:#000000; stroke-linecap:round; stroke-linejoin:round; stroke-width:4; stroke-opacity:1; fill:none\" points=\"1864.94,1379.86 2282.17,1379.86 2282.17,1276.18 1864.94,1276.18 1864.94,1379.86 \"/>\n",
       "<path clip-path=\"url(#clip290)\" d=\"M1888.47 1348.75 L2029.63 1348.75 L2029.63 1307.28 L1888.47 1307.28 L1888.47 1348.75  Z\" fill=\"#009af9\" fill-rule=\"evenodd\" fill-opacity=\"1\"/>\n",
       "<polyline clip-path=\"url(#clip290)\" style=\"stroke:#000000; stroke-linecap:round; stroke-linejoin:round; stroke-width:4; stroke-opacity:1; fill:none\" points=\"1888.47,1348.75 2029.63,1348.75 2029.63,1307.28 1888.47,1307.28 1888.47,1348.75 \"/>\n",
       "<path clip-path=\"url(#clip290)\" d=\"M2057.84 1314.58 L2057.84 1341.45 L2063.49 1341.45 Q2070.64 1341.45 2073.95 1338.21 Q2077.28 1334.97 2077.28 1327.98 Q2077.28 1321.04 2073.95 1317.82 Q2070.64 1314.58 2063.49 1314.58 L2057.84 1314.58 M2053.16 1310.74 L2062.77 1310.74 Q2072.81 1310.74 2077.51 1314.93 Q2082.21 1319.09 2082.21 1327.98 Q2082.21 1336.92 2077.49 1341.11 Q2072.77 1345.3 2062.77 1345.3 L2053.16 1345.3 L2053.16 1310.74 Z\" fill=\"#000000\" fill-rule=\"nonzero\" fill-opacity=\"1\" /><path clip-path=\"url(#clip290)\" d=\"M2089.48 1319.37 L2093.74 1319.37 L2093.74 1345.3 L2089.48 1345.3 L2089.48 1319.37 M2089.48 1309.28 L2093.74 1309.28 L2093.74 1314.67 L2089.48 1314.67 L2089.48 1309.28 Z\" fill=\"#000000\" fill-rule=\"nonzero\" fill-opacity=\"1\" /><path clip-path=\"url(#clip290)\" d=\"M2117.67 1323.35 Q2116.96 1322.94 2116.1 1322.75 Q2115.27 1322.54 2114.25 1322.54 Q2110.64 1322.54 2108.69 1324.9 Q2106.77 1327.24 2106.77 1331.64 L2106.77 1345.3 L2102.49 1345.3 L2102.49 1319.37 L2106.77 1319.37 L2106.77 1323.4 Q2108.11 1321.04 2110.27 1319.9 Q2112.42 1318.75 2115.5 1318.75 Q2115.94 1318.75 2116.47 1318.81 Q2117 1318.86 2117.65 1318.98 L2117.67 1323.35 Z\" fill=\"#000000\" fill-rule=\"nonzero\" fill-opacity=\"1\" /><path clip-path=\"url(#clip290)\" d=\"M2143.28 1331.27 L2143.28 1333.35 L2123.69 1333.35 Q2123.97 1337.75 2126.33 1340.06 Q2128.72 1342.36 2132.95 1342.36 Q2135.41 1342.36 2137.7 1341.75 Q2140.01 1341.15 2142.28 1339.95 L2142.28 1343.98 Q2139.99 1344.95 2137.58 1345.46 Q2135.17 1345.97 2132.7 1345.97 Q2126.49 1345.97 2122.86 1342.36 Q2119.25 1338.75 2119.25 1332.59 Q2119.25 1326.22 2122.67 1322.5 Q2126.12 1318.75 2131.96 1318.75 Q2137.19 1318.75 2140.22 1322.13 Q2143.28 1325.48 2143.28 1331.27 M2139.02 1330.02 Q2138.97 1326.52 2137.05 1324.44 Q2135.15 1322.36 2132 1322.36 Q2128.44 1322.36 2126.29 1324.37 Q2124.16 1326.38 2123.83 1330.04 L2139.02 1330.02 Z\" fill=\"#000000\" fill-rule=\"nonzero\" fill-opacity=\"1\" /><path clip-path=\"url(#clip290)\" d=\"M2168.92 1320.37 L2168.92 1324.35 Q2167.12 1323.35 2165.29 1322.87 Q2163.48 1322.36 2161.63 1322.36 Q2157.49 1322.36 2155.2 1325 Q2152.91 1327.61 2152.91 1332.36 Q2152.91 1337.1 2155.2 1339.74 Q2157.49 1342.36 2161.63 1342.36 Q2163.48 1342.36 2165.29 1341.87 Q2167.12 1341.36 2168.92 1340.37 L2168.92 1344.3 Q2167.14 1345.13 2165.22 1345.55 Q2163.32 1345.97 2161.17 1345.97 Q2155.31 1345.97 2151.86 1342.29 Q2148.42 1338.61 2148.42 1332.36 Q2148.42 1326.01 2151.89 1322.38 Q2155.38 1318.75 2161.45 1318.75 Q2163.42 1318.75 2165.29 1319.16 Q2167.17 1319.56 2168.92 1320.37 Z\" fill=\"#000000\" fill-rule=\"nonzero\" fill-opacity=\"1\" /><path clip-path=\"url(#clip290)\" d=\"M2180.54 1312.01 L2180.54 1319.37 L2189.32 1319.37 L2189.32 1322.68 L2180.54 1322.68 L2180.54 1336.75 Q2180.54 1339.93 2181.4 1340.83 Q2182.28 1341.73 2184.94 1341.73 L2189.32 1341.73 L2189.32 1345.3 L2184.94 1345.3 Q2180.01 1345.3 2178.14 1343.47 Q2176.26 1341.62 2176.26 1336.75 L2176.26 1322.68 L2173.14 1322.68 L2173.14 1319.37 L2176.26 1319.37 L2176.26 1312.01 L2180.54 1312.01 Z\" fill=\"#000000\" fill-rule=\"nonzero\" fill-opacity=\"1\" /><path clip-path=\"url(#clip290)\" d=\"M2194.92 1319.37 L2199.18 1319.37 L2199.18 1345.3 L2194.92 1345.3 L2194.92 1319.37 M2194.92 1309.28 L2199.18 1309.28 L2199.18 1314.67 L2194.92 1314.67 L2194.92 1309.28 Z\" fill=\"#000000\" fill-rule=\"nonzero\" fill-opacity=\"1\" /><path clip-path=\"url(#clip290)\" d=\"M2218.14 1322.36 Q2214.71 1322.36 2212.72 1325.04 Q2210.73 1327.7 2210.73 1332.36 Q2210.73 1337.01 2212.7 1339.69 Q2214.69 1342.36 2218.14 1342.36 Q2221.54 1342.36 2223.53 1339.67 Q2225.52 1336.99 2225.52 1332.36 Q2225.52 1327.75 2223.53 1325.06 Q2221.54 1322.36 2218.14 1322.36 M2218.14 1318.75 Q2223.69 1318.75 2226.86 1322.36 Q2230.04 1325.97 2230.04 1332.36 Q2230.04 1338.72 2226.86 1342.36 Q2223.69 1345.97 2218.14 1345.97 Q2212.56 1345.97 2209.39 1342.36 Q2206.24 1338.72 2206.24 1332.36 Q2206.24 1325.97 2209.39 1322.36 Q2212.56 1318.75 2218.14 1318.75 Z\" fill=\"#000000\" fill-rule=\"nonzero\" fill-opacity=\"1\" /><path clip-path=\"url(#clip290)\" d=\"M2258.65 1329.65 L2258.65 1345.3 L2254.39 1345.3 L2254.39 1329.79 Q2254.39 1326.11 2252.95 1324.28 Q2251.52 1322.45 2248.65 1322.45 Q2245.2 1322.45 2243.21 1324.65 Q2241.22 1326.85 2241.22 1330.64 L2241.22 1345.3 L2236.93 1345.3 L2236.93 1319.37 L2241.22 1319.37 L2241.22 1323.4 Q2242.74 1321.06 2244.8 1319.9 Q2246.89 1318.75 2249.6 1318.75 Q2254.06 1318.75 2256.35 1321.52 Q2258.65 1324.28 2258.65 1329.65 Z\" fill=\"#000000\" fill-rule=\"nonzero\" fill-opacity=\"1\" /></svg>\n"
      ]
     },
     "metadata": {},
     "output_type": "display_data"
    }
   ],
   "source": [
    "# Looking into Direction shows that \"Up\" was sightly more frequent than \"Down\" \n",
    "colors = cgrad(:viridis, 2)\n",
    "bin_colors = colors[1:2]\n",
    "labels=[\"Up\", \"Down\"]\n",
    "\n",
    "histogram(y, title=\"Direction\",label=\"Direction\", bins=2, xticks=(1:2,labels))# , color=bin_colors)\n",
    "# histogram(y, title=\"Direction\",label=\"Direction\", bins=2, xticks=(labels[1:2]))\n",
    "xlabel!(\"Frequency\")\n",
    "ylabel!(\"Direction\")\n",
    "\n",
    "# display(p)"
   ]
  },
  {
   "cell_type": "markdown",
   "metadata": {},
   "source": [
    "\\figalt{volume}{ISL-lab-4-volume.svg}"
   ]
  },
  {
   "cell_type": "markdown",
   "metadata": {},
   "source": [
    "### Logistic Regression\n",
    "\n",
    "We will now train the data using Logistic Regression. The target `:Direction` has two classes: `Up` and `Down`; it needs to be interpreted as a categorical object, and we will mark it as a _ordered factor_ to specify that 'Up' is positive and 'Down' negative (for the confusion matrix later):"
   ]
  },
  {
   "cell_type": "code",
   "execution_count": 7,
   "metadata": {},
   "outputs": [
    {
     "name": "stdout",
     "output_type": "stream",
     "text": [
      "typeof(y) = CategoricalArrays.CategoricalVector{Int64, UInt32, Int64, CategoricalArrays.CategoricalValue{Int64, UInt32}, Union{}}\n",
      "CategoricalArrays.CategoricalValue{Int64, UInt32}[1, 1, 0, 1, 1]\n"
     ]
    }
   ],
   "source": [
    "y = coerce(y, OrderedFactor)\n",
    "classes(y[1])\n",
    "## y is of type \"categorical\" array. The values that it contains are \"Up\" and \"Down\"\n",
    "@show(typeof(y))\n",
    "println(y[1:5])"
   ]
  },
  {
   "cell_type": "markdown",
   "metadata": {},
   "source": [
    "### Use MLJ Logistic Regression Classifier\n",
    "\n",
    "Note that at the end we will obtain a ***Confusion Matrix***\n",
    "\n",
    "Reference:\n",
    "\n",
    "[https://docs.google.com/presentation/d/1zOikKpq_FGpoptS3rTKSr1s7ILBI_5Dgx0aloXe3j04/edit#slide=id.g2d5e85855c2_0_11]\n",
    "\n"
   ]
  },
  {
   "cell_type": "code",
   "execution_count": 11,
   "metadata": {},
   "outputs": [
    {
     "name": "stderr",
     "output_type": "stream",
     "text": [
      "┌ Info: For silent loading, specify `verbosity=0`. \n",
      "└ @ Main /home/juan/.julia/packages/MLJModels/ziReN/src/loading.jl:159\n"
     ]
    },
    {
     "name": "stdout",
     "output_type": "stream",
     "text": [
      "import MLJLinearModels ✔\n",
      "names(X2) = [\"Lag1\", \"Lag2\", \"Lag3\", \"Lag4\", \"Lag5\", \"Volume\"]\n"
     ]
    },
    {
     "name": "stderr",
     "output_type": "stream",
     "text": [
      "┌ Info: Training machine(LogisticClassifier(lambda = 2.220446049250313e-16, …), …).\n",
      "└ @ MLJBase /home/juan/.julia/packages/MLJBase/7nGJF/src/machines.jl:499\n",
      "┌ Info: Solver: LBFGS{Optim.Options{Float64, Nothing}, @NamedTuple{}}\n",
      "│   optim_options: Optim.Options{Float64, Nothing}\n",
      "│   lbfgs_options: @NamedTuple{} NamedTuple()\n",
      "└ @ MLJLinearModels /home/juan/.julia/packages/MLJLinearModels/yYgtO/src/mlj/interface.jl:72\n"
     ]
    },
    {
     "data": {
      "text/plain": [
       "          ┌─────────────┐\n",
       "          │Ground Truth │\n",
       "┌─────────┼──────┬──────┤\n",
       "│Predicted│  0   │  1   │\n",
       "├─────────┼──────┼──────┤\n",
       "│    0    │ 145  │ 141  │\n",
       "├─────────┼──────┼──────┤\n",
       "│    1    │ 457  │ 507  │\n",
       "└─────────┴──────┴──────┘\n"
      ]
     },
     "metadata": {},
     "output_type": "display_data"
    }
   ],
   "source": [
    "LogisticClassifier = @load LogisticClassifier pkg=MLJLinearModels\n",
    "X2 = select(X, Not([:Year, :Today]))\n",
    "\n",
    "@show(names(X2))\n",
    "## Use in X2 only [\"Lag1\", \"Lag2\", \"Lag3\", \"Lag4\", \"Lag5\", \"Volume\"]\n",
    "\n",
    "classif = machine(LogisticClassifier(), X2, y)\n",
    "\n",
    "fit!(classif)\n",
    "ŷ = MLJ.predict(classif, X2)\n",
    "ŷ[1:3]\n",
    "\n",
    "cross_entropy(ŷ, y) |> mean |> r3\n",
    "\n",
    "ŷ = predict_mode(classif, X2)\n",
    "misclassification_rate(ŷ, y) |> r3\n",
    "\n",
    "cm = confusion_matrix(ŷ, y)\n"
   ]
  },
  {
   "cell_type": "markdown",
   "metadata": {},
   "source": [
    "### Vote of Confidence\n",
    "\n",
    "The values obtained for the predictions of Logistic Regressions using MLJ are exactly the same as the values in Section 4.72, pp 174 of the ISL Book, where they use the glm() package from \"R\" "
   ]
  },
  {
   "cell_type": "code",
   "execution_count": 12,
   "metadata": {},
   "outputs": [
    {
     "name": "stdout",
     "output_type": "stream",
     "text": [
      "(classes = CategoricalArrays.CategoricalValue{Int64, UInt32}[0, 1], coefs = [:Lag1 => -0.07307919757851809, :Lag2 => -0.04230066449142895, :Lag3 => 0.011086252136277392, :Lag4 => 0.0093613276354277, :Lag5 => 0.010312327997324407, :Volume => 0.13543397415891695], intercept = -0.12599472918896334)\n"
     ]
    }
   ],
   "source": [
    "# To get the fitted parameters of the model \n",
    "# coefs = classif.model.coefs\n",
    "\n",
    "# coefs = classif.fitresult[1].model.coefs\n",
    "# coefs = classif.fitresult[1].coefs\n",
    "# coefs = classif.fitresult.model.coefficients\n",
    "\n",
    "fp = fitted_params(classif)\n",
    "println(fp)\n",
    "\n"
   ]
  },
  {
   "cell_type": "code",
   "execution_count": 13,
   "metadata": {},
   "outputs": [
    {
     "name": "stdout",
     "output_type": "stream",
     "text": [
      "false_positive(cm) = 457\n",
      "accuracy(ŷ, y) |> r3 = 0.522\n",
      "accuracy(cm) |> r3 = 0.522\n",
      "recall(ŷ, y) |> r3 = 0.782\n",
      "f1score(ŷ, y) |> r3 = 0.629\n"
     ]
    },
    {
     "name": "stderr",
     "output_type": "stream",
     "text": [
      "┌ Info: Training machine(LogisticClassifier(lambda = 2.220446049250313e-16, …), …).\n",
      "└ @ MLJBase /home/juan/.julia/packages/MLJBase/7nGJF/src/machines.jl:499\n",
      "┌ Info: Solver: LBFGS{Optim.Options{Float64, Nothing}, @NamedTuple{}}\n",
      "│   optim_options: Optim.Options{Float64, Nothing}\n",
      "│   lbfgs_options: @NamedTuple{} NamedTuple()\n",
      "└ @ MLJLinearModels /home/juan/.julia/packages/MLJLinearModels/yYgtO/src/mlj/interface.jl:72\n"
     ]
    },
    {
     "name": "stdout",
     "output_type": "stream",
     "text": [
      "UnivariateFinite{OrderedFactor{2}, Int64, UInt32, Float64}[UnivariateFinite{OrderedFactor{2}}(0=>0.521, 1=>0.479), UnivariateFinite{OrderedFactor{2}}(0=>0.504, 1=>0.496)]"
     ]
    },
    {
     "name": "stderr",
     "output_type": "stream",
     "text": [
      "┌ Info: Training machine(LogisticClassifier(lambda = 2.220446049250313e-16, …), …).\n",
      "└ @ MLJBase /home/juan/.julia/packages/MLJBase/7nGJF/src/machines.jl:499\n",
      "┌ Info: Solver: LBFGS{Optim.Options{Float64, Nothing}, @NamedTuple{}}\n",
      "│   optim_options: Optim.Options{Float64, Nothing}\n",
      "│   lbfgs_options: @NamedTuple{} NamedTuple()\n",
      "└ @ MLJLinearModels /home/juan/.julia/packages/MLJLinearModels/yYgtO/src/mlj/interface.jl:72\n"
     ]
    },
    {
     "data": {
      "text/plain": [
       "2-element CategoricalArrays.CategoricalArray{Int64,1,UInt32}:\n",
       " 0\n",
       " 0"
      ]
     },
     "metadata": {},
     "output_type": "display_data"
    }
   ],
   "source": [
    "@show false_positive(cm)\n",
    "@show accuracy(ŷ, y)  |> r3\n",
    "@show accuracy(cm)    |> r3  # same thing\n",
    "\n",
    "#@show precision(ŷ, y) |> r3\n",
    "\n",
    "@show recall(ŷ, y)    |> r3\n",
    "@show f1score(ŷ, y)   |> r3\n",
    "\n",
    "train = 1:findlast(X.Year .< 2005)\n",
    "test = last(train)+1:length(y);\n",
    "\n",
    "fit!(classif, rows=train)\n",
    "ŷ = predict_mode(classif, rows=test)\n",
    "accuracy(ŷ, y[test]) |> r3\n",
    "\n",
    "X3 = select(X2, [:Lag1, :Lag2])\n",
    "\n",
    "\n",
    "classif = machine(LogisticClassifier(), X3, y)\n",
    "fit!(classif, rows=train)\n",
    "ŷ = predict_mode(classif, rows=test)\n",
    "accuracy(ŷ, y[test]) |> r3\n",
    "\n",
    "Xnew = (Lag1 = [1.2, 1.5], Lag2 = [1.1, -0.8])\n",
    "ŷ = MLJ.predict(classif, Xnew)\n",
    "ŷ |> pprint\n",
    "\n",
    "mode.(ŷ)\n"
   ]
  },
  {
   "cell_type": "markdown",
   "metadata": {},
   "source": [
    "Note that in this case the default order comes from the lexicographic order which happens  to map  to  our intuition since `D`  comes before `U`."
   ]
  },
  {
   "cell_type": "markdown",
   "metadata": {},
   "source": [
    "\\fig{ISL-lab-4-bal.svg}\n",
    "\n",
    "Seems pretty balanced."
   ]
  },
  {
   "cell_type": "markdown",
   "metadata": {},
   "source": [
    "Let's now try fitting a simple logistic classifier (aka logistic regression) not using `:Year` and `:Today`:"
   ]
  },
  {
   "cell_type": "code",
   "execution_count": 10,
   "metadata": {},
   "outputs": [
    {
     "name": "stdout",
     "output_type": "stream",
     "text": [
      "import MLJLinearModels ✔\n",
      "names(X2) = [\"Lag1\", \"Lag2\", \"Lag3\", \"Lag4\", \"Lag5\", \"Volume\"]\n"
     ]
    },
    {
     "name": "stderr",
     "output_type": "stream",
     "text": [
      "┌ Info: For silent loading, specify `verbosity=0`. \n",
      "└ @ Main /home/juan/.julia/packages/MLJModels/ziReN/src/loading.jl:159\n"
     ]
    },
    {
     "data": {
      "text/plain": [
       "untrained Machine; caches model-specific representations of data\n",
       "  model: LogisticClassifier(lambda = 2.220446049250313e-16, …)\n",
       "  args: \n",
       "    1:\tSource @258 ⏎ Table{AbstractVector{Continuous}}\n",
       "    2:\tSource @597 ⏎ AbstractVector{OrderedFactor{2}}\n"
      ]
     },
     "metadata": {},
     "output_type": "display_data"
    }
   ],
   "source": [
    "\n",
    "\n",
    "LogisticClassifier = @load LogisticClassifier pkg=MLJLinearModels\n",
    "X2 = select(X, Not([:Year, :Today]))\n",
    "@show(names(X2))\n",
    "classif = machine(LogisticClassifier(), X2, y)"
   ]
  },
  {
   "cell_type": "markdown",
   "metadata": {},
   "source": [
    "Let's fit it to the data and try to reproduce the output:"
   ]
  },
  {
   "cell_type": "code",
   "execution_count": 11,
   "metadata": {},
   "outputs": [
    {
     "name": "stderr",
     "output_type": "stream",
     "text": [
      "┌ Info: Training machine(LogisticClassifier(lambda = 2.220446049250313e-16, …), …).\n",
      "└ @ MLJBase /home/juan/.julia/packages/MLJBase/7nGJF/src/machines.jl:499\n",
      "┌ Info: Solver: LBFGS{Optim.Options{Float64, Nothing}, @NamedTuple{}}\n",
      "│   optim_options: Optim.Options{Float64, Nothing}\n",
      "│   lbfgs_options: @NamedTuple{} NamedTuple()\n",
      "└ @ MLJLinearModels /home/juan/.julia/packages/MLJLinearModels/yYgtO/src/mlj/interface.jl:72\n"
     ]
    },
    {
     "data": {
      "text/plain": [
       "3-element CategoricalDistributions.UnivariateFiniteVector{OrderedFactor{2}, Int64, UInt32, Float64}:\n",
       " UnivariateFinite{OrderedFactor{2}}(0=>0.493, 1=>0.507)\n",
       " UnivariateFinite{OrderedFactor{2}}(0=>0.519, 1=>0.481)\n",
       " UnivariateFinite{OrderedFactor{2}}(0=>0.519, 1=>0.481)"
      ]
     },
     "metadata": {},
     "output_type": "display_data"
    }
   ],
   "source": [
    "fit!(classif)\n",
    "ŷ = MLJ.predict(classif, X2)\n",
    "ŷ[1:3]"
   ]
  },
  {
   "cell_type": "markdown",
   "metadata": {},
   "source": [
    "Note that here the `ŷ` are _scores_.\n",
    "We can recover the average cross-entropy loss:"
   ]
  },
  {
   "cell_type": "code",
   "execution_count": 12,
   "metadata": {},
   "outputs": [
    {
     "data": {
      "text/plain": [
       "0.691"
      ]
     },
     "metadata": {},
     "output_type": "display_data"
    }
   ],
   "source": [
    "cross_entropy(ŷ, y) |> mean |> r3"
   ]
  },
  {
   "cell_type": "markdown",
   "metadata": {},
   "source": [
    "in order to recover the class, we could use the mode and compare the misclassification rate:"
   ]
  },
  {
   "cell_type": "code",
   "execution_count": 13,
   "metadata": {},
   "outputs": [
    {
     "data": {
      "text/plain": [
       "0.478"
      ]
     },
     "metadata": {},
     "output_type": "display_data"
    }
   ],
   "source": [
    "ŷ = predict_mode(classif, X2)\n",
    "misclassification_rate(ŷ, y) |> r3"
   ]
  },
  {
   "cell_type": "markdown",
   "metadata": {},
   "source": [
    "Well that's not fantastic...\n",
    "\n",
    "Let's visualise how we're doing building a confusion matrix,\n",
    "first is predicted, second is truth:"
   ]
  },
  {
   "cell_type": "code",
   "execution_count": 14,
   "metadata": {},
   "outputs": [
    {
     "data": {
      "text/plain": [
       "          ┌─────────────┐\n",
       "          │Ground Truth │\n",
       "┌─────────┼──────┬──────┤\n",
       "│Predicted│  0   │  1   │\n",
       "├─────────┼──────┼──────┤\n",
       "│    0    │ 145  │ 141  │\n",
       "├─────────┼──────┼──────┤\n",
       "│    1    │ 457  │ 507  │\n",
       "└─────────┴──────┴──────┘\n"
      ]
     },
     "metadata": {},
     "output_type": "display_data"
    }
   ],
   "source": [
    "cm = confusion_matrix(ŷ, y)"
   ]
  },
  {
   "cell_type": "markdown",
   "metadata": {},
   "source": [
    "We can then compute the accuracy or precision, etc. easily for instance:"
   ]
  },
  {
   "cell_type": "code",
   "execution_count": 15,
   "metadata": {},
   "outputs": [
    {
     "name": "stdout",
     "output_type": "stream",
     "text": [
      "false_positive(cm) = 457\n",
      "accuracy(ŷ, y) |> r3 = 0.522\n",
      "accuracy(cm) |> r3 = 0.522\n",
      "recall(ŷ, y) |> r3 = 0.782\n",
      "f1score(ŷ, y) |> r3 = 0.629\n"
     ]
    },
    {
     "data": {
      "text/plain": [
       "0.629"
      ]
     },
     "metadata": {},
     "output_type": "display_data"
    }
   ],
   "source": [
    "@show false_positive(cm)\n",
    "@show accuracy(ŷ, y)  |> r3\n",
    "\n",
    "# @show using Distances accuracy(cm)    |> r3  # same thing\n",
    "\n",
    "@show accuracy(cm)    |> r3  # same thing\n",
    "# @show precision(ŷ, y) |> r3\n",
    "@show recall(ŷ, y)    |> r3\n",
    "@show f1score(ŷ, y)   |> r3"
   ]
  },
  {
   "cell_type": "markdown",
   "metadata": {},
   "source": [
    "Let's now train on the data before 2005 and use it to predict on the rest.\n",
    "Let's find the row indices for which the condition holds"
   ]
  },
  {
   "cell_type": "code",
   "execution_count": 16,
   "metadata": {},
   "outputs": [],
   "source": [
    "train = 1:findlast(X.Year .< 2005)\n",
    "test = last(train)+1:length(y);"
   ]
  },
  {
   "cell_type": "markdown",
   "metadata": {},
   "source": [
    "We can now just re-fit the machine that we've already defined just on those rows and predict on the test:"
   ]
  },
  {
   "cell_type": "code",
   "execution_count": 17,
   "metadata": {},
   "outputs": [
    {
     "name": "stderr",
     "output_type": "stream",
     "text": [
      "┌ Info: Training machine(LogisticClassifier(lambda = 2.220446049250313e-16, …), …).\n",
      "└ @ MLJBase /home/juan/.julia/packages/MLJBase/7nGJF/src/machines.jl:499\n",
      "┌ Info: Solver: LBFGS{Optim.Options{Float64, Nothing}, @NamedTuple{}}\n",
      "│   optim_options: Optim.Options{Float64, Nothing}\n",
      "│   lbfgs_options: @NamedTuple{} NamedTuple()\n",
      "└ @ MLJLinearModels /home/juan/.julia/packages/MLJLinearModels/yYgtO/src/mlj/interface.jl:72\n"
     ]
    },
    {
     "data": {
      "text/plain": [
       "0.48"
      ]
     },
     "metadata": {},
     "output_type": "display_data"
    }
   ],
   "source": [
    "fit!(classif, rows=train)\n",
    "ŷ = predict_mode(classif, rows=test)\n",
    "accuracy(ŷ, y[test]) |> r3"
   ]
  },
  {
   "cell_type": "markdown",
   "metadata": {},
   "source": [
    "Well, that's not very good...\n",
    "Let's retrain a machine using only `:Lag1` and `:Lag2`:"
   ]
  },
  {
   "cell_type": "code",
   "execution_count": 19,
   "metadata": {},
   "outputs": [
    {
     "name": "stderr",
     "output_type": "stream",
     "text": [
      "┌ Info: Training machine(LogisticClassifier(lambda = 2.220446049250313e-16, …), …).\n",
      "└ @ MLJBase /home/juan/.julia/packages/MLJBase/7nGJF/src/machines.jl:499\n",
      "┌ Info: Solver: LBFGS{Optim.Options{Float64, Nothing}, @NamedTuple{}}\n",
      "│   optim_options: Optim.Options{Float64, Nothing}\n",
      "│   lbfgs_options: @NamedTuple{} NamedTuple()\n",
      "└ @ MLJLinearModels /home/juan/.julia/packages/MLJLinearModels/yYgtO/src/mlj/interface.jl:72\n"
     ]
    },
    {
     "data": {
      "text/plain": [
       "0.56"
      ]
     },
     "metadata": {},
     "output_type": "display_data"
    }
   ],
   "source": [
    "X3 = select(X2, [:Lag1, :Lag2])\n",
    "classif = machine(LogisticClassifier(), X3, y)\n",
    "fit!(classif, rows=train)\n",
    "ŷ = predict_mode(classif, rows=test)\n",
    "accuracy(ŷ, y[test]) |> r3"
   ]
  },
  {
   "cell_type": "markdown",
   "metadata": {},
   "source": [
    "Interesting... it has higher accuracy than the model with more features! This could be investigated further by increasing the regularisation parameter but we'll leave that aside for now.\n",
    "\n",
    "We can use a trained machine to predict on new data:"
   ]
  },
  {
   "cell_type": "code",
   "execution_count": 20,
   "metadata": {},
   "outputs": [
    {
     "name": "stdout",
     "output_type": "stream",
     "text": [
      "UnivariateFinite{OrderedFactor{2}, Int64, UInt32, Float64}[UnivariateFinite{OrderedFactor{2}}(0=>0.521, 1=>0.479), UnivariateFinite{OrderedFactor{2}}(0=>0.504, 1=>0.496)]"
     ]
    }
   ],
   "source": [
    "Xnew = (Lag1 = [1.2, 1.5], Lag2 = [1.1, -0.8])\n",
    "ŷ = MLJ.predict(classif, Xnew)\n",
    "ŷ |> pprint"
   ]
  },
  {
   "cell_type": "markdown",
   "metadata": {},
   "source": [
    "**Note**: when specifying data, we used a simple `NamedTuple`; we could also have defined a dataframe or any other compatible tabular container.\n",
    "Note also that we retrieved the raw predictions here i.e.: a score for each class; we could have used `predict_mode` or indeed"
   ]
  },
  {
   "cell_type": "code",
   "execution_count": 21,
   "metadata": {},
   "outputs": [
    {
     "data": {
      "text/plain": [
       "2-element CategoricalArrays.CategoricalArray{Int64,1,UInt32}:\n",
       " 0\n",
       " 0"
      ]
     },
     "metadata": {},
     "output_type": "display_data"
    }
   ],
   "source": [
    "mode.(ŷ)"
   ]
  },
  {
   "cell_type": "markdown",
   "metadata": {},
   "source": [
    "### LDA\n",
    "\n",
    "Let's do a similar thing but with a LDA model this time:"
   ]
  },
  {
   "cell_type": "code",
   "execution_count": 22,
   "metadata": {},
   "outputs": [
    {
     "name": "stdout",
     "output_type": "stream",
     "text": [
      "import MLJMultivariateStatsInterface ✔\n"
     ]
    },
    {
     "name": "stderr",
     "output_type": "stream",
     "text": [
      "┌ Info: For silent loading, specify `verbosity=0`. \n",
      "└ @ Main /home/juan/.julia/packages/MLJModels/ziReN/src/loading.jl:159\n",
      "┌ Info: Training machine(BayesianLDA(method = gevd, …), …).\n",
      "└ @ MLJBase /home/juan/.julia/packages/MLJBase/7nGJF/src/machines.jl:499\n"
     ]
    },
    {
     "data": {
      "text/plain": [
       "0.56"
      ]
     },
     "metadata": {},
     "output_type": "display_data"
    }
   ],
   "source": [
    "BayesianLDA = @load BayesianLDA pkg=MultivariateStats\n",
    "\n",
    "classif = machine(BayesianLDA(), X3, y)\n",
    "fit!(classif, rows=train)\n",
    "ŷ = predict_mode(classif, rows=test)\n",
    "\n",
    "accuracy(ŷ, y[test]) |> r3"
   ]
  },
  {
   "cell_type": "markdown",
   "metadata": {},
   "source": [
    "Note: `BayesianLDA` is LDA using a multivariate normal model for each class with a default prior inferred from the proportions for each class in the training data.\n",
    "You can also use the bare `LDA` model which does not make these assumptions and allows using a different metric in the transformed space, see the docs for details."
   ]
  },
  {
   "cell_type": "code",
   "execution_count": 31,
   "metadata": {},
   "outputs": [
    {
     "name": "stdout",
     "output_type": "stream",
     "text": [
      "import MLJMultivariateStatsInterface ✔\n"
     ]
    },
    {
     "name": "stderr",
     "output_type": "stream",
     "text": [
      "┌ Info: For silent loading, specify `verbosity=0`. \n",
      "└ @ Main /home/juan/.julia/packages/MLJModels/ziReN/src/loading.jl:159\n",
      "┌ Info: Training machine(LDA(method = gevd, …), …).\n",
      "└ @ MLJBase /home/juan/.julia/packages/MLJBase/7nGJF/src/machines.jl:499\n"
     ]
    },
    {
     "data": {
      "text/plain": [
       "0.548"
      ]
     },
     "metadata": {},
     "output_type": "display_data"
    }
   ],
   "source": [
    "LDA = @load LDA pkg=MultivariateStats\n",
    "\n",
    "\n",
    "classif = machine(LDA(dist=CosineDist()), X3, y)\n",
    "fit!(classif, rows=train)\n",
    "ŷ = predict_mode(classif, rows=test)\n",
    "\n",
    "accuracy(ŷ, y[test]) |> r3"
   ]
  },
  {
   "cell_type": "markdown",
   "metadata": {},
   "source": [
    "### QDA\n",
    "\n",
    "Bayesian QDA is available via ScikitLearn:"
   ]
  },
  {
   "cell_type": "code",
   "execution_count": 23,
   "metadata": {},
   "outputs": [
    {
     "name": "stderr",
     "output_type": "stream",
     "text": [
      "┌ Info: For silent loading, specify `verbosity=0`. \n",
      "└ @ Main /home/juan/.julia/packages/MLJModels/ziReN/src/loading.jl:159\n"
     ]
    },
    {
     "ename": "ArgumentError",
     "evalue": "ArgumentError: The package \"ScikitLearn\" does not appear to provide the model \"BayesianQDA\". \nUse models() to list all models. ",
     "output_type": "error",
     "traceback": [
      "ArgumentError: The package \"ScikitLearn\" does not appear to provide the model \"BayesianQDA\". \n",
      "Use models() to list all models. \n",
      "\n",
      "Stacktrace:\n",
      " [1] handle(name::String; pkg::String, interactive::Bool)\n",
      "   @ MLJModels ~/.julia/packages/MLJModels/ziReN/src/model_search.jl:116\n",
      " [2] handle\n",
      "   @ ~/.julia/packages/MLJModels/ziReN/src/model_search.jl:97 [inlined]\n",
      " [3] info(name::String; kwargs::@Kwargs{pkg::String, interactive::Bool})\n",
      "   @ MLJModels ~/.julia/packages/MLJModels/ziReN/src/model_search.jl:154\n",
      " [4] top-level scope\n",
      "   @ ~/.julia/packages/MLJModels/ziReN/src/loading.jl:160"
     ]
    }
   ],
   "source": [
    "BayesianQDA = @load BayesianQDA pkg=ScikitLearn"
   ]
  },
  {
   "cell_type": "markdown",
   "metadata": {},
   "source": [
    "Using it is done in much the same way as before:"
   ]
  },
  {
   "cell_type": "code",
   "execution_count": 24,
   "metadata": {},
   "outputs": [
    {
     "ename": "UndefVarError",
     "evalue": "UndefVarError: `BayesianQDA` not defined in `Main`\nSuggestion: check for spelling errors or missing imports.",
     "output_type": "error",
     "traceback": [
      "UndefVarError: `BayesianQDA` not defined in `Main`\n",
      "Suggestion: check for spelling errors or missing imports.\n",
      "\n",
      "Stacktrace:\n",
      " [1] top-level scope\n",
      "   @ /hm2/code/julia/LearnMLJ/jl_notebook_cell_df34fa98e69747e1a8f8a730347b8e2f_X66sZmlsZQ==.jl:1"
     ]
    }
   ],
   "source": [
    "classif = machine(BayesianQDA(), X3, y)\n",
    "fit!(classif, rows=train)\n",
    "ŷ = predict_mode(classif, rows=test)\n",
    "\n",
    "accuracy(ŷ, y[test]) |> r3"
   ]
  },
  {
   "cell_type": "markdown",
   "metadata": {},
   "source": [
    "### KNN\n",
    "\n",
    "We can use K-Nearest Neighbors models via the [`NearestNeighbors`](https://github.com/KristofferC/NearestNeighbors.jl) package:"
   ]
  },
  {
   "cell_type": "code",
   "execution_count": 23,
   "metadata": {},
   "outputs": [
    {
     "name": "stdout",
     "output_type": "stream",
     "text": [
      "import NearestNeighborModels ✔"
     ]
    },
    {
     "name": "stderr",
     "output_type": "stream",
     "text": [
      "┌ Info: For silent loading, specify `verbosity=0`. \n",
      "└ @ Main /home/juan/.julia/packages/MLJModels/ziReN/src/loading.jl:159\n"
     ]
    },
    {
     "name": "stdout",
     "output_type": "stream",
     "text": [
      "\n"
     ]
    },
    {
     "name": "stderr",
     "output_type": "stream",
     "text": [
      "┌ Info: Training machine(KNNClassifier(K = 1, …), …).\n",
      "└ @ MLJBase /home/juan/.julia/packages/MLJBase/7nGJF/src/machines.jl:499\n"
     ]
    },
    {
     "data": {
      "text/plain": [
       "0.5"
      ]
     },
     "metadata": {},
     "output_type": "display_data"
    }
   ],
   "source": [
    "KNNClassifier = @load KNNClassifier\n",
    "\n",
    "knnc = KNNClassifier(K=1)\n",
    "classif = machine(knnc, X3, y)\n",
    "fit!(classif, rows=train)\n",
    "ŷ = predict_mode(classif, rows=test)\n",
    "accuracy(ŷ, y[test]) |> r3"
   ]
  },
  {
   "cell_type": "markdown",
   "metadata": {},
   "source": [
    "Pretty bad... let's try with three neighbors"
   ]
  },
  {
   "cell_type": "code",
   "execution_count": 33,
   "metadata": {},
   "outputs": [
    {
     "name": "stderr",
     "output_type": "stream",
     "text": [
      "┌ Info: Updating machine(KNNClassifier(K = 3, …), …).\n",
      "└ @ MLJBase /home/juan/.julia/packages/MLJBase/7nGJF/src/machines.jl:500\n"
     ]
    },
    {
     "data": {
      "text/plain": [
       "0.532"
      ]
     },
     "metadata": {},
     "output_type": "display_data"
    }
   ],
   "source": [
    "knnc.K = 3\n",
    "fit!(classif, rows=train)\n",
    "ŷ = predict_mode(classif, rows=test)\n",
    "accuracy(ŷ, y[test]) |> r3"
   ]
  },
  {
   "cell_type": "markdown",
   "metadata": {},
   "source": [
    "A bit better but not hugely so."
   ]
  },
  {
   "cell_type": "markdown",
   "metadata": {},
   "source": [
    "## Caravan insurance data\n",
    "\n",
    "The caravan dataset is part of ISLR as well:"
   ]
  },
  {
   "cell_type": "code",
   "execution_count": 34,
   "metadata": {},
   "outputs": [
    {
     "data": {
      "text/plain": [
       "(5822, 86)"
      ]
     },
     "metadata": {},
     "output_type": "display_data"
    }
   ],
   "source": [
    "caravan  = dataset(\"ISLR\", \"Caravan\")\n",
    "size(caravan)"
   ]
  },
  {
   "cell_type": "markdown",
   "metadata": {},
   "source": [
    "The target variable is `Purchase`, effectively  a categorical"
   ]
  },
  {
   "cell_type": "code",
   "execution_count": 35,
   "metadata": {},
   "outputs": [
    {
     "data": {
      "text/plain": [
       "2-element Vector{String}:\n",
       " \"No\"\n",
       " \"Yes\""
      ]
     },
     "metadata": {},
     "output_type": "display_data"
    }
   ],
   "source": [
    "purchase = caravan.Purchase\n",
    "vals     = unique(purchase)"
   ]
  },
  {
   "cell_type": "markdown",
   "metadata": {},
   "source": [
    "Let's see how many of each we have"
   ]
  },
  {
   "cell_type": "code",
   "execution_count": 36,
   "metadata": {},
   "outputs": [
    {
     "name": "stdout",
     "output_type": "stream",
     "text": [
      "#No 5474\n",
      "#Yes 348\n"
     ]
    }
   ],
   "source": [
    "nl1 = sum(purchase .== vals[1])\n",
    "nl2 = sum(purchase .== vals[2])\n",
    "println(\"#$(vals[1]) \", nl1)\n",
    "println(\"#$(vals[2]) \", nl2)"
   ]
  },
  {
   "cell_type": "markdown",
   "metadata": {},
   "source": [
    "we can also visualise this as was done before:"
   ]
  },
  {
   "cell_type": "code",
   "execution_count": 30,
   "metadata": {},
   "outputs": [
    {
     "data": {
      "text/plain": [
       "PyObject Text(0, 0.5, 'Number of occurences')"
      ]
     },
     "metadata": {},
     "output_type": "display_data"
    }
   ],
   "source": [
    "figure(figsize=(8,6))\n",
    "cm = countmap(purchase)\n",
    "PyPlot.bar([1, 2], [cm[\"No\"], cm[\"Yes\"]])\n",
    "xticks([1, 2], [\"No\", \"Yes\"], fontsize=12)\n",
    "yticks(fontsize=12)\n",
    "ylabel(\"Number of occurences\", fontsize=14)"
   ]
  },
  {
   "cell_type": "markdown",
   "metadata": {},
   "source": [
    "\\fig{ISL-lab-4-bal2.svg}"
   ]
  },
  {
   "cell_type": "markdown",
   "metadata": {},
   "source": [
    "that's quite unbalanced.\n",
    "\n",
    "Apart from the target, all other variables are numbers; we can standardize the data:"
   ]
  },
  {
   "cell_type": "code",
   "execution_count": 31,
   "metadata": {},
   "outputs": [
    {
     "name": "stderr",
     "output_type": "stream",
     "text": [
      "┌ Info: Training machine(Standardizer(features = Symbol[], …), …).\n",
      "└ @ MLJBase /home/juan/.julia/packages/MLJBase/7nGJF/src/machines.jl:499\n"
     ]
    },
    {
     "data": {
      "text/plain": [
       "1.0"
      ]
     },
     "metadata": {},
     "output_type": "display_data"
    }
   ],
   "source": [
    "y, X = unpack(caravan, ==(:Purchase), col->true)\n",
    "\n",
    "mstd = machine(Standardizer(), X)\n",
    "fit!(mstd)\n",
    "Xs = MLJ.transform(mstd, X)\n",
    "\n",
    "var(Xs[:,1]) |> r3"
   ]
  },
  {
   "cell_type": "markdown",
   "metadata": {},
   "source": [
    "**Note**: in MLJ, it is recommended to work with pipelines / networks when possible and not do \"step-by-step\" transformation and fitting of the data as this is more error prone. We do it here to stick to the ISL tutorial.\n",
    "\n",
    "We split the data in the first 1000 rows for testing and the rest for training:"
   ]
  },
  {
   "cell_type": "code",
   "execution_count": 32,
   "metadata": {},
   "outputs": [],
   "source": [
    "test = 1:1000\n",
    "train = last(test)+1:nrows(Xs);"
   ]
  },
  {
   "cell_type": "markdown",
   "metadata": {},
   "source": [
    "Let's now fit a KNN model and check the misclassification rate"
   ]
  },
  {
   "cell_type": "code",
   "execution_count": 33,
   "metadata": {},
   "outputs": [
    {
     "name": "stderr",
     "output_type": "stream",
     "text": [
      "┌ Info: Training machine(KNNClassifier(K = 3, …), …).\n",
      "└ @ MLJBase /home/juan/.julia/packages/MLJBase/7nGJF/src/machines.jl:499\n"
     ]
    },
    {
     "data": {
      "text/plain": [
       "0.925"
      ]
     },
     "metadata": {},
     "output_type": "display_data"
    }
   ],
   "source": [
    "classif = machine(KNNClassifier(K=3), Xs, y)\n",
    "fit!(classif, rows=train)\n",
    "ŷ = predict_mode(classif, rows=test)\n",
    "\n",
    "accuracy(ŷ, y[test]) |> r3"
   ]
  },
  {
   "cell_type": "markdown",
   "metadata": {},
   "source": [
    "that looks good but recall the problem is very unbalanced"
   ]
  },
  {
   "cell_type": "code",
   "execution_count": 34,
   "metadata": {},
   "outputs": [
    {
     "data": {
      "text/plain": [
       "0.059"
      ]
     },
     "metadata": {},
     "output_type": "display_data"
    }
   ],
   "source": [
    "mean(y[test] .!= \"No\") |> r3"
   ]
  },
  {
   "cell_type": "markdown",
   "metadata": {},
   "source": [
    "Let's fit a logistic classifier to this problem"
   ]
  },
  {
   "cell_type": "code",
   "execution_count": 35,
   "metadata": {},
   "outputs": [
    {
     "name": "stderr",
     "output_type": "stream",
     "text": [
      "┌ Info: Training machine(LogisticClassifier(lambda = 2.220446049250313e-16, …), …).\n",
      "└ @ MLJBase /home/juan/.julia/packages/MLJBase/7nGJF/src/machines.jl:499\n",
      "┌ Info: Solver: LBFGS{Optim.Options{Float64, Nothing}, @NamedTuple{}}\n",
      "│   optim_options: Optim.Options{Float64, Nothing}\n",
      "│   lbfgs_options: @NamedTuple{} NamedTuple()\n",
      "└ @ MLJLinearModels /home/juan/.julia/packages/MLJLinearModels/yYgtO/src/mlj/interface.jl:72\n"
     ]
    },
    {
     "data": {
      "text/plain": [
       "0.934"
      ]
     },
     "metadata": {},
     "output_type": "display_data"
    }
   ],
   "source": [
    "classif = machine(LogisticClassifier(), Xs, y)\n",
    "fit!(classif, rows=train)\n",
    "ŷ = predict_mode(classif, rows=test)\n",
    "\n",
    "accuracy(ŷ, y[test]) |> r3"
   ]
  },
  {
   "cell_type": "markdown",
   "metadata": {},
   "source": [
    "### ROC and AUC\n",
    "\n",
    "Since we have a probabilistic classifier, we can also check metrics that take _scores_ into account such as the area under the ROC curve (AUC):"
   ]
  },
  {
   "cell_type": "code",
   "execution_count": 36,
   "metadata": {},
   "outputs": [
    {
     "data": {
      "text/plain": [
       "0.7388551666996884"
      ]
     },
     "metadata": {},
     "output_type": "display_data"
    }
   ],
   "source": [
    "ŷ = MLJ.predict(classif, rows=test)\n",
    "\n",
    "auc(ŷ, y[test])"
   ]
  },
  {
   "cell_type": "markdown",
   "metadata": {},
   "source": [
    "We can also display the curve itself"
   ]
  },
  {
   "cell_type": "code",
   "execution_count": null,
   "metadata": {},
   "outputs": [
    {
     "name": "stderr",
     "output_type": "stream",
     "text": [
      "┌ Warning: Levels not explicitly ordered. Using the order [\"No\", \"Yes\"]. The \"positive\" level is Yes. \n",
      "└ @ StatisticalMeasures /home/juan/.julia/packages/StatisticalMeasures/UTtxb/src/roc.jl:28\n"
     ]
    },
    {
     "ename": "PyCall.PyError",
     "evalue": "PyError ($(Expr(:escape, :(ccall(#= /home/juan/.julia/packages/PyCall/1gn3u/src/pyfncall.jl:43 =# @pysym(:PyObject_Call), PyPtr, (PyPtr, PyPtr, PyPtr), o, pyargsptr, kw))))) <class 'ValueError'>\nValueError('Input could not be cast to an at-least-1D NumPy array')\n  File \"/usr/lib/python3/dist-packages/matplotlib/pyplot.py\", line 2748, in plot\n    return gca().plot(\n           ^^^^^^^^^^^\n  File \"/usr/lib/python3/dist-packages/matplotlib/axes/_axes.py\", line 1668, in plot\n    lines = [*self._get_lines(*args, data=data, **kwargs)]\n            ^^^^^^^^^^^^^^^^^^^^^^^^^^^^^^^^^^^^^^^^^^^^^^\n  File \"/usr/lib/python3/dist-packages/matplotlib/axes/_base.py\", line 311, in __call__\n    yield from self._plot_args(\n               ^^^^^^^^^^^^^^^^\n  File \"/usr/lib/python3/dist-packages/matplotlib/axes/_base.py\", line 496, in _plot_args\n    x, y = index_of(xy[-1])\n           ^^^^^^^^^^^^^^^^\n  File \"/usr/lib/python3/dist-packages/matplotlib/cbook/__init__.py\", line 1696, in index_of\n    raise ValueError('Input could not be cast to an at-least-1D NumPy array')\n",
     "output_type": "error",
     "traceback": [
      "PyError ($(Expr(:escape, :(ccall(#= /home/juan/.julia/packages/PyCall/1gn3u/src/pyfncall.jl:43 =# @pysym(:PyObject_Call), PyPtr, (PyPtr, PyPtr, PyPtr), o, pyargsptr, kw))))) <class 'ValueError'>\n",
      "ValueError('Input could not be cast to an at-least-1D NumPy array')\n",
      "  File \"/usr/lib/python3/dist-packages/matplotlib/pyplot.py\", line 2748, in plot\n",
      "    return gca().plot(\n",
      "           ^^^^^^^^^^^\n",
      "  File \"/usr/lib/python3/dist-packages/matplotlib/axes/_axes.py\", line 1668, in plot\n",
      "    lines = [*self._get_lines(*args, data=data, **kwargs)]\n",
      "            ^^^^^^^^^^^^^^^^^^^^^^^^^^^^^^^^^^^^^^^^^^^^^^\n",
      "  File \"/usr/lib/python3/dist-packages/matplotlib/axes/_base.py\", line 311, in __call__\n",
      "    yield from self._plot_args(\n",
      "               ^^^^^^^^^^^^^^^^\n",
      "  File \"/usr/lib/python3/dist-packages/matplotlib/axes/_base.py\", line 496, in _plot_args\n",
      "    x, y = index_of(xy[-1])\n",
      "           ^^^^^^^^^^^^^^^^\n",
      "  File \"/usr/lib/python3/dist-packages/matplotlib/cbook/__init__.py\", line 1696, in index_of\n",
      "    raise ValueError('Input could not be cast to an at-least-1D NumPy array')\n",
      "\n",
      "\n",
      "Stacktrace:\n",
      "  [1] pyerr_check\n",
      "    @ ~/.julia/packages/PyCall/1gn3u/src/exception.jl:75 [inlined]\n",
      "  [2] pyerr_check\n",
      "    @ ~/.julia/packages/PyCall/1gn3u/src/exception.jl:79 [inlined]\n",
      "  [3] _handle_error(msg::String)\n",
      "    @ PyCall ~/.julia/packages/PyCall/1gn3u/src/exception.jl:96\n",
      "  [4] macro expansion\n",
      "    @ ~/.julia/packages/PyCall/1gn3u/src/exception.jl:110 [inlined]\n",
      "  [5] #107\n",
      "    @ ~/.julia/packages/PyCall/1gn3u/src/pyfncall.jl:43 [inlined]\n",
      "  [6] disable_sigint\n",
      "    @ ./c.jl:167 [inlined]\n",
      "  [7] __pycall!\n",
      "    @ ~/.julia/packages/PyCall/1gn3u/src/pyfncall.jl:42 [inlined]\n",
      "  [8] _pycall!(ret::PyCall.PyObject, o::PyCall.PyObject, args::Tuple{Tuple{Vector{Float64}, Vector{Float64}, Vector{Float64}}}, nargs::Int64, kw::PyCall.PyObject)\n",
      "    @ PyCall ~/.julia/packages/PyCall/1gn3u/src/pyfncall.jl:29\n",
      "  [9] _pycall!\n",
      "    @ ~/.julia/packages/PyCall/1gn3u/src/pyfncall.jl:11 [inlined]\n",
      " [10] pycall(o::PyCall.PyObject, ::Type{PyCall.PyAny}, args::Tuple{Vector{Float64}, Vector{Float64}, Vector{Float64}}; kwargs::@Kwargs{legend::Bool})\n",
      "    @ PyCall ~/.julia/packages/PyCall/1gn3u/src/pyfncall.jl:83\n",
      " [11] pycall\n",
      "    @ ~/.julia/packages/PyCall/1gn3u/src/pyfncall.jl:83 [inlined]\n",
      " [12] #plot#86\n",
      "    @ ~/.julia/packages/PyPlot/rWSdf/src/PyPlot.jl:194 [inlined]\n",
      " [13] top-level scope\n",
      "    @ /hm2/code/julia/LearnMLJ/jl_notebook_cell_df34fa98e69747e1a8f8a730347b8e2f_Y136sZmlsZQ==.jl:21"
     ]
    }
   ],
   "source": [
    "\n",
    "### The original cell tries to use ROC, a function not added into any of the Julia packages.\n",
    "### I found a ROC at the URL Below, but unfortunately that pkg/function is not in any of the Julia registries.\n",
    "##  Therefore I prefer not using it. \n",
    "\n",
    "## after that I tried  \n",
    "# import Pkg; using Pkg; Pkg.add(\"roc\")\n",
    "## Added ROC via Pkg mng REPL\n",
    "## Pkg.add(\"https://github.com/diegozea/ROC.jl\");\n",
    "# using roc\n",
    "\n",
    "# I found that MLJBase has a functionm named roc_curve that looks like it is what the cell needs\n",
    "\n",
    "\n",
    "using MLJBase\n",
    "\n",
    "# Assuming you have predictions and true labels\n",
    "# roc_curve_data = roc_curve(predictions, true_labels) \n",
    "\n",
    "rc = roc_curve( ŷ, y[test])\n",
    "plt=plot(rc, legend=false)\n",
    "\n",
    "\n",
    "#fpr = roc_curve_data.NO\n",
    "#tpr = roc_curve_data.YES\n",
    "\n",
    "\n",
    "# Calculate AUC\n",
    "#auc_value = auc(roc_curve_data) \n",
    "\n",
    "\n",
    "# fprs, tprs, thresholds = roc(ŷ, y[test])\n",
    "#figure(figsize=(8,6))\n",
    "#plot(fprs, tprs)\n",
    "\n",
    "#xlabel(\"False Positive Rate\", fontsize=14)\n",
    "#ylabel(\"True Positive Rate\", fontsize=14)\n",
    "#xticks(fontsize=12)\n",
    "#yticks(fontsize=12)"
   ]
  },
  {
   "cell_type": "markdown",
   "metadata": {},
   "source": [
    "\\figalt{ROC}{ISL-lab-4-roc.svg}"
   ]
  },
  {
   "cell_type": "markdown",
   "metadata": {},
   "source": [
    "---\n",
    "\n",
    "*This notebook was generated using [Literate.jl](https://github.com/fredrikekre/Literate.jl).*"
   ]
  }
 ],
 "metadata": {
  "kernelspec": {
   "display_name": "Julia 1.11.1",
   "language": "julia",
   "name": "julia-1.11"
  },
  "language_info": {
   "file_extension": ".jl",
   "mimetype": "application/julia",
   "name": "julia",
   "version": "1.11.1"
  }
 },
 "nbformat": 4,
 "nbformat_minor": 3
}
