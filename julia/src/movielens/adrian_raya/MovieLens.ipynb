{
 "cells": [
  {
   "cell_type": "code",
   "execution_count": 1,
   "id": "43691032-6183-4758-81dd-10accdcb6632",
   "metadata": {},
   "outputs": [],
   "source": [
    "import Pkg\n",
    "using CSV\n",
    "using DataFrames\n",
    "using Base.Threads\n",
    "using Statistics"
   ]
  },
  {
   "cell_type": "code",
   "execution_count": 2,
   "id": "b39526f1-4329-4ee6-8d1f-0f18dbc49d7c",
   "metadata": {},
   "outputs": [
    {
     "data": {
      "text/html": [
       "<div><div style = \"float: left;\"><span>25000095×4 DataFrame</span></div><div style = \"float: right;\"><span style = \"font-style: italic;\">25000070 rows omitted</span></div><div style = \"clear: both;\"></div></div><div class = \"data-frame\" style = \"overflow-x: scroll;\"><table class = \"data-frame\" style = \"margin-bottom: 6px;\"><thead><tr class = \"header\"><th class = \"rowNumber\" style = \"font-weight: bold; text-align: right;\">Row</th><th style = \"text-align: left;\">userId</th><th style = \"text-align: left;\">movieId</th><th style = \"text-align: left;\">rating</th><th style = \"text-align: left;\">timestamp</th></tr><tr class = \"subheader headerLastRow\"><th class = \"rowNumber\" style = \"font-weight: bold; text-align: right;\"></th><th title = \"Int64\" style = \"text-align: left;\">Int64</th><th title = \"Int64\" style = \"text-align: left;\">Int64</th><th title = \"Float64\" style = \"text-align: left;\">Float64</th><th title = \"Int64\" style = \"text-align: left;\">Int64</th></tr></thead><tbody><tr><td class = \"rowNumber\" style = \"font-weight: bold; text-align: right;\">1</td><td style = \"text-align: right;\">1</td><td style = \"text-align: right;\">296</td><td style = \"text-align: right;\">5.0</td><td style = \"text-align: right;\">1147880044</td></tr><tr><td class = \"rowNumber\" style = \"font-weight: bold; text-align: right;\">2</td><td style = \"text-align: right;\">1</td><td style = \"text-align: right;\">306</td><td style = \"text-align: right;\">3.5</td><td style = \"text-align: right;\">1147868817</td></tr><tr><td class = \"rowNumber\" style = \"font-weight: bold; text-align: right;\">3</td><td style = \"text-align: right;\">1</td><td style = \"text-align: right;\">307</td><td style = \"text-align: right;\">5.0</td><td style = \"text-align: right;\">1147868828</td></tr><tr><td class = \"rowNumber\" style = \"font-weight: bold; text-align: right;\">4</td><td style = \"text-align: right;\">1</td><td style = \"text-align: right;\">665</td><td style = \"text-align: right;\">5.0</td><td style = \"text-align: right;\">1147878820</td></tr><tr><td class = \"rowNumber\" style = \"font-weight: bold; text-align: right;\">5</td><td style = \"text-align: right;\">1</td><td style = \"text-align: right;\">899</td><td style = \"text-align: right;\">3.5</td><td style = \"text-align: right;\">1147868510</td></tr><tr><td class = \"rowNumber\" style = \"font-weight: bold; text-align: right;\">6</td><td style = \"text-align: right;\">1</td><td style = \"text-align: right;\">1088</td><td style = \"text-align: right;\">4.0</td><td style = \"text-align: right;\">1147868495</td></tr><tr><td class = \"rowNumber\" style = \"font-weight: bold; text-align: right;\">7</td><td style = \"text-align: right;\">1</td><td style = \"text-align: right;\">1175</td><td style = \"text-align: right;\">3.5</td><td style = \"text-align: right;\">1147868826</td></tr><tr><td class = \"rowNumber\" style = \"font-weight: bold; text-align: right;\">8</td><td style = \"text-align: right;\">1</td><td style = \"text-align: right;\">1217</td><td style = \"text-align: right;\">3.5</td><td style = \"text-align: right;\">1147878326</td></tr><tr><td class = \"rowNumber\" style = \"font-weight: bold; text-align: right;\">9</td><td style = \"text-align: right;\">1</td><td style = \"text-align: right;\">1237</td><td style = \"text-align: right;\">5.0</td><td style = \"text-align: right;\">1147868839</td></tr><tr><td class = \"rowNumber\" style = \"font-weight: bold; text-align: right;\">10</td><td style = \"text-align: right;\">1</td><td style = \"text-align: right;\">1250</td><td style = \"text-align: right;\">4.0</td><td style = \"text-align: right;\">1147868414</td></tr><tr><td class = \"rowNumber\" style = \"font-weight: bold; text-align: right;\">11</td><td style = \"text-align: right;\">1</td><td style = \"text-align: right;\">1260</td><td style = \"text-align: right;\">3.5</td><td style = \"text-align: right;\">1147877857</td></tr><tr><td class = \"rowNumber\" style = \"font-weight: bold; text-align: right;\">12</td><td style = \"text-align: right;\">1</td><td style = \"text-align: right;\">1653</td><td style = \"text-align: right;\">4.0</td><td style = \"text-align: right;\">1147868097</td></tr><tr><td class = \"rowNumber\" style = \"font-weight: bold; text-align: right;\">13</td><td style = \"text-align: right;\">1</td><td style = \"text-align: right;\">2011</td><td style = \"text-align: right;\">2.5</td><td style = \"text-align: right;\">1147868079</td></tr><tr><td style = \"text-align: right;\">&vellip;</td><td style = \"text-align: right;\">&vellip;</td><td style = \"text-align: right;\">&vellip;</td><td style = \"text-align: right;\">&vellip;</td><td style = \"text-align: right;\">&vellip;</td></tr><tr><td class = \"rowNumber\" style = \"font-weight: bold; text-align: right;\">25000084</td><td style = \"text-align: right;\">162541</td><td style = \"text-align: right;\">8905</td><td style = \"text-align: right;\">3.0</td><td style = \"text-align: right;\">1240949310</td></tr><tr><td class = \"rowNumber\" style = \"font-weight: bold; text-align: right;\">25000085</td><td style = \"text-align: right;\">162541</td><td style = \"text-align: right;\">8961</td><td style = \"text-align: right;\">4.0</td><td style = \"text-align: right;\">1240953338</td></tr><tr><td class = \"rowNumber\" style = \"font-weight: bold; text-align: right;\">25000086</td><td style = \"text-align: right;\">162541</td><td style = \"text-align: right;\">8983</td><td style = \"text-align: right;\">4.5</td><td style = \"text-align: right;\">1240953211</td></tr><tr><td class = \"rowNumber\" style = \"font-weight: bold; text-align: right;\">25000087</td><td style = \"text-align: right;\">162541</td><td style = \"text-align: right;\">31658</td><td style = \"text-align: right;\">4.5</td><td style = \"text-align: right;\">1240953287</td></tr><tr><td class = \"rowNumber\" style = \"font-weight: bold; text-align: right;\">25000088</td><td style = \"text-align: right;\">162541</td><td style = \"text-align: right;\">33794</td><td style = \"text-align: right;\">4.0</td><td style = \"text-align: right;\">1240951792</td></tr><tr><td class = \"rowNumber\" style = \"font-weight: bold; text-align: right;\">25000089</td><td style = \"text-align: right;\">162541</td><td style = \"text-align: right;\">41566</td><td style = \"text-align: right;\">4.0</td><td style = \"text-align: right;\">1240952749</td></tr><tr><td class = \"rowNumber\" style = \"font-weight: bold; text-align: right;\">25000090</td><td style = \"text-align: right;\">162541</td><td style = \"text-align: right;\">45517</td><td style = \"text-align: right;\">4.5</td><td style = \"text-align: right;\">1240953353</td></tr><tr><td class = \"rowNumber\" style = \"font-weight: bold; text-align: right;\">25000091</td><td style = \"text-align: right;\">162541</td><td style = \"text-align: right;\">50872</td><td style = \"text-align: right;\">4.5</td><td style = \"text-align: right;\">1240953372</td></tr><tr><td class = \"rowNumber\" style = \"font-weight: bold; text-align: right;\">25000092</td><td style = \"text-align: right;\">162541</td><td style = \"text-align: right;\">55768</td><td style = \"text-align: right;\">2.5</td><td style = \"text-align: right;\">1240951998</td></tr><tr><td class = \"rowNumber\" style = \"font-weight: bold; text-align: right;\">25000093</td><td style = \"text-align: right;\">162541</td><td style = \"text-align: right;\">56176</td><td style = \"text-align: right;\">2.0</td><td style = \"text-align: right;\">1240950697</td></tr><tr><td class = \"rowNumber\" style = \"font-weight: bold; text-align: right;\">25000094</td><td style = \"text-align: right;\">162541</td><td style = \"text-align: right;\">58559</td><td style = \"text-align: right;\">4.0</td><td style = \"text-align: right;\">1240953434</td></tr><tr><td class = \"rowNumber\" style = \"font-weight: bold; text-align: right;\">25000095</td><td style = \"text-align: right;\">162541</td><td style = \"text-align: right;\">63876</td><td style = \"text-align: right;\">5.0</td><td style = \"text-align: right;\">1240952515</td></tr></tbody></table></div>"
      ],
      "text/latex": [
       "\\begin{tabular}{r|cccc}\n",
       "\t& userId & movieId & rating & timestamp\\\\\n",
       "\t\\hline\n",
       "\t& Int64 & Int64 & Float64 & Int64\\\\\n",
       "\t\\hline\n",
       "\t1 & 1 & 296 & 5.0 & 1147880044 \\\\\n",
       "\t2 & 1 & 306 & 3.5 & 1147868817 \\\\\n",
       "\t3 & 1 & 307 & 5.0 & 1147868828 \\\\\n",
       "\t4 & 1 & 665 & 5.0 & 1147878820 \\\\\n",
       "\t5 & 1 & 899 & 3.5 & 1147868510 \\\\\n",
       "\t6 & 1 & 1088 & 4.0 & 1147868495 \\\\\n",
       "\t7 & 1 & 1175 & 3.5 & 1147868826 \\\\\n",
       "\t8 & 1 & 1217 & 3.5 & 1147878326 \\\\\n",
       "\t9 & 1 & 1237 & 5.0 & 1147868839 \\\\\n",
       "\t10 & 1 & 1250 & 4.0 & 1147868414 \\\\\n",
       "\t11 & 1 & 1260 & 3.5 & 1147877857 \\\\\n",
       "\t12 & 1 & 1653 & 4.0 & 1147868097 \\\\\n",
       "\t13 & 1 & 2011 & 2.5 & 1147868079 \\\\\n",
       "\t14 & 1 & 2012 & 2.5 & 1147868068 \\\\\n",
       "\t15 & 1 & 2068 & 2.5 & 1147869044 \\\\\n",
       "\t16 & 1 & 2161 & 3.5 & 1147868609 \\\\\n",
       "\t17 & 1 & 2351 & 4.5 & 1147877957 \\\\\n",
       "\t18 & 1 & 2573 & 4.0 & 1147878923 \\\\\n",
       "\t19 & 1 & 2632 & 5.0 & 1147878248 \\\\\n",
       "\t20 & 1 & 2692 & 5.0 & 1147869100 \\\\\n",
       "\t21 & 1 & 2843 & 4.5 & 1147868891 \\\\\n",
       "\t22 & 1 & 3448 & 4.0 & 1147868480 \\\\\n",
       "\t23 & 1 & 3569 & 5.0 & 1147879603 \\\\\n",
       "\t24 & 1 & 3949 & 5.0 & 1147868678 \\\\\n",
       "\t25 & 1 & 4144 & 5.0 & 1147868898 \\\\\n",
       "\t26 & 1 & 4308 & 3.0 & 1147868534 \\\\\n",
       "\t27 & 1 & 4325 & 5.0 & 1147878122 \\\\\n",
       "\t28 & 1 & 4422 & 3.0 & 1147869048 \\\\\n",
       "\t29 & 1 & 4703 & 4.0 & 1147869223 \\\\\n",
       "\t30 & 1 & 4973 & 4.5 & 1147869080 \\\\\n",
       "\t$\\dots$ & $\\dots$ & $\\dots$ & $\\dots$ & $\\dots$ \\\\\n",
       "\\end{tabular}\n"
      ],
      "text/plain": [
       "\u001b[1m25000095×4 DataFrame\u001b[0m\n",
       "\u001b[1m      Row \u001b[0m│\u001b[1m userId \u001b[0m\u001b[1m movieId \u001b[0m\u001b[1m rating  \u001b[0m\u001b[1m timestamp  \u001b[0m\n",
       "          │\u001b[90m Int64  \u001b[0m\u001b[90m Int64   \u001b[0m\u001b[90m Float64 \u001b[0m\u001b[90m Int64      \u001b[0m\n",
       "──────────┼──────────────────────────────────────\n",
       "        1 │      1      296      5.0  1147880044\n",
       "        2 │      1      306      3.5  1147868817\n",
       "        3 │      1      307      5.0  1147868828\n",
       "        4 │      1      665      5.0  1147878820\n",
       "        5 │      1      899      3.5  1147868510\n",
       "        6 │      1     1088      4.0  1147868495\n",
       "        7 │      1     1175      3.5  1147868826\n",
       "        8 │      1     1217      3.5  1147878326\n",
       "        9 │      1     1237      5.0  1147868839\n",
       "       10 │      1     1250      4.0  1147868414\n",
       "       11 │      1     1260      3.5  1147877857\n",
       "    ⋮     │   ⋮        ⋮        ⋮         ⋮\n",
       " 25000086 │ 162541     8983      4.5  1240953211\n",
       " 25000087 │ 162541    31658      4.5  1240953287\n",
       " 25000088 │ 162541    33794      4.0  1240951792\n",
       " 25000089 │ 162541    41566      4.0  1240952749\n",
       " 25000090 │ 162541    45517      4.5  1240953353\n",
       " 25000091 │ 162541    50872      4.5  1240953372\n",
       " 25000092 │ 162541    55768      2.5  1240951998\n",
       " 25000093 │ 162541    56176      2.0  1240950697\n",
       " 25000094 │ 162541    58559      4.0  1240953434\n",
       " 25000095 │ 162541    63876      5.0  1240952515\n",
       "\u001b[36m                            25000074 rows omitted\u001b[0m"
      ]
     },
     "execution_count": 2,
     "metadata": {},
     "output_type": "execute_result"
    }
   ],
   "source": [
    "# Paso 1: Leer el archivo CSV\n",
    "df_movies = CSV.read(\"C:\\\\Users\\\\PC\\\\Downloads\\\\ml-25m\\\\ml-25m\\\\movies.csv\", DataFrame)\n",
    "df_ratings = CSV.read(\"C:\\\\Users\\\\PC\\\\Downloads\\\\ml-25m\\\\ml-25m\\\\ratings.csv\", DataFrame)"
   ]
  },
  {
   "cell_type": "code",
   "execution_count": 19,
   "id": "cb693d3d-40a1-4e50-ad2a-52f075d560bf",
   "metadata": {},
   "outputs": [
    {
     "data": {
      "text/plain": [
       "dividir_raitings_en_partes_iguales (generic function with 1 method)"
      ]
     },
     "execution_count": 19,
     "metadata": {},
     "output_type": "execute_result"
    }
   ],
   "source": [
    "# Paso 2: Dividir el DataFrame en 8 partes\n",
    "function dividir_raitings_en_partes_iguales(num_partes, df_ratings)\n",
    "    partes = [df_ratings[(i-1)*div(end, num_partes)+1:min(i*div(end, num_partes), end), :] for i in 1:num_partes-1]\n",
    "    push!(partes, df_ratings[(num_partes-1)*div(size(df_ratings,1),num_partes):size(df_ratings,1),: ])\n",
    "    return partes\n",
    "end\n",
    "#dividir_raitings_en_partes_iguales(6, df_ratings)"
   ]
  },
  {
   "cell_type": "code",
   "execution_count": 4,
   "id": "bcdeb713-7d2b-4c74-98b1-9996dbbf0c9e",
   "metadata": {},
   "outputs": [
    {
     "data": {
      "text/plain": [
       "movies_exploded_function (generic function with 1 method)"
      ]
     },
     "execution_count": 4,
     "metadata": {},
     "output_type": "execute_result"
    }
   ],
   "source": [
    "# Paso 3: Separar el archivo movies\n",
    "function movies_exploded_function(df_movies)\n",
    "    df_movies.genre_list = map(x -> split(x, \"|\"), df_movies.genres)\n",
    "    convert(Vector{Vector{String}}, df_movies.genre_list)\n",
    "    lista_genero = []\n",
    "    lista_movieId = []\n",
    "    for i  in 1:size(df_movies,1)\n",
    "        for j in 1:size(df_movies.genre_list[i:i][1],1)\n",
    "            push!(lista_genero, df_movies.genre_list[i:i][1][j])\n",
    "            push!(lista_movieId, df_movies.movieId[i:i][1])\n",
    "        end\n",
    "    end\n",
    "    movies_exploded = DataFrame(movieId = lista_movieId, genre = lista_genero)\n",
    "    return movies_exploded\n",
    "end\n",
    "#movies_exploded = movies_exploded_function(df_movies)"
   ]
  },
  {
   "cell_type": "code",
   "execution_count": 13,
   "id": "2bfc67ce-9e51-4f33-899d-0ea7f9577c23",
   "metadata": {},
   "outputs": [
    {
     "data": {
      "text/plain": [
       "procesar (generic function with 2 methods)"
      ]
     },
     "execution_count": 13,
     "metadata": {},
     "output_type": "execute_result"
    }
   ],
   "source": [
    "# Paso 4: Crear funciones que haran el proceso\n",
    "\n",
    "function ratings_per_genre_function(parte, movies_exploded)\n",
    "    movies_ratings = innerjoin(movies_exploded, parte, on=:movieId)\n",
    "    ratings_per_genre = combine(groupby(movies_ratings, :genre), nrow => :rating_count, :rating => mean)\n",
    "    return ratings_per_genre\n",
    "end\n",
    "\n",
    "# Función de procesamiento\n",
    "function procesar(parte, movies_exploded)\n",
    "    ratings_per_genre_function(parte, movies_exploded)\n",
    "end\n",
    "\n"
   ]
  },
  {
   "cell_type": "code",
   "execution_count": 15,
   "id": "59dfd5f4-11be-4aa3-9780-93f860f5584b",
   "metadata": {},
   "outputs": [
    {
     "data": {
      "text/plain": [
       "multihilos (generic function with 2 methods)"
      ]
     },
     "execution_count": 15,
     "metadata": {},
     "output_type": "execute_result"
    }
   ],
   "source": [
    "# Paso 5: Procesar en multihilos\n",
    "function multihilos(num_partes, partes, movies_exploded)\n",
    "    resultados = Vector{Any}(undef, num_partes)\n",
    "    Threads.@threads for i in 1:num_partes\n",
    "        resultados[i] = procesar(partes[i], movies_exploded)\n",
    "    end\n",
    "    return resultados\n",
    "end\n",
    "#resultados = multihilos(num_partes, partes)\n",
    "# Mostrar resultados\n",
    "#println(resultados)"
   ]
  },
  {
   "cell_type": "code",
   "execution_count": 24,
   "id": "629839fb-79be-4cbf-944a-66b5fbfac5ca",
   "metadata": {},
   "outputs": [
    {
     "data": {
      "text/plain": [
       "combinar_partes_procesadas (generic function with 2 methods)"
      ]
     },
     "execution_count": 24,
     "metadata": {},
     "output_type": "execute_result"
    }
   ],
   "source": [
    "# Paso 6: Combinar las 8 partes procesadas\n",
    "function combinar_partes_procesadas(resultados, num_partes)\n",
    "    combined_df = resultados[1]\n",
    "    for i in 2:num_partes\n",
    "        combined_df = vcat(combined_df, resultados[i])\n",
    "    end\n",
    "    combined_df = combine(groupby(combined_df, :genre), :rating_count => sum, :rating_mean => mean)\n",
    "    combined_df = sort(combined_df, :genre)\n",
    "    return combined_df\n",
    "end"
   ]
  },
  {
   "cell_type": "code",
   "execution_count": 47,
   "id": "7424be8a-cae4-49b0-8ee3-90ff30618119",
   "metadata": {
    "collapsed": true,
    "jupyter": {
     "outputs_hidden": true
    }
   },
   "outputs": [
    {
     "data": {
      "text/html": [
       "<div><div style = \"float: left;\"><span>20×3 DataFrame</span></div><div style = \"clear: both;\"></div></div><div class = \"data-frame\" style = \"overflow-x: scroll;\"><table class = \"data-frame\" style = \"margin-bottom: 6px;\"><thead><tr class = \"header\"><th class = \"rowNumber\" style = \"font-weight: bold; text-align: right;\">Row</th><th style = \"text-align: left;\">genre</th><th style = \"text-align: left;\">rating_count_sum</th><th style = \"text-align: left;\">rating_mean_mean</th></tr><tr class = \"subheader headerLastRow\"><th class = \"rowNumber\" style = \"font-weight: bold; text-align: right;\"></th><th title = \"Any\" style = \"text-align: left;\">Any</th><th title = \"Int64\" style = \"text-align: left;\">Int64</th><th title = \"Float64\" style = \"text-align: left;\">Float64</th></tr></thead><tbody><tr><td class = \"rowNumber\" style = \"font-weight: bold; text-align: right;\">1</td><td style = \"text-align: left;\">(no genres listed)</td><td style = \"text-align: right;\">26627</td><td style = \"text-align: right;\">3.3289</td></tr><tr><td class = \"rowNumber\" style = \"font-weight: bold; text-align: right;\">2</td><td style = \"text-align: left;\">Action</td><td style = \"text-align: right;\">7446917</td><td style = \"text-align: right;\">3.46659</td></tr><tr><td class = \"rowNumber\" style = \"font-weight: bold; text-align: right;\">3</td><td style = \"text-align: left;\">Adventure</td><td style = \"text-align: right;\">5832423</td><td style = \"text-align: right;\">3.51744</td></tr><tr><td class = \"rowNumber\" style = \"font-weight: bold; text-align: right;\">4</td><td style = \"text-align: left;\">Animation</td><td style = \"text-align: right;\">1630984</td><td style = \"text-align: right;\">3.61495</td></tr><tr><td class = \"rowNumber\" style = \"font-weight: bold; text-align: right;\">5</td><td style = \"text-align: left;\">Children</td><td style = \"text-align: right;\">2124254</td><td style = \"text-align: right;\">3.43251</td></tr><tr><td class = \"rowNumber\" style = \"font-weight: bold; text-align: right;\">6</td><td style = \"text-align: left;\">Comedy</td><td style = \"text-align: right;\">8926227</td><td style = \"text-align: right;\">3.424</td></tr><tr><td class = \"rowNumber\" style = \"font-weight: bold; text-align: right;\">7</td><td style = \"text-align: left;\">Crime</td><td style = \"text-align: right;\">4190258</td><td style = \"text-align: right;\">3.68504</td></tr><tr><td class = \"rowNumber\" style = \"font-weight: bold; text-align: right;\">8</td><td style = \"text-align: left;\">Documentary</td><td style = \"text-align: right;\">322449</td><td style = \"text-align: right;\">3.70506</td></tr><tr><td class = \"rowNumber\" style = \"font-weight: bold; text-align: right;\">9</td><td style = \"text-align: left;\">Drama</td><td style = \"text-align: right;\">10962830</td><td style = \"text-align: right;\">3.67719</td></tr><tr><td class = \"rowNumber\" style = \"font-weight: bold; text-align: right;\">10</td><td style = \"text-align: left;\">Fantasy</td><td style = \"text-align: right;\">2831584</td><td style = \"text-align: right;\">3.51158</td></tr><tr><td class = \"rowNumber\" style = \"font-weight: bold; text-align: right;\">11</td><td style = \"text-align: left;\">Film-Noir</td><td style = \"text-align: right;\">247227</td><td style = \"text-align: right;\">3.9257</td></tr><tr><td class = \"rowNumber\" style = \"font-weight: bold; text-align: right;\">12</td><td style = \"text-align: left;\">Horror</td><td style = \"text-align: right;\">1892183</td><td style = \"text-align: right;\">3.29363</td></tr><tr><td class = \"rowNumber\" style = \"font-weight: bold; text-align: right;\">13</td><td style = \"text-align: left;\">IMAX</td><td style = \"text-align: right;\">1063278</td><td style = \"text-align: right;\">3.60372</td></tr><tr><td class = \"rowNumber\" style = \"font-weight: bold; text-align: right;\">14</td><td style = \"text-align: left;\">Musical</td><td style = \"text-align: right;\">964252</td><td style = \"text-align: right;\">3.55473</td></tr><tr><td class = \"rowNumber\" style = \"font-weight: bold; text-align: right;\">15</td><td style = \"text-align: left;\">Mystery</td><td style = \"text-align: right;\">2010995</td><td style = \"text-align: right;\">3.67017</td></tr><tr><td class = \"rowNumber\" style = \"font-weight: bold; text-align: right;\">16</td><td style = \"text-align: left;\">Romance</td><td style = \"text-align: right;\">4497291</td><td style = \"text-align: right;\">3.54272</td></tr><tr><td class = \"rowNumber\" style = \"font-weight: bold; text-align: right;\">17</td><td style = \"text-align: left;\">Sci-Fi</td><td style = \"text-align: right;\">4325740</td><td style = \"text-align: right;\">3.47812</td></tr><tr><td class = \"rowNumber\" style = \"font-weight: bold; text-align: right;\">18</td><td style = \"text-align: left;\">Thriller</td><td style = \"text-align: right;\">6763272</td><td style = \"text-align: right;\">3.52296</td></tr><tr><td class = \"rowNumber\" style = \"font-weight: bold; text-align: right;\">19</td><td style = \"text-align: left;\">War</td><td style = \"text-align: right;\">1267346</td><td style = \"text-align: right;\">3.79147</td></tr><tr><td class = \"rowNumber\" style = \"font-weight: bold; text-align: right;\">20</td><td style = \"text-align: left;\">Western</td><td style = \"text-align: right;\">483731</td><td style = \"text-align: right;\">3.58575</td></tr></tbody></table></div>"
      ],
      "text/latex": [
       "\\begin{tabular}{r|ccc}\n",
       "\t& genre & rating\\_count\\_sum & rating\\_mean\\_mean\\\\\n",
       "\t\\hline\n",
       "\t& Any & Int64 & Float64\\\\\n",
       "\t\\hline\n",
       "\t1 & (no genres listed) & 26627 & 3.3289 \\\\\n",
       "\t2 & Action & 7446917 & 3.46659 \\\\\n",
       "\t3 & Adventure & 5832423 & 3.51744 \\\\\n",
       "\t4 & Animation & 1630984 & 3.61495 \\\\\n",
       "\t5 & Children & 2124254 & 3.43251 \\\\\n",
       "\t6 & Comedy & 8926227 & 3.424 \\\\\n",
       "\t7 & Crime & 4190258 & 3.68504 \\\\\n",
       "\t8 & Documentary & 322449 & 3.70506 \\\\\n",
       "\t9 & Drama & 10962830 & 3.67719 \\\\\n",
       "\t10 & Fantasy & 2831584 & 3.51158 \\\\\n",
       "\t11 & Film-Noir & 247227 & 3.9257 \\\\\n",
       "\t12 & Horror & 1892183 & 3.29363 \\\\\n",
       "\t13 & IMAX & 1063278 & 3.60372 \\\\\n",
       "\t14 & Musical & 964252 & 3.55473 \\\\\n",
       "\t15 & Mystery & 2010995 & 3.67017 \\\\\n",
       "\t16 & Romance & 4497291 & 3.54272 \\\\\n",
       "\t17 & Sci-Fi & 4325740 & 3.47812 \\\\\n",
       "\t18 & Thriller & 6763272 & 3.52296 \\\\\n",
       "\t19 & War & 1267346 & 3.79147 \\\\\n",
       "\t20 & Western & 483731 & 3.58575 \\\\\n",
       "\\end{tabular}\n"
      ],
      "text/plain": [
       "\u001b[1m20×3 DataFrame\u001b[0m\n",
       "\u001b[1m Row \u001b[0m│\u001b[1m genre              \u001b[0m\u001b[1m rating_count_sum \u001b[0m\u001b[1m rating_mean_mean \u001b[0m\n",
       "     │\u001b[90m Any                \u001b[0m\u001b[90m Int64            \u001b[0m\u001b[90m Float64          \u001b[0m\n",
       "─────┼────────────────────────────────────────────────────────\n",
       "   1 │ (no genres listed)             26627           3.3289\n",
       "   2 │ Action                       7446917           3.46659\n",
       "   3 │ Adventure                    5832423           3.51744\n",
       "   4 │ Animation                    1630984           3.61495\n",
       "   5 │ Children                     2124254           3.43251\n",
       "   6 │ Comedy                       8926227           3.424\n",
       "   7 │ Crime                        4190258           3.68504\n",
       "   8 │ Documentary                   322449           3.70506\n",
       "   9 │ Drama                       10962830           3.67719\n",
       "  10 │ Fantasy                      2831584           3.51158\n",
       "  11 │ Film-Noir                     247227           3.9257\n",
       "  12 │ Horror                       1892183           3.29363\n",
       "  13 │ IMAX                         1063278           3.60372\n",
       "  14 │ Musical                       964252           3.55473\n",
       "  15 │ Mystery                      2010995           3.67017\n",
       "  16 │ Romance                      4497291           3.54272\n",
       "  17 │ Sci-Fi                       4325740           3.47812\n",
       "  18 │ Thriller                     6763272           3.52296\n",
       "  19 │ War                          1267346           3.79147\n",
       "  20 │ Western                       483731           3.58575"
      ]
     },
     "execution_count": 47,
     "metadata": {},
     "output_type": "execute_result"
    }
   ],
   "source": [
    "combinar_partes_procesadas(resultados)"
   ]
  },
  {
   "cell_type": "code",
   "execution_count": 25,
   "id": "ee56c761-aa6b-40b2-955e-d75f09f13d30",
   "metadata": {},
   "outputs": [
    {
     "data": {
      "text/plain": [
       "movie_lens (generic function with 1 method)"
      ]
     },
     "execution_count": 25,
     "metadata": {},
     "output_type": "execute_result"
    }
   ],
   "source": [
    "function movie_lens(num_partes, df_movies, df_ratings)\n",
    "    t0 = time()\n",
    "    partes = dividir_raitings_en_partes_iguales(num_partes, df_ratings)\n",
    "    movies_exploded = movies_exploded_function(df_movies)\n",
    "    resultados = multihilos(num_partes, partes, movies_exploded)\n",
    "    combined_df = combinar_partes_procesadas(resultados, num_partes)\n",
    "    t1 = time()\n",
    "    println(\"tiempo de ejecución: \", t1-t0)\n",
    "    return combined_df\n",
    "end"
   ]
  },
  {
   "cell_type": "code",
   "execution_count": 26,
   "id": "9ab39c35-7a80-401c-95d2-662d414c95dd",
   "metadata": {},
   "outputs": [
    {
     "name": "stdout",
     "output_type": "stream",
     "text": [
      "tiempo de ejecución: 16.07100009918213\n"
     ]
    },
    {
     "data": {
      "text/html": [
       "<div><div style = \"float: left;\"><span>20×3 DataFrame</span></div><div style = \"clear: both;\"></div></div><div class = \"data-frame\" style = \"overflow-x: scroll;\"><table class = \"data-frame\" style = \"margin-bottom: 6px;\"><thead><tr class = \"header\"><th class = \"rowNumber\" style = \"font-weight: bold; text-align: right;\">Row</th><th style = \"text-align: left;\">genre</th><th style = \"text-align: left;\">rating_count_sum</th><th style = \"text-align: left;\">rating_mean_mean</th></tr><tr class = \"subheader headerLastRow\"><th class = \"rowNumber\" style = \"font-weight: bold; text-align: right;\"></th><th title = \"Any\" style = \"text-align: left;\">Any</th><th title = \"Int64\" style = \"text-align: left;\">Int64</th><th title = \"Float64\" style = \"text-align: left;\">Float64</th></tr></thead><tbody><tr><td class = \"rowNumber\" style = \"font-weight: bold; text-align: right;\">1</td><td style = \"text-align: left;\">(no genres listed)</td><td style = \"text-align: right;\">26627</td><td style = \"text-align: right;\">3.32945</td></tr><tr><td class = \"rowNumber\" style = \"font-weight: bold; text-align: right;\">2</td><td style = \"text-align: left;\">Action</td><td style = \"text-align: right;\">7446918</td><td style = \"text-align: right;\">3.46658</td></tr><tr><td class = \"rowNumber\" style = \"font-weight: bold; text-align: right;\">3</td><td style = \"text-align: left;\">Adventure</td><td style = \"text-align: right;\">5832424</td><td style = \"text-align: right;\">3.51743</td></tr><tr><td class = \"rowNumber\" style = \"font-weight: bold; text-align: right;\">4</td><td style = \"text-align: left;\">Animation</td><td style = \"text-align: right;\">1630987</td><td style = \"text-align: right;\">3.61494</td></tr><tr><td class = \"rowNumber\" style = \"font-weight: bold; text-align: right;\">5</td><td style = \"text-align: left;\">Children</td><td style = \"text-align: right;\">2124258</td><td style = \"text-align: right;\">3.43249</td></tr><tr><td class = \"rowNumber\" style = \"font-weight: bold; text-align: right;\">6</td><td style = \"text-align: left;\">Comedy</td><td style = \"text-align: right;\">8926230</td><td style = \"text-align: right;\">3.424</td></tr><tr><td class = \"rowNumber\" style = \"font-weight: bold; text-align: right;\">7</td><td style = \"text-align: left;\">Crime</td><td style = \"text-align: right;\">4190260</td><td style = \"text-align: right;\">3.68504</td></tr><tr><td class = \"rowNumber\" style = \"font-weight: bold; text-align: right;\">8</td><td style = \"text-align: left;\">Documentary</td><td style = \"text-align: right;\">322449</td><td style = \"text-align: right;\">3.7054</td></tr><tr><td class = \"rowNumber\" style = \"font-weight: bold; text-align: right;\">9</td><td style = \"text-align: left;\">Drama</td><td style = \"text-align: right;\">10962834</td><td style = \"text-align: right;\">3.67719</td></tr><tr><td class = \"rowNumber\" style = \"font-weight: bold; text-align: right;\">10</td><td style = \"text-align: left;\">Fantasy</td><td style = \"text-align: right;\">2831585</td><td style = \"text-align: right;\">3.51157</td></tr><tr><td class = \"rowNumber\" style = \"font-weight: bold; text-align: right;\">11</td><td style = \"text-align: left;\">Film-Noir</td><td style = \"text-align: right;\">247227</td><td style = \"text-align: right;\">3.92572</td></tr><tr><td class = \"rowNumber\" style = \"font-weight: bold; text-align: right;\">12</td><td style = \"text-align: left;\">Horror</td><td style = \"text-align: right;\">1892183</td><td style = \"text-align: right;\">3.29361</td></tr><tr><td class = \"rowNumber\" style = \"font-weight: bold; text-align: right;\">13</td><td style = \"text-align: left;\">IMAX</td><td style = \"text-align: right;\">1063279</td><td style = \"text-align: right;\">3.60369</td></tr><tr><td class = \"rowNumber\" style = \"font-weight: bold; text-align: right;\">14</td><td style = \"text-align: left;\">Musical</td><td style = \"text-align: right;\">964252</td><td style = \"text-align: right;\">3.55473</td></tr><tr><td class = \"rowNumber\" style = \"font-weight: bold; text-align: right;\">15</td><td style = \"text-align: left;\">Mystery</td><td style = \"text-align: right;\">2010995</td><td style = \"text-align: right;\">3.67016</td></tr><tr><td class = \"rowNumber\" style = \"font-weight: bold; text-align: right;\">16</td><td style = \"text-align: left;\">Romance</td><td style = \"text-align: right;\">4497291</td><td style = \"text-align: right;\">3.54273</td></tr><tr><td class = \"rowNumber\" style = \"font-weight: bold; text-align: right;\">17</td><td style = \"text-align: left;\">Sci-Fi</td><td style = \"text-align: right;\">4325740</td><td style = \"text-align: right;\">3.47811</td></tr><tr><td class = \"rowNumber\" style = \"font-weight: bold; text-align: right;\">18</td><td style = \"text-align: left;\">Thriller</td><td style = \"text-align: right;\">6763272</td><td style = \"text-align: right;\">3.52296</td></tr><tr><td class = \"rowNumber\" style = \"font-weight: bold; text-align: right;\">19</td><td style = \"text-align: left;\">War</td><td style = \"text-align: right;\">1267346</td><td style = \"text-align: right;\">3.79146</td></tr><tr><td class = \"rowNumber\" style = \"font-weight: bold; text-align: right;\">20</td><td style = \"text-align: left;\">Western</td><td style = \"text-align: right;\">483731</td><td style = \"text-align: right;\">3.58574</td></tr></tbody></table></div>"
      ],
      "text/latex": [
       "\\begin{tabular}{r|ccc}\n",
       "\t& genre & rating\\_count\\_sum & rating\\_mean\\_mean\\\\\n",
       "\t\\hline\n",
       "\t& Any & Int64 & Float64\\\\\n",
       "\t\\hline\n",
       "\t1 & (no genres listed) & 26627 & 3.32945 \\\\\n",
       "\t2 & Action & 7446918 & 3.46658 \\\\\n",
       "\t3 & Adventure & 5832424 & 3.51743 \\\\\n",
       "\t4 & Animation & 1630987 & 3.61494 \\\\\n",
       "\t5 & Children & 2124258 & 3.43249 \\\\\n",
       "\t6 & Comedy & 8926230 & 3.424 \\\\\n",
       "\t7 & Crime & 4190260 & 3.68504 \\\\\n",
       "\t8 & Documentary & 322449 & 3.7054 \\\\\n",
       "\t9 & Drama & 10962834 & 3.67719 \\\\\n",
       "\t10 & Fantasy & 2831585 & 3.51157 \\\\\n",
       "\t11 & Film-Noir & 247227 & 3.92572 \\\\\n",
       "\t12 & Horror & 1892183 & 3.29361 \\\\\n",
       "\t13 & IMAX & 1063279 & 3.60369 \\\\\n",
       "\t14 & Musical & 964252 & 3.55473 \\\\\n",
       "\t15 & Mystery & 2010995 & 3.67016 \\\\\n",
       "\t16 & Romance & 4497291 & 3.54273 \\\\\n",
       "\t17 & Sci-Fi & 4325740 & 3.47811 \\\\\n",
       "\t18 & Thriller & 6763272 & 3.52296 \\\\\n",
       "\t19 & War & 1267346 & 3.79146 \\\\\n",
       "\t20 & Western & 483731 & 3.58574 \\\\\n",
       "\\end{tabular}\n"
      ],
      "text/plain": [
       "\u001b[1m20×3 DataFrame\u001b[0m\n",
       "\u001b[1m Row \u001b[0m│\u001b[1m genre              \u001b[0m\u001b[1m rating_count_sum \u001b[0m\u001b[1m rating_mean_mean \u001b[0m\n",
       "     │\u001b[90m Any                \u001b[0m\u001b[90m Int64            \u001b[0m\u001b[90m Float64          \u001b[0m\n",
       "─────┼────────────────────────────────────────────────────────\n",
       "   1 │ (no genres listed)             26627           3.32945\n",
       "   2 │ Action                       7446918           3.46658\n",
       "   3 │ Adventure                    5832424           3.51743\n",
       "   4 │ Animation                    1630987           3.61494\n",
       "   5 │ Children                     2124258           3.43249\n",
       "   6 │ Comedy                       8926230           3.424\n",
       "   7 │ Crime                        4190260           3.68504\n",
       "   8 │ Documentary                   322449           3.7054\n",
       "   9 │ Drama                       10962834           3.67719\n",
       "  10 │ Fantasy                      2831585           3.51157\n",
       "  11 │ Film-Noir                     247227           3.92572\n",
       "  12 │ Horror                       1892183           3.29361\n",
       "  13 │ IMAX                         1063279           3.60369\n",
       "  14 │ Musical                       964252           3.55473\n",
       "  15 │ Mystery                      2010995           3.67016\n",
       "  16 │ Romance                      4497291           3.54273\n",
       "  17 │ Sci-Fi                       4325740           3.47811\n",
       "  18 │ Thriller                     6763272           3.52296\n",
       "  19 │ War                          1267346           3.79146\n",
       "  20 │ Western                       483731           3.58574"
      ]
     },
     "execution_count": 26,
     "metadata": {},
     "output_type": "execute_result"
    }
   ],
   "source": [
    "movie_lens(6, df_movies, df_ratings)"
   ]
  },
  {
   "cell_type": "code",
   "execution_count": null,
   "id": "79b27d07-7077-4632-aaf1-64d1ae04dadb",
   "metadata": {},
   "outputs": [],
   "source": []
  }
 ],
 "metadata": {
  "kernelspec": {
   "display_name": "Julia 1.11.1",
   "language": "julia",
   "name": "julia-1.11"
  },
  "language_info": {
   "file_extension": ".jl",
   "mimetype": "application/julia",
   "name": "julia",
   "version": "1.11.1"
  }
 },
 "nbformat": 4,
 "nbformat_minor": 5
}
