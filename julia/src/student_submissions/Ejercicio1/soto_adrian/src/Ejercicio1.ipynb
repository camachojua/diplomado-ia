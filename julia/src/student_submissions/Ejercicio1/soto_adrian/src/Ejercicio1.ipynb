{
 "cells": [
  {
   "cell_type": "markdown",
   "metadata": {},
   "source": [
    "# Exercise 1: Exploratory Data Analysis\n",
    "\n",
    "1. Ge the Calcofi data set form [https://www.kaggle.com/datasets/sohier/calcofi](https://www.kaggle.com/datasets/sohier/calcofi)\n",
    "2. Work with the `bottle.csv` data.\n",
    "3. Use Julia to clean it (See below)\n",
    "4. Use Julia to do the list of EDA tasks listed below\n",
    "5. Produce a report showing your code and your results\n",
    "6. Submit your project following the submission guidelines\n",
    "\n",
    "Insiht data and class description of the bottle.csv data\n",
    "* `dataShape`: to get shape of the data\n",
    "* `dataType`: gives data type of each column in the dataset\n",
    "* `count_missing(col)`: counts number of missing  data in a agive col (Column).\n",
    "* `dataMissingPercentage()`: finds missing percentage of each column.\n",
    "* `deletColumns(threshold)`: delete all the columns which have missing percent less than given threshold.\n",
    "* `calculateCorrelation()`: creates correlation matrix between columns.\n",
    "* `displayCorrelation()`: display correlation using heatmap\n",
    "* `removeOutliersIQR()`: using interquiartile range delete all the outliers from the numerical columns.\n",
    "* `deletRow(column)`: for a given column delete all the null data points.\n",
    "* `filterColumnsByCorrelation(target, thershold, relation)`: delete all the columns on the basis of thiven threshold ofr a target column and relation\n",
    "* `describe()`: it is used to describe data by giving following [sic] for each column"
   ]
  }
 ],
 "metadata": {
  "language_info": {
   "name": "python"
  }
 },
 "nbformat": 4,
 "nbformat_minor": 2
}
