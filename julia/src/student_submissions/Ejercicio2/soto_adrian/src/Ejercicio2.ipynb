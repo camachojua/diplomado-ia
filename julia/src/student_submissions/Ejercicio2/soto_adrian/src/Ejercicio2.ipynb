{
 "cells": [
  {
   "cell_type": "markdown",
   "metadata": {},
   "source": [
    "# Exercise 2: Regression\n",
    "\n",
    "[https://www.kaggle.com/datasets/sohier/calcofi](https://www.kaggle.com/datasets/sohier/calcofi)\n",
    "\n",
    "Use the `bottle.csv` data from the CalCofi dataset to determine the most important factors of T_degC\n",
    "\n",
    "1. Use the EDA you already have done in Julia\n",
    "2. Use Julia to do linear regressions combining different sets of independent variables until you find the combination that gives you better predictions\n",
    "3. Submit your project following the submittion Guidelines"
   ]
  },
  {
   "cell_type": "code",
   "execution_count": null,
   "metadata": {
    "vscode": {
     "languageId": "plaintext"
    }
   },
   "outputs": [],
   "source": []
  },
  {
   "cell_type": "code",
   "execution_count": null,
   "metadata": {
    "vscode": {
     "languageId": "julia"
    }
   },
   "outputs": [
    {
     "name": "stdout",
     "output_type": "stream",
     "text": [
      "Datos cargados correctamente.\n"
     ]
    }
   ],
   "source": [
    "# Importar bibliotecas necesarias\n",
    "using DataFrames\n",
    "using XLSX\n",
    "using StatsBase\n",
    "using Plots\n",
    "import CSV\n",
    "#using StatsPlots\n",
    "\n",
    "# Cargar el archivo\n",
    "#file_path = \"bottle_sample.xlsx\"\n",
    "file_path = \"DATA/Calcofi/bottle.csv\"\n",
    "#data = XLSX.readtable(file_path, \"Hoja1\")  # Cambiar \"Hoja1\" al nombre real de la hoja si es necesario\n",
    "df = DataFrame(CSV.File(file_path; normalizenames=true, stringtype=String))\n",
    "\n",
    "\n",
    "# Convertir a DataFrame\n",
    "df = DataFrame(df)\n",
    "println(\"Datos cargados correctamente.\")"
   ]
  },
  {
   "cell_type": "code",
   "execution_count": null,
   "metadata": {
    "vscode": {
     "languageId": "julia"
    }
   },
   "outputs": [
    {
     "name": "stdout",
     "output_type": "stream",
     "text": [
      "Nombres de las columnas después de limpiar:\n",
      "[\"Cst_Cnt\", \"Btl_Cnt\", \"Sta_ID\", \"Depth_ID\", \"Depthm\", \"T_degC\", \"Salnty\", \"O2ml_L\", \"STheta\", \"O2Sat\", \"Oxy_µmol_Kg\", \"BtlNum\", \"RecInd\", \"T_prec\", \"T_qual\", \"S_prec\", \"S_qual\", \"P_qual\", \"O_qual\", \"SThtaq\", \"O2Satq\", \"ChlorA\", \"Chlqua\", \"Phaeop\", \"Phaqua\", \"PO4uM\", \"PO4q\", \"SiO3uM\", \"SiO3qu\", \"NO2uM\", \"NO2q\", \"NO3uM\", \"NO3q\", \"NH3uM\", \"NH3q\", \"C14As1\", \"C14A1p\", \"C14A1q\", \"C14As2\", \"C14A2p\", \"C14A2q\", \"DarkAs\", \"DarkAp\", \"DarkAq\", \"MeanAs\", \"MeanAp\", \"MeanAq\", \"IncTim\", \"LightP\", \"R_Depth\", \"R_TEMP\", \"R_POTEMP\", \"R_SALINITY\", \"R_SIGMA\", \"R_SVA\", \"R_DYNHT\", \"R_O2\", \"R_O2Sat\", \"R_SIO3\", \"R_PO4\", \"R_NO3\", \"R_NO2\", \"R_NH4\", \"R_CHLA\", \"R_PHAEO\", \"R_PRES\", \"R_SAMP\", \"DIC1\", \"DIC2\", \"TA1\", \"TA2\", \"pH2\", \"pH1\", \"DIC_Quality_Comment\"]\n"
     ]
    }
   ],
   "source": [
    "using DataFrames\n",
    "using CSV\n",
    "using GLM\n",
    "using StatsBase\n",
    "using Combinatorics\n",
    "\n",
    "# Paso 1: Cargar el archivo de datos con opciones para manejar caracteres problemáticos\n",
    "#file_path = \"bottle_sample.xlsx\"\n",
    "file_path = \"DATA/Calcofi/bottle.csv\"\n",
    "\n",
    "# Intentar normalizar nombres y manejar datos con codificación problemática\n",
    "try\n",
    "    #df = DataFrame(XLSX.readtable(file_path, \"Hoja1\"))  # Cambiar \"Hoja1\" al nombre real de la hoja si es necesario\n",
    "    df = DataFrame(CSV.File(file_path; normalizenames=true, stringtype=String))\n",
    "    catch e\n",
    "    println(\"Error al cargar el archivo: $(e)\")\n",
    "    println(\"Intenta convertir el archivo a un formato CSV limpio o verifica la codificación.\")\n",
    "    return\n",
    "end\n",
    "\n",
    "# Limpiar nombres de columnas\n",
    "clean_names = [replace(col, r\"[^\\w]+\" => \"_\") for col in names(df)]\n",
    "rename!(df, Dict(names(df) .=> clean_names))\n",
    "\n",
    "println(\"Nombres de las columnas después de limpiar:\")\n",
    "println(names(df))\n",
    "\n",
    "# Paso 2: Limpieza y preparación de datos\n",
    "for col in names(df)\n",
    "    df[!, col] = [\n",
    "        isa(x, AbstractString) ? try parse(Float64, x) catch missing end :\n",
    "        (isa(x, Number) ? Float64(x) : missing)\n",
    "        for x in df[!, col]\n",
    "    ]\n",
    "end\n",
    "\n",
    "# Asegurarte de que la columna `T_degC` existe antes de continuar\n",
    "if \"T_degC\" ∉ names(df)\n",
    "    println(\"Error: La columna 'T_degC' no existe en el archivo después de la limpieza.\")\n",
    "    return\n",
    "end"
   ]
  },
  {
   "cell_type": "code",
   "execution_count": null,
   "metadata": {
    "vscode": {
     "languageId": "julia"
    }
   },
   "outputs": [
    {
     "data": {
      "text/plain": [
       "true"
      ]
     },
     "metadata": {},
     "output_type": "display_data"
    }
   ],
   "source": [
    "\"T_degC\" ∈  names(df)"
   ]
  },
  {
   "cell_type": "code",
   "execution_count": null,
   "metadata": {
    "vscode": {
     "languageId": "julia"
    }
   },
   "outputs": [
    {
     "name": "stdout",
     "output_type": "stream",
     "text": [
      "Matriz de correlación:\n",
      "[1.0 0.9993439435591516 -0.16565094745771503 0.0893291280990099 -0.10452452232921687 -0.16564826321900222 -0.16537795168162533; 0.9993439435591516 1.0 -0.16509880297936272 0.09011817438960189 -0.10520676211184322 -0.16509604413407358 -0.1648182246037856; -0.16565094745771503 -0.16509880297936272 1.0 -0.6812014451784331 0.08143846416836109 0.9999999972609181 0.9999939131726389; 0.0893291280990099 0.09011817438960189 -0.6812014451784331 1.0 -0.0665066519051583 -0.681199943358432 -0.6798516522321398; -0.10452452232921687 -0.10520676211184322 0.08143846416836109 -0.0665066519051583 1.0 0.08143972809859315 0.08130542469424724; -0.16564826321900222 -0.16509604413407358 0.9999999972609181 -0.681199943358432 0.08143972809859315 1.0 0.9999939206455185; -0.16537795168162533 -0.1648182246037856 0.9999939131726389 -0.6798516522321398 0.08130542469424724 0.9999939206455185 1.0]\n",
      "Variables seleccionadas:\n",
      "[\"Depthm\", \"RecInd\", \"R_Depth\", \"Btl_Cnt\", \"Cst_Cnt\"]\n",
      "Mejor modelo encontrado:\n",
      "StatsModels.TableRegressionModel{LinearModel{GLM.LmResp{Vector{Float64}}, GLM.DensePredChol{Float64, LinearAlgebra.CholeskyPivoted{Float64, Matrix{Float64}, Vector{Int64}}}}, Matrix{Float64}}\n",
      "\n",
      "T_degC ~ 1 + Depthm + RecInd + R_Depth + Btl_Cnt + Cst_Cnt\n",
      "\n",
      "Coefficients:\n",
      "──────────────────────────────────────────────────────────────────────────────────\n",
      "                   Coef.  Std. Error        t  Pr(>|t|)    Lower 95%     Upper 95%\n",
      "──────────────────────────────────────────────────────────────────────────────────\n",
      "(Intercept)  13.0048      0.0128418   1012.70    <1e-99  12.9796      13.03\n",
      "Depthm       -3.7297      0.143256     -26.04    <1e-99  -4.01048     -3.44892\n",
      "RecInd       -0.0298169   0.0018024    -16.54    <1e-60  -0.0333495   -0.0262842\n",
      "R_Depth       3.72053     0.143256      25.97    <1e-99   3.43975      4.00131\n",
      "Btl_Cnt       1.45115e-5  3.7121e-7     39.09    <1e-99   1.3784e-5    1.52391e-5\n",
      "Cst_Cnt      -0.00036447  9.05098e-6   -40.27    <1e-99  -0.00038221  -0.000346731\n",
      "──────────────────────────────────────────────────────────────────────────────────\n",
      "R² del mejor modelo: 0.46619648433864136\n"
     ]
    }
   ],
   "source": [
    "df = dropmissing(df, [:T_degC])\n",
    "\n",
    "# Paso 3: Inspeccionar la correlación para identificar posibles variables relevantes\n",
    "numeric_cols = filter(col -> eltype(df[!, col]) <: Number && !all(ismissing.(df[!, col])), names(df))\n",
    "numeric_df = select(df, numeric_cols)\n",
    "\n",
    "# Calcular la matriz de correlación\n",
    "correlation_matrix = cor(Matrix(numeric_df), dims=1)\n",
    "println(\"Matriz de correlación:\")\n",
    "println(correlation_matrix)\n",
    "\n",
    "# Paso 4: Selección inicial de variables independientes\n",
    "# Identificar las variables con mayor correlación con T_degC\n",
    "cor_with_target = [cor(numeric_df[:, col], numeric_df[:, \"T_degC\"]) for col in numeric_cols if col != \"T_degC\"]\n",
    "sorted_indices = sortperm(abs.(cor_with_target), rev=true)\n",
    "selected_vars = numeric_cols[sorted_indices[1:5]] # Seleccionar las 5 más correlacionadas\n",
    "println(\"Variables seleccionadas:\")\n",
    "println(selected_vars)\n",
    "\n",
    "# Paso 5: Crear modelos de regresión\n",
    "best_model = nothing\n",
    "best_r2 = -Inf\n",
    "\n",
    "for subset_size in 1:length(selected_vars)\n",
    "    for subset in combinations(selected_vars, subset_size)\n",
    "        try\n",
    "            # Crear fórmula dinámica\n",
    "            terms = join(subset, \" + \")\n",
    "            formula = @eval @formula(T_degC ~ $(Meta.parse(terms)))\n",
    "\n",
    "            # Ajustar el modelo lineal\n",
    "            model = lm(formula, df)\n",
    "\n",
    "            # Calcular R² manualmente\n",
    "            y_true = df[:, :T_degC]\n",
    "            y_pred = predict(model, df)\n",
    "            ss_total = sum((y_true .- mean(y_true)).^2)\n",
    "            ss_residual = sum((y_true .- y_pred).^2)\n",
    "            r2 = 1 - (ss_residual / ss_total)\n",
    "\n",
    "            # Comparar y actualizar el mejor modelo\n",
    "            if r2 > best_r2\n",
    "                best_model = model\n",
    "                best_r2 = r2\n",
    "            end\n",
    "        catch e\n",
    "            println(\"Error al ajustar modelo con variables: $subset. Error: $(e)\")\n",
    "        end\n",
    "    end\n",
    "end\n",
    "\n",
    "println(\"Mejor modelo encontrado:\")\n",
    "println(best_model)\n",
    "println(\"R² del mejor modelo: $best_r2\")"
   ]
  },
  {
   "cell_type": "code",
   "execution_count": null,
   "metadata": {
    "vscode": {
     "languageId": "julia"
    }
   },
   "outputs": [],
   "source": []
  }
 ],
 "metadata": {
  "language_info": {
   "name": "python"
  }
 },
 "nbformat": 4,
 "nbformat_minor": 2
}
