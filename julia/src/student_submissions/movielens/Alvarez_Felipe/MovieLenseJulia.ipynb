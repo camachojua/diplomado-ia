{
 "cells": [
  {
   "cell_type": "code",
   "execution_count": 16,
   "id": "ba0dec9b-b104-40c2-af97-390759e67a72",
   "metadata": {},
   "outputs": [],
   "source": [
    "using CSV\n",
    "using DataFrames\n",
    "using Base.Threads\n",
    "using Statistics"
   ]
  },
  {
   "cell_type": "code",
   "execution_count": 17,
   "id": "522b0d0b-cd91-4d7a-9365-7e67678c5f77",
   "metadata": {},
   "outputs": [
    {
     "data": {
      "text/plain": [
       "\"Done\""
      ]
     },
     "execution_count": 17,
     "metadata": {},
     "output_type": "execute_result"
    }
   ],
   "source": [
    "# Paso 1: Leer el archivo CSV\n",
    "df_movies = CSV.read(\"C:/Users/felip/Desktop/Julia/movies.csv\", DataFrame)\n",
    "df_ratings = CSV.read(\"C:/Users/felip/Desktop/Julia/ratings.csv\", DataFrame)\n",
    "\"Done\""
   ]
  },
  {
   "cell_type": "code",
   "execution_count": 18,
   "id": "5354d6e1-8a19-4017-8c71-833acc841cc0",
   "metadata": {
    "scrolled": true
   },
   "outputs": [
    {
     "data": {
      "text/plain": [
       "\"Done\""
      ]
     },
     "execution_count": 18,
     "metadata": {},
     "output_type": "execute_result"
    }
   ],
   "source": [
    "# Paso 2: Dividir el DataFrame en 8 partes\n",
    "num_partes = 8\n",
    "partes = [df_ratings[(i-1)*div(end, num_partes)+1:min(i*div(end, num_partes), end), :] for i in 1:num_partes]\n",
    "\"Done\""
   ]
  },
  {
   "cell_type": "code",
   "execution_count": 19,
   "id": "656ab8f7-92bc-4b72-ac49-aa21da0a296e",
   "metadata": {},
   "outputs": [
    {
     "data": {
      "text/plain": [
       "movies_exploded_function (generic function with 1 method)"
      ]
     },
     "execution_count": 19,
     "metadata": {},
     "output_type": "execute_result"
    }
   ],
   "source": [
    "#Definimos una función que haga un registro por cada género en una película\n",
    "function movies_exploded_function(df_movies)\n",
    "    df_movies.genre_list = map(x -> split(x, \"|\"), df_movies.genres)\n",
    "    convert(Vector{Vector{String}}, df_movies.genre_list)\n",
    "    lista_genero = []\n",
    "    lista_movieId = []\n",
    "    for i  in 1:size(df_movies,1)\n",
    "        for j in 1:size(df_movies.genre_list[i:i][1],1)\n",
    "            push!(lista_genero, df_movies.genre_list[i:i][1][j])\n",
    "            push!(lista_movieId, df_movies.movieId[i:i][1])\n",
    "        end\n",
    "    end\n",
    "    movies_exploded = DataFrame(movieId = lista_movieId, genre = lista_genero)\n",
    "    return movies_exploded\n",
    "end"
   ]
  },
  {
   "cell_type": "code",
   "execution_count": 20,
   "id": "f3e3d7b2-c9bf-4bf8-9fcd-c12141e4bde8",
   "metadata": {},
   "outputs": [
    {
     "data": {
      "text/plain": [
       "\"Done\""
      ]
     },
     "execution_count": 20,
     "metadata": {},
     "output_type": "execute_result"
    }
   ],
   "source": [
    "movies_exploded = movies_exploded_function(df_movies)\n",
    "\"Done\""
   ]
  },
  {
   "cell_type": "code",
   "execution_count": 21,
   "id": "68596eb2-5c3d-40ad-b209-152e1dd3c09e",
   "metadata": {},
   "outputs": [
    {
     "data": {
      "text/plain": [
       "ratings_per_genre_function (generic function with 1 method)"
      ]
     },
     "execution_count": 21,
     "metadata": {},
     "output_type": "execute_result"
    }
   ],
   "source": [
    "function ratings_per_genre_function(parte)\n",
    "    movies_ratings = innerjoin(movies_exploded, parte, on=:movieId)\n",
    "    ratings_per_genre = combine(groupby(movies_ratings, :genre), nrow => :rating_count, :rating => mean)\n",
    "    #ruta_csv = \"C:\\\\Users\\\\PC\\\\Desktop\\\\DiplomadoIA\\\\Julia\\\\parte_{}.csv\"\n",
    "    #CSV.write(ruta_csv, df)\n",
    "    return ratings_per_genre\n",
    "end"
   ]
  },
  {
   "cell_type": "code",
   "execution_count": 22,
   "id": "cee0c4b6-4fa7-4a1e-b8ee-ba7b91052577",
   "metadata": {},
   "outputs": [
    {
     "data": {
      "text/plain": [
       "procesar (generic function with 1 method)"
      ]
     },
     "execution_count": 22,
     "metadata": {},
     "output_type": "execute_result"
    }
   ],
   "source": [
    "# Función de procesamiento\n",
    "function procesar(parte)\n",
    "    ratings_per_genre_function(parte)\n",
    "end"
   ]
  },
  {
   "cell_type": "code",
   "execution_count": 23,
   "id": "40ea96cb-38ed-4d49-9877-a4e62f4a4a31",
   "metadata": {},
   "outputs": [
    {
     "name": "stdout",
     "output_type": "stream",
     "text": [
      "Any[\u001b[1m20×3 DataFrame\u001b[0m\n",
      "\u001b[1m Row \u001b[0m│\u001b[1m genre              \u001b[0m\u001b[1m rating_count \u001b[0m\u001b[1m rating_mean \u001b[0m\n",
      "     │\u001b[90m Any                \u001b[0m\u001b[90m Int64        \u001b[0m\u001b[90m Float64     \u001b[0m\n",
      "─────┼───────────────────────────────────────────────\n",
      "   1 │ Adventure                1013433      3.52717\n",
      "   2 │ Animation                 288363      3.61783\n",
      "   3 │ Children                  360205      3.43948\n",
      "   4 │ Comedy                   1480335      3.43585\n",
      "   5 │ Fantasy                   489383      3.51502\n",
      "   6 │ Action                   1290266      3.48191\n",
      "   7 │ Drama                    1844496      3.68893\n",
      "   8 │ War                       213418      3.79486\n",
      "   9 │ Sci-Fi                    762116      3.49705\n",
      "  10 │ Romance                   732387      3.54659\n",
      "  11 │ Musical                   154602      3.54506\n",
      "  12 │ Crime                     717000      3.69839\n",
      "  13 │ Thriller                 1155282      3.5362\n",
      "  14 │ Horror                    326520      3.31884\n",
      "  15 │ Mystery                   345848      3.6749\n",
      "  16 │ IMAX                      196908      3.60836\n",
      "  17 │ Western                    79942      3.60037\n",
      "  18 │ Documentary                53674      3.71646\n",
      "  19 │ Film-Noir                  40003      3.91361\n",
      "  20 │ (no genres listed)          6106      3.41492, \u001b[1m20×3 DataFrame\u001b[0m\n",
      "\u001b[1m Row \u001b[0m│\u001b[1m genre              \u001b[0m\u001b[1m rating_count \u001b[0m\u001b[1m rating_mean \u001b[0m\n",
      "     │\u001b[90m Any                \u001b[0m\u001b[90m Int64        \u001b[0m\u001b[90m Float64     \u001b[0m\n",
      "─────┼───────────────────────────────────────────────\n",
      "   1 │ Action                   1278723      3.4761\n",
      "   2 │ Thriller                 1149055      3.53104\n",
      "   3 │ Drama                    1851683      3.68337\n",
      "   4 │ Musical                   153041      3.54125\n",
      "   5 │ Adventure                1004360      3.52235\n",
      "   6 │ Sci-Fi                    754100      3.48535\n",
      "   7 │ Comedy                   1477833      3.42547\n",
      "   8 │ Fantasy                   486293      3.50981\n",
      "   9 │ Romance                   736295      3.54461\n",
      "  10 │ War                       213339      3.79527\n",
      "  11 │ Animation                 290435      3.61841\n",
      "  12 │ Children                  360470      3.4369\n",
      "  13 │ Western                    78994      3.59389\n",
      "  14 │ Crime                     712712      3.69587\n",
      "  15 │ Horror                    326046      3.29454\n",
      "  16 │ IMAX                      195041      3.601\n",
      "  17 │ Mystery                   344105      3.66998\n",
      "  18 │ Documentary                54900      3.69892\n",
      "  19 │ Film-Noir                  39905      3.92372\n",
      "  20 │ (no genres listed)          6967      3.43247, \u001b[1m20×3 DataFrame\u001b[0m\n",
      "\u001b[1m Row \u001b[0m│\u001b[1m genre              \u001b[0m\u001b[1m rating_count \u001b[0m\u001b[1m rating_mean \u001b[0m\n",
      "     │\u001b[90m Any                \u001b[0m\u001b[90m Int64        \u001b[0m\u001b[90m Float64     \u001b[0m\n",
      "─────┼───────────────────────────────────────────────\n",
      "   1 │ Action                   1286329      3.48749\n",
      "   2 │ Adventure                1011843      3.52989\n",
      "   3 │ Sci-Fi                    755827      3.50478\n",
      "   4 │ Horror                    323479      3.32694\n",
      "   5 │ Comedy                   1487078      3.43982\n",
      "   6 │ Drama                    1845396      3.69508\n",
      "   7 │ Romance                   733990      3.55195\n",
      "   8 │ War                       212259      3.80443\n",
      "   9 │ Animation                 291307      3.62145\n",
      "  10 │ Children                  363947      3.43918\n",
      "  11 │ Fantasy                   489652      3.51823\n",
      "  12 │ Crime                     714351      3.70606\n",
      "  13 │ Thriller                 1148927      3.54415\n",
      "  14 │ Mystery                   342651      3.6859\n",
      "  15 │ IMAX                      196144      3.60725\n",
      "  16 │ Musical                   155193      3.54597\n",
      "  17 │ Western                    78550      3.61391\n",
      "  18 │ Film-Noir                  39574      3.92606\n",
      "  19 │ Documentary                53862      3.71061\n",
      "  20 │ (no genres listed)          6532      3.42544, \u001b[1m20×3 DataFrame\u001b[0m\n",
      "\u001b[1m Row \u001b[0m│\u001b[1m genre              \u001b[0m\u001b[1m rating_count \u001b[0m\u001b[1m rating_mean \u001b[0m\n",
      "     │\u001b[90m Any                \u001b[0m\u001b[90m Int64        \u001b[0m\u001b[90m Float64     \u001b[0m\n",
      "─────┼───────────────────────────────────────────────\n",
      "   1 │ Comedy                   1487835      3.43782\n",
      "   2 │ Drama                    1849296      3.68406\n",
      "   3 │ Romance                   736742      3.5488\n",
      "   4 │ Sci-Fi                    758998      3.49689\n",
      "   5 │ Action                   1273996      3.48415\n",
      "   6 │ Animation                 294928      3.62061\n",
      "   7 │ Children                  364824      3.44417\n",
      "   8 │ IMAX                      196187      3.60941\n",
      "   9 │ Thriller                 1139361      3.53257\n",
      "  10 │ Adventure                1009422      3.5313\n",
      "  11 │ Fantasy                   489383      3.52169\n",
      "  12 │ Western                    78524      3.60739\n",
      "  13 │ Mystery                   343698      3.66944\n",
      "  14 │ Documentary                55961      3.69379\n",
      "  15 │ War                       211534      3.80233\n",
      "  16 │ Crime                     708111      3.69872\n",
      "  17 │ Film-Noir                  40082      3.91315\n",
      "  18 │ Horror                    322265      3.30488\n",
      "  19 │ Musical                   156730      3.55665\n",
      "  20 │ (no genres listed)          6845      3.40972, \u001b[1m20×3 DataFrame\u001b[0m\n",
      "\u001b[1m Row \u001b[0m│\u001b[1m genre              \u001b[0m\u001b[1m rating_count \u001b[0m\u001b[1m rating_mean \u001b[0m\n",
      "     │\u001b[90m Any                \u001b[0m\u001b[90m Int64        \u001b[0m\u001b[90m Float64     \u001b[0m\n",
      "─────┼───────────────────────────────────────────────\n",
      "   1 │ Action                   1265145      3.47605\n",
      "   2 │ Drama                    1849250      3.68145\n",
      "   3 │ Horror                    332150      3.28958\n",
      "   4 │ Thriller                 1140372      3.52723\n",
      "   5 │ Comedy                   1477283      3.42857\n",
      "   6 │ Romance                   730055      3.54606\n",
      "   7 │ Adventure                 997172      3.5243\n",
      "   8 │ Fantasy                   485823      3.51134\n",
      "   9 │ Animation                 288870      3.60987\n",
      "  10 │ Mystery                   343188      3.66907\n",
      "  11 │ Crime                     704192      3.69066\n",
      "  12 │ Children                  358998      3.4338\n",
      "  13 │ Sci-Fi                    749371      3.49171\n",
      "  14 │ Documentary                57595      3.6669\n",
      "  15 │ IMAX                      193982      3.61431\n",
      "  16 │ Musical                   153599      3.55013\n",
      "  17 │ War                       211312      3.79858\n",
      "  18 │ Western                    78337      3.58377\n",
      "  19 │ Film-Noir                  40008      3.91433\n",
      "  20 │ (no genres listed)          9209      3.28136, \u001b[1m20×3 DataFrame\u001b[0m\n",
      "\u001b[1m Row \u001b[0m│\u001b[1m genre              \u001b[0m\u001b[1m rating_count \u001b[0m\u001b[1m rating_mean \u001b[0m\n",
      "     │\u001b[90m Any                \u001b[0m\u001b[90m Int64        \u001b[0m\u001b[90m Float64     \u001b[0m\n",
      "─────┼───────────────────────────────────────────────\n",
      "   1 │ Drama                    1849881      3.67985\n",
      "   2 │ Romance                   731479      3.5453\n",
      "   3 │ Action                   1271025      3.4754\n",
      "   4 │ Crime                     709255      3.69091\n",
      "   5 │ Thriller                 1144524      3.5271\n",
      "   6 │ Comedy                   1476826      3.42375\n",
      "   7 │ Fantasy                   485509      3.51205\n",
      "   8 │ Adventure                1001329      3.52318\n",
      "   9 │ Horror                    330910      3.28517\n",
      "  10 │ Mystery                   342616      3.66845\n",
      "  11 │ Sci-Fi                    747522      3.49076\n",
      "  12 │ War                       212195      3.79136\n",
      "  13 │ Film-Noir                  40224      3.91265\n",
      "  14 │ Children                  363518      3.4304\n",
      "  15 │ IMAX                      192455      3.60879\n",
      "  16 │ Western                    79368      3.5755\n",
      "  17 │ Animation                 291892      3.61127\n",
      "  18 │ Documentary                57340      3.68115\n",
      "  19 │ Musical                   155820      3.54301\n",
      "  20 │ (no genres listed)          6913      3.3688, \u001b[1m20×3 DataFrame\u001b[0m\n",
      "\u001b[1m Row \u001b[0m│\u001b[1m genre              \u001b[0m\u001b[1m rating_count \u001b[0m\u001b[1m rating_mean \u001b[0m\n",
      "     │\u001b[90m Any                \u001b[0m\u001b[90m Int64        \u001b[0m\u001b[90m Float64     \u001b[0m\n",
      "─────┼───────────────────────────────────────────────\n",
      "   1 │ Adventure                1001303      3.51851\n",
      "   2 │ Animation                 290863      3.60365\n",
      "   3 │ Children                  362234      3.43092\n",
      "   4 │ Comedy                   1486887      3.42816\n",
      "   5 │ Sci-Fi                    748337      3.48851\n",
      "   6 │ Action                   1272658      3.47442\n",
      "   7 │ Drama                    1853990      3.68347\n",
      "   8 │ Romance                   738804      3.54583\n",
      "   9 │ War                       212673      3.79355\n",
      "  10 │ Crime                     713544      3.69484\n",
      "  11 │ Thriller                 1145333      3.5338\n",
      "  12 │ Film-Noir                  39832      3.90745\n",
      "  13 │ Mystery                   342868      3.67404\n",
      "  14 │ Western                    79389      3.5964\n",
      "  15 │ Musical                   154951      3.54601\n",
      "  16 │ Horror                    321704      3.31258\n",
      "  17 │ Fantasy                   483410      3.5089\n",
      "  18 │ IMAX                      193120      3.60055\n",
      "  19 │ Documentary                55254      3.68191\n",
      "  20 │ (no genres listed)          6622      3.28685, \u001b[1m20×3 DataFrame\u001b[0m\n",
      "\u001b[1m Row \u001b[0m│\u001b[1m genre              \u001b[0m\u001b[1m rating_count \u001b[0m\u001b[1m rating_mean \u001b[0m\n",
      "     │\u001b[90m Any                \u001b[0m\u001b[90m Int64        \u001b[0m\u001b[90m Float64     \u001b[0m\n",
      "─────┼───────────────────────────────────────────────\n",
      "   1 │ Children                  363764      3.44688\n",
      "   2 │ Comedy                   1486064      3.4383\n",
      "   3 │ Fantasy                   490477      3.51761\n",
      "   4 │ Musical                   155287      3.55649\n",
      "   5 │ Romance                   734779      3.54953\n",
      "   6 │ Drama                    1843047      3.69057\n",
      "   7 │ Sci-Fi                    755959      3.49975\n",
      "   8 │ Action                   1284001      3.48416\n",
      "   9 │ Thriller                 1145772      3.54042\n",
      "  10 │ Adventure                1010067      3.53122\n",
      "  11 │ Crime                     709416      3.70206\n",
      "  12 │ War                       210919      3.80035\n",
      "  13 │ Animation                 292908      3.62128\n",
      "  14 │ Horror                    327114      3.3243\n",
      "  15 │ Mystery                   343398      3.6805\n",
      "  16 │ Western                    78948      3.59409\n",
      "  17 │ IMAX                      196269      3.60524\n",
      "  18 │ Documentary                52514      3.69381\n",
      "  19 │ Film-Noir                  39289      3.91686\n",
      "  20 │ (no genres listed)          6865      3.40648]\n"
     ]
    }
   ],
   "source": [
    "# Paso 3: Procesar en multihilos\n",
    "resultados = Vector{Any}(undef, num_partes)\n",
    "Threads.@threads for i in 1:num_partes\n",
    "    resultados[i] = procesar(partes[i])\n",
    "end\n",
    "\n",
    "# Mostrar resultados\n",
    "println(resultados)"
   ]
  },
  {
   "cell_type": "code",
   "execution_count": 26,
   "id": "05a349a3-5003-4415-a90c-b354523645bd",
   "metadata": {},
   "outputs": [],
   "source": [
    "combined_df = resultados[1]\n",
    "for i in 2:num_partes\n",
    "    combined_df = vcat(combined_df, resultados[i])\n",
    "end"
   ]
  },
  {
   "cell_type": "code",
   "execution_count": 25,
   "id": "d5dc9ab3-ec78-412c-bd68-fdaa5419405a",
   "metadata": {},
   "outputs": [
    {
     "data": {
      "text/html": [
       "<div><div style = \"float: left;\"><span>20×3 DataFrame</span></div><div style = \"clear: both;\"></div></div><div class = \"data-frame\" style = \"overflow-x: scroll;\"><table class = \"data-frame\" style = \"margin-bottom: 6px;\"><thead><tr class = \"header\"><th class = \"rowNumber\" style = \"font-weight: bold; text-align: right;\">Row</th><th style = \"text-align: left;\">genre</th><th style = \"text-align: left;\">rating_count_sum</th><th style = \"text-align: left;\">rating_mean_mean</th></tr><tr class = \"subheader headerLastRow\"><th class = \"rowNumber\" style = \"font-weight: bold; text-align: right;\"></th><th title = \"Any\" style = \"text-align: left;\">Any</th><th title = \"Int64\" style = \"text-align: left;\">Int64</th><th title = \"Float64\" style = \"text-align: left;\">Float64</th></tr></thead><tbody><tr><td class = \"rowNumber\" style = \"font-weight: bold; text-align: right;\">1</td><td style = \"text-align: left;\">Adventure</td><td style = \"text-align: right;\">8048929</td><td style = \"text-align: right;\">3.52599</td></tr><tr><td class = \"rowNumber\" style = \"font-weight: bold; text-align: right;\">2</td><td style = \"text-align: left;\">Animation</td><td style = \"text-align: right;\">2329566</td><td style = \"text-align: right;\">3.61555</td></tr><tr><td class = \"rowNumber\" style = \"font-weight: bold; text-align: right;\">3</td><td style = \"text-align: left;\">Children</td><td style = \"text-align: right;\">2897960</td><td style = \"text-align: right;\">3.43772</td></tr><tr><td class = \"rowNumber\" style = \"font-weight: bold; text-align: right;\">4</td><td style = \"text-align: left;\">Comedy</td><td style = \"text-align: right;\">11860141</td><td style = \"text-align: right;\">3.43222</td></tr><tr><td class = \"rowNumber\" style = \"font-weight: bold; text-align: right;\">5</td><td style = \"text-align: left;\">Fantasy</td><td style = \"text-align: right;\">3899930</td><td style = \"text-align: right;\">3.51433</td></tr><tr><td class = \"rowNumber\" style = \"font-weight: bold; text-align: right;\">6</td><td style = \"text-align: left;\">Action</td><td style = \"text-align: right;\">10222143</td><td style = \"text-align: right;\">3.47996</td></tr><tr><td class = \"rowNumber\" style = \"font-weight: bold; text-align: right;\">7</td><td style = \"text-align: left;\">Drama</td><td style = \"text-align: right;\">14787039</td><td style = \"text-align: right;\">3.68585</td></tr><tr><td class = \"rowNumber\" style = \"font-weight: bold; text-align: right;\">8</td><td style = \"text-align: left;\">War</td><td style = \"text-align: right;\">1697649</td><td style = \"text-align: right;\">3.79759</td></tr><tr><td class = \"rowNumber\" style = \"font-weight: bold; text-align: right;\">9</td><td style = \"text-align: left;\">Sci-Fi</td><td style = \"text-align: right;\">6032230</td><td style = \"text-align: right;\">3.49435</td></tr><tr><td class = \"rowNumber\" style = \"font-weight: bold; text-align: right;\">10</td><td style = \"text-align: left;\">Romance</td><td style = \"text-align: right;\">5874531</td><td style = \"text-align: right;\">3.54733</td></tr><tr><td class = \"rowNumber\" style = \"font-weight: bold; text-align: right;\">11</td><td style = \"text-align: left;\">Musical</td><td style = \"text-align: right;\">1239223</td><td style = \"text-align: right;\">3.54807</td></tr><tr><td class = \"rowNumber\" style = \"font-weight: bold; text-align: right;\">12</td><td style = \"text-align: left;\">Crime</td><td style = \"text-align: right;\">5688581</td><td style = \"text-align: right;\">3.69719</td></tr><tr><td class = \"rowNumber\" style = \"font-weight: bold; text-align: right;\">13</td><td style = \"text-align: left;\">Thriller</td><td style = \"text-align: right;\">9168626</td><td style = \"text-align: right;\">3.53406</td></tr><tr><td class = \"rowNumber\" style = \"font-weight: bold; text-align: right;\">14</td><td style = \"text-align: left;\">Horror</td><td style = \"text-align: right;\">2610188</td><td style = \"text-align: right;\">3.3071</td></tr><tr><td class = \"rowNumber\" style = \"font-weight: bold; text-align: right;\">15</td><td style = \"text-align: left;\">Mystery</td><td style = \"text-align: right;\">2748372</td><td style = \"text-align: right;\">3.67403</td></tr><tr><td class = \"rowNumber\" style = \"font-weight: bold; text-align: right;\">16</td><td style = \"text-align: left;\">IMAX</td><td style = \"text-align: right;\">1560106</td><td style = \"text-align: right;\">3.60686</td></tr><tr><td class = \"rowNumber\" style = \"font-weight: bold; text-align: right;\">17</td><td style = \"text-align: left;\">Western</td><td style = \"text-align: right;\">632052</td><td style = \"text-align: right;\">3.59567</td></tr><tr><td class = \"rowNumber\" style = \"font-weight: bold; text-align: right;\">18</td><td style = \"text-align: left;\">Documentary</td><td style = \"text-align: right;\">441100</td><td style = \"text-align: right;\">3.69294</td></tr><tr><td class = \"rowNumber\" style = \"font-weight: bold; text-align: right;\">19</td><td style = \"text-align: left;\">Film-Noir</td><td style = \"text-align: right;\">318917</td><td style = \"text-align: right;\">3.91598</td></tr><tr><td class = \"rowNumber\" style = \"font-weight: bold; text-align: right;\">20</td><td style = \"text-align: left;\">(no genres listed)</td><td style = \"text-align: right;\">56059</td><td style = \"text-align: right;\">3.37825</td></tr></tbody></table></div>"
      ],
      "text/latex": [
       "\\begin{tabular}{r|ccc}\n",
       "\t& genre & rating\\_count\\_sum & rating\\_mean\\_mean\\\\\n",
       "\t\\hline\n",
       "\t& Any & Int64 & Float64\\\\\n",
       "\t\\hline\n",
       "\t1 & Adventure & 8048929 & 3.52599 \\\\\n",
       "\t2 & Animation & 2329566 & 3.61555 \\\\\n",
       "\t3 & Children & 2897960 & 3.43772 \\\\\n",
       "\t4 & Comedy & 11860141 & 3.43222 \\\\\n",
       "\t5 & Fantasy & 3899930 & 3.51433 \\\\\n",
       "\t6 & Action & 10222143 & 3.47996 \\\\\n",
       "\t7 & Drama & 14787039 & 3.68585 \\\\\n",
       "\t8 & War & 1697649 & 3.79759 \\\\\n",
       "\t9 & Sci-Fi & 6032230 & 3.49435 \\\\\n",
       "\t10 & Romance & 5874531 & 3.54733 \\\\\n",
       "\t11 & Musical & 1239223 & 3.54807 \\\\\n",
       "\t12 & Crime & 5688581 & 3.69719 \\\\\n",
       "\t13 & Thriller & 9168626 & 3.53406 \\\\\n",
       "\t14 & Horror & 2610188 & 3.3071 \\\\\n",
       "\t15 & Mystery & 2748372 & 3.67403 \\\\\n",
       "\t16 & IMAX & 1560106 & 3.60686 \\\\\n",
       "\t17 & Western & 632052 & 3.59567 \\\\\n",
       "\t18 & Documentary & 441100 & 3.69294 \\\\\n",
       "\t19 & Film-Noir & 318917 & 3.91598 \\\\\n",
       "\t20 & (no genres listed) & 56059 & 3.37825 \\\\\n",
       "\\end{tabular}\n"
      ],
      "text/plain": [
       "\u001b[1m20×3 DataFrame\u001b[0m\n",
       "\u001b[1m Row \u001b[0m│\u001b[1m genre              \u001b[0m\u001b[1m rating_count_sum \u001b[0m\u001b[1m rating_mean_mean \u001b[0m\n",
       "     │\u001b[90m Any                \u001b[0m\u001b[90m Int64            \u001b[0m\u001b[90m Float64          \u001b[0m\n",
       "─────┼────────────────────────────────────────────────────────\n",
       "   1 │ Adventure                    8048929           3.52599\n",
       "   2 │ Animation                    2329566           3.61555\n",
       "   3 │ Children                     2897960           3.43772\n",
       "   4 │ Comedy                      11860141           3.43222\n",
       "   5 │ Fantasy                      3899930           3.51433\n",
       "   6 │ Action                      10222143           3.47996\n",
       "   7 │ Drama                       14787039           3.68585\n",
       "   8 │ War                          1697649           3.79759\n",
       "   9 │ Sci-Fi                       6032230           3.49435\n",
       "  10 │ Romance                      5874531           3.54733\n",
       "  11 │ Musical                      1239223           3.54807\n",
       "  12 │ Crime                        5688581           3.69719\n",
       "  13 │ Thriller                     9168626           3.53406\n",
       "  14 │ Horror                       2610188           3.3071\n",
       "  15 │ Mystery                      2748372           3.67403\n",
       "  16 │ IMAX                         1560106           3.60686\n",
       "  17 │ Western                       632052           3.59567\n",
       "  18 │ Documentary                   441100           3.69294\n",
       "  19 │ Film-Noir                     318917           3.91598\n",
       "  20 │ (no genres listed)             56059           3.37825"
      ]
     },
     "execution_count": 25,
     "metadata": {},
     "output_type": "execute_result"
    }
   ],
   "source": [
    "combined_df = combine(groupby(combined_df, :genre), :rating_count => sum, :rating_mean => mean)"
   ]
  },
  {
   "cell_type": "code",
   "execution_count": null,
   "id": "7f2bf054-3406-4312-b827-4e4d23c601e5",
   "metadata": {},
   "outputs": [],
   "source": []
  }
 ],
 "metadata": {
  "kernelspec": {
   "display_name": "Julia 1.11.1",
   "language": "julia",
   "name": "julia-1.11"
  },
  "language_info": {
   "file_extension": ".jl",
   "mimetype": "application/julia",
   "name": "julia",
   "version": "1.11.1"
  }
 },
 "nbformat": 4,
 "nbformat_minor": 5
}
