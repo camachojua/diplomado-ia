{
 "cells": [
  {
   "cell_type": "markdown",
   "id": "bfa2890c",
   "metadata": {},
   "source": [
    "# Movie Lens"
   ]
  },
  {
   "cell_type": "markdown",
   "id": "b5965342",
   "metadata": {},
   "source": [
    "**Objetivo**: Implementar una metodología de procesamiento de grandes volúmenes de datos conocida como *map reduce* para distribuir el cómputo sobre varios procesadores."
   ]
  },
  {
   "cell_type": "code",
   "execution_count": 1,
   "id": "872b291f",
   "metadata": {},
   "outputs": [],
   "source": [
    "using Pkg\n",
    "#Pkg.add(\"CSV\")\n",
    "using CSV\n",
    "#Pkg.add(\"DataFrames\")\n",
    "using DataFrames\n",
    "#Pkg.add(\"BenchmarkTools\")\n",
    "using BenchmarkTools\n",
    "#Pkg.add(\"Parquet\")\n",
    "using Parquet\n",
    "#Pkg.add(\"Tables\")\n",
    "using Tables\n",
    "#Pkg.add(\"Printf\")\n",
    "using Printf\n",
    "#Pkg.add(\"PrettyTables\")\n",
    "using PrettyTables\n",
    "using Base.Threads"
   ]
  },
  {
   "cell_type": "code",
   "execution_count": 2,
   "id": "2b19c431",
   "metadata": {},
   "outputs": [
    {
     "data": {
      "text/plain": [
       "10"
      ]
     },
     "execution_count": 2,
     "metadata": {},
     "output_type": "execute_result"
    }
   ],
   "source": [
    "# set JULIA_NUM_THREADS = 10\n",
    "# Número de hilos\n",
    "nthreads()"
   ]
  },
  {
   "cell_type": "markdown",
   "id": "1f8305e3",
   "metadata": {},
   "source": [
    "### Partición del archivo ratings"
   ]
  },
  {
   "cell_type": "code",
   "execution_count": 3,
   "id": "c8bcc0a2",
   "metadata": {},
   "outputs": [],
   "source": [
    "#Lectura del CSV y conversión a Parquet\n",
    "ratings_data = CSV.read(\"ratings/ratings.csv\", DataFrame)\n",
    "Parquet.write_parquet(\"ratings/ratings.parquet\", ratings_data)\n",
    "\n",
    "movies_data = CSV.read(\"movies/movies.csv\", DataFrame)\n",
    "Parquet.write_parquet(\"movies/movies.parquet\", movies_data);"
   ]
  },
  {
   "cell_type": "code",
   "execution_count": 4,
   "id": "3c24eaac",
   "metadata": {},
   "outputs": [
    {
     "data": {
      "text/plain": [
       "SplitBigFile (generic function with 1 method)"
      ]
     },
     "execution_count": 4,
     "metadata": {},
     "output_type": "execute_result"
    }
   ],
   "source": [
    "function SplitBigFile(directory::String, file_name::String, partitions::Int)\n",
    "    \n",
    "    println(\"Inicio de lectura y partición del archivo\")\n",
    "\n",
    "    records = DataFrame(Parquet.read_parquet(joinpath(directory, file_name)))\n",
    "    n_lines = size(records, 1)\n",
    "    println(\"El archivo consta de $(n_lines) registros\")\n",
    "\n",
    "    # Se calcula el tamaño de cada partición\n",
    "    part_size = Int(ceil(n_lines / partitions))\n",
    "    println(\"Cada partición contendrá aproximadamente $(part_size) registros\")\n",
    "\n",
    "    # Se crea y guarda cada partición\n",
    "    for n in 0:partitions-1\n",
    "        start_idx = 1 + n * part_size\n",
    "        final_idx = min(start_idx + part_size - 1, n_lines)\n",
    "        partition_file_name = joinpath(directory, \"partition_$(n+1).parquet\")\n",
    "        write_parquet(partition_file_name, records[start_idx:final_idx, :])\n",
    "        println(\"Partición $(n) guardada con $(final_idx - start_idx + 1) registros en $(partition_file_name)\")\n",
    "    end\n",
    "\n",
    "    println(\"Fin de la partición\")\n",
    "end"
   ]
  },
  {
   "cell_type": "code",
   "execution_count": 5,
   "id": "2497e4bc",
   "metadata": {
    "scrolled": true
   },
   "outputs": [
    {
     "name": "stdout",
     "output_type": "stream",
     "text": [
      "Inicio de lectura y partición del archivo\n",
      "El archivo consta de 25000095 registros\n",
      "Cada partición contendrá aproximadamente 2500010 registros\n",
      "Partición 0 guardada con 2500010 registros en ratings/partition_1.parquet\n",
      "Partición 1 guardada con 2500010 registros en ratings/partition_2.parquet\n",
      "Partición 2 guardada con 2500010 registros en ratings/partition_3.parquet\n",
      "Partición 3 guardada con 2500010 registros en ratings/partition_4.parquet\n",
      "Partición 4 guardada con 2500010 registros en ratings/partition_5.parquet\n",
      "Partición 5 guardada con 2500010 registros en ratings/partition_6.parquet\n",
      "Partición 6 guardada con 2500010 registros en ratings/partition_7.parquet\n",
      "Partición 7 guardada con 2500010 registros en ratings/partition_8.parquet\n",
      "Partición 8 guardada con 2500010 registros en ratings/partition_9.parquet\n",
      "Partición 9 guardada con 2500005 registros en ratings/partition_10.parquet\n",
      "Fin de la partición\n"
     ]
    }
   ],
   "source": [
    "partitions = 10\n",
    "SplitBigFile(\"ratings/\", \"ratings.parquet\", 10)"
   ]
  },
  {
   "cell_type": "markdown",
   "id": "5391b363",
   "metadata": {},
   "source": [
    "### Map Reduce"
   ]
  },
  {
   "cell_type": "code",
   "execution_count": 6,
   "id": "08104315",
   "metadata": {},
   "outputs": [
    {
     "data": {
      "text/plain": [
       "JoinAndFind (generic function with 1 method)"
      ]
     },
     "execution_count": 6,
     "metadata": {},
     "output_type": "execute_result"
    }
   ],
   "source": [
    "function JoinAndFind(partition::DataFrame, movies::DataFrame, genres::Array)\n",
    "    # Inner-join entre ambos DataFrames, conservando unicamente las columnas de rating y genres\n",
    "    ratings_genre = innerjoin(partition, movies, on = :movieId)[:,[:rating,:genres]]\n",
    "    # Número de géneros\n",
    "    num_genres = length(genres)\n",
    "    # Arrays donde se guardaran la suma de las calificaciones por género y el conteo\n",
    "    califications = zeros(num_genres)\n",
    "    count = zeros(num_genres)\n",
    "    # Iteraciones. Si el género de la pelicula (ratings_genre) coincide con el género \"g\", se van sumando el rating y un 1\n",
    "    for g in 1:num_genres, row in eachrow(ratings_genre)\n",
    "        if contains(row.genres, genres[g]) == true\n",
    "            califications[g] += row.rating\n",
    "            count[g] += 1\n",
    "        end\n",
    "    end\n",
    "    return califications, count\n",
    "end"
   ]
  },
  {
   "cell_type": "code",
   "execution_count": 7,
   "id": "d45d5bfb",
   "metadata": {},
   "outputs": [],
   "source": [
    "# Arreglo que contiene los diferentes géneros en los que se clasifican las películas\n",
    "genres = [\"Action\", \"Adventure\", \"Animation\", \"Children\", \"Comedy\", \"Crime\", \"Documentary\", \"Drama\", \"Fantasy\", \"Film-Noir\", \"Horror\", \"IMAX\", \"Musical\", \"Mystery\", \"Romance\", \"Sci-Fi\", \"Thriller\", \"War\", \"Western\", \"(no genres listed)\"]\n",
    "num_genres = length(genres)\n",
    "# Estas matrices almacenaran los resultados de la suma de ratings (califications),\n",
    "# el número de veces que aparece un género (count), y el rating promedio (mean) por género.\n",
    "# Las columnas representan el número de particiones, y los renglones el género. \n",
    "matrix_califications = zeros(num_genres, partitions)\n",
    "matrix_count = zeros(num_genres, partitions)\n",
    "\n",
    "movies = DataFrame(Parquet.read_parquet(\"movies/movies.parquet\"))\n",
    "\n",
    "@threads for workerId = 1:partitions\n",
    "    partition_wId = DataFrame(Parquet.read_parquet(\"ratings/partition_\"*string(workerId)*\".parquet\")) \n",
    "    matrix_califications[:,workerId], matrix_count[:,workerId] = JoinAndFind(partition_wId, movies, genres)\n",
    "end"
   ]
  },
  {
   "cell_type": "code",
   "execution_count": 14,
   "id": "04852de4",
   "metadata": {},
   "outputs": [
    {
     "name": "stdout",
     "output_type": "stream",
     "text": [
      "┌────────────────────┬──────────────────────┬──────────┐\n",
      "│\u001b[1m             Género \u001b[0m│\u001b[1m Total Calificaciones \u001b[0m│\u001b[1m Promedio \u001b[0m│\n",
      "├────────────────────┼──────────────────────┼──────────┤\n",
      "│             Action │           7446918.00 │     3.47 │\n",
      "│          Adventure │           5832424.00 │     3.52 │\n",
      "│          Animation │           1630987.00 │     3.61 │\n",
      "│           Children │           2124258.00 │     3.43 │\n",
      "│             Comedy │           8926230.00 │     3.42 │\n",
      "│              Crime │           4190259.00 │     3.69 │\n",
      "│        Documentary │            322449.00 │     3.71 │\n",
      "│              Drama │          10962833.00 │     3.68 │\n",
      "│            Fantasy │           2831585.00 │     3.51 │\n",
      "│          Film-Noir │            247227.00 │     3.93 │\n",
      "│             Horror │           1892183.00 │     3.29 │\n",
      "│               IMAX │           1063279.00 │     3.60 │\n",
      "│            Musical │            964252.00 │     3.55 │\n",
      "│            Mystery │           2010995.00 │     3.67 │\n",
      "│            Romance │           4497291.00 │     3.54 │\n",
      "│             Sci-Fi │           4325740.00 │     3.48 │\n",
      "│           Thriller │           6763272.00 │     3.52 │\n",
      "│                War │           1267346.00 │     3.79 │\n",
      "│            Western │            483731.00 │     3.59 │\n",
      "│ (no genres listed) │             26627.00 │     3.33 │\n",
      "└────────────────────┴──────────────────────┴──────────┘\n"
     ]
    }
   ],
   "source": [
    "#Integración de los resultados de cada partición\n",
    "\n",
    "results = [\"Género\" \"Total Calificaciones\" \"Promedio\"]\n",
    "for g in 1:num_genres\n",
    "    genre = genres[g]\n",
    "    sum_califications = sum(matrix_califications[g, :])\n",
    "    sum_count = sum(matrix_count[g, :])\n",
    "    mean = sum_califications / sum_count\n",
    "    results = [results; genre sum_count mean]\n",
    "end\n",
    "\n",
    "pretty_table(results[2:end,:], header = results[1,:], formatters = ft_printf(\"%.2f\",2:3))"
   ]
  }
 ],
 "metadata": {
  "kernelspec": {
   "display_name": "Julia 1.11.1",
   "language": "julia",
   "name": "julia-1.11"
  },
  "language_info": {
   "file_extension": ".jl",
   "mimetype": "application/julia",
   "name": "julia",
   "version": "1.11.1"
  }
 },
 "nbformat": 4,
 "nbformat_minor": 5
}
