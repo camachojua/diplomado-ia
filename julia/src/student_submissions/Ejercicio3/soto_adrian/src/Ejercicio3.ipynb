{
 "cells": [
  {
   "cell_type": "markdown",
   "metadata": {},
   "source": [
    "# Exercise 3: Classification\n",
    "\n",
    "Use the Stock Market data from Chap 4 of the ISL Book to do classification, using the following algorithms:\n",
    "\n",
    "* LASSO\n",
    "* Ridge\n",
    "* Elastic Net\n",
    "* Decission Tree\n",
    "* Random Forest\n",
    "* Nearest Neighbors\n",
    "* Support Vector Machines (SVM)\n",
    "\n",
    "You will need the following\n",
    "\n",
    "* Get the data\n",
    "* Clean it\n",
    "* Use Go or Julia to write/use the classification algorithms.\n",
    "* Evaluate the accuracy of each prediction using a confunsion matrix and a ROC curve\n",
    "* Submit your project following the submission guidelines"
   ]
  }
 ],
 "metadata": {
  "language_info": {
   "name": "python"
  }
 },
 "nbformat": 4,
 "nbformat_minor": 2
}
