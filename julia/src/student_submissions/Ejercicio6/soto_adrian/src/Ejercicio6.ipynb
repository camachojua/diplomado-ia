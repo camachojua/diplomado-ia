{
 "cells": [
  {
   "cell_type": "markdown",
   "metadata": {},
   "source": [
    "# Exercise 6: \n",
    "\n",
    "Translate  the plot whose code is shown below to Julia. You may use the `Plots` or the `Makie` Package.\n",
    "\n",
    "1. Submit your project following the submission guidelines.\n",
    "2. Make sure to incluse the code and the figure(s)\n",
    "\n",
    "```python\n",
    "import networkx as nx\n",
    "import matplotlib.pyplot as plt\n",
    "\n",
    "G = nx.random_goemetric_graph(200,0.125)\n",
    "# position is stored as node attribute data for random_geoemtric_path\n",
    "pos=nx.get_node_attributes(G, 'pos')\n",
    "\n",
    "# find node near center (0.5, 0.5)\n",
    "dmin = 1\n",
    "ncenter = 0\n",
    "for n in pos:\n",
    "    x,y=pos[n]\n",
    "    d = (x-0.5)**2 + (y-0.5)**2\n",
    "    if d<dmin:\n",
    "        ncenter=n\n",
    "        dmin=d\n",
    "# color by path length from node near center\n",
    "p = nx.single_source_shortest_path_length(G, ncenter)\n",
    "\n",
    "plt.figure(figsize=(8,8))\n",
    "nx.draw_networkx_edges(G, pos, nodelist=[ncenter], alpha = 0.4)\n",
    "nx.draw_networkx_nodes(G, pos, nodelist = p.keys(),\n",
    "                        node_size=80,\n",
    "                        node_color=list(p.values()),\n",
    "                        cmap=plt.cm.Reds_r)\n",
    "plt.xlim(-0.05, 1.05)\n",
    "plt.ylim(-0.05, 1.05)\n",
    "plt.axis('off')\n",
    "plt.savefig('random_geometric_graph.png')\n",
    "plt.show()\n",
    "\n",
    "```"
   ]
  },
  {
   "cell_type": "markdown",
   "metadata": {},
   "source": [
    "![image](./DATA/Exercise6-target-from-python.png)"
   ]
  },
  {
   "cell_type": "code",
   "execution_count": null,
   "metadata": {
    "vscode": {
     "languageId": "julia"
    }
   },
   "outputs": [
    {
     "data": {
      "text/plain": [
       "\"/home/adrian/Desktop/ADATA/Ejercicios Diplomado/DATA_OUT/random_geometric_graph_plots-julia.png\""
      ]
     },
     "metadata": {},
     "output_type": "display_data"
    }
   ],
   "source": [
    "using Graphs\n",
    "using LinearAlgebra\n",
    "using Plots\n",
    "\n",
    "# 1. Generate random positions in the unit square\n",
    "n = 200\n",
    "radius = 0.125\n",
    "positions = [rand(2) for _ in 1:n]\n",
    "\n",
    "# 2. Build a random geometric graph\n",
    "g = SimpleGraph(n)\n",
    "for i in 1:n\n",
    "    for j in i+1:n\n",
    "        if norm(positions[i] .- positions[j]) ≤ radius\n",
    "            add_edge!(g, i, j)\n",
    "        end\n",
    "    end\n",
    "end\n",
    "\n",
    "# 3. Find the node closest to the center (0.5, 0.5)\n",
    "center_node = 1\n",
    "min_dist = Inf\n",
    "for i in 1:n\n",
    "    d = (positions[i][1] - 0.5)^2 + (positions[i][2] - 0.5)^2\n",
    "    if d < min_dist\n",
    "        center_node = i\n",
    "        min_dist = d\n",
    "    end\n",
    "end\n",
    "# 4. Compute shortest path distances from the center node\n",
    "distances = dijkstra_shortest_paths(g, center_node).dists\n",
    "# 5. Plot using Plots (GR backend by default)\n",
    "plot(legend = false, size = (800, 800), aspect_ratio = 1)\n",
    "\n",
    "# Plot edges\n",
    "for e in edges(g)\n",
    "    i, j = src(e), dst(e)\n",
    "    xvals = [positions[i][1], positions[j][1]]\n",
    "    yvals = [positions[i][2], positions[j][2]]\n",
    "    plot!(xvals, yvals, color = :black, alpha = 0.4)\n",
    "end\n",
    "\n",
    "# Plot nodes, colored by distances\n",
    "scatter!(\n",
    "    [p[1] for p in positions],\n",
    "    [p[2] for p in positions];\n",
    "    zcolor = distances,   # Use the distances vector directly\n",
    "    colorbar = false,\n",
    "    markersize = 4,\n",
    "    markerstrokecolor = :black,\n",
    "    markerstrokewidth = 0.3,\n",
    "    #seriescolor = :reds_r # reversed Reds colormap\n",
    ")\n",
    "\n",
    "xlims!(-0.05, 1.05)\n",
    "ylims!(-0.05, 1.05)\n",
    "plot!(framestyle = :none)\n",
    "\n",
    "# Save and display\n",
    "savefig(\"DATA_OUT/random_geometric_graph_plots-julia.png\")"
   ]
  },
  {
   "cell_type": "code",
   "execution_count": null,
   "metadata": {
    "vscode": {
     "languageId": "julia"
    }
   },
   "outputs": [],
   "source": []
  }
 ],
 "metadata": {
  "language_info": {
   "name": "python"
  }
 },
 "nbformat": 4,
 "nbformat_minor": 2
}
