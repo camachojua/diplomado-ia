{
 "cells": [
  {
   "cell_type": "code",
   "execution_count": null,
   "metadata": {},
   "outputs": [],
   "source": []
  },
  {
   "cell_type": "markdown",
   "metadata": {},
   "source": [
    "# Exercise 4: Dimensionality Reduction\n",
    "\n",
    "1. Get a collection of 5 to 10 images [512,512] pixels to do dimensionality reduction.\n",
    "2. You can use photos from your family, friends, pets, etc.\n",
    "3. Use PCA/SVD in Go or in Juila.\n",
    "4. You will get bonus points if you do it in both Go and Julia\n",
    "5. if you submit it in Julia an in Go, do so as separated submissions with the following names:\n",
    "    * `Exercise4JL`\n",
    "    * `Exercise4GO`\n",
    "6. Submit your project following the submission guidelines"
   ]
  },
  {
   "cell_type": "markdown",
   "metadata": {},
   "source": [
    "## Solución\n",
    "Para la imagen original, use la aplicación \"Open Camera\" para tener una resolución de 1088x1088, y para bajar la resolución y convertirlo a imagen en escala de grises y de allí pasar a formato .csv consulté stackoverflow:\n",
    "\n",
    "```\n",
    "https://stackoverflow.com/questions/7708368/how-can-i-convert-an-image-to-grayscale-via-the-command-line\n",
    "https://stackoverflow.com/questions/55971531/how-do-i-convert-jpg-or-png-files-to-csv-files\n",
    "https://askubuntu.com/questions/1164/how-to-easily-resize-images-via-command-line\n",
    "```\n",
    "\n",
    "En particular usé el comando \n",
    "\n",
    "``` for i in *; do convert \"$i\" -colorspace Gray  \"../Photos-grayscale/$i\"; done ```\n",
    "\n",
    "y \n",
    "\n",
    "``` for i in *; do convert -resize 512x512 \"$i\"   \"../photos-reduced/$i\"; done ```\n",
    "\n",
    "\n",
    "\n"
   ]
  },
  {
   "cell_type": "code",
   "execution_count": null,
   "metadata": {
    "vscode": {
     "languageId": "julia"
    }
   },
   "outputs": [
    {
     "data": {
      "text/plain": [
       "512×512 reinterpret(reshape, N0f8, ::Array{Gray{N0f8},2}) with eltype N0f8:\n",
       " 0.584  0.592  0.596  0.6    0.604  …  0.671  0.671  0.671  0.671  0.671\n",
       " 0.58   0.588  0.592  0.596  0.604     0.671  0.667  0.667  0.667  0.667\n",
       " 0.584  0.596  0.596  0.592  0.592     0.667  0.667  0.663  0.663  0.663\n",
       " 0.588  0.6    0.604  0.6    0.596     0.667  0.667  0.663  0.663  0.663\n",
       " 0.588  0.596  0.604  0.608  0.612     0.667  0.667  0.667  0.667  0.667\n",
       " 0.6    0.596  0.596  0.6    0.612  …  0.671  0.671  0.667  0.667  0.667\n",
       " 0.604  0.6    0.596  0.6    0.608     0.671  0.671  0.667  0.667  0.667\n",
       " 0.6    0.6    0.604  0.612  0.616     0.671  0.667  0.667  0.667  0.667\n",
       " 0.604  0.604  0.604  0.608  0.608     0.667  0.667  0.667  0.667  0.667\n",
       " 0.604  0.604  0.608  0.608  0.612     0.667  0.667  0.667  0.667  0.667\n",
       " ⋮                                  ⋱                       ⋮      \n",
       " 0.639  0.639  0.643  0.643  0.643     0.655  0.655  0.655  0.655  0.655\n",
       " 0.647  0.647  0.647  0.643  0.647     0.651  0.651  0.651  0.651  0.651\n",
       " 0.647  0.647  0.647  0.647  0.647  …  0.651  0.651  0.651  0.651  0.651\n",
       " 0.643  0.643  0.647  0.647  0.647     0.651  0.651  0.651  0.651  0.651\n",
       " 0.639  0.643  0.647  0.647  0.651     0.651  0.651  0.651  0.651  0.651\n",
       " 0.639  0.639  0.643  0.647  0.651     0.651  0.651  0.651  0.651  0.651\n",
       " 0.639  0.639  0.643  0.647  0.647     0.651  0.651  0.651  0.651  0.651\n",
       " 0.639  0.639  0.643  0.643  0.647  …  0.651  0.651  0.651  0.651  0.651\n",
       " 0.643  0.639  0.639  0.639  0.643     0.647  0.651  0.651  0.651  0.651"
      ]
     },
     "metadata": {},
     "output_type": "display_data"
    }
   ],
   "source": [
    "using Images, CSV, DataFrames\n",
    "using LinearAlgebra\n",
    "using FileIO\n",
    "\n",
    "img = channelview(FileIO.load(\"./DATA/photos-reduced/IMG_20250106_210534.jpg\"))\n",
    "\n"
   ]
  }
 ],
 "metadata": {
  "language_info": {
   "name": "python"
  }
 },
 "nbformat": 4,
 "nbformat_minor": 2
}
