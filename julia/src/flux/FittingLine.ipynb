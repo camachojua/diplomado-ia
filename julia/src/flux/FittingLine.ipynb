{
 "cells": [
  {
   "cell_type": "markdown",
   "metadata": {},
   "source": [
    "##### FLux Example: Fitting a Straight Line\n",
    "\n",
    "https://fluxml.ai/Flux.jl/stable/guide/models/overview/\n",
    "\n",
    "+ Flux is a Deep Learning package built in pure Julia.\n",
    "\n",
    "+ Besides Deep Learning, Flux can also be used for \"standard\" Machine Learning.\n",
    "\n",
    "+ This notebook is an example of using FLUX for a simple ML task: Fitting a straight line. \n",
    "\n",
    "+ These are the steps:\n",
    "\n",
    "1. Get and prepare the ***training*** and ***testing*** data\n",
    "\n",
    "2. Build a model with ***configurable parameters*** to make predictions\n",
    "\n",
    "3. Iteratively train the model by tweaking the parameters to improve predictions\n",
    "\n",
    "4. Test and verify the model\n",
    "\n",
    "+ Flux uses ***automatic differentiation***  for gradient to perform, and improve predictions. \n",
    "\n",
    "+ Since Flux is written in Julia in principle modifyng the model structure (changing the configuration and location of layers within the model) can be done directly in Julia to improve the understanding of Flux operations and/or improve model performance.\n"
   ]
  },
  {
   "cell_type": "markdown",
   "metadata": {},
   "source": [
    "### Line to fit\n",
    "\n",
    "y = 4x + 2\n"
   ]
  },
  {
   "cell_type": "code",
   "execution_count": 1,
   "metadata": {},
   "outputs": [
    {
     "data": {
      "text/plain": [
       "y (generic function with 1 method)"
      ]
     },
     "metadata": {},
     "output_type": "display_data"
    }
   ],
   "source": [
    "using Flux\n",
    "y(x) = 4x + 2\n"
   ]
  },
  {
   "cell_type": "markdown",
   "metadata": {},
   "source": [
    "### Prepare Training and Testing Data"
   ]
  },
  {
   "cell_type": "code",
   "execution_count": 2,
   "metadata": {},
   "outputs": [
    {
     "name": "stdout",
     "output_type": "stream",
     "text": [
      "x_train = [0 1 2 3 4 5]\n",
      "x_test = [6 7 8 9 10]\n",
      "y_train = [2 6 10 14 18 22]\n",
      "y_test = [26 30 34 38 42]\n"
     ]
    },
    {
     "data": {
      "text/plain": [
       "1×5 Matrix{Int64}:\n",
       " 26  30  34  38  42"
      ]
     },
     "metadata": {},
     "output_type": "display_data"
    }
   ],
   "source": [
    "x_train, x_test = hcat(0:5...), hcat(6:10...)\n",
    "\n",
    "# use the function y from a previous cell generate y_train and y_test\n",
    "y_train, y_test = y.(x_train), y.(x_test)\n",
    "\n",
    "@show(x_train)\n",
    "@show(x_test)\n",
    "@show(y_train)\n",
    "@show(y_test)"
   ]
  },
  {
   "cell_type": "markdown",
   "metadata": {},
   "source": [
    "#### Build a Dense Model to make predictions\n",
    "\n",
    "#### Models and Layers \n",
    "\n",
    "+ ***Models*** in Deep Learning (in Flux, Tensorflow, Python, ...) have one or more ***layers***.\n",
    "\n",
    "+ ***Layers*** are the fundamental building blocks of a Neural Net. \n",
    "\n",
    "+ Layers perform specific mathematical operations on their inputs data to produce an output. \n",
    "\n",
    "+ Layers are individual computational units that are combined to form a complete model, or network.\n",
    "\n",
    "[https://docs.google.com/presentation/d/1enC7SsWr4rSFrHYWFym5qbhoVxfDUZQjmAO8euPY2jw/edit#slide=id.g3ffb334e74_0_28]\n",
    "\n",
    "\n",
    "\n",
    "##### Types of Layers\n",
    "\n",
    "+ Flux provides several of the most common pre-built layer types for common deep learning operations:\n",
    "\n",
    "1. Dense: Fully connected layer where each unit (neuron) connects to all neurons in the previous layer. \n",
    "\n",
    "2. Conv: Convolutional layer, typically used for processing image data.\n",
    "\n",
    "4. RNN / LSTM / GRU: These are ***Recurrent layers*** commonly used for sequential data, like text or time series.\n",
    "\n",
    "    + RNN :Recurrent Neural Nets are designed for sequential data by incorporating loops that allow information to persist. \n",
    "\n",
    "    + LSTM: Long Short-Term Memory. This architecture is designed to address the \"vanishing gradient problem\" that can occur in traditional RNNs. \n",
    "        + LSTMs have a more complex internal structure that allows them to better retain information over longer sequences. \n",
    "        + LSTMs can achieve this through specialized \"gates\" that control the flow of information, enabling them to remember or forget data selectively.\n",
    "\n",
    "    + GRU: Gated Recurrent Unit. This variation of an RNN, is similar to LSTMs. Designed to address the vanishing gradient problem.\n",
    "        + GRUs are generally simpler than LSTMs, having fewer gates. This can make them more efficient to train and run, \n",
    "         + while still offering good performance on many tasks.\n",
    "\n",
    "5. BatchNorm: Batch normalization layer for improving training stability.\n",
    "\n",
    "6. Dropout: Dropout layer for regularization.\n",
    "\n",
    "7. Custom Layers: These are used defined layers for specific, custom needs. These moddels can be defined directly as Julia functions. \n",
    "\n",
    "##### Process Flow (Functionality)\n",
    "\n",
    "1. Transformation: Each layer applies a specific transformation to the input data, such as a linear transformation, convolution, or activation function.\n",
    "\n",
    "2. Parameters: Many layers have trainable parameters (like weights and biases in Dense layers) that are adjusted during the learning process.\n",
    "\n",
    "3. Chaining: Layers are designed to be chained together. The output of one layer becomes the input to the next, allowing the configuration of complex network architectures, or models.\n",
    "\n",
    "\n",
    "##### Dense  Layer \n",
    "\n",
    "A ***Dense*** is the core layer type for building neural networks. It represents a fully connected layer where each neuron within the layer is connected to every neuron in the previous layer.\n",
    "\n",
    "+ Core Concepts\n",
    "\n",
    "1. Weights and Biases: A Dense layer is essentially a linear transformation followed by an activation function. This transformation is defined by two parameters:\n",
    "\n",
    "2. Weights: A matrix that holds the connection strengths between neurons of adjacent layers.\n",
    "\n",
    "3. Biases: A vector that adds a constant offset to the weighted sum.\n",
    "\n",
    "4. Activation Function: This introduces non-linearity, enabling the network to learn complex patterns. Common activation functions include sigmoid, relu, tanh, etc.\n",
    "\n",
    "\n",
    "##### Defining a Model with 2 Dense Layers\n",
    "\n",
    "```\n",
    "model = Chain(\n",
    "    Dense(10 => 5, relu),  # First layer: Dense with ReLU activation\n",
    "    Dense(5 => 2)           # Second layer: Dense with no activation \n",
    ")\n",
    "```\n",
    "\n",
    "\n"
   ]
  },
  {
   "cell_type": "code",
   "execution_count": 3,
   "metadata": {},
   "outputs": [
    {
     "data": {
      "text/plain": [
       "1-element Vector{Float32}:\n",
       " 0.0"
      ]
     },
     "metadata": {},
     "output_type": "display_data"
    }
   ],
   "source": [
    "# In Flux, a dense layer is a Julia struct with fields weight and bias.\n",
    "# weight represents a weights' matrix.\n",
    "# bias represents a bias vector.\n",
    "\n",
    "model = Dense(1 => 1)\n",
    "\n",
    "model.weight\n",
    "\n",
    "model.bias\n"
   ]
  },
  {
   "cell_type": "code",
   "execution_count": 4,
   "metadata": {},
   "outputs": [
    {
     "data": {
      "text/plain": [
       "Dense(1 => 1)       \u001b[90m# 2 parameters\u001b[39m"
      ]
     },
     "metadata": {},
     "output_type": "display_data"
    }
   ],
   "source": [
    "# In Flux, models are conceptually predictive functions:\n",
    "predict = Dense(1 => 1)\n"
   ]
  },
  {
   "attachments": {
    "image.png": {
     "image/png": "[encoded data removed]"
    }
   },
   "cell_type": "markdown",
   "metadata": {},
   "source": [
    "### How Dense made a prediction\n",
    "\n",
    "+ Dense(1 => 1) implements an ***activation function***  of the form σ(Wx+b)  where W and b are the weights and biases.\n",
    "\n",
    "\n",
    "![image.png](attachment:image.png)\n",
    "\n",
    "\n",
    "+ σ is the layer ***activation function*** .  \n",
    "\n",
    "+ Activation functions are transformations that tailor models to your needs.\n",
    "\n",
    "+ This model has only one weight and one bias.\n",
    "\n",
    "+ Typical models will have many more. \n",
    "\n",
    "+ Weights and biases aare as knobs and levers that Flux uses to tune predictions.\n",
    "\n",
    "+ This model is ready to predictions (not accurate yet)"
   ]
  },
  {
   "cell_type": "code",
   "execution_count": 5,
   "metadata": {},
   "outputs": [
    {
     "data": {
      "text/plain": [
       "1×6 Matrix{Float32}:\n",
       " 0.0  -0.584276  -1.16855  -1.75283  -2.33711  -2.92138"
      ]
     },
     "metadata": {},
     "output_type": "display_data"
    }
   ],
   "source": [
    "# Use the model to perform a prediction \n",
    "# Remember that y = 4x + 2\n",
    "# Remember that x_train = [0 1 2 3 4 5]\n",
    "# Therefore y = [. . . . ]\n",
    "# Unfortunately the y predicted is not what we hoped.\n",
    "# We need to improve \n",
    "predict(x_train)"
   ]
  },
  {
   "cell_type": "markdown",
   "metadata": {},
   "source": [
    "### Loss Function\n",
    "\n",
    "+ To improve predictions, we need a loss function to evaluate the quality of a prediction. \n",
    "\n",
    "+ Loss functions compute the cumulative distance between actual values and predictions.\n",
    "\n",
    "+ Something like this:\n",
    "\n",
    "[https://docs.google.com/presentation/d/1enC7SsWr4rSFrHYWFym5qbhoVxfDUZQjmAO8euPY2jw/edit#slide=id.g43723a9234_0_3]\n",
    "        "
   ]
  },
  {
   "cell_type": "code",
   "execution_count": 7,
   "metadata": {},
   "outputs": [
    {
     "data": {
      "text/plain": [
       "242.48567f0"
      ]
     },
     "metadata": {},
     "output_type": "display_data"
    }
   ],
   "source": [
    "using Statistics\n",
    "\n",
    "loss(model, x, y) = mean(abs2.(model(x) .- y));\n",
    "\n",
    "loss(predict, x_train, y_train)"
   ]
  },
  {
   "cell_type": "markdown",
   "metadata": {},
   "source": [
    "### Using the Loss Function \n",
    "\n",
    "+ More accurate predictions will yield a lower loss.\n",
    "\n",
    "+ We can write our own loss functions or use those already provided by Flux.\n",
    "\n",
    "+ The loss function used here uses Mean Squared Error `(built-in as mse)`.\n",
    "\n",
    "+ Flux will iterate to reduce the loss during training."
   ]
  },
  {
   "cell_type": "code",
   "execution_count": 10,
   "metadata": {},
   "outputs": [
    {
     "data": {
      "text/plain": [
       "1-element Vector{Tuple{Matrix{Int64}, Matrix{Int64}}}:\n",
       " ([0 1 … 4 5], [2 6 … 18 22])"
      ]
     },
     "metadata": {},
     "output_type": "display_data"
    }
   ],
   "source": [
    "using Flux: train!\n",
    "\n",
    "opt = Descent()\n",
    "\n",
    "data = [(x_train, y_train)]"
   ]
  },
  {
   "cell_type": "markdown",
   "metadata": {},
   "source": [
    "### Using the Optimizer\n",
    "\n",
    "+ We also need to have an optimizer, so that the architecture looks something like:\n",
    "\n",
    "    [https://docs.google.com/presentation/d/1enC7SsWr4rSFrHYWFym5qbhoVxfDUZQjmAO8euPY2jw/edit#slide=id.g43723a9234_0_3]\n",
    "\n",
    "+ The optimizer will use the data and the loss function to modify the weights during train!.\n",
    "\n",
    "+ All that remains are the parameters of the model. \n",
    "\n",
    "+ Each model is just a ***Julia struct*** with a ***function***  and ***configurable parameters*** \n",
    "\n",
    "+ The parameters of the dense layer are the weights and biases. In this case both are objs of a single dimension. "
   ]
  },
  {
   "cell_type": "code",
   "execution_count": 8,
   "metadata": {},
   "outputs": [
    {
     "data": {
      "text/plain": [
       "1-element Vector{Float32}:\n",
       " 0.0"
      ]
     },
     "metadata": {},
     "output_type": "display_data"
    }
   ],
   "source": [
    "# These are the model parameters\n",
    "\n",
    "predict.weight\n",
    "\n",
    "predict.bias\n",
    "\n"
   ]
  },
  {
   "cell_type": "code",
   "execution_count": 11,
   "metadata": {},
   "outputs": [],
   "source": [
    "# We train again, this time with the loss, the predict, the data, and the optimizer\n",
    "\n",
    "train!(loss, predict, data, opt)"
   ]
  },
  {
   "cell_type": "code",
   "execution_count": 12,
   "metadata": {},
   "outputs": [
    {
     "data": {
      "text/plain": [
       "230.14441f0"
      ]
     },
     "metadata": {},
     "output_type": "display_data"
    }
   ],
   "source": [
    "loss(predict, x_train, y_train)"
   ]
  },
  {
   "cell_type": "code",
   "execution_count": 13,
   "metadata": {},
   "outputs": [
    {
     "data": {
      "text/plain": [
       "(Float32[8.8202305;;], Float32[2.6921384])"
      ]
     },
     "metadata": {},
     "output_type": "display_data"
    }
   ],
   "source": [
    "predict.weight, predict.bias"
   ]
  },
  {
   "cell_type": "code",
   "execution_count": 14,
   "metadata": {},
   "outputs": [
    {
     "data": {
      "text/plain": [
       "(Float32[4.025131;;], Float32[2.0070791])"
      ]
     },
     "metadata": {},
     "output_type": "display_data"
    }
   ],
   "source": [
    "for epoch in 1:200\n",
    "         train!(loss, predict, data, opt)\n",
    "       end\n",
    "\n",
    "loss(predict, x_train, y_train)\n",
    "\n",
    "\n",
    "predict.weight, predict.bias"
   ]
  },
  {
   "cell_type": "code",
   "execution_count": 15,
   "metadata": {},
   "outputs": [
    {
     "data": {
      "text/plain": [
       "1×5 Matrix{Int64}:\n",
       " 26  30  34  38  42"
      ]
     },
     "metadata": {},
     "output_type": "display_data"
    }
   ],
   "source": [
    "# Remember that we used\n",
    "# y =  4x + 2\n",
    "# x_train = [0 1 2 3 4 5]\n",
    "# x_test = [6 7 8 9 10]\n",
    "# y_train = [2 6 10 14 18 22]\n",
    "# y_test = [26 30 34 38 42]\n",
    "\n",
    "# therefore when we use the model with x_test we should get...\n",
    "\n",
    "predict(x_test)\n",
    "\n",
    "y_test\n"
   ]
  },
  {
   "cell_type": "markdown",
   "metadata": {},
   "source": [
    "### SUMMARY\n",
    "\n",
    "+ The predictions are good. These are the steps in this process \n",
    "\n",
    "1. Get real-world data into the variables x_train, y_train, x_test, and y_test.\n",
    "\n",
    "2. The x data defines inputs, and the y data defines outputs. \n",
    "\n",
    "3. The x_train data is for training the model, and the y_test data is for verifying the model. \n",
    "\n",
    "4. The data was was based on the function y = 4x + 2.\n",
    "\n",
    "5. Build a single input, single output predictive model, based on a ***dense layer*** \n",
    "\n",
    "6. Perform an initial prediction: predict = Dense(1 => 1).\n",
    "\n",
    "7. The initial prediction is not accurate, because the model was not trained yet.\n",
    "\n",
    "8. After building the model, we trained it with train!(loss, predict, data, opt).\n",
    "\n",
    "9. The optimizer is a Descent optimizer provided by Flux.\n",
    "\n",
    "10. We ran the training step once, and observed that the parameters changed and the loss went down.\n",
    "\n",
    "11. Then, we ran the train! 200  times to finish the training process.\n",
    "\n",
    "12. After the model is trained, we verified it with the test data to verify the results.\n",
    "\n"
   ]
  }
 ],
 "metadata": {
  "kernelspec": {
   "display_name": "Julia 1.11.1",
   "language": "julia",
   "name": "julia-1.11"
  },
  "language_info": {
   "file_extension": ".jl",
   "mimetype": "application/julia",
   "name": "julia",
   "version": "1.11.1"
  }
 },
 "nbformat": 4,
 "nbformat_minor": 2
}
